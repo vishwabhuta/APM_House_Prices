{
 "cells": [
  {
   "cell_type": "markdown",
   "metadata": {},
   "source": [
    "# APM Project"
   ]
  },
  {
   "cell_type": "code",
   "execution_count": 21,
   "metadata": {
    "collapsed": false
   },
   "outputs": [
    {
     "name": "stdout",
     "output_type": "stream",
     "text": [
      "Populating the interactive namespace from numpy and matplotlib\n"
     ]
    },
    {
     "name": "stderr",
     "output_type": "stream",
     "text": [
      "WARNING: pylab import has clobbered these variables: ['size', 'log', 'exp']\n",
      "`%matplotlib` prevents importing * from pylab and numpy\n"
     ]
    }
   ],
   "source": [
    "#Import Statements\n",
    "\n",
    "#basic\n",
    "import pandas as pd\n",
    "import numpy as np\n",
    "from math import log,exp\n",
    "import math\n",
    "\n",
    "#visualization\n",
    "import matplotlib.pyplot as plt\n",
    "import matplotlib.ticker as mtick\n",
    "import seaborn\n",
    "\n",
    "% pylab inline\n",
    "\n",
    "#sklearn\n",
    "from sklearn import model_selection\n",
    "from sklearn.cluster import KMeans\n",
    "from sklearn.ensemble import (RandomForestRegressor, GradientBoostingRegressor, AdaBoostRegressor)\n",
    "from sklearn.grid_search import GridSearchCV\n",
    "from sklearn.linear_model import LinearRegression\n",
    "from sklearn.linear_model import LogisticRegression\n",
    "from sklearn.linear_model import Lasso\n",
    "from sklearn.linear_model import LassoCV\n",
    "from sklearn.linear_model import Ridge\n",
    "from sklearn.linear_model import RidgeCV\n",
    "from sklearn.linear_model import SGDRegressor\n",
    "from sklearn.metrics import (mean_squared_error, confusion_matrix,accuracy_score, make_scorer)\n",
    "from sklearn.model_selection import train_test_split\n",
    "from sklearn.neural_network import MLPRegressor\n",
    "from sklearn.preprocessing import StandardScaler\n",
    "from sklearn.svm import SVR\n",
    "from sklearn.tree import DecisionTreeClassifier, DecisionTreeRegressor\n",
    "\n",
    "#MARS\n",
    "import pyearth\n",
    "from pyearth import Earth\n",
    "\n",
    "#other stats & clustering\n",
    "from scipy import stats\n",
    "from patsy import dmatrices\n",
    "from collections import Counter\n",
    "from scipy.spatial.distance import cdist,pdist\n"
   ]
  },
  {
   "cell_type": "markdown",
   "metadata": {},
   "source": [
    "## DATA PRE-PROCESSING"
   ]
  },
  {
   "cell_type": "code",
   "execution_count": 2,
   "metadata": {
    "collapsed": true
   },
   "outputs": [],
   "source": [
    "def preprocess(df):\n",
    "    \n",
    "    # Feature engineering for categorical variables captured as numbers\n",
    "    # Turn MSSubClass into factors\n",
    "    code = ['20', '30', '40', '45', '50', '60', '70', '75', '80', '85', '90', '120', '150', '160', '180', '190']\n",
    "    strings = ['1-STORY 1946 & NEWER ALL STYLES', '1-STORY 1945 & OLDER', '1-STORY W/FINISHED ATTIC ALL AGES', '1-1/2 STORY - UNFINISHED ALL AGES',\\\n",
    "     '1-1/2 STORY FINISHED ALL AGES', '2-STORY 1946 & NEWER', '2-STORY 1945 & OLDER', '2-1/2 STORY ALL AGES', \\\n",
    "     'SPLIT OR MULTI-LEVEL', 'SPLIT FOYER', 'DUPLEX - ALL STYLES AND AGES', '1-STORY PUD (Planned Unit Development) - 1946 & NEWER',\\\n",
    "     '1-1/2 STORY PUD - ALL AGES', '2-STORY PUD - 1946 & NEWER', 'PUD - MULTILEVEL - INCL SPLIT LEV/FOYER', \\\n",
    "     '2 FAMILY CONVERSION - ALL STYLES AND AGES']\n",
    "\n",
    "    MSSubClass=dict(zip(code,strings))\n",
    "    df['MSSubClass']=[MSSubClass[str(val)] for val in df['MSSubClass']]\n",
    "\n",
    "    # Turn month sold into factors\n",
    "    months = ['Jan','Feb','Mar','Apr','May','Jun','Jul','Aug','Sept','Oct','Nov','Dec']\n",
    "    df['MoSold'] = df['MoSold'].replace(to_replace = df['MoSold'].value_counts().index.sort_values(),value=months)\n",
    "    \n",
    "    # Feature engineering for age-related variables\n",
    "    # Convert yearsold vs yearbuilt into age of house\n",
    "    df['Age'] =  df['YrSold'] - df['YearBuilt']\n",
    "    df = df.drop('YearBuilt', 1)\n",
    "    # Convert yearsold vs. yearreomdadd into age of remodel. Adding 2 to eliminate any negative or 0 values\n",
    "    df['AgeRem'] = (df['YrSold'] - df['YearRemodAdd'])+2\n",
    "    df = df.drop('YearRemodAdd', 1)\n",
    "    # Remove age of garage - many missing values (if no garage)\n",
    "    #  no additional valuable information (garage captured in other variables); age of house more important for age\n",
    "    df = df.drop('GarageYrBlt', 1)\n",
    "    df = df.drop('Id',1)\n",
    "    \n",
    "    # Fill select variables with most common / mode where logical\n",
    "    # Most masonry veneer type is None and area is 0\n",
    "    df['MasVnrType'] = df['MasVnrType'].fillna('None')\n",
    "    df['MasVnrArea'] = df['MasVnrArea'].fillna(0.0)\n",
    "    # Most electrical is 'SBrkr'\n",
    "    df['Electrical'] = df['Electrical'].fillna('SBrkr')\n",
    "    df['LotFrontage'] = df['LotFrontage'].fillna(mean(df['LotFrontage']))\n",
    "    \n",
    "    return df"
   ]
  },
  {
   "cell_type": "code",
   "execution_count": 3,
   "metadata": {
    "collapsed": true
   },
   "outputs": [],
   "source": [
    "def get_dummies(X_df):\n",
    "    # Dummify X data\n",
    "    X_dummy = pd.get_dummies(X_df,dummy_na=True)\n",
    "    return X_dummy"
   ]
  },
  {
   "cell_type": "code",
   "execution_count": 4,
   "metadata": {
    "collapsed": true
   },
   "outputs": [],
   "source": [
    "def level_cat(df_train,df_comp):\n",
    "    traincols = list(df_train.columns.values)\n",
    "    testcols = list(df_comp.columns.values)\n",
    "    \n",
    "    # Align train data columns to competition data columns\n",
    "    missingcols1 = list(set(testcols)-set(traincols))\n",
    "    for col in missingcols1:\n",
    "        df_train[col] = 0.0\n",
    "\n",
    "    # Align test data columns to competition data columns\n",
    "    missingcols = list(set(traincols)-set(testcols))\n",
    "    for col in missingcols:\n",
    "        df_comp[col] = 0.0\n",
    "    df_comp = df_comp[traincols+missingcols1]\n",
    "    \n",
    "    return df_train,df_comp"
   ]
  },
  {
   "cell_type": "code",
   "execution_count": 5,
   "metadata": {
    "collapsed": false
   },
   "outputs": [],
   "source": [
    "housedata = preprocess(pd.read_csv('train.csv'))\n",
    "# Split into X and y\n",
    "y = housedata['SalePrice']\n",
    "X = housedata.drop('SalePrice', 1)\n",
    "\n",
    "#preprocess and dummify competition\n",
    "X = get_dummies(X)\n",
    "competition = preprocess(pd.read_csv('test.csv'))\n",
    "X_comp = get_dummies(competition)\n",
    "\n",
    "X,X_comp = level_cat(X,X_comp)"
   ]
  },
  {
   "cell_type": "code",
   "execution_count": 6,
   "metadata": {
    "collapsed": false
   },
   "outputs": [],
   "source": [
    "X_train, X_test, y_train, y_test = train_test_split(X,y,test_size = 0.33, random_state=1)"
   ]
  },
  {
   "cell_type": "markdown",
   "metadata": {},
   "source": [
    "## MODELING"
   ]
  },
  {
   "cell_type": "markdown",
   "metadata": {},
   "source": [
    "### Initital Model Exploration (MLR, Lasso, Ridge, MLP)"
   ]
  },
  {
   "cell_type": "code",
   "execution_count": 7,
   "metadata": {
    "collapsed": false
   },
   "outputs": [
    {
     "name": "stdout",
     "output_type": "stream",
     "text": [
      "MLR RMSE: 35113.8209278\n",
      "Lasso CV best λ: 224475.036998\n",
      "Lasso RMSE: 39996.0347001\n",
      "Ridge CV best λ: 10.0\n",
      "Ridge RMSE: 29851.4865885\n"
     ]
    }
   ],
   "source": [
    "# Run models\n",
    "#Linear Regression\n",
    "MLR =LinearRegression()\n",
    "model_MLR = MLR.fit(X_train,y_train)\n",
    "MLR_predict_reg = model_MLR.predict(X_test)\n",
    "MLR_RMSE_reg= sqrt(mean_squared_error(y_test, MLR_predict_reg))\n",
    "print \"MLR RMSE:\",MLR_RMSE_reg\n",
    "\n",
    "#get best λ with LassoCV\n",
    "lasso_cv = LassoCV(alphas=None, cv=10, max_iter=10000)\n",
    "model_cv = lasso_cv.fit(X_train,ravel(y_train))\n",
    "print \"Lasso CV best λ:\",model_cv.alpha_\n",
    "lasso_predict_reg= model_cv.predict(X_test)\n",
    "lasso_RMSE_reg= sqrt(mean_squared_error(y_test, lasso_predict_reg))\n",
    "print \"Lasso RMSE:\",lasso_RMSE_reg\n",
    "\n",
    "#get best λ with RidgeCV\n",
    "ridge_cv = RidgeCV(cv=10)\n",
    "ridge_model_cv = ridge_cv.fit(X_train,ravel(y_train))\n",
    "print \"Ridge CV best λ:\",ridge_model_cv.alpha_\n",
    "ridge_predict_reg= ridge_model_cv.predict(X_test)\n",
    "ridge_RMSE_reg= sqrt(mean_squared_error(y_test, ridge_predict_reg))\n",
    "print \"Ridge RMSE:\",ridge_RMSE_reg"
   ]
  },
  {
   "cell_type": "code",
   "execution_count": 8,
   "metadata": {
    "collapsed": false
   },
   "outputs": [
    {
     "data": {
      "image/png": "[encoded data removed]",
      "text/plain": [
       "<matplotlib.figure.Figure at 0x103bc6110>"
      ]
     },
     "metadata": {},
     "output_type": "display_data"
    }
   ],
   "source": [
    "#Model residuals\n",
    "\n",
    "MLRresiduals_reg = y_test - MLR_predict_reg\n",
    "lassoResiduals_reg = y_test - lasso_predict_reg\n",
    "ridgeResiduals_reg = y_test - ridge_predict_reg\n",
    "\n",
    "# Plot residuals\n",
    "fig = plt.figure(figsize=(15, 7))\n",
    "\n",
    "# Predicted vs. Actual\n",
    "ax1 = fig.add_subplot(121)\n",
    "ax1.plot(y_test,MLR_predict_reg,\"o\",label='MLR', color='darkblue')\n",
    "ax1.plot(y_test,lasso_predict_reg,\"o\",label='Lasso',color='blue')\n",
    "ax1.plot(y_test,ridge_predict_reg,\"o\",label='Ridge',color='aqua')\n",
    "ax1.legend(numpoints=1,loc='upper left')\n",
    "ax1.set_ylabel('Predicted Price ($)')\n",
    "ax1.yaxis.set_major_formatter(mtick.FuncFormatter('{:,.0f}'.format))\n",
    "ax1.set_xlabel('Actual Price ($)')\n",
    "ax1.xaxis.set_major_formatter(mtick.FuncFormatter('{:,.0f}'.format))\n",
    "ax1.set_title('Predicted vs. Actual Price', fontsize=12, fontweight='bold')\n",
    "\n",
    "# Residuals\n",
    "ax2 = fig.add_subplot(122)\n",
    "ax2.plot(y_test,MLRresiduals_reg,\"o\",label='MLR',color='darkblue')\n",
    "ax2.plot(y_test,lassoResiduals_reg,\"o\",label='Lasso',color='blue')\n",
    "ax2.plot(y_test,ridgeResiduals_reg,\"o\",label='Ridge',color='aqua')\n",
    "ax2.legend(numpoints=1,loc='upper left')\n",
    "ax2.set_ylabel('Residuals ($)')\n",
    "ax2.yaxis.set_major_formatter(mtick.FuncFormatter('{:,.0f}'.format))\n",
    "ax2.set_xlabel('Actual Price ($)')\n",
    "ax2.xaxis.set_major_formatter(mtick.FuncFormatter('{:,.0f}'.format))\n",
    "ax2.set_title('Residuals', fontsize=12, fontweight='bold')\n",
    "\n",
    "fig.subplots_adjust(wspace=.3)\n",
    "plt.show()"
   ]
  },
  {
   "cell_type": "code",
   "execution_count": 9,
   "metadata": {
    "collapsed": true
   },
   "outputs": [],
   "source": [
    "# Try predicting using log SalePrice\n",
    "log_y_train = y_train.map(float).map(log)\n",
    "log_y_test = y_test.map(float).map(log)"
   ]
  },
  {
   "cell_type": "code",
   "execution_count": 10,
   "metadata": {
    "collapsed": false
   },
   "outputs": [
    {
     "name": "stdout",
     "output_type": "stream",
     "text": [
      "MLR RMSE: 26550.4509193\n",
      "Lasso CV best λ: 1.09577311917\n",
      "Lasso RMSE: 35654.450704\n",
      "Ridge CV best λ: 10.0\n",
      "Ridge RMSE: 27192.5521656\n"
     ]
    }
   ],
   "source": [
    "#Linear Regression\n",
    "MLR =LinearRegression()\n",
    "model_MLR_log = MLR.fit(X_train,log_y_train)\n",
    "MLR_predict_log = model_MLR_log.predict(X_test)\n",
    "MLR_RMSE_log = sqrt(mean_squared_error(y_test, np.exp(MLR_predict_log)))\n",
    "print \"MLR RMSE:\",MLR_RMSE_log\n",
    "\n",
    "#get best λ with LassoCV\n",
    "lasso_cv_log = LassoCV(alphas=None, cv=10, max_iter=10000)\n",
    "model_cv_log = lasso_cv_log.fit(X_train,ravel(log_y_train))\n",
    "print \"Lasso CV best λ:\",model_cv_log.alpha_\n",
    "lasso_predict_log= model_cv_log.predict(X_test)\n",
    "lasso_RMSE_log = sqrt(mean_squared_error(y_test, np.exp(lasso_predict_log)))\n",
    "print \"Lasso RMSE:\",lasso_RMSE_log\n",
    "\n",
    "#get best λ with RidgeCV\n",
    "ridge_cv_log = RidgeCV(cv=10)\n",
    "ridge_model_cv_log = ridge_cv_log.fit(X_train,ravel(log_y_train))\n",
    "print \"Ridge CV best λ:\",ridge_model_cv_log.alpha_\n",
    "ridge_predict_log = ridge_model_cv_log.predict(X_test)\n",
    "ridge_RMSE_log = sqrt(mean_squared_error(y_test, np.exp(ridge_predict_log)))\n",
    "print \"Ridge RMSE:\",ridge_RMSE_log"
   ]
  },
  {
   "cell_type": "code",
   "execution_count": 11,
   "metadata": {
    "collapsed": false
   },
   "outputs": [
    {
     "data": {
      "image/png": "[encoded data removed]",
      "text/plain": [
       "<matplotlib.figure.Figure at 0x1189ba4d0>"
      ]
     },
     "metadata": {},
     "output_type": "display_data"
    }
   ],
   "source": [
    "#residuals with log price models (in original scale)\n",
    "MLRresiduals_log = y_test - np.exp(MLR_predict_log)\n",
    "lassoResiduals_log = y_test - np.exp(lasso_predict_log)\n",
    "ridgeResiduals_log = y_test - np.exp(ridge_predict_log)\n",
    "\n",
    "# Plot residuals\n",
    "fig = plt.figure(figsize=(15, 7))\n",
    "\n",
    "# Predicted vs. Actual\n",
    "ax1 = fig.add_subplot(121)\n",
    "ax1.plot(y_test,np.exp(MLR_predict_log),\"o\",label='MLR',color='darkblue')\n",
    "ax1.plot(y_test,np.exp(lasso_predict_log),\"o\",label='Lasso',color='blue')\n",
    "ax1.plot(y_test,np.exp(ridge_predict_log),\"o\",label='Ridge',color='aqua')\n",
    "ax1.legend(numpoints=1,loc='upper left')\n",
    "ax1.set_ylabel('Predicted Price ($)')\n",
    "ax1.yaxis.set_major_formatter(mtick.FuncFormatter('{:,.0f}'.format))\n",
    "ax1.set_xlabel('Actual Price ($)')\n",
    "ax1.xaxis.set_major_formatter(mtick.FuncFormatter('{:,.0f}'.format))\n",
    "ax1.set_title('Predicted vs. Actual Price', fontsize=12, fontweight='bold')\n",
    "\n",
    "# Residuals\n",
    "ax2 = fig.add_subplot(122)\n",
    "ax2.plot(y_test,MLRresiduals_log,\"o\",label='MLR',color='darkblue')\n",
    "ax2.plot(y_test,lassoResiduals_log,\"o\",label='Lasso',color='blue')\n",
    "ax2.plot(y_test,ridgeResiduals_log,\"o\",label='Ridge',color='aqua')\n",
    "ax2.legend(numpoints=1,loc='upper left')\n",
    "ax2.set_ylabel('Residuals ($)')\n",
    "ax2.yaxis.set_major_formatter(mtick.FuncFormatter('{:,.0f}'.format))\n",
    "ax2.set_xlabel('Actual Price ($)')\n",
    "ax2.xaxis.set_major_formatter(mtick.FuncFormatter('{:,.0f}'.format))\n",
    "ax2.set_title('Residuals', fontsize=12, fontweight='bold')\n",
    "\n",
    "fig.subplots_adjust(wspace=.3)\n",
    "plt.show()"
   ]
  },
  {
   "cell_type": "code",
   "execution_count": 12,
   "metadata": {
    "collapsed": false
   },
   "outputs": [
    {
     "name": "stderr",
     "output_type": "stream",
     "text": [
      "/Users/lindsaytober/anaconda/lib/python2.7/site-packages/sklearn/utils/validation.py:429: DataConversionWarning: Data with input dtype int64 was converted to float64 by StandardScaler.\n",
      "  warnings.warn(msg, _DataConversionWarning)\n"
     ]
    }
   ],
   "source": [
    "# Scale data\n",
    "scaler = StandardScaler()\n",
    "X_train_scaled = scaler.fit_transform(X_train)\n",
    "X_test_scaled = scaler.transform(X_test)\n",
    "y_scaler = StandardScaler()\n",
    "Y_train_scaled = ravel(y_scaler.fit_transform(y_train.reshape(-1, 1)))\n",
    "Y_test_scaled = ravel(y_scaler.transform(y_test.reshape(-1, 1)))"
   ]
  },
  {
   "cell_type": "code",
   "execution_count": 13,
   "metadata": {
    "collapsed": false
   },
   "outputs": [],
   "source": [
    "# Run MLP using different hidden layer sizes\n",
    "sizes = [(20,),(50,),(100,),(150,),(200,),(250,),(300,)]\n",
    "RMSEs = []\n",
    "for size in sizes:\n",
    "    MLP = MLPRegressor(hidden_layer_sizes = size,activation='tanh',solver='sgd',learning_rate='constant',random_state=42,\\\n",
    "                       batch_size=40,learning_rate_init=0.001)\n",
    "    model_MLP = MLP.fit(X_train_scaled,Y_train_scaled)\n",
    "    MLP_predict = model_MLP.predict(X_test_scaled)\n",
    "    MLP_RMSE= sqrt(mean_squared_error(y_test, y_scaler.inverse_transform(MLP_predict)))\n",
    "    RMSEs.append(MLP_RMSE)"
   ]
  },
  {
   "cell_type": "code",
   "execution_count": 14,
   "metadata": {
    "collapsed": false
   },
   "outputs": [
    {
     "name": "stdout",
     "output_type": "stream",
     "text": [
      "MLP RMSE: 36015.4509214\n"
     ]
    }
   ],
   "source": [
    "# Choosing hidden layer size with best RMSE\n",
    "MLP = MLPRegressor(hidden_layer_sizes = sizes[np.argmin(RMSEs)],activation='tanh',solver='sgd',learning_rate='constant',random_state=42,\\\n",
    "                   batch_size=40,learning_rate_init=0.001)\n",
    "model_MLP = MLP.fit(X_train_scaled,Y_train_scaled)\n",
    "MLP_predict_scale = model_MLP.predict(X_test_scaled)\n",
    "MLP_RMSE_scale = sqrt(mean_squared_error(y_test, y_scaler.inverse_transform(MLP_predict_scale)))\n",
    "print \"MLP RMSE:\",MLP_RMSE_scale\n",
    "\n",
    "MLPresiduals_scale = y_test - y_scaler.inverse_transform(MLP_predict_scale)"
   ]
  },
  {
   "cell_type": "code",
   "execution_count": 15,
   "metadata": {
    "collapsed": false
   },
   "outputs": [
    {
     "data": {
      "image/png": "[encoded data removed]",
      "text/plain": [
       "<matplotlib.figure.Figure at 0x118652c90>"
      ]
     },
     "metadata": {},
     "output_type": "display_data"
    }
   ],
   "source": [
    "# Plot residuals\n",
    "fig = plt.figure(figsize=(15, 7))\n",
    "\n",
    "# Predicted vs. Actual\n",
    "ax1 = fig.add_subplot(121)\n",
    "ax1.plot(y_test,y_scaler.inverse_transform(MLP_predict_scale),\"o\",label='MLP',color='aliceblue')\n",
    "ax1.legend(numpoints=1,loc='upper left')\n",
    "ax1.set_ylabel('Predicted Price ($)')\n",
    "ax1.yaxis.set_major_formatter(mtick.FuncFormatter('{:,.0f}'.format))\n",
    "ax1.set_xlabel('Actual Price ($)')\n",
    "ax1.xaxis.set_major_formatter(mtick.FuncFormatter('{:,.0f}'.format))\n",
    "ax1.set_title('Predicted vs. Actual Price', fontsize=12, fontweight='bold')\n",
    "\n",
    "# Residuals\n",
    "ax2 = fig.add_subplot(122)\n",
    "ax2.plot(y_test,MLPresiduals_scale, \"o\",label='MLP',color='aliceblue')\n",
    "ax2.legend(numpoints=1,loc='upper left')\n",
    "ax2.set_ylabel('Residuals ($)')\n",
    "ax2.yaxis.set_major_formatter(mtick.FuncFormatter('{:,.0f}'.format))\n",
    "ax2.set_xlabel('Actual Price ($)')\n",
    "ax2.xaxis.set_major_formatter(mtick.FuncFormatter('{:,.0f}'.format))\n",
    "ax2.set_title('Residuals', fontsize=12, fontweight='bold')\n",
    "\n",
    "fig.subplots_adjust(wspace=.3)\n",
    "plt.show()"
   ]
  },
  {
   "cell_type": "code",
   "execution_count": 16,
   "metadata": {
    "collapsed": false
   },
   "outputs": [
    {
     "name": "stdout",
     "output_type": "stream",
     "text": [
      "MLR RMSE: 9.97258863328e+18\n",
      "Lasso CV best λ: 1695.52642749\n",
      "Lasso RMSE: 29925.6396206\n",
      "Ridge CV best λ: 10.0\n",
      "Ridge RMSE: 34043.6717917\n"
     ]
    }
   ],
   "source": [
    "# Try Linear Regression, Lasso, and Ridge with scaled X data\n",
    "\n",
    "#Linear Regression\n",
    "MLR =LinearRegression(fit_intercept=False)\n",
    "model_MLR_scale = MLR.fit(X_train_scaled,y_train)\n",
    "MLR_predict_scale = model_MLR_scale.predict(X_test_scaled)\n",
    "MLR_RMSE_scale= sqrt(mean_squared_error(y_test, MLR_predict_scale))\n",
    "print \"MLR RMSE:\",MLR_RMSE_scale\n",
    "\n",
    "#get best λ with LassoCV\n",
    "lasso_cv_scale = LassoCV(alphas=None, cv=10, max_iter=10000)\n",
    "model_cv_scale = lasso_cv_scale.fit(X_train_scaled,ravel(y_train))\n",
    "print \"Lasso CV best λ:\",model_cv_scale.alpha_\n",
    "lasso_predict_scale = model_cv_scale.predict(X_test_scaled)\n",
    "lasso_RMSE_scale= sqrt(mean_squared_error(y_test, lasso_predict_scale))\n",
    "print \"Lasso RMSE:\",lasso_RMSE_scale\n",
    "\n",
    "#get best λ with RidgeCV\n",
    "ridge_cv_scale = RidgeCV(cv=10)\n",
    "ridge_model_cv_scale = ridge_cv_scale.fit(X_train_scaled,ravel(y_train))\n",
    "print \"Ridge CV best λ:\",ridge_model_cv_scale.alpha_\n",
    "ridge_predict_scale= ridge_model_cv_scale.predict(X_test_scaled)\n",
    "ridge_RMSE_scale= sqrt(mean_squared_error(y_test, ridge_predict_scale))\n",
    "print \"Ridge RMSE:\",ridge_RMSE_scale"
   ]
  },
  {
   "cell_type": "code",
   "execution_count": 17,
   "metadata": {
    "collapsed": false
   },
   "outputs": [
    {
     "data": {
      "image/png": "[encoded data removed]",
      "text/plain": [
       "<matplotlib.figure.Figure at 0x118ae1310>"
      ]
     },
     "metadata": {},
     "output_type": "display_data"
    }
   ],
   "source": [
    "# Based on RMSE, it appears as though MLR may have challenges predicting this data\n",
    "# For example, the linear regression problem could be under-determined \n",
    "#  (where the number of linearly independent rows of the training matrix \n",
    "#    is less than its number of linearly independent columns),\n",
    "#  resulting in erroneous predictions\n",
    "\n",
    "# Graph to see\n",
    "MLRresiduals_scale = y_test - MLR_predict_scale\n",
    "fig = plt.figure(figsize=(15, 7))\n",
    "\n",
    "# Predicted vs. Actual\n",
    "ax1 = fig.add_subplot(121)\n",
    "ax1.plot(y_test,MLR_predict_scale,\"o\",label='MLR',color='darkblue')\n",
    "ax1.legend(numpoints=1,loc='upper left')\n",
    "ax1.set_ylabel('Predicted Price ($)')\n",
    "ax1.set_xlabel('Actual Price ($)')\n",
    "ax1.xaxis.set_major_formatter(mtick.FuncFormatter('{:,.0f}'.format))\n",
    "ax1.set_title('Predicted vs. Actual Price', fontsize=12, fontweight='bold')\n",
    "\n",
    "# Residuals\n",
    "ax2 = fig.add_subplot(122)\n",
    "ax2.plot(y_test,MLRresiduals_scale, \"o\",label='MLR',color='darkblue')\n",
    "ax2.legend(numpoints=1,loc='upper left')\n",
    "ax2.set_ylabel('Residuals ($)')\n",
    "ax2.set_xlabel('Actual Price ($)')\n",
    "ax2.xaxis.set_major_formatter(mtick.FuncFormatter('{:,.0f}'.format))\n",
    "ax2.set_title('Residuals', fontsize=12, fontweight='bold')\n",
    "\n",
    "fig.subplots_adjust(wspace=.3)\n",
    "plt.show()"
   ]
  },
  {
   "cell_type": "code",
   "execution_count": 18,
   "metadata": {
    "collapsed": false
   },
   "outputs": [
    {
     "data": {
      "image/png": "[encoded data removed]",
      "text/plain": [
       "<matplotlib.figure.Figure at 0x11e0cf190>"
      ]
     },
     "metadata": {},
     "output_type": "display_data"
    }
   ],
   "source": [
    "# Plot Lasso and Ridge\n",
    "lassoResiduals_scale = y_test - lasso_predict_scale\n",
    "ridgeResiduals_scale = y_test - ridge_predict_scale\n",
    "\n",
    "fig = plt.figure(figsize=(15, 7))\n",
    "\n",
    "# Predicted vs. Actual\n",
    "ax1 = fig.add_subplot(121)\n",
    "ax1.plot(y_test,lasso_predict_scale,\"o\",label='Lasso',color='blue')\n",
    "ax1.plot(y_test,ridge_predict_scale,\"o\",label='Ridge',color='aqua')\n",
    "ax1.legend(numpoints=1,loc='upper left')\n",
    "ax1.set_ylabel('Predicted Price ($)')\n",
    "ax1.yaxis.set_major_formatter(mtick.FuncFormatter('{:,.0f}'.format))\n",
    "ax1.set_xlabel('Actual Price ($)')\n",
    "ax1.xaxis.set_major_formatter(mtick.FuncFormatter('{:,.0f}'.format))\n",
    "ax1.set_title('Predicted vs. Actual Price', fontsize=12, fontweight='bold')\n",
    "\n",
    "# Residuals\n",
    "ax2 = fig.add_subplot(122)\n",
    "ax2.plot(y_test,lassoResiduals_scale,\"o\",label='Lasso',color='blue')\n",
    "ax2.plot(y_test,ridgeResiduals_scale,\"o\",label='Ridge',color='aqua')\n",
    "ax2.legend(numpoints=1,loc='upper left')\n",
    "ax2.set_ylabel('Residuals ($)')\n",
    "ax2.yaxis.set_major_formatter(mtick.FuncFormatter('{:,.0f}'.format))\n",
    "ax2.set_xlabel('Actual Price ($)')\n",
    "ax2.xaxis.set_major_formatter(mtick.FuncFormatter('{:,.0f}'.format))\n",
    "ax2.set_title('Residuals', fontsize=12, fontweight='bold')\n",
    "\n",
    "fig.subplots_adjust(wspace=.3)\n",
    "plt.show()"
   ]
  },
  {
   "cell_type": "code",
   "execution_count": 19,
   "metadata": {
    "collapsed": false
   },
   "outputs": [
    {
     "name": "stdout",
     "output_type": "stream",
     "text": [
      "Lasso CV best λ: 0.00617476647261\n",
      "Lasso RMSE: 23872.9408725\n",
      "Ridge CV best λ: 10.0\n",
      "Ridge RMSE: 26622.3843697\n"
     ]
    }
   ],
   "source": [
    "# Try fitting on scaled data and log SalePrice for Lasso and Ridge\n",
    "#get best λ with LassoCV\n",
    "lasso_cv_scalelog = LassoCV(alphas=None, cv=10, max_iter=10000)\n",
    "model_cv_scalelog = lasso_cv_scalelog.fit(X_train_scaled,ravel(log_y_train))\n",
    "print \"Lasso CV best λ:\",model_cv_scalelog.alpha_\n",
    "lasso_predict_scalelog= model_cv_scalelog.predict(X_test_scaled)\n",
    "lasso_RMSE_scalelog = sqrt(mean_squared_error(y_test, np.exp(lasso_predict_scalelog)))\n",
    "print \"Lasso RMSE:\",lasso_RMSE_scalelog\n",
    "\n",
    "#get best λ with RidgeCV\n",
    "ridge_cv_scalelog = RidgeCV(cv=10)\n",
    "ridge_model_cv_scalelog = ridge_cv_scalelog.fit(X_train_scaled,ravel(log_y_train))\n",
    "print \"Ridge CV best λ:\",ridge_model_cv_scalelog.alpha_\n",
    "ridge_predict_scalelog= ridge_model_cv_scalelog.predict(X_test_scaled)\n",
    "ridge_RMSE_scalelog = sqrt(mean_squared_error(y_test, np.exp(ridge_predict_scalelog)))\n",
    "print \"Ridge RMSE:\",ridge_RMSE_scalelog"
   ]
  },
  {
   "cell_type": "code",
   "execution_count": 20,
   "metadata": {
    "collapsed": false
   },
   "outputs": [
    {
     "data": {
      "image/png": "[encoded data removed]",
      "text/plain": [
       "<matplotlib.figure.Figure at 0x11e9cfa10>"
      ]
     },
     "metadata": {},
     "output_type": "display_data"
    }
   ],
   "source": [
    "# Plot Lasso and Ridge results for scaled X data / log SalePrice\n",
    "lassoResiduals_scalelog = y_test - np.exp(lasso_predict_scalelog)\n",
    "ridgeResiduals_scalelog = y_test - np.exp(ridge_predict_scalelog)\n",
    "\n",
    "fig = plt.figure(figsize=(15, 7))\n",
    "\n",
    "# Predicted vs. Actual\n",
    "ax1 = fig.add_subplot(121)\n",
    "ax1.plot(y_test,np.exp(lasso_predict_scalelog),\"o\",label='Lasso',color='blue')\n",
    "ax1.plot(y_test,np.exp(ridge_predict_scalelog),\"o\",label='Ridge',color='aqua')\n",
    "ax1.legend(numpoints=1,loc='upper left')\n",
    "ax1.set_ylabel('Predicted Price ($)')\n",
    "ax1.yaxis.set_major_formatter(mtick.FuncFormatter('{:,.0f}'.format))\n",
    "ax1.set_xlabel('Actual Price ($)')\n",
    "ax1.xaxis.set_major_formatter(mtick.FuncFormatter('{:,.0f}'.format))\n",
    "ax1.set_title('Predicted vs. Actual Price', fontsize=12, fontweight='bold')\n",
    "\n",
    "# Residuals\n",
    "ax2 = fig.add_subplot(122)\n",
    "ax2.plot(y_test,lassoResiduals_scalelog,\"o\",label='Lasso',color='blue')\n",
    "ax2.plot(y_test,ridgeResiduals_scalelog,\"o\",label='Ridge',color='aqua')\n",
    "ax2.legend(numpoints=1,loc='upper left')\n",
    "ax2.set_ylabel('Residuals ($)')\n",
    "ax2.yaxis.set_major_formatter(mtick.FuncFormatter('{:,.0f}'.format))\n",
    "ax2.set_xlabel('Actual Price ($)')\n",
    "ax2.xaxis.set_major_formatter(mtick.FuncFormatter('{:,.0f}'.format))\n",
    "ax2.set_title('Residuals', fontsize=12, fontweight='bold')\n",
    "\n",
    "fig.subplots_adjust(wspace=.3)\n",
    "plt.show()"
   ]
  },
  {
   "cell_type": "markdown",
   "metadata": {
    "collapsed": false
   },
   "source": [
    "### SVR"
   ]
  },
  {
   "cell_type": "code",
   "execution_count": null,
   "metadata": {
    "collapsed": false
   },
   "outputs": [],
   "source": [
    "SVR_reg = SVR(kernel='linear', C=10)\n",
    "SVR_reg.fit(X_train,y_train)\n",
    "SVR_predict_reg=SVR_reg.predict(X_test)\n",
    "SVR_RMSE_reg=np.sqrt(mean_squared_error(y_test,SVR_predict_reg))\n",
    "SVR_RMSE_reg"
   ]
  },
  {
   "cell_type": "code",
   "execution_count": null,
   "metadata": {
    "collapsed": false
   },
   "outputs": [],
   "source": [
    "SVR_scale = SVR(kernel='linear', C=10)\n",
    "SVR_scale.fit(X_train_scaled,y_train)\n",
    "SVR_predict_scale=SVR_scale.predict(X_test_scaled)\n",
    "SVR_RMSE_scale=np.sqrt(mean_squared_error(y_test,SVR_predict_scale))\n",
    "SVR_RMSE_scale"
   ]
  },
  {
   "cell_type": "code",
   "execution_count": null,
   "metadata": {
    "collapsed": true
   },
   "outputs": [],
   "source": [
    "SVR_log = SVR(kernel='linear', C=10)\n",
    "SVR_log.fit(X_train,ravel(log_y_train))\n",
    "SVR_predict_log=SVR_log.predict(X_test)\n",
    "SVR_RMSE_log=np.sqrt(mean_squared_error(y_test,np.exp(SVR_predict_log)))\n",
    "SVR_RMSE_log"
   ]
  },
  {
   "cell_type": "code",
   "execution_count": null,
   "metadata": {
    "collapsed": false
   },
   "outputs": [],
   "source": [
    "SVR_scalelog = SVR(kernel='linear', C=10)\n",
    "SVR_scalelog.fit(X_train_scaled,ravel(log_y_train))\n",
    "SVR_predict_scalelog=SVR_scalelog.predict(X_test_scaled)\n",
    "SVR_RMSE_scalelog=np.sqrt(mean_squared_error(y_test,np.exp(SVR_predict_scalelog)))\n",
    "SVR_RMSE_scalelog"
   ]
  },
  {
   "cell_type": "markdown",
   "metadata": {},
   "source": [
    "### SGD Regressor"
   ]
  },
  {
   "cell_type": "code",
   "execution_count": null,
   "metadata": {
    "collapsed": true
   },
   "outputs": [],
   "source": [
    "parameters = {'loss': ['squared_loss', 'huber'],\n",
    "             'penalty': ['l1','l2'],\n",
    "              'learning_rate': ['optimal','invscaling','constant']}\n",
    "accuracy=make_scorer(mean_squared_error, greater_is_better=False)\n",
    "SGDclf_reg = GridSearchCV(SGDRegressor(random_state=42), parameters, cv=5,scoring=accuracy)\n",
    "SGDclf_reg.fit(X_train, y_train) "
   ]
  },
  {
   "cell_type": "code",
   "execution_count": null,
   "metadata": {
    "collapsed": true
   },
   "outputs": [],
   "source": [
    "print SGDclf_reg.best_params_\n",
    "print SGDclf_reg.best_score_"
   ]
  },
  {
   "cell_type": "code",
   "execution_count": null,
   "metadata": {
    "collapsed": true
   },
   "outputs": [],
   "source": [
    "GSCV_SGDclf_reg = SGDRegressor(loss='huber', penalty='l2', alpha=0.001, random_state=42)\n",
    "GSCV_SGDclf_reg.fit(X_train, y_train)\n",
    "GSCV_SGDclf_predict_reg = GSCV_SGDclf_reg.predict(X_test)\n",
    "GSCV_SGDclf_RMSE_reg=np.sqrt(mean_squared_error(y_test, GSCV_SGDclf_predict_reg))\n",
    "GSCV_SGDclf_RMSE_reg"
   ]
  },
  {
   "cell_type": "code",
   "execution_count": null,
   "metadata": {
    "collapsed": true
   },
   "outputs": [],
   "source": [
    "parameters = {'loss': ['squared_loss', 'huber'],\n",
    "             'penalty': ['l1','l2'],\n",
    "              'alpha': [0.01, 0.001, 0.0001]\n",
    "             }\n",
    "accuracy=make_scorer(mean_squared_error, greater_is_better=False)\n",
    "SGDclf_scale = GridSearchCV(SGDRegressor(random_state=42), parameters, cv=5,scoring=accuracy)\n",
    "SGDclf_scale.fit(X_train_scaled, y_train)"
   ]
  },
  {
   "cell_type": "code",
   "execution_count": null,
   "metadata": {
    "collapsed": true
   },
   "outputs": [],
   "source": [
    "print SGDclf_scale.best_params_\n",
    "print SGDclf_scale.best_score_"
   ]
  },
  {
   "cell_type": "code",
   "execution_count": null,
   "metadata": {
    "collapsed": true
   },
   "outputs": [],
   "source": [
    "GSCV_SGDclf_scale = SGDRegressor(penalty='l1', alpha=0.01, loss='huber', random_state=42)\n",
    "GSCV_SGDclf_scale.fit(X_train_scaled, y_train)\n",
    "GSCV_SGDclf_predict_scale = GSCV_SGDclf_scale.predict(X_test_scaled)\n",
    "GSCV_SGDclf_RMSE_scale=np.sqrt(mean_squared_error(y_test, GSCV_SGDclf_predict_scale))\n",
    "GSCV_SGDclf_RMSE_scale"
   ]
  },
  {
   "cell_type": "code",
   "execution_count": null,
   "metadata": {
    "collapsed": true
   },
   "outputs": [],
   "source": [
    "parameters = {'loss': ['squared_loss', 'huber'],\n",
    "             'penalty': ['l1','l2'],\n",
    "              'alpha': [0.01, 0.001, 0.0001]\n",
    "             }\n",
    "accuracy=make_scorer(mean_squared_error, greater_is_better=False)\n",
    "SGDclf_log = GridSearchCV(SGDRegressor(random_state=42), parameters, cv=5,scoring=accuracy)\n",
    "SGDclf_log.fit(X_train, log_y_train)"
   ]
  },
  {
   "cell_type": "code",
   "execution_count": null,
   "metadata": {
    "collapsed": true
   },
   "outputs": [],
   "source": [
    "print SGDclf_log.best_params_\n",
    "print SGDclf_log.best_score_"
   ]
  },
  {
   "cell_type": "code",
   "execution_count": null,
   "metadata": {
    "collapsed": true
   },
   "outputs": [],
   "source": [
    "### NOT SURE OF BEST PARAMS -- LOG WOULDN'T RUN\n",
    "# GSCV_SGDclf_log = SGDRegressor(penalty='l1', alpha=0.01, loss='huber', random_state=42)\n",
    "# GSCV_SGDclf_log.fit(X_train, log_y_train)\n",
    "# GSCV_SGDclf_predict_log = GSCV_SGDclf_log.predict(X_test)\n",
    "# GSCV_SGDclf_RMSE_log=np.sqrt(mean_squared_error(y_test, np.exp(GSCV_SGDclf_predict_log)))\n",
    "# GSCV_SGDclf_RMSE_log"
   ]
  },
  {
   "cell_type": "code",
   "execution_count": null,
   "metadata": {
    "collapsed": true
   },
   "outputs": [],
   "source": [
    "parameters = {'loss': ['squared_loss', 'huber'],\n",
    "             'penalty': ['l1','l2'],\n",
    "              'alpha': [0.01, 0.001, 0.0001]\n",
    "             }\n",
    "accuracy=make_scorer(mean_squared_error, greater_is_better=False)\n",
    "SGDclf_scalelog = GridSearchCV(SGDRegressor(random_state=42), parameters, cv=5,scoring=accuracy)\n",
    "SGDclf_scalelog.fit(X_train_scaled, log_y_train)"
   ]
  },
  {
   "cell_type": "code",
   "execution_count": null,
   "metadata": {
    "collapsed": true
   },
   "outputs": [],
   "source": [
    "print SGDclf_scalelog.best_params_\n",
    "print SGDclf_scalelog.best_score_"
   ]
  },
  {
   "cell_type": "code",
   "execution_count": null,
   "metadata": {
    "collapsed": true
   },
   "outputs": [],
   "source": [
    "### NOT SURE OF BEST PARAMS -- LOG WOULDN'T RUN\n",
    "# GSCV_SGDclf_scalelog = SGDRegressor(penalty='l1', alpha=0.01, loss='huber', random_state=42)\n",
    "# GSCV_SGDclf_scalelog.fit(X_train_scaled, log_y_train)\n",
    "# GSCV_SGDclf_predict_scalelog = GSCV_SGDclf_scalelog.predict(X_test_scaled)\n",
    "# GSCV_SGDclf_RMSE_scalelog=np.sqrt(mean_squared_error(y_test, np.exp(GSCV_SGDclf_predict_scalelog)))\n",
    "# GSCV_SGDclf_RMSE_scalelog"
   ]
  },
  {
   "cell_type": "markdown",
   "metadata": {},
   "source": [
    "### Regression Trees"
   ]
  },
  {
   "cell_type": "code",
   "execution_count": null,
   "metadata": {
    "collapsed": true
   },
   "outputs": [],
   "source": [
    "# Create and fit the model\n",
    "model_tree2_reg = DecisionTreeRegressor(random_state = 1)\n",
    "model_tree2_reg.fit(X_train, y_train)\n",
    "\n",
    "# Predict on the test set\n",
    "p_tree2_reg = model_tree2_reg.predict(X_test)\n",
    "\n",
    "# Calculate RMSE of the model\n",
    "REGTREE_residuals_reg = p_tree2_reg - y_test\n",
    "REGTREE_MSE_reg = (REGTREE_residuals_reg**2).mean()\n",
    "REGTREE_RMSE_reg = math.sqrt(REGTREE_MSE_reg)\n",
    "\n",
    "print \"RMSE for Regression Tree is:\", round(REGTREE_RMSE_reg,4)"
   ]
  },
  {
   "cell_type": "code",
   "execution_count": null,
   "metadata": {
    "collapsed": true
   },
   "outputs": [],
   "source": [
    "# Create and fit the model\n",
    "model_tree2_log = DecisionTreeRegressor(random_state = 1)\n",
    "model_tree2_log.fit(X_train, log_y_train)\n",
    "\n",
    "# Predict on the test set\n",
    "p_tree2_log = model_tree2_log.predict(X_test)\n",
    "\n",
    "# Calculate RMSE of the model\n",
    "REGTREE_residuals_log = np.exp(p_tree2_log) - y_test\n",
    "REGTREE_MSE_log = (REGTREE_residuals_log**2).mean()\n",
    "REGTREE_RMSE_log = math.sqrt(REGTREE_MSE_log)\n",
    "\n",
    "print \"RMSE for Regression Tree USING LOG is:\", round(REGTREE_RMSE_log,4)"
   ]
  },
  {
   "cell_type": "code",
   "execution_count": null,
   "metadata": {
    "collapsed": true
   },
   "outputs": [],
   "source": [
    "# Create and fit the model\n",
    "model_tree2_scale = DecisionTreeRegressor(random_state = 1)\n",
    "model_tree2_scale.fit(X_train_scaled, y_train)\n",
    "\n",
    "# Predict on the test set\n",
    "p_tree2_scale = model_tree2_scale.predict(X_test_scaled)\n",
    "\n",
    "# Calculate RMSE of the model\n",
    "REGTREE_residuals_scale = p_tree2_scale - y_test\n",
    "REGTREE_MSE_scale = (REGTREE_residuals_scale**2).mean()\n",
    "REGTREE_RMSE_scale = math.sqrt(REGTREE_MSE_scale)\n",
    "\n",
    "print \"RMSE with scaling Regression Tree is:\", round(REGTREE_RMSE_scale,4)"
   ]
  },
  {
   "cell_type": "code",
   "execution_count": null,
   "metadata": {
    "collapsed": true
   },
   "outputs": [],
   "source": [
    "# Create and fit the model\n",
    "model_tree2_scalelog = DecisionTreeRegressor(random_state = 1)\n",
    "model_tree2_scalelog.fit(X_train_scaled, log_y_train)\n",
    "\n",
    "# Predict on the test set\n",
    "p_tree2_scalelog = model_tree2_scalelog.predict(X_test_scaled)\n",
    "\n",
    "# Calculate RMSE of the model\n",
    "REGTREE_residuals_scalelog = np.exp(p_tree2) - y_test\n",
    "REGTREE_MSE_scalelog = (REGTREE_residuals_scalelog**2).mean()\n",
    "REGTREE_RMSE_scalelog = math.sqrt(REGTREE_MSE_scalelog)\n",
    "\n",
    "print \"RMSE with scaling for Regression Tree USING LOG is:\", round(REGTREE_RMSE_scalelog,4)"
   ]
  },
  {
   "cell_type": "code",
   "execution_count": null,
   "metadata": {
    "collapsed": true
   },
   "outputs": [],
   "source": [
    "# # Feature importances from Model 1\n",
    "# imp_tree1 = pd.Series(model_tree1.feature_importances_,X_train.columns.values)\n",
    "# print imp_tree1.sort_values(ascending = False)[:10]\n",
    "\n",
    "# Feature importances from Model 2\n",
    "imp_tree2 = pd.Series(model_tree2_reg.feature_importances_,X_train.columns.values)\n",
    "print imp_tree2.sort_values(ascending = False)[:10]"
   ]
  },
  {
   "cell_type": "code",
   "execution_count": null,
   "metadata": {
    "collapsed": true
   },
   "outputs": [],
   "source": [
    "# SUMMARY - Regression Trees\n",
    "print \"RMSE for Regression Tree is:\", round(REGTREE_RMSE_reg,4)\n",
    "print \"RMSE for Regression Tree USING LOG is:\", round(REGTREE_RMSE_log,4)\n",
    "print \"RMSE with scaling Regression Tree is:\", round(REGTREE_RMSE_scale,4)\n",
    "print \"RMSE with scaling for Regression Tree USING LOG is:\", round(REGTREE_RMSE_scalelog,4)"
   ]
  },
  {
   "cell_type": "markdown",
   "metadata": {},
   "source": [
    "###  Random Forest (GridSearchCV)"
   ]
  },
  {
   "cell_type": "code",
   "execution_count": null,
   "metadata": {
    "collapsed": true
   },
   "outputs": [],
   "source": [
    "# Cross validate RF model\n",
    "# Set parameter dictionary to search through\n",
    "params = {'n_estimators':[10,100,500, 1000], 'max_depth':[5,10,20]}\n",
    "\n",
    "# Create model and fit best parameters\n",
    "model_rf2 = RandomForestRegressor()\n",
    "model_rf2_GS_reg = GridSearchCV(model_rf2, params)\n",
    "model_rf2_GS_log = GridSearchCV(model_rf2, params)\n",
    "model_rf2_GS_scale = GridSearchCV(model_rf2, params)\n",
    "model_rf2_GS_scalelog = GridSearchCV(model_rf2, params)"
   ]
  },
  {
   "cell_type": "code",
   "execution_count": null,
   "metadata": {
    "collapsed": true
   },
   "outputs": [],
   "source": [
    "# Avoid running, build a RF model below\n",
    "model_rf2_GS_reg.fit(X_train, y_train)"
   ]
  },
  {
   "cell_type": "code",
   "execution_count": null,
   "metadata": {
    "collapsed": true
   },
   "outputs": [],
   "source": [
    "# Avoid running, build a RF model below\n",
    "model_rf2_GS_log.fit(X_train, log_y_train)"
   ]
  },
  {
   "cell_type": "code",
   "execution_count": null,
   "metadata": {
    "collapsed": true
   },
   "outputs": [],
   "source": [
    "# Avoid running, build a RF model below\n",
    "model_rf2_GS_scale.fit(X_train_scaled, y_train)"
   ]
  },
  {
   "cell_type": "code",
   "execution_count": null,
   "metadata": {
    "collapsed": true
   },
   "outputs": [],
   "source": [
    "# Avoid running, build a RF model below\n",
    "model_rf2_GS_scalelog.fit(X_train_scaled, log_y_train)"
   ]
  },
  {
   "cell_type": "code",
   "execution_count": null,
   "metadata": {
    "collapsed": true
   },
   "outputs": [],
   "source": [
    "# Save best estimates to avoid re-running grid search\n",
    "model_rf2_GS_reg_best=model_rf2_GS_reg.best_estimator_\n",
    "model_rf2_GS_log_best=model_rf2_GS_log.best_estimator_\n",
    "model_rf2_GS_scale_best=model_rf2_GS_scale.best_estimator_\n",
    "model_rf2_GS_scalelog_best=model_rf2_GS_scalelog.best_estimator_"
   ]
  },
  {
   "cell_type": "code",
   "execution_count": null,
   "metadata": {
    "collapsed": true
   },
   "outputs": [],
   "source": [
    "# Make predictions on Grid search optimized RF model\n",
    "p_rf2_reg = model_rf2_GS_reg.predict(X_test)\n",
    "\n",
    "# Calculate RMSE of the model\n",
    "GS_RANDFOR_residuals_reg = p_rf2_reg - y_test\n",
    "GS_RANDFOR_MSE_reg = (GS_RANDFOR_residuals_reg**2).mean()\n",
    "GS_RANDFOR_RMSE_reg = math.sqrt(GS_RANDFOR_MSE_reg)\n",
    "\n",
    "print \"RMSE for GS Random Forest is:\", round(GS_RANDFOR_RMSE_reg,4)"
   ]
  },
  {
   "cell_type": "code",
   "execution_count": null,
   "metadata": {
    "collapsed": true
   },
   "outputs": [],
   "source": [
    "# Make predictions on Grid search optimized RF model\n",
    "p_rf2_log = model_rf2_GS_log.predict(X_test)\n",
    "\n",
    "# Calculate RMSE of the model\n",
    "GS_RANDFOR_residuals_log = np.exp(p_rf2_log) - y_test\n",
    "GS_RANDFOR_MSE_log = (GS_RANDFOR_residuals_log**2).mean()\n",
    "GS_RANDFOR_RMSE_log = math.sqrt(GS_RANDFOR_MSE_log)\n",
    "\n",
    "print \"RMSE for GS Random Forest USING LOG is:\", round(GS_RANDFOR_RMSE_log,4)"
   ]
  },
  {
   "cell_type": "code",
   "execution_count": null,
   "metadata": {
    "collapsed": true
   },
   "outputs": [],
   "source": [
    "# Make predictions on Grid search optimized RF model\n",
    "p_rf2_scale = model_rf2_GS_scale.predict(X_test_scaled)\n",
    "\n",
    "# Calculate RMSE of the model\n",
    "GS_RANDFOR_residuals_scale = p_rf2_scale - y_test\n",
    "GS_RANDFOR_MSE_scale = (GS_RANDFOR_residuals_scale**2).mean()\n",
    "GS_RANDFOR_RMSE_scale = math.sqrt(GS_RANDFOR_MSE_scale)\n",
    "\n",
    "print \"RMSE using scaling for GS Random Forest is:\", round(GS_RANDFOR_RMSE_scale,4)"
   ]
  },
  {
   "cell_type": "code",
   "execution_count": null,
   "metadata": {
    "collapsed": true
   },
   "outputs": [],
   "source": [
    "# Make predictions on Grid search optimized RF model\n",
    "p_rf2_scalelog = model_rf2_GS_scalelog.predict(X_test_scaled)\n",
    "\n",
    "# Calculate RMSE of the model\n",
    "GS_RANDFOR_residuals_scalelog = np.exp(p_rf2_scalelog) - y_test\n",
    "GS_RANDFOR_MSE_scalelog = (GS_RANDFOR_residuals_scalelog**2).mean()\n",
    "GS_RANDFOR_RMSE_scalelog = math.sqrt(GS_RANDFOR_MSE_scalelog)\n",
    "\n",
    "print \"RMSE using scaling for GS Random Forest USING LOG is:\", round(GS_RANDFOR_RMSE_scalelog,4)"
   ]
  },
  {
   "cell_type": "code",
   "execution_count": null,
   "metadata": {
    "collapsed": true
   },
   "outputs": [],
   "source": [
    "# SUMMARY - GridsearchCV on Random Forests\n",
    "print \"RMSE for GS Random Forest is:\", round(GS_RANDFOR_RMSE_reg,4)\n",
    "print \"RMSE for GS Random Forest USING LOG is:\", round(GS_RANDFOR_RMSE_log,4)\n",
    "print \"RMSE using scaling for GS Random Forest is:\", round(GS_RANDFOR_RMSE_scale,4)\n",
    "print \"RMSE using scaling for GS Random Forest USING LOG is:\", round(GS_RANDFOR_RMSE_scalelog,4)"
   ]
  },
  {
   "cell_type": "markdown",
   "metadata": {},
   "source": [
    "### Gradient Boosting (GridSearchCV)"
   ]
  },
  {
   "cell_type": "code",
   "execution_count": null,
   "metadata": {
    "collapsed": true
   },
   "outputs": [],
   "source": [
    "# Create Gradient Boosting Model\n",
    "model_gb1 = GradientBoostingRegressor()\n",
    "\n",
    "# Create parameter dictionary for GridSearchCV\n",
    "params = {'n_estimators':(5,10,50,100,500,1000),'learning_rate':(0.01, 0.05, 0.1, 0.2)}\n",
    "\n",
    "#Create Grid Search Model\n",
    "model_gb1_GS = GridSearchCV(model_gb1,params)\n",
    "model_gb1_GS_reg = GridSearchCV(model_gb1, params)\n",
    "model_gb1_GS_log = GridSearchCV(model_gb1, params)\n",
    "model_gb1_GS_scale = GridSearchCV(model_gb1, params)\n",
    "model_gb1_GS_scalelog = GridSearchCV(model_gb1, params)"
   ]
  },
  {
   "cell_type": "code",
   "execution_count": null,
   "metadata": {
    "collapsed": true
   },
   "outputs": [],
   "source": [
    "# Avoid running, build a RF model below\n",
    "model_gb1_GS_reg.fit(X_train, y_train)"
   ]
  },
  {
   "cell_type": "code",
   "execution_count": null,
   "metadata": {
    "collapsed": true
   },
   "outputs": [],
   "source": [
    "# Avoid running, build a RF model below\n",
    "model_gb1_GS_log.fit(X_train, log_y_train)"
   ]
  },
  {
   "cell_type": "code",
   "execution_count": null,
   "metadata": {
    "collapsed": true
   },
   "outputs": [],
   "source": [
    "# Avoid running, build a RF model below\n",
    "model_gb1_GS_scale.fit(X_train_scaled, y_train)"
   ]
  },
  {
   "cell_type": "code",
   "execution_count": null,
   "metadata": {
    "collapsed": true
   },
   "outputs": [],
   "source": [
    "# Avoid running, build a RF model below\n",
    "model_gb1_GS_scalelog.fit(X_train_scaled, log_y_train)"
   ]
  },
  {
   "cell_type": "code",
   "execution_count": null,
   "metadata": {
    "collapsed": true
   },
   "outputs": [],
   "source": [
    "# Save best estimates to avoid re-running grid search\n",
    "model_gb1_GS_reg_best=model_gb1_GS_reg.best_estimator_\n",
    "model_gb1_GS_log_best=model_gb1_GS_log.best_estimator_\n",
    "model_gb1_GS_scale_best=model_gb1_GS_scale.best_estimator_\n",
    "model_gb1_GS_scalelog_best=model_gb1_GS_scalelog.best_estimator_"
   ]
  },
  {
   "cell_type": "code",
   "execution_count": null,
   "metadata": {
    "collapsed": true
   },
   "outputs": [],
   "source": [
    "# Make predictions on Grid search optimized Gradient Boosting model\n",
    "p_gb1_reg = model_gb1_GS_reg.predict(X_test)\n",
    "\n",
    "# Calculate RMSE of the model\n",
    "GS_GRADBOOST_residuals_reg = p_gb1_reg - y_test\n",
    "GS_GRADBOOST_MSE_reg = (GS_GRADBOOST_residuals_reg**2).mean()\n",
    "GS_GRADBOOST_RMSE_reg = math.sqrt(GS_GRADBOOST_MSE_reg)\n",
    "\n",
    "print \"RMSE for GS Gradient Boosting is:\", round(GS_GRADBOOST_RMSE_reg,4)"
   ]
  },
  {
   "cell_type": "code",
   "execution_count": null,
   "metadata": {
    "collapsed": true
   },
   "outputs": [],
   "source": [
    "# Make predictions on Grid search optimized Gradient Boosting model\n",
    "p_gb1_log = model_gb1_GS_log.predict(X_test)\n",
    "\n",
    "# Calculate RMSE of the model\n",
    "GS_GRADBOOST_residuals_log = np.exp(p_gb1_log) - y_test\n",
    "GS_GRADBOOST_MSE_log = (GS_GRADBOOST_residuals_log**2).mean()\n",
    "GS_GRADBOOST_RMSE_log = math.sqrt(GS_GRADBOOST_MSE_log)\n",
    "\n",
    "print \"RMSE for GS Gradient Boosting USING LOG is:\", round(GS_GRADBOOST_RMSE_log,4)"
   ]
  },
  {
   "cell_type": "code",
   "execution_count": null,
   "metadata": {
    "collapsed": true
   },
   "outputs": [],
   "source": [
    "# Make predictions on Grid search optimized Gradient Boosting model\n",
    "p_gb1_scale = model_gb1_GS_scale.predict(X_test_scaled)\n",
    "\n",
    "# Calculate RMSE of the model\n",
    "GS_GRADBOOST_residuals_scale = p_gb1_scale - y_test\n",
    "GS_GRADBOOST_MSE_scale = (GS_GRADBOOST_residuals_scale**2).mean()\n",
    "GS_GRADBOOST_RMSE_scale = math.sqrt(GS_GRADBOOST_MSE_scale)\n",
    "\n",
    "print \"RMSE with scaling for GS Gradient Boosting is:\", round(GS_GRADBOOST_RMSE_scale,4)"
   ]
  },
  {
   "cell_type": "code",
   "execution_count": null,
   "metadata": {
    "collapsed": true
   },
   "outputs": [],
   "source": [
    "# Make predictions on Grid search optimized Gradient Boosting model\n",
    "p_gb1_scalelog = model_gb1_GS_scalelog.predict(X_test_scaled)\n",
    "\n",
    "# Calculate RMSE of the model\n",
    "GS_GRADBOOST_residuals_scalelog = np.exp(p_gb1_scalelog) - y_test\n",
    "GS_GRADBOOST_MSE_scalelog = (GS_GRADBOOST_residuals_scalelog**2).mean()\n",
    "GS_GRADBOOST_RMSE_scalelog = math.sqrt(GS_GRADBOOST_MSE_scalelog)\n",
    "\n",
    "print \"RMSE with scaling for GS Gradient Boosting USING LOG is:\", round(GS_GRADBOOST_RMSE_scalelog,4)"
   ]
  },
  {
   "cell_type": "code",
   "execution_count": null,
   "metadata": {
    "collapsed": true
   },
   "outputs": [],
   "source": [
    "# SUMMARY - GridsearchCV on Gradient Boosting\n",
    "print \"RMSE for GS Gradient Boosting is:\", round(GS_GRADBOOST_RMSE_reg,4)\n",
    "print \"RMSE for GS Gradient Boosting USING LOG is:\", round(GS_GRADBOOST_RMSE_log,4)\n",
    "print \"RMSE with scaling for GS Gradient Boosting is:\", round(GS_GRADBOOST_RMSE_scale,4)\n",
    "print \"RMSE with scaling for GS Gradient Boosting USING LOG is:\", round(GS_GRADBOOST_RMSE_scalelog,4)"
   ]
  },
  {
   "cell_type": "markdown",
   "metadata": {},
   "source": [
    "### AdaBoost"
   ]
  },
  {
   "cell_type": "code",
   "execution_count": null,
   "metadata": {
    "collapsed": true
   },
   "outputs": [],
   "source": [
    "#predictions are on average 1.17 times as large as the actual value\n",
    "parameters={'learning_rate': [0.01, 0.001, 0.0001], 'loss': ['linear', 'square']}\n",
    "accuracy=make_scorer(mean_squared_error, greater_is_better=False)\n",
    "GS_ADABOOST = GridSearchCV(AdaBoostRegressor(random_state=0), parameters, cv=5,scoring=accuracy)\n",
    "GS_ADABOOST.fit(X_train, y_train)"
   ]
  },
  {
   "cell_type": "code",
   "execution_count": null,
   "metadata": {
    "collapsed": true
   },
   "outputs": [],
   "source": [
    "GS_ADABOOST.best_params_"
   ]
  },
  {
   "cell_type": "code",
   "execution_count": null,
   "metadata": {
    "collapsed": true
   },
   "outputs": [],
   "source": [
    "GS_ADABOOST_reg=AdaBoostRegressor(random_state=1, loss='linear', learning_rate=0.01)\n",
    "GS_ADABOOST_reg.fit(X_train, y_train)\n",
    "GS_ADABOOST_predict_reg=GS_ADABOOST_reg.predict(X_test)\n",
    "GS_ADABOOST_RMSE_reg=np.sqrt(np.mean((y_test-GS_ADABOOST_predict_reg)**2))\n",
    "GS_ADABOOST_RMSE_reg"
   ]
  },
  {
   "cell_type": "code",
   "execution_count": null,
   "metadata": {
    "collapsed": true
   },
   "outputs": [],
   "source": [
    "GS_ADABOOST_scale=AdaBoostRegressor(random_state=1, loss='linear', learning_rate=0.01)\n",
    "GS_ADABOOST_scale.fit(X_train_scaled, y_train)\n",
    "GS_ADABOOST_predict_scale = GS_ADABOOST_scale.predict(X_test_scaled)\n",
    "GS_ADABOOST_RMSE_scale=np.sqrt(np.mean((y_test-GS_ADABOOST_predict_scale)**2))\n",
    "GS_ADABOOST_RMSE_scale"
   ]
  },
  {
   "cell_type": "code",
   "execution_count": null,
   "metadata": {
    "collapsed": true
   },
   "outputs": [],
   "source": [
    "GS_ADABOOST_log=AdaBoostRegressor(random_state=1, loss='linear', learning_rate=0.01)\n",
    "GS_ADABOOST_log.fit(X_train, log_y_train)\n",
    "GS_ADABOOST_predict_log = GS_ADABOOST_log.predict(X_test)\n",
    "GS_ADABOOST_RMSE_log=np.sqrt(np.mean((y_test-np.exp(GS_ADABOOST_predict_log))**2))\n",
    "GS_ADABOOST_RMSE_log"
   ]
  },
  {
   "cell_type": "code",
   "execution_count": null,
   "metadata": {
    "collapsed": true
   },
   "outputs": [],
   "source": [
    "GS_ADABOOST_scalelog=AdaBoostRegressor(random_state=1, loss='linear', learning_rate=0.01)\n",
    "GS_ADABOOST_scalelog.fit(X_train_scaled, log_y_train)\n",
    "GS_ADABOOST_predict_scalelog = GS_ADABOOST_scalelog.predict(X_test_scaled)\n",
    "GS_ADABOOST_RMSE_scalelog=np.sqrt(np.mean((y_test-np.exp(GS_ADABOOST_predict_scalelog))**2))\n",
    "GS_ADABOOST_RMSE_scalelog"
   ]
  },
  {
   "cell_type": "markdown",
   "metadata": {},
   "source": [
    "### MARS"
   ]
  },
  {
   "cell_type": "code",
   "execution_count": null,
   "metadata": {
    "collapsed": true
   },
   "outputs": [],
   "source": [
    "# Best Model\n",
    "MARS_scalelog = Earth(max_degree= 3,penalty=2.0,feature_importance_type = \"rss\",\n",
    "                      smooth=True,enable_pruning=True)\n",
    "\n",
    "MARS_scalelog_fit = MARS_scalelog.fit(X_train_scaled,log_y_train)"
   ]
  },
  {
   "cell_type": "code",
   "execution_count": null,
   "metadata": {
    "collapsed": true
   },
   "outputs": [],
   "source": [
    "# Model Summary\n",
    "print MARS_scalelog_fit.summary()\n",
    "print MARS_scalelog_fit.summary_feature_importances(sort_by = 'rss')"
   ]
  },
  {
   "cell_type": "code",
   "execution_count": null,
   "metadata": {
    "collapsed": true
   },
   "outputs": [],
   "source": [
    "MARS_predict_scalelog = MARS_scalelog_fit.predict(X_test_scaled)\n",
    "\n",
    "MARS_RMSE_scalelog = np.sqrt(mean_squared_error(y_test,np.exp(MARS_predict_scalelog)))\n",
    "print \"The rmse for MARS is\", MARS_RMSE_scalelog"
   ]
  },
  {
   "cell_type": "markdown",
   "metadata": {},
   "source": [
    "## MODEL COMPARISONS"
   ]
  },
  {
   "cell_type": "code",
   "execution_count": null,
   "metadata": {
    "collapsed": true
   },
   "outputs": [],
   "source": [
    "models=['MLR','lasso','ridge','MLP','SVR','GSCV_SGDclf','MARS','REGTREE',\n",
    "        'GS_ADABOOST','GS_GRADBOOST','GS_RANDFOR']\n",
    "modelnames=['MLR','Lasso','Ridge','MLP','SVR','SGD Regression','MARS','Regression Tree',\n",
    "            'Ada Boosting','Gradient Boost','Random Forest']\n",
    "versions=['reg','log','scale','scalelog']\n",
    "versionnames=['All Predictors','Log Price','Scaled Predictors','Scaled Predictors+LogPrice']\n",
    "RMSEsummary_dict={}\n",
    "\n",
    "for model in models:\n",
    "    for version in versions:\n",
    "        try:\n",
    "            RMSE=eval(model+'_RMSE_'+version)\n",
    "        except:\n",
    "            RMSE='--'\n",
    "        if version in RMSEsummary_dict.keys():\n",
    "            RMSEsummary_dict[version].append(RMSE)\n",
    "        else:\n",
    "            RMSEsummary_dict[version]=[RMSE]\n",
    "\n",
    "\n",
    "RMSEsummary=pd.DataFrame(RMSEsummary_dict,index=modelnames)\n",
    "RMSEsummary=RMSEsummary.rename(columns=dict(zip(versions,versionnames)))\n",
    "RMSEsummary=RMSEsummary[versionnames]\n",
    "RMSEsummary"
   ]
  },
  {
   "cell_type": "code",
   "execution_count": null,
   "metadata": {
    "collapsed": true
   },
   "outputs": [],
   "source": [
    "# Best Residuals\n",
    "BMresiduals_GRADBOOST_scale=GS_GRADBOOST_residuals_scale\n",
    "BMresiduals_MARS_scalelog=y_test-np.exp(MARS_predict_scalelog)\n",
    "BMresiduals_LASSO_scalelog=lassoResiduals_scalelog\n",
    "\n",
    "# Worst Residuals\n",
    "WMresiduals_SVR_scale=y_test-SVR_predict_scale\n",
    "WMresiduals_ADABOOST_log=y_test-np.exp(GS_ADABOOST_predict_log)\n",
    "WMresiduals_SGD_reg=y_test-GSCV_SGDclf_predict_reg"
   ]
  },
  {
   "cell_type": "code",
   "execution_count": null,
   "metadata": {
    "collapsed": true
   },
   "outputs": [],
   "source": [
    "# Plot Residuals - Best Models\n",
    "fig = plt.figure(figsize=(15, 7))\n",
    "ax1 = fig.add_subplot(121)\n",
    "ax1.plot(y_test,BMresiduals_LASSO_scalelog,\"o\",label='Lasso',color='palegreen')\n",
    "ax1.plot(y_test,BMresiduals_MARS_scalelog['Residuals'],\"o\",label='MARS',color='mediumspringgreen')\n",
    "ax1.plot(y_test,BMresiduals_GRADBOOST_scale,\"o\",label='GradientBoost', color='darkgreen')\n",
    "ax1.legend(numpoints=1,loc='upper right')\n",
    "ax1.set_ylabel('Residuals ($)')\n",
    "ax1.yaxis.set_major_formatter(mtick.FuncFormatter('{:,.0f}'.format))\n",
    "ax1.set_ylim([-200000,500000])\n",
    "ax1.set_xlabel('Actual Price ($)')\n",
    "ax1.xaxis.set_major_formatter(mtick.FuncFormatter('{:,.0f}'.format))\n",
    "ax1.set_title('Residuals', fontsize=12, fontweight='bold')"
   ]
  },
  {
   "cell_type": "code",
   "execution_count": null,
   "metadata": {
    "collapsed": true
   },
   "outputs": [],
   "source": [
    "# Plot Residuals - Worst Models\n",
    "fig = plt.figure(figsize=(15, 7))\n",
    "ax2 = fig.add_subplot(121)\n",
    "ax2.plot(y_test,WMresiduals_SVR_scale,\"o\",label='SVR',color='palevioletred')\n",
    "ax2.plot(y_test,WMresiduals_SGD_reg,\"o\",label='SGD Regression',color='red')\n",
    "ax2.plot(y_test,WMresiduals_ADABOOST_log,\"o\",label='AdaBoost', color='darkred')\n",
    "ax2.legend(numpoints=1,loc='upper left')\n",
    "ax2.set_ylabel('Residuals ($)')\n",
    "ax2.yaxis.set_major_formatter(mtick.FuncFormatter('{:,.0f}'.format))\n",
    "ax2.set_xlabel('Actual Price ($)')\n",
    "ax2.xaxis.set_major_formatter(mtick.FuncFormatter('{:,.0f}'.format))\n",
    "ax2.set_title('Residuals', fontsize=12, fontweight='bold')"
   ]
  },
  {
   "cell_type": "markdown",
   "metadata": {
    "collapsed": true
   },
   "source": [
    "## CLUSTERING"
   ]
  },
  {
   "cell_type": "code",
   "execution_count": null,
   "metadata": {
    "collapsed": true
   },
   "outputs": [],
   "source": [
    "# Consolidate train data for clustering purposes\n",
    "X_train_cluster = X_train.copy()\n",
    "train_data_cluster = X_train_cluster.copy()\n",
    "train_data_cluster['SalePrice'] = y_train\n",
    "# Consolidate train data for graphing purposes\n",
    "train_data = train_data_cluster.copy()\n",
    "# train_data['Id'] = X_train['Id']"
   ]
  },
  {
   "cell_type": "code",
   "execution_count": null,
   "metadata": {
    "collapsed": false
   },
   "outputs": [],
   "source": [
    "# Fit model with 5 clusters\n",
    "KMmodel_5 = KMeans(n_clusters=5, random_state=1)\n",
    "KMfit_5 = KMmodel_5.fit(train_data_cluster)"
   ]
  },
  {
   "cell_type": "code",
   "execution_count": null,
   "metadata": {
    "collapsed": true
   },
   "outputs": [],
   "source": [
    "# Fit model with 5 clusters on X variables\n",
    "KMmodel_5x = KMeans(n_clusters=5, random_state=1)\n",
    "KMfit_5x = KMmodel_5x.fit(X_train_cluster)"
   ]
  },
  {
   "cell_type": "code",
   "execution_count": null,
   "metadata": {
    "collapsed": false
   },
   "outputs": [],
   "source": [
    "# Check for delineation across home prices purely based on cluster when price is included\n",
    "scatter(train_data.index,train_data['SalePrice'],c=KMfit_5.labels_, cmap='ocean')\n"
   ]
  },
  {
   "cell_type": "code",
   "execution_count": null,
   "metadata": {
    "collapsed": false
   },
   "outputs": [],
   "source": [
    "# Check for delineation across home prices purely based on cluster when price is excluded\n",
    "scatter(train_data.index,train_data['SalePrice'],c=KMfit_5x.labels_, cmap='ocean')"
   ]
  },
  {
   "cell_type": "code",
   "execution_count": null,
   "metadata": {
    "collapsed": false
   },
   "outputs": [],
   "source": [
    "# Compare labels\n",
    "scatter(KMfit_5x.labels_,KMfit_5.labels_)"
   ]
  },
  {
   "cell_type": "code",
   "execution_count": null,
   "metadata": {
    "collapsed": true
   },
   "outputs": [],
   "source": [
    "# Get correlation of each column with both labels\n",
    "correlation_dict={}\n",
    "for column in train_data.columns.values:\n",
    "    xcor=corrcoef(train_data[column],KMfit_5x.labels_)[0][1]\n",
    "    totcor=corrcoef(train_data[column],KMfit_5.labels_)[0][1]\n",
    "    correlation_dict[column]=[xcor,totcor]"
   ]
  },
  {
   "cell_type": "code",
   "execution_count": null,
   "metadata": {
    "collapsed": false
   },
   "outputs": [],
   "source": [
    "# Put correlations into a dataframe\n",
    "col1=correlation_dict.keys()\n",
    "col2=[val[0] for val in correlation_dict.values()]\n",
    "col3=[val[1] for val in correlation_dict.values()]\n",
    "correlation_df=pd.DataFrame({'1_Column':col1,'2_X Corr':col2,'3_All Corr':col3})\n",
    "correlation_df.head()"
   ]
  },
  {
   "cell_type": "code",
   "execution_count": null,
   "metadata": {
    "collapsed": false
   },
   "outputs": [],
   "source": [
    "# View 'best predictors' through sale price for correlation using all variables\n",
    "bestpredictor_df=correlation_df.sort_values('3_All Corr',ascending=False).copy()\n",
    "bestpredictor_df=bestpredictor_df.reset_index()\n",
    "bestpredictor_df=bestpredictor_df.drop('index',1)\n",
    "# All predictors up through saleprice\n",
    "bestpredictor_df[:27]"
   ]
  },
  {
   "cell_type": "code",
   "execution_count": null,
   "metadata": {
    "collapsed": false
   },
   "outputs": [],
   "source": [
    "# Create new X matrix with just these columns\n",
    "X_cluster = X_train.ix[:,:1].copy()\n",
    "for colname in bestpredictor_df['1_Column'][:26]:\n",
    "    X_cluster[colname]=X_train[colname]\n",
    "X_cluster=X_cluster.drop('Id',1)\n",
    "X_cluster.head()"
   ]
  },
  {
   "cell_type": "code",
   "execution_count": null,
   "metadata": {
    "collapsed": true
   },
   "outputs": [],
   "source": [
    "# Fit model with 5 clusters on X cluster data\n",
    "KMmodel_5xc = KMeans(n_clusters=5, random_state=1)\n",
    "KMfit_5xc = KMmodel_5xc.fit(X_cluster)"
   ]
  },
  {
   "cell_type": "code",
   "execution_count": null,
   "metadata": {
    "collapsed": true
   },
   "outputs": [],
   "source": [
    "# Prepare cluster data for graphing\n",
    "cluster_data=X_cluster.copy()\n",
    "cluster_data['Id']=X_train['Id']\n",
    "cluster_data['SalePrice']=y_train"
   ]
  },
  {
   "cell_type": "code",
   "execution_count": null,
   "metadata": {
    "collapsed": false
   },
   "outputs": [],
   "source": [
    "# Check for delineation across home prices purely based on cluster using cluster data when price is excluded\n",
    "scatter(cluster_data['Id'],cluster_data['SalePrice'],c=KMfit_5xc.labels_, cmap='ocean')"
   ]
  },
  {
   "cell_type": "code",
   "execution_count": null,
   "metadata": {
    "collapsed": true
   },
   "outputs": [],
   "source": [
    "# Get top and bottom indicators for each cluster\n",
    "# where 'top' is biggest number (i.e., largest and/or most postive)\n",
    "# and 'bottome' is smallest number (i.e., smallest and/or most negative)\n",
    "keyindicators_dict={}\n",
    "centercounter=0\n",
    "for center in KMfit_5.cluster_centers_:\n",
    "    label=list(set(KMfit_5.labels_))[centercounter]\n",
    "    top5indices=np.argpartition(center,-5)[-5:]\n",
    "    top5=list(train_data.columns.values[top5indices])\n",
    "    top10indices=np.argpartition(center,-10)[-10:]\n",
    "    top10=list(train_data.columns.values[top10indices])\n",
    "    bottom5indices=np.argpartition(center,5)[:5]\n",
    "    bottom5=list(train_data.columns.values[bottom5indices])\n",
    "    bottom10indices=np.argpartition(center,10)[:10]\n",
    "    bottom10=list(train_data.columns.values[bottom10indices])\n",
    "    keyindicators_dict[label]=[top5,top10,bottom5,bottom10]\n",
    "    centercounter+=1"
   ]
  },
  {
   "cell_type": "code",
   "execution_count": null,
   "metadata": {
    "collapsed": false
   },
   "outputs": [],
   "source": [
    "# Get all indicators in top10s\n",
    "top10lists=[val[1] for val in keyindicators_dict.values()]\n",
    "uniquetop10=list(set([j for i in top10lists for j in i]))\n",
    "uniquetop10"
   ]
  },
  {
   "cell_type": "code",
   "execution_count": null,
   "metadata": {
    "collapsed": false
   },
   "outputs": [],
   "source": [
    "# Get all indicators in bottom10s\n",
    "bottom10lists=[val[3] for val in keyindicators_dict.values()]\n",
    "uniquebottom10=list(set([j for i in bottom10lists for j in i]))\n",
    "uniquebottom10"
   ]
  },
  {
   "cell_type": "code",
   "execution_count": null,
   "metadata": {
    "collapsed": false
   },
   "outputs": [],
   "source": [
    "# Design matrix of top10\n",
    "X_top10 = X_train.ix[:,:1].copy()\n",
    "for colname in uniquetop10:\n",
    "    try:\n",
    "        X_top10[colname]=X_train[colname]\n",
    "    except:\n",
    "        pass # SalePrice\n",
    "X_top10=X_top10.drop('Id',1)\n",
    "X_top10.head()"
   ]
  },
  {
   "cell_type": "code",
   "execution_count": null,
   "metadata": {
    "collapsed": true
   },
   "outputs": [],
   "source": [
    "# Fit model with 5 clusters on top10\n",
    "KMmodel_5xt10 = KMeans(n_clusters=5, random_state=1)\n",
    "KMfit_5xt10 = KMmodel_5xt10.fit(X_top10)"
   ]
  },
  {
   "cell_type": "code",
   "execution_count": null,
   "metadata": {
    "collapsed": true
   },
   "outputs": [],
   "source": [
    "# Prepare cluster data for graphing\n",
    "top10_data=X_top10.copy()\n",
    "top10_data['Id']=X_train['Id']\n",
    "top10_data['SalePrice']=y_train"
   ]
  },
  {
   "cell_type": "code",
   "execution_count": null,
   "metadata": {
    "collapsed": false
   },
   "outputs": [],
   "source": [
    "# Check for delineation across home prices purely based on cluster using cluster data when price is excluded\n",
    "scatter(top10_data['Id'],top10_data['SalePrice'],c=KMfit_5xt10.labels_, cmap='ocean')"
   ]
  },
  {
   "cell_type": "code",
   "execution_count": null,
   "metadata": {
    "collapsed": false
   },
   "outputs": [],
   "source": [
    "# Let's run models just to test...need test data first\n",
    "X_top10_test = X_test.ix[:,:1].copy()\n",
    "for colname in uniquetop10:\n",
    "    try:\n",
    "        X_top10_test[colname]=X_test[colname]\n",
    "    except:\n",
    "        pass # SalePrice\n",
    "X_top10_test=X_top10_test.drop('Id',1)\n",
    "X_top10_test.head()"
   ]
  },
  {
   "cell_type": "code",
   "execution_count": null,
   "metadata": {
    "collapsed": true
   },
   "outputs": [],
   "source": [
    "# Fit model with 5 clusters on top10 for test data\n",
    "KMmodel_5xt10test = KMeans(n_clusters=5, random_state=1)\n",
    "KMfit_5xt10test = KMmodel_5xt10test.fit(X_top10_test)"
   ]
  },
  {
   "cell_type": "code",
   "execution_count": null,
   "metadata": {
    "collapsed": true
   },
   "outputs": [],
   "source": [
    "X_top10['Cluster']=KMfit_5xt10.labels_\n",
    "X_top10_test['Cluster']=KMfit_5xt10test.labels_"
   ]
  },
  {
   "cell_type": "code",
   "execution_count": null,
   "metadata": {
    "collapsed": false
   },
   "outputs": [],
   "source": [
    "# Run models\n",
    "#Linear Regression\n",
    "MLR =LinearRegression()\n",
    "model_MLR = MLR.fit(X_top10,y_train)\n",
    "MLR_predict = model_MLR.predict(X_top10_test)\n",
    "MLR_RMSE= sqrt(mean_squared_error(y_test, MLR_predict))\n",
    "print \"MLR RMSE:\",MLR_RMSE\n",
    "\n",
    "#get best λ with LassoCV\n",
    "lasso_cv = LassoCV(alphas=None, cv=10, max_iter=10000)\n",
    "model_cv = lasso_cv.fit(X_top10,ravel(y_train))\n",
    "print \"Lasso CV best λ:\",model_cv.alpha_\n",
    "\n",
    "#Lasso\n",
    "lasso= Lasso(alpha=model_cv.alpha_)\n",
    "model_lasso= lasso.fit(X_top10,y_train)\n",
    "lasso_predict= model_lasso.predict(X_top10_test)\n",
    "lasso_RMSE= sqrt(mean_squared_error(y_test, lasso_predict))\n",
    "print \"Lasso RMSE:\",lasso_RMSE\n",
    "\n",
    "#get best λ with RidgeCV\n",
    "ridge_cv = RidgeCV(cv=10)\n",
    "ridge_model_cv = ridge_cv.fit(X_top10,ravel(y_train))\n",
    "print \"Ridge CV best λ:\",ridge_model_cv.alpha_\n",
    "\n",
    "#Ridge\n",
    "ridge= Ridge(alpha=ridge_model_cv.alpha_)\n",
    "model_ridge= ridge.fit(X_top10,y_train)\n",
    "ridge_predict= model_ridge.predict(X_top10_test)\n",
    "ridge_RMSE= sqrt(mean_squared_error(y_test, ridge_predict))\n",
    "print \"Ridge RMSE:\",ridge_RMSE"
   ]
  },
  {
   "cell_type": "code",
   "execution_count": null,
   "metadata": {
    "collapsed": false
   },
   "outputs": [],
   "source": [
    "# Not great...\n",
    "# But let's see if the errors are in different places...\n",
    "\n",
    "MLRresiduals = y_test - MLR_predict\n",
    "lassoResiduals = y_test - lasso_predict\n",
    "ridgeResiduals = y_test - ridge_predict\n",
    "\n",
    "# Plot\n",
    "fig = plt.figure(figsize=(15, 7))\n",
    "\n",
    "# Predicted vs. Actual\n",
    "ax1 = fig.add_subplot(121)\n",
    "ax1.plot(y_test,MLR_predict,\"o\",label='MLR', color='darkblue')\n",
    "ax1.plot(y_test,lasso_predict,\"o\",label='Lasso',color='blue')\n",
    "ax1.plot(y_test,ridge_predict,\"o\",label='Ridge',color='lightblue')\n",
    "ax1.legend(numpoints=1,loc='upper left')\n",
    "ax1.set_ylabel('Predicted Price ($)')\n",
    "ax1.yaxis.set_major_formatter(mtick.FuncFormatter('{:,.0f}'.format))\n",
    "ax1.set_xlabel('Actual Price ($)')\n",
    "ax1.xaxis.set_major_formatter(mtick.FuncFormatter('{:,.0f}'.format))\n",
    "ax1.set_title('Predicted vs. Actual Price', fontsize=12, fontweight='bold')\n",
    "\n",
    "# Residuals\n",
    "ax2 = fig.add_subplot(122)\n",
    "ax2.plot(y_test,MLRresiduals,\"o\",label='MLR',color='darkblue')\n",
    "ax2.plot(y_test,lassoResiduals,\"o\",label='Lasso',color='blue')\n",
    "ax2.plot(y_test,ridgeResiduals,\"o\",label='Ridge',color='lightblue')\n",
    "ax2.legend(numpoints=1,loc='upper left')\n",
    "ax2.set_ylabel('Residuals ($)')\n",
    "ax2.yaxis.set_major_formatter(mtick.FuncFormatter('{:,.0f}'.format))\n",
    "ax2.set_xlabel('Actual Price ($)')\n",
    "ax2.xaxis.set_major_formatter(mtick.FuncFormatter('{:,.0f}'.format))\n",
    "ax2.set_title('Residuals', fontsize=12, fontweight='bold')\n",
    "\n",
    "fig.subplots_adjust(wspace=.3)\n",
    "plt.show()"
   ]
  },
  {
   "cell_type": "code",
   "execution_count": null,
   "metadata": {
    "collapsed": false
   },
   "outputs": [],
   "source": [
    "Counter(list(KMfit_5x.labels_))"
   ]
  },
  {
   "cell_type": "code",
   "execution_count": null,
   "metadata": {
    "collapsed": false
   },
   "outputs": [],
   "source": [
    "#cross-validating to find best number of clusters\n",
    "k_range = range(1,14)\n",
    "k_means_var = [KMeans(n_clusters=k).fit(X_train_cluster) for k in k_range]\n",
    "centroids = [c.cluster_centers_ for c in k_means_var]\n",
    "euclid = [cdist(X_train_cluster,cent,'euclidean') for cent in centroids]\n",
    "dist = [np.min(ke,axis=1) for ke in euclid]\n",
    "\n",
    "#within cluster ss\n",
    "wcss = [sum(d**2) for d in dist]\n",
    "\n",
    "#total cluster ss\n",
    "tss = sum(pdist(X_train_cluster)**2)/X_train_cluster.shape[0]\n",
    "\n",
    "#between cluster ss\n",
    "bss = tss - wcss\n",
    "\n",
    "#elbow curve to identify best k (number of clusters)\n",
    "plt.plot(bss)\n",
    "plt.xlabel('k number of clusters')\n",
    "plt.ylabel('Between Cluster Sum of Squares')\n"
   ]
  },
  {
   "cell_type": "code",
   "execution_count": null,
   "metadata": {
    "collapsed": false
   },
   "outputs": [],
   "source": [
    "# Fit model with 5 clusters on X variables\n",
    "KMmodel_4x = KMeans(n_clusters=4, random_state=1)\n",
    "KModel_fit= KMmodel_4x.fit_predict(X_train_cluster)\n",
    "scatter(train_data.index,train_data['SalePrice'],c=KModel_fit, cmap='ocean')\n"
   ]
  },
  {
   "cell_type": "code",
   "execution_count": null,
   "metadata": {
    "collapsed": false
   },
   "outputs": [],
   "source": [
    "Counter(list(KModel_fit))\n",
    "# len(X_train_cluster)"
   ]
  },
  {
   "cell_type": "code",
   "execution_count": null,
   "metadata": {
    "collapsed": false
   },
   "outputs": [],
   "source": [
    "X_train_cluster= X_train_cluster.reset_index(drop=True)\n",
    "X_train_cluster['cluster'] = pd.Series(KModel_fit)"
   ]
  },
  {
   "cell_type": "code",
   "execution_count": null,
   "metadata": {
    "collapsed": false
   },
   "outputs": [],
   "source": [
    "X_test_cluster = X_test.copy()\n",
    "X_test_cluster= X_test_cluster.reset_index(drop=True)\n",
    "KMmodel_4x_pred = KMmodel_4x.predict(X_test_cluster)\n",
    "X_test_cluster['cluster'] = pd.Series(KMmodel_4x_pred)"
   ]
  },
  {
   "cell_type": "code",
   "execution_count": null,
   "metadata": {
    "collapsed": false
   },
   "outputs": [],
   "source": [
    "pd.Series(KMmodel_4x_pred).value_counts()"
   ]
  },
  {
   "cell_type": "code",
   "execution_count": null,
   "metadata": {
    "collapsed": false
   },
   "outputs": [],
   "source": [
    "# Run models\n",
    "#Linear Regression\n",
    "MLR =LinearRegression()\n",
    "model_MLR = MLR.fit(X_train_cluster,y_train)\n",
    "MLR_predict = model_MLR.predict(X_test_cluster)\n",
    "MLR_RMSE= sqrt(mean_squared_error(y_test, MLR_predict))\n",
    "print \"MLR RMSE:\",MLR_RMSE\n",
    "\n",
    "#get best λ with LassoCV\n",
    "lasso_cv = LassoCV(alphas=None, cv=10, max_iter=10000)\n",
    "model_cv = lasso_cv.fit(X_train_cluster,ravel(y_train))\n",
    "print \"Lasso CV best λ:\",model_cv.alpha_\n",
    "lasso_predict= model_cv.predict(X_test_cluster)\n",
    "lasso_RMSE= sqrt(mean_squared_error(y_test, lasso_predict))\n",
    "print \"Lasso RMSE:\",lasso_RMSE\n",
    "\n",
    "#get best λ with RidgeCV\n",
    "ridge_cv = RidgeCV(cv=10)\n",
    "ridge_model_cv = ridge_cv.fit(X_train_cluster,ravel(y_train))\n",
    "print \"Ridge CV best λ:\",ridge_model_cv.alpha_\n",
    "ridge_predict= ridge_model_cv.predict(X_test_cluster)\n",
    "ridge_RMSE= sqrt(mean_squared_error(y_test, ridge_predict))\n",
    "print \"Ridge RMSE:\",ridge_RMSE"
   ]
  },
  {
   "cell_type": "code",
   "execution_count": null,
   "metadata": {
    "collapsed": true
   },
   "outputs": [],
   "source": []
  }
 ],
 "metadata": {
  "anaconda-cloud": {},
  "kernelspec": {
   "display_name": "Python [Root]",
   "language": "python",
   "name": "Python [Root]"
  },
  "language_info": {
   "codemirror_mode": {
    "name": "ipython",
    "version": 2
   },
   "file_extension": ".py",
   "mimetype": "text/x-python",
   "name": "python",
   "nbconvert_exporter": "python",
   "pygments_lexer": "ipython2",
   "version": "2.7.12"
  }
 },
 "nbformat": 4,
 "nbformat_minor": 0
}
