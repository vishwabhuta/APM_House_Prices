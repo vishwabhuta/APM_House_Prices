{
 "cells": [
  {
   "cell_type": "markdown",
   "metadata": {},
   "source": [
    "# APM Project"
   ]
  },
  {
   "cell_type": "code",
   "execution_count": 33,
   "metadata": {
    "collapsed": false
   },
   "outputs": [
    {
     "name": "stdout",
     "output_type": "stream",
     "text": [
      "Populating the interactive namespace from numpy and matplotlib\n"
     ]
    },
    {
     "name": "stderr",
     "output_type": "stream",
     "text": [
      "WARNING: pylab import has clobbered these variables: ['log', 'exp']\n",
      "`%matplotlib` prevents importing * from pylab and numpy\n"
     ]
    }
   ],
   "source": [
    "#Import Statements\n",
    "\n",
    "#basic\n",
    "import pandas as pd\n",
    "import numpy as np\n",
    "from math import log,exp\n",
    "import math\n",
    "\n",
    "#visualization\n",
    "import matplotlib.pyplot as plt\n",
    "import matplotlib.ticker as mtick\n",
    "import seaborn\n",
    "\n",
    "% pylab inline\n",
    "\n",
    "#sklearn\n",
    "from sklearn import model_selection\n",
    "from sklearn.cluster import KMeans\n",
    "from sklearn.ensemble import (RandomForestRegressor, GradientBoostingRegressor, AdaBoostRegressor)\n",
    "from sklearn.grid_search import GridSearchCV\n",
    "from sklearn.linear_model import LinearRegression\n",
    "from sklearn.linear_model import LogisticRegression\n",
    "from sklearn.linear_model import Lasso\n",
    "from sklearn.linear_model import LassoCV\n",
    "from sklearn.linear_model import Ridge\n",
    "from sklearn.linear_model import RidgeCV\n",
    "from sklearn.linear_model import SGDRegressor\n",
    "from sklearn.metrics import (mean_squared_error, confusion_matrix,accuracy_score, make_scorer)\n",
    "from sklearn.model_selection import train_test_split\n",
    "from sklearn.neural_network import MLPRegressor\n",
    "from sklearn.preprocessing import StandardScaler\n",
    "from sklearn.svm import SVR\n",
    "from sklearn.tree import DecisionTreeClassifier, DecisionTreeRegressor\n",
    "from sklearn.model_selection import KFold\n",
    "\n",
    "#MARS\n",
    "import pyearth\n",
    "from pyearth import Earth\n",
    "\n",
    "#other stats & clustering\n",
    "from scipy import stats\n",
    "from patsy import dmatrices\n",
    "from collections import Counter\n",
    "from scipy.spatial.distance import cdist,pdist\n"
   ]
  },
  {
   "cell_type": "markdown",
   "metadata": {},
   "source": [
    "## DATA PRE-PROCESSING"
   ]
  },
  {
   "cell_type": "code",
   "execution_count": 10,
   "metadata": {
    "collapsed": true
   },
   "outputs": [],
   "source": [
    "def preprocess(df):\n",
    "    \n",
    "    # Feature engineering for categorical variables captured as numbers\n",
    "    # Turn MSSubClass into factors\n",
    "    code = ['20', '30', '40', '45', '50', '60', '70', '75', '80', '85', '90', '120', '150', '160', '180', '190']\n",
    "    strings = ['1-STORY 1946 & NEWER ALL STYLES', '1-STORY 1945 & OLDER', '1-STORY W/FINISHED ATTIC ALL AGES', '1-1/2 STORY - UNFINISHED ALL AGES',\\\n",
    "     '1-1/2 STORY FINISHED ALL AGES', '2-STORY 1946 & NEWER', '2-STORY 1945 & OLDER', '2-1/2 STORY ALL AGES', \\\n",
    "     'SPLIT OR MULTI-LEVEL', 'SPLIT FOYER', 'DUPLEX - ALL STYLES AND AGES', '1-STORY PUD (Planned Unit Development) - 1946 & NEWER',\\\n",
    "     '1-1/2 STORY PUD - ALL AGES', '2-STORY PUD - 1946 & NEWER', 'PUD - MULTILEVEL - INCL SPLIT LEV/FOYER', \\\n",
    "     '2 FAMILY CONVERSION - ALL STYLES AND AGES']\n",
    "\n",
    "    MSSubClass=dict(zip(code,strings))\n",
    "    df['MSSubClass']=[MSSubClass[str(val)] for val in df['MSSubClass']]\n",
    "\n",
    "    # Turn month sold into factors\n",
    "    months = ['Jan','Feb','Mar','Apr','May','Jun','Jul','Aug','Sept','Oct','Nov','Dec']\n",
    "    df['MoSold'] = df['MoSold'].replace(to_replace = df['MoSold'].value_counts().index.sort_values(),value=months)\n",
    "    \n",
    "    # Feature engineering for age-related variables\n",
    "    # Convert yearsold vs yearbuilt into age of house\n",
    "    df['Age'] =  df['YrSold'] - df['YearBuilt']\n",
    "    df = df.drop('YearBuilt', 1)\n",
    "    # Convert yearsold vs. yearreomdadd into age of remodel. Adding 2 to eliminate any negative or 0 values\n",
    "    df['AgeRem'] = (df['YrSold'] - df['YearRemodAdd'])+2\n",
    "    df = df.drop('YearRemodAdd', 1)\n",
    "    # Remove age of garage - many missing values (if no garage)\n",
    "    #  no additional valuable information (garage captured in other variables); age of house more important for age\n",
    "    df = df.drop('GarageYrBlt', 1)\n",
    "    df = df.drop('Id',1)\n",
    "    \n",
    "    # Fill select variables with most common / mode where logical\n",
    "    # Most masonry veneer type is None and area is 0\n",
    "    df['MasVnrType'] = df['MasVnrType'].fillna('None')\n",
    "    df['MasVnrArea'] = df['MasVnrArea'].fillna(0.0)\n",
    "    # Most electrical is 'SBrkr'\n",
    "    df['Electrical'] = df['Electrical'].fillna('SBrkr')\n",
    "    df['LotFrontage'] = df['LotFrontage'].fillna(mean(df['LotFrontage']))\n",
    "    \n",
    "    return df"
   ]
  },
  {
   "cell_type": "code",
   "execution_count": 11,
   "metadata": {
    "collapsed": true
   },
   "outputs": [],
   "source": [
    "def get_dummies(X_df):\n",
    "    # Dummify X data\n",
    "    X_dummy = pd.get_dummies(X_df,dummy_na=True)\n",
    "    return X_dummy"
   ]
  },
  {
   "cell_type": "code",
   "execution_count": 12,
   "metadata": {
    "collapsed": true
   },
   "outputs": [],
   "source": [
    "def level_cat(df_train,df_comp):\n",
    "    traincols = list(df_train.columns.values)\n",
    "    testcols = list(df_comp.columns.values)\n",
    "    \n",
    "    # Align train data columns to competition data columns\n",
    "    missingcols1 = list(set(testcols)-set(traincols))\n",
    "    for col in missingcols1:\n",
    "        df_train[col] = 0.0\n",
    "\n",
    "    # Align test data columns to competition data columns\n",
    "    missingcols = list(set(traincols)-set(testcols))\n",
    "    for col in missingcols:\n",
    "        df_comp[col] = 0.0\n",
    "    df_comp = df_comp[traincols+missingcols1]\n",
    "    \n",
    "    return df_train,df_comp"
   ]
  },
  {
   "cell_type": "code",
   "execution_count": 13,
   "metadata": {
    "collapsed": false
   },
   "outputs": [],
   "source": [
    "housedata = preprocess(pd.read_csv('train.csv'))\n",
    "# Split into X and y\n",
    "y = housedata['SalePrice']\n",
    "X = housedata.drop('SalePrice', 1)\n",
    "\n",
    "#preprocess and dummify competition\n",
    "X = get_dummies(X)\n",
    "competition = preprocess(pd.read_csv('test.csv'))\n",
    "X_comp = get_dummies(competition)\n",
    "\n",
    "X,X_comp = level_cat(X,X_comp)"
   ]
  },
  {
   "cell_type": "code",
   "execution_count": 15,
   "metadata": {
    "collapsed": false
   },
   "outputs": [],
   "source": [
    "X_train, X_test, y_train, y_test = train_test_split(X,y,test_size = 0.33, random_state=1)"
   ]
  },
  {
   "cell_type": "markdown",
   "metadata": {},
   "source": [
    "## MODELING"
   ]
  },
  {
   "cell_type": "markdown",
   "metadata": {},
   "source": [
    "### Initital Model Exploration (MLR, Lasso, Ridge, MLP)"
   ]
  },
  {
   "cell_type": "code",
   "execution_count": 108,
   "metadata": {
    "collapsed": false
   },
   "outputs": [
    {
     "name": "stdout",
     "output_type": "stream",
     "text": [
      "MLR RMSE: 35113.8209278\n",
      "Lasso CV best λ: 224475.036998\n",
      "Lasso RMSE: 39996.0347001\n",
      "Ridge CV best λ: 10.0\n",
      "Ridge RMSE: 29851.4865885\n"
     ]
    }
   ],
   "source": [
    "# Run models\n",
    "#Linear Regression\n",
    "MLR =LinearRegression()\n",
    "model_MLR = MLR.fit(X_train,y_train)\n",
    "MLR_predict_reg = model_MLR.predict(X_test)\n",
    "MLR_RMSE_reg= sqrt(mean_squared_error(y_test, MLR_predict_reg))\n",
    "print \"MLR RMSE:\",MLR_RMSE_reg\n",
    "\n",
    "#get best λ with LassoCV\n",
    "lasso_cv = LassoCV(alphas=None, cv=10, max_iter=10000)\n",
    "model_cv = lasso_cv.fit(X_train,ravel(y_train))\n",
    "print \"Lasso CV best λ:\",model_cv.alpha_\n",
    "lasso_predict_reg= model_cv.predict(X_test)\n",
    "lasso_RMSE_reg= sqrt(mean_squared_error(y_test, lasso_predict_reg))\n",
    "print \"Lasso RMSE:\",lasso_RMSE_reg\n",
    "\n",
    "#get best λ with RidgeCV\n",
    "ridge_cv = RidgeCV(alphas=[0.1,1.0,10.0,100.0,1000.0,10000.0],cv=10)\n",
    "ridge_model_cv = ridge_cv.fit(X_train,ravel(y_train))\n",
    "print \"Ridge CV best λ:\",ridge_model_cv.alpha_\n",
    "ridge_predict_reg= ridge_model_cv.predict(X_test)\n",
    "ridge_RMSE_reg= sqrt(mean_squared_error(y_test, ridge_predict_reg))\n",
    "print \"Ridge RMSE:\",ridge_RMSE_reg"
   ]
  },
  {
   "cell_type": "code",
   "execution_count": 9,
   "metadata": {
    "collapsed": false
   },
   "outputs": [
    {
     "name": "stdout",
     "output_type": "stream",
     "text": [
      "LotArea 0.589341416401\n",
      "OverallQual 9305.70389411\n",
      "OverallCond 4784.39704102\n",
      "MasVnrArea 18.9555569032\n",
      "BsmtFinSF1 -1.85526256781\n",
      "BsmtFinSF2 6.02321817951\n",
      "BsmtUnfSF -4.26339753039\n",
      "TotalBsmtSF -0.0954417914499\n",
      "1stFlrSF 10.9895250157\n",
      "2ndFlrSF 18.4462807354\n",
      "LowQualFinSF -2.20389026526\n",
      "GrLivArea 27.2319157005\n",
      "BsmtFullBath 4382.43074091\n",
      "BsmtHalfBath 1161.7065617\n",
      "FullBath 8148.88422676\n",
      "HalfBath 3253.69672727\n",
      "BedroomAbvGr -1230.88649242\n",
      "KitchenAbvGr -8143.71921484\n",
      "TotRmsAbvGrd 3699.47883377\n",
      "Fireplaces 6620.25369817\n",
      "GarageCars 15179.0543416\n",
      "GarageArea -3.5812222896\n",
      "WoodDeckSF 23.5303435392\n",
      "OpenPorchSF 7.45358876436\n",
      "EnclosedPorch 23.5614368658\n",
      "3SsnPorch 40.760358689\n",
      "ScreenPorch 40.4951431512\n",
      "PoolArea -55.1806552311\n",
      "MiscVal 0.0510812804803\n",
      "YrSold -450.397877125\n",
      "Age -126.494003369\n",
      "AgeRem -18.2158372439\n",
      "MSSubClass_1-1/2 STORY - UNFINISHED ALL AGES 1413.46242151\n",
      "MSSubClass_1-1/2 STORY FINISHED ALL AGES 1083.17969603\n",
      "MSSubClass_1-STORY 1945 & OLDER 180.803750302\n",
      "MSSubClass_1-STORY 1946 & NEWER ALL STYLES 5094.72281538\n",
      "MSSubClass_1-STORY PUD (Planned Unit Development) - 1946 & NEWER -4522.99887761\n",
      "MSSubClass_1-STORY W/FINISHED ATTIC ALL AGES 300.399948939\n",
      "MSSubClass_2 FAMILY CONVERSION - ALL STYLES AND AGES 86.9081926413\n",
      "MSSubClass_2-1/2 STORY ALL AGES 4916.1535441\n",
      "MSSubClass_2-STORY 1945 & OLDER -387.637803029\n",
      "MSSubClass_2-STORY 1946 & NEWER -2664.27778519\n",
      "MSSubClass_2-STORY PUD - 1946 & NEWER -5951.33001329\n",
      "MSSubClass_DUPLEX - ALL STYLES AND AGES -1203.08475753\n",
      "MSSubClass_PUD - MULTILEVEL - INCL SPLIT LEV/FOYER -703.27440212\n",
      "MSSubClass_SPLIT FOYER -992.244891571\n",
      "MSSubClass_SPLIT OR MULTI-LEVEL 3349.21816144\n",
      "MSZoning_C (all) -6706.34727431\n",
      "MSZoning_FV 4389.19881721\n",
      "MSZoning_RH 2874.84442979\n",
      "MSZoning_RL 2798.97118465\n",
      "MSZoning_RM -3356.66715734\n",
      "Street_Grvl 1575.18951754\n",
      "Street_Pave -1575.18951754\n",
      "Alley_Grvl -872.547222168\n",
      "Alley_Pave 2155.68992132\n",
      "Alley_nan -1283.14269915\n",
      "LotShape_IR1 1805.57216084\n",
      "LotShape_IR2 8123.34262132\n",
      "LotShape_IR3 -11766.7491108\n",
      "LotShape_Reg 1837.83432867\n",
      "LandContour_Bnk -11782.706829\n",
      "LandContour_HLS 12258.0404969\n",
      "LandContour_Low -7941.49133508\n",
      "LandContour_Lvl 7466.15766714\n",
      "Utilities_AllPub 3960.73244117\n",
      "Utilities_NoSeWa -3960.73244117\n",
      "LotConfig_Corner 1818.80791265\n",
      "LotConfig_CulDSac 6391.54535566\n",
      "LotConfig_FR2 -4846.37221261\n",
      "LotConfig_FR3 -2942.78373549\n",
      "LotConfig_Inside -421.197320212\n",
      "LandSlope_Gtl -909.421580179\n",
      "LandSlope_Mod 8321.7837069\n",
      "LandSlope_Sev -7412.36212672\n",
      "Neighborhood_Blmngtn -998.969088977\n",
      "Neighborhood_Blueste -1123.78711605\n",
      "Neighborhood_BrDale 1411.459672\n",
      "Neighborhood_BrkSide 3700.83874082\n",
      "Neighborhood_ClearCr -3815.77594825\n",
      "Neighborhood_CollgCr -5017.76000251\n",
      "Neighborhood_Crawfor 13918.406901\n",
      "Neighborhood_Edwards -16754.6469509\n",
      "Neighborhood_Gilbert -11201.4198903\n",
      "Neighborhood_IDOTRR -2229.92433664\n",
      "Neighborhood_MeadowV -1490.32994836\n",
      "Neighborhood_Mitchel -10494.4263823\n",
      "Neighborhood_NAmes -10267.9746768\n",
      "Neighborhood_NPkVill -325.844033363\n",
      "Neighborhood_NWAmes -6566.02371081\n",
      "Neighborhood_NoRidge 20705.2889231\n",
      "Neighborhood_NridgHt 22375.2870978\n",
      "Neighborhood_OldTown -7581.78459832\n",
      "Neighborhood_SWISU -4666.13459757\n",
      "Neighborhood_Sawyer -6214.40830146\n",
      "Neighborhood_SawyerW -569.630342629\n",
      "Neighborhood_Somerst -113.752398862\n",
      "Neighborhood_StoneBr 32286.41493\n",
      "Neighborhood_Timber -5491.85942978\n",
      "Neighborhood_Veenker 526.755489095\n",
      "Condition1_Artery 1098.9519731\n",
      "Condition1_Feedr -4767.08418108\n",
      "Condition1_Norm 10457.3176754\n",
      "Condition1_PosA 3085.47614138\n",
      "Condition1_PosN -8414.90516057\n",
      "Condition1_RRAe -5455.07920514\n",
      "Condition1_RRAn 3906.46978957\n",
      "Condition1_RRNe -810.273206948\n",
      "Condition1_RRNn 899.126174283\n",
      "Condition2_Artery 3409.38407868\n",
      "Condition2_Feedr 1460.6474007\n",
      "Condition2_Norm 12515.621834\n",
      "Condition2_PosA 3447.32268909\n",
      "Condition2_PosN -23569.2932546\n",
      "Condition2_RRAe -275.630433652\n",
      "Condition2_RRNn 3011.9476858\n",
      "BldgType_1Fam 12293.7798579\n",
      "BldgType_2fmCon 86.9081926413\n",
      "BldgType_Duplex -1203.08475753\n",
      "BldgType_Twnhs -6779.39556705\n",
      "BldgType_TwnhsE -4398.20772598\n",
      "HouseStyle_1.5Fin -764.817624135\n",
      "HouseStyle_1.5Unf 2718.83975039\n",
      "HouseStyle_1Story 8050.27583545\n",
      "HouseStyle_2.5Fin -3053.86464598\n",
      "HouseStyle_2.5Unf -2813.96347123\n",
      "HouseStyle_2Story -6744.80467658\n",
      "HouseStyle_SFoyer 527.537720951\n",
      "HouseStyle_SLvl 2080.79711114\n",
      "RoofStyle_Flat -329.217164251\n",
      "RoofStyle_Gable -3587.24906825\n",
      "RoofStyle_Gambrel 1937.08519991\n",
      "RoofStyle_Hip -183.451753708\n",
      "RoofStyle_Mansard 2438.46321995\n",
      "RoofStyle_Shed -275.630433652\n",
      "RoofMatl_ClyTile -22163.5717216\n",
      "RoofMatl_CompShg -1345.16418677\n",
      "RoofMatl_Membran 2467.49805171\n",
      "RoofMatl_Roll -174.663620478\n",
      "RoofMatl_Tar&Grv -2934.27750168\n",
      "RoofMatl_WdShake -1580.25830054\n",
      "RoofMatl_WdShngl 25730.4372794\n",
      "Exterior1st_AsbShng -286.610931079\n",
      "Exterior1st_BrkComm -702.12594192\n",
      "Exterior1st_BrkFace 9228.74430381\n",
      "Exterior1st_CBlock 116.691214985\n",
      "Exterior1st_CemntBd 3981.90441201\n",
      "Exterior1st_HdBoard -3022.08327582\n",
      "Exterior1st_ImStucc -61.8510549008\n",
      "Exterior1st_MetalSd 876.110953351\n",
      "Exterior1st_Plywood 1302.33753466\n",
      "Exterior1st_Stone -1019.5417618\n",
      "Exterior1st_Stucco -6428.01885345\n",
      "Exterior1st_VinylSd 2108.38295308\n",
      "Exterior1st_Wd Sdng -5576.46131418\n",
      "Exterior1st_WdShing -517.478238747\n",
      "Exterior2nd_AsbShng -1435.80669253\n",
      "Exterior2nd_AsphShn 688.704277379\n",
      "Exterior2nd_Brk Cmn -2513.3388729\n",
      "Exterior2nd_BrkFace 3272.17399843\n",
      "Exterior2nd_CBlock 116.691214985\n",
      "Exterior2nd_CmentBd -344.855922022\n",
      "Exterior2nd_HdBoard 1347.03636226\n",
      "Exterior2nd_ImStucc -1181.22778044\n",
      "Exterior2nd_MetalSd 2274.68837298\n",
      "Exterior2nd_Other -1144.03810175\n",
      "Exterior2nd_Plywood -1546.13189955\n",
      "Exterior2nd_Stone -1276.01594575\n",
      "Exterior2nd_Stucco -3095.02231564\n",
      "Exterior2nd_VinylSd 2888.21547208\n",
      "Exterior2nd_Wd Sdng 5164.66420023\n",
      "Exterior2nd_Wd Shng -3215.73636776\n",
      "MasVnrType_BrkCmn -5565.91950675\n",
      "MasVnrType_BrkFace -662.459701723\n",
      "MasVnrType_None 3191.38130432\n",
      "MasVnrType_Stone 3036.99790416\n",
      "ExterQual_Ex 15399.0559689\n",
      "ExterQual_Fa -1286.52286504\n",
      "ExterQual_Gd -4925.73939078\n",
      "ExterQual_TA -9186.79371312\n",
      "ExterCond_Ex 2198.86006553\n",
      "ExterCond_Fa -1768.67920704\n",
      "ExterCond_Gd -1755.89531905\n",
      "ExterCond_TA 1325.71446057\n",
      "Foundation_BrkTil -2785.33426588\n",
      "Foundation_CBlock 2058.26677977\n",
      "Foundation_PConc 5482.14716818\n",
      "Foundation_Slab -1965.9515741\n",
      "Foundation_Stone -1909.38564242\n",
      "Foundation_Wood -879.742465547\n",
      "BsmtQual_Ex 12721.2371566\n",
      "BsmtQual_Fa -1615.06209984\n",
      "BsmtQual_Gd -4867.50498609\n",
      "BsmtQual_TA -2588.72280732\n",
      "BsmtQual_nan -3649.94726334\n",
      "BsmtCond_Fa -2947.63515281\n",
      "BsmtCond_Gd 2166.33802204\n",
      "BsmtCond_Po 608.663853682\n",
      "BsmtCond_TA 3822.58054043\n",
      "BsmtCond_nan -3649.94726334\n",
      "BsmtExposure_Av -353.320930287\n",
      "BsmtExposure_Gd 15746.8481088\n",
      "BsmtExposure_Mn -2854.11638592\n",
      "BsmtExposure_No -8030.85786772\n",
      "BsmtExposure_nan -4508.55292488\n",
      "BsmtFinType1_ALQ 1520.99659624\n",
      "BsmtFinType1_BLQ 3686.64428753\n",
      "BsmtFinType1_GLQ 5125.46705279\n",
      "BsmtFinType1_LwQ -5534.71330065\n",
      "BsmtFinType1_Rec 3387.33262437\n",
      "BsmtFinType1_Unf -4535.77999695\n",
      "BsmtFinType1_nan -3649.94726334\n",
      "BsmtFinType2_ALQ 3989.25296607\n",
      "BsmtFinType2_BLQ -2381.78902963\n",
      "BsmtFinType2_GLQ 2681.74863476\n",
      "BsmtFinType2_LwQ -3497.59634856\n",
      "BsmtFinType2_Rec -1024.2836215\n",
      "BsmtFinType2_Unf 880.184795111\n",
      "BsmtFinType2_nan -647.51739626\n",
      "Heating_Floor -153.041393152\n",
      "Heating_GasA 1009.01186666\n",
      "Heating_GasW 1590.88096642\n",
      "Heating_Grav 1401.30693796\n",
      "Heating_OthW -6260.87109976\n",
      "Heating_Wall 2412.71272187\n",
      "HeatingQC_Ex 2647.42745339\n",
      "HeatingQC_Fa -1899.69208955\n",
      "HeatingQC_Gd -1251.2542216\n",
      "HeatingQC_TA 503.518857759\n",
      "CentralAir_N 17.3972327046\n",
      "CentralAir_Y -17.3972327045\n",
      "Electrical_FuseA 568.087941663\n",
      "Electrical_FuseF 1490.53250271\n",
      "Electrical_FuseP -749.484934928\n",
      "Electrical_Mix 608.663853682\n",
      "Electrical_SBrkr -1917.79936312\n",
      "KitchenQual_Ex 15011.7130504\n",
      "KitchenQual_Fa 846.309090369\n",
      "KitchenQual_Gd -6719.37570363\n",
      "KitchenQual_TA -9138.64643718\n",
      "Functional_Maj1 -1167.78904622\n",
      "Functional_Maj2 -3193.8769977\n",
      "Functional_Min1 -3468.3836569\n",
      "Functional_Min2 247.832145176\n",
      "Functional_Mod 1311.71938319\n",
      "Functional_Sev -3690.56730218\n",
      "Functional_Typ 9961.06547464\n",
      "FireplaceQu_Ex 11836.7597585\n",
      "FireplaceQu_Fa -4879.46282313\n",
      "FireplaceQu_Gd -3290.32228758\n",
      "FireplaceQu_Po 1327.02380619\n",
      "FireplaceQu_TA -3457.55646319\n",
      "FireplaceQu_nan -1536.4419908\n",
      "GarageType_2Types -6462.63181125\n",
      "GarageType_Attchd 1688.83322693\n",
      "GarageType_Basment 496.468668851\n",
      "GarageType_BuiltIn 2686.25592052\n",
      "GarageType_CarPort -1100.31354771\n",
      "GarageType_Detchd 429.764572955\n",
      "GarageType_nan 2261.62296969\n",
      "GarageFinish_Fin -503.531004666\n",
      "GarageFinish_RFn -1412.13678441\n",
      "GarageFinish_Unf -345.955180622\n",
      "GarageFinish_nan 2261.62296969\n",
      "GarageQual_Ex 6839.86670731\n",
      "GarageQual_Fa -7208.17669512\n",
      "GarageQual_Gd 4354.12121848\n",
      "GarageQual_Po -1494.65261106\n",
      "GarageQual_TA -4752.78158931\n",
      "GarageQual_nan 2261.62296969\n",
      "GarageCond_Ex 347.592247441\n",
      "GarageCond_Fa -1899.68102978\n",
      "GarageCond_Gd -1236.19512859\n",
      "GarageCond_Po 194.874210408\n",
      "GarageCond_TA 331.786730822\n",
      "GarageCond_nan 2261.62296969\n",
      "PavedDrive_N -555.545789812\n",
      "PavedDrive_P -1185.50330992\n",
      "PavedDrive_Y 1741.04909974\n",
      "PoolQC_Ex 2698.2477766\n",
      "PoolQC_Gd -8222.73774927\n",
      "PoolQC_nan 5524.48997267\n",
      "Fence_GdPrv 2545.1851121\n",
      "Fence_GdWo -1276.81149292\n",
      "Fence_MnPrv 594.095262176\n",
      "Fence_MnWw -765.277668474\n",
      "Fence_nan -1097.19121288\n",
      "MiscFeature_Gar2 -149.983309975\n",
      "MiscFeature_Othr -870.081668795\n",
      "MiscFeature_Shed -452.017542395\n",
      "MiscFeature_nan 1472.08252117\n",
      "MoSold_Apr 1811.92873634\n",
      "MoSold_Aug 502.167570297\n",
      "MoSold_Dec -606.629047233\n",
      "MoSold_Feb -4617.00823719\n",
      "MoSold_Jan 1127.71609754\n",
      "MoSold_Jul 2011.35953447\n",
      "MoSold_Jun 671.441633155\n",
      "MoSold_Mar 1802.03273214\n",
      "MoSold_May 824.339673484\n",
      "MoSold_Nov 886.969610447\n",
      "MoSold_Oct -7504.06689999\n",
      "MoSold_Sept 3089.74859654\n",
      "SaleType_COD -4592.12794223\n",
      "SaleType_CWD 1230.29908692\n",
      "SaleType_Con 4814.59684439\n",
      "SaleType_ConLD -1789.39954965\n",
      "SaleType_ConLI 1341.03718258\n",
      "SaleType_ConLw -1706.53655726\n",
      "SaleType_New 4880.22794991\n",
      "SaleType_Oth 3326.9568255\n",
      "SaleType_WD -7505.05384016\n",
      "SaleCondition_Abnorml -8460.58546045\n",
      "SaleCondition_AdjLand 207.305241078\n",
      "SaleCondition_Alloca 8597.54754856\n",
      "SaleCondition_Family -1039.0766176\n",
      "SaleCondition_Normal 349.379850572\n",
      "SaleCondition_Partial 345.429437839\n"
     ]
    }
   ],
   "source": [
    "for i, coef in enumerate(ridge_model_cv.coef_):\n",
    "    if i==0:\n",
    "        pass\n",
    "    elif coef==0.0 or coef==-0.0:\n",
    "        pass\n",
    "    else:\n",
    "        print X.columns.values[i],coef"
   ]
  },
  {
   "cell_type": "code",
   "execution_count": 10,
   "metadata": {
    "collapsed": false
   },
   "outputs": [
    {
     "data": {
      "image/png": "[encoded data removed]",
      "text/plain": [
       "<matplotlib.figure.Figure at 0xc75d128>"
      ]
     },
     "metadata": {},
     "output_type": "display_data"
    }
   ],
   "source": [
    "#Model residuals\n",
    "\n",
    "MLRresiduals_reg = y_test - MLR_predict_reg\n",
    "lassoResiduals_reg = y_test - lasso_predict_reg\n",
    "ridgeResiduals_reg = y_test - ridge_predict_reg\n",
    "\n",
    "# Plot residuals\n",
    "fig = plt.figure(figsize=(15, 7))\n",
    "\n",
    "# Predicted vs. Actual\n",
    "ax1 = fig.add_subplot(121)\n",
    "ax1.plot(y_test,MLR_predict_reg,\"o\",label='MLR', color='darkblue')\n",
    "ax1.plot(y_test,lasso_predict_reg,\"o\",label='Lasso',color='blue')\n",
    "ax1.plot(y_test,ridge_predict_reg,\"o\",label='Ridge',color='aqua')\n",
    "ax1.legend(numpoints=1,loc='upper left')\n",
    "ax1.set_ylabel('Predicted Price ($)')\n",
    "ax1.yaxis.set_major_formatter(mtick.FuncFormatter('{:,.0f}'.format))\n",
    "ax1.set_xlabel('Actual Price ($)')\n",
    "ax1.xaxis.set_major_formatter(mtick.FuncFormatter('{:,.0f}'.format))\n",
    "ax1.set_title('Predicted vs. Actual Price', fontsize=12, fontweight='bold')\n",
    "\n",
    "# Residuals\n",
    "ax2 = fig.add_subplot(122)\n",
    "ax2.plot(y_test,MLRresiduals_reg,\"o\",label='MLR',color='darkblue')\n",
    "ax2.plot(y_test,lassoResiduals_reg,\"o\",label='Lasso',color='blue')\n",
    "ax2.plot(y_test,ridgeResiduals_reg,\"o\",label='Ridge',color='aqua')\n",
    "ax2.legend(numpoints=1,loc='upper left')\n",
    "ax2.set_ylabel('Residuals ($)')\n",
    "ax2.yaxis.set_major_formatter(mtick.FuncFormatter('{:,.0f}'.format))\n",
    "ax2.set_xlabel('Actual Price ($)')\n",
    "ax2.xaxis.set_major_formatter(mtick.FuncFormatter('{:,.0f}'.format))\n",
    "ax2.set_title('Residuals', fontsize=12, fontweight='bold')\n",
    "\n",
    "fig.subplots_adjust(wspace=.3)\n",
    "plt.show()"
   ]
  },
  {
   "cell_type": "code",
   "execution_count": 28,
   "metadata": {
    "collapsed": true
   },
   "outputs": [],
   "source": [
    "# Try predicting using log SalePrice\n",
    "log_y_train = y_train.map(float).map(log)\n",
    "log_y_test = y_test.map(float).map(log)"
   ]
  },
  {
   "cell_type": "code",
   "execution_count": 107,
   "metadata": {
    "collapsed": false
   },
   "outputs": [
    {
     "name": "stdout",
     "output_type": "stream",
     "text": [
      "MLR RMSE: 26550.4509193\n",
      "Lasso CV best λ: 1.09577311917\n",
      "Lasso RMSE: 35654.450704\n",
      "Ridge CV best λ: 10.0\n",
      "Ridge RMSE: 27192.5521656\n"
     ]
    }
   ],
   "source": [
    "#Linear Regression\n",
    "MLR =LinearRegression()\n",
    "model_MLR_log = MLR.fit(X_train,log_y_train)\n",
    "MLR_predict_log = model_MLR_log.predict(X_test)\n",
    "MLR_RMSE_log = sqrt(mean_squared_error(y_test, np.exp(MLR_predict_log)))\n",
    "print \"MLR RMSE:\",MLR_RMSE_log\n",
    "\n",
    "#get best λ with LassoCV\n",
    "lasso_cv_log = LassoCV(alphas=None, cv=10, max_iter=10000)\n",
    "model_cv_log = lasso_cv_log.fit(X_train,ravel(log_y_train))\n",
    "print \"Lasso CV best λ:\",model_cv_log.alpha_\n",
    "lasso_predict_log= model_cv_log.predict(X_test)\n",
    "lasso_RMSE_log = sqrt(mean_squared_error(y_test, np.exp(lasso_predict_log)))\n",
    "print \"Lasso RMSE:\",lasso_RMSE_log\n",
    "\n",
    "#get best λ with RidgeCV\n",
    "ridge_cv_log = RidgeCV(alphas=[0.1,1.0,10.0,100.0,1000.0,10000.0],cv=10)\n",
    "ridge_model_cv_log = ridge_cv_log.fit(X_train,ravel(log_y_train))\n",
    "print \"Ridge CV best λ:\",ridge_model_cv_log.alpha_\n",
    "ridge_predict_log = ridge_model_cv_log.predict(X_test)\n",
    "ridge_RMSE_log = sqrt(mean_squared_error(y_test, np.exp(ridge_predict_log)))\n",
    "print \"Ridge RMSE:\",ridge_RMSE_log"
   ]
  },
  {
   "cell_type": "code",
   "execution_count": 13,
   "metadata": {
    "collapsed": false
   },
   "outputs": [
    {
     "data": {
      "image/png": "[encoded data removed]",
      "text/plain": [
       "<matplotlib.figure.Figure at 0xc8a4a20>"
      ]
     },
     "metadata": {},
     "output_type": "display_data"
    }
   ],
   "source": [
    "#residuals with log price models (in original scale)\n",
    "MLRresiduals_log = y_test - np.exp(MLR_predict_log)\n",
    "lassoResiduals_log = y_test - np.exp(lasso_predict_log)\n",
    "ridgeResiduals_log = y_test - np.exp(ridge_predict_log)\n",
    "\n",
    "# Plot residuals\n",
    "fig = plt.figure(figsize=(15, 7))\n",
    "\n",
    "# Predicted vs. Actual\n",
    "ax1 = fig.add_subplot(121)\n",
    "ax1.plot(y_test,np.exp(MLR_predict_log),\"o\",label='MLR',color='darkblue')\n",
    "ax1.plot(y_test,np.exp(lasso_predict_log),\"o\",label='Lasso',color='blue')\n",
    "ax1.plot(y_test,np.exp(ridge_predict_log),\"o\",label='Ridge',color='aqua')\n",
    "ax1.legend(numpoints=1,loc='upper left')\n",
    "ax1.set_ylabel('Predicted Price ($)')\n",
    "ax1.yaxis.set_major_formatter(mtick.FuncFormatter('{:,.0f}'.format))\n",
    "ax1.set_xlabel('Actual Price ($)')\n",
    "ax1.xaxis.set_major_formatter(mtick.FuncFormatter('{:,.0f}'.format))\n",
    "ax1.set_title('Predicted vs. Actual Price', fontsize=12, fontweight='bold')\n",
    "\n",
    "# Residuals\n",
    "ax2 = fig.add_subplot(122)\n",
    "ax2.plot(y_test,MLRresiduals_log,\"o\",label='MLR',color='darkblue')\n",
    "ax2.plot(y_test,lassoResiduals_log,\"o\",label='Lasso',color='blue')\n",
    "ax2.plot(y_test,ridgeResiduals_log,\"o\",label='Ridge',color='aqua')\n",
    "ax2.legend(numpoints=1,loc='upper left')\n",
    "ax2.set_ylabel('Residuals ($)')\n",
    "ax2.yaxis.set_major_formatter(mtick.FuncFormatter('{:,.0f}'.format))\n",
    "ax2.set_xlabel('Actual Price ($)')\n",
    "ax2.xaxis.set_major_formatter(mtick.FuncFormatter('{:,.0f}'.format))\n",
    "ax2.set_title('Residuals', fontsize=12, fontweight='bold')\n",
    "\n",
    "fig.subplots_adjust(wspace=.3)\n",
    "plt.show()"
   ]
  },
  {
   "cell_type": "code",
   "execution_count": 29,
   "metadata": {
    "collapsed": false
   },
   "outputs": [
    {
     "name": "stderr",
     "output_type": "stream",
     "text": [
      "C:\\Users\\Vishwa\\Anaconda2\\lib\\site-packages\\sklearn\\utils\\validation.py:429: DataConversionWarning: Data with input dtype int64 was converted to float64 by StandardScaler.\n",
      "  warnings.warn(msg, _DataConversionWarning)\n"
     ]
    }
   ],
   "source": [
    "# Scale data\n",
    "scaler = StandardScaler()\n",
    "X_train_scaled = scaler.fit_transform(X_train)\n",
    "X_test_scaled = scaler.transform(X_test)\n",
    "y_scaler = StandardScaler()\n",
    "Y_train_scaled = ravel(y_scaler.fit_transform(y_train.reshape(-1, 1)))\n",
    "Y_test_scaled = ravel(y_scaler.transform(y_test.reshape(-1, 1)))"
   ]
  },
  {
   "cell_type": "code",
   "execution_count": 15,
   "metadata": {
    "collapsed": false
   },
   "outputs": [],
   "source": [
    "# Run MLP using different hidden layer sizes\n",
    "sizes = [(20,),(50,),(100,),(150,),(200,),(250,),(300,)]\n",
    "RMSEs = []\n",
    "for size in sizes:\n",
    "    MLP = MLPRegressor(hidden_layer_sizes = size,activation='tanh',solver='sgd',learning_rate='constant',random_state=42,\\\n",
    "                       batch_size=40,learning_rate_init=0.001)\n",
    "    model_MLP = MLP.fit(X_train_scaled,Y_train_scaled)\n",
    "    MLP_predict = model_MLP.predict(X_test_scaled)\n",
    "    MLP_RMSE= sqrt(mean_squared_error(y_test, y_scaler.inverse_transform(MLP_predict)))\n",
    "    RMSEs.append(MLP_RMSE)"
   ]
  },
  {
   "cell_type": "code",
   "execution_count": 16,
   "metadata": {
    "collapsed": false
   },
   "outputs": [
    {
     "name": "stdout",
     "output_type": "stream",
     "text": [
      "MLP RMSE: 36015.4509214\n"
     ]
    }
   ],
   "source": [
    "# Choosing hidden layer size with best RMSE\n",
    "MLP = MLPRegressor(hidden_layer_sizes = sizes[np.argmin(RMSEs)],activation='tanh',solver='sgd',learning_rate='constant',random_state=42,\\\n",
    "                   batch_size=40,learning_rate_init=0.001)\n",
    "model_MLP = MLP.fit(X_train_scaled,Y_train_scaled)\n",
    "MLP_predict_scale = model_MLP.predict(X_test_scaled)\n",
    "MLP_RMSE_scale = sqrt(mean_squared_error(y_test, y_scaler.inverse_transform(MLP_predict_scale)))\n",
    "print \"MLP RMSE:\",MLP_RMSE_scale\n",
    "\n",
    "MLPresiduals_scale = y_test - y_scaler.inverse_transform(MLP_predict_scale)"
   ]
  },
  {
   "cell_type": "code",
   "execution_count": 17,
   "metadata": {
    "collapsed": false
   },
   "outputs": [
    {
     "data": {
      "image/png": "[encoded data removed]",
      "text/plain": [
       "<matplotlib.figure.Figure at 0xc883c88>"
      ]
     },
     "metadata": {},
     "output_type": "display_data"
    }
   ],
   "source": [
    "# Plot residuals\n",
    "fig = plt.figure(figsize=(15, 7))\n",
    "\n",
    "# Predicted vs. Actual\n",
    "ax1 = fig.add_subplot(121)\n",
    "ax1.plot(y_test,y_scaler.inverse_transform(MLP_predict_scale),\"o\",label='MLP',color='aliceblue')\n",
    "ax1.legend(numpoints=1,loc='upper left')\n",
    "ax1.set_ylabel('Predicted Price ($)')\n",
    "ax1.yaxis.set_major_formatter(mtick.FuncFormatter('{:,.0f}'.format))\n",
    "ax1.set_xlabel('Actual Price ($)')\n",
    "ax1.xaxis.set_major_formatter(mtick.FuncFormatter('{:,.0f}'.format))\n",
    "ax1.set_title('Predicted vs. Actual Price', fontsize=12, fontweight='bold')\n",
    "\n",
    "# Residuals\n",
    "ax2 = fig.add_subplot(122)\n",
    "ax2.plot(y_test,MLPresiduals_scale, \"o\",label='MLP',color='aliceblue')\n",
    "ax2.legend(numpoints=1,loc='upper left')\n",
    "ax2.set_ylabel('Residuals ($)')\n",
    "ax2.yaxis.set_major_formatter(mtick.FuncFormatter('{:,.0f}'.format))\n",
    "ax2.set_xlabel('Actual Price ($)')\n",
    "ax2.xaxis.set_major_formatter(mtick.FuncFormatter('{:,.0f}'.format))\n",
    "ax2.set_title('Residuals', fontsize=12, fontweight='bold')\n",
    "\n",
    "fig.subplots_adjust(wspace=.3)\n",
    "plt.show()"
   ]
  },
  {
   "cell_type": "code",
   "execution_count": 124,
   "metadata": {
    "collapsed": false
   },
   "outputs": [
    {
     "name": "stdout",
     "output_type": "stream",
     "text": [
      "MLR RMSE: 1.56758896303e+19\n",
      "Lasso CV best λ: 1695.52642749\n",
      "Lasso RMSE: 29925.6396206\n",
      "Ridge CV best λ: 1000.0\n",
      "Ridge RMSE: 31577.3074879\n"
     ]
    }
   ],
   "source": [
    "# Try Linear Regression, Lasso, and Ridge with scaled X data\n",
    "\n",
    "#Linear Regression\n",
    "MLR =LinearRegression(fit_intercept=False)\n",
    "model_MLR_scale = MLR.fit(X_train_scaled,ravel(y_train))\n",
    "MLR_predict_scale = model_MLR_scale.predict(X_test_scaled)\n",
    "MLR_RMSE_scale= sqrt(mean_squared_error(y_test, MLR_predict_scale))\n",
    "print \"MLR RMSE:\",MLR_RMSE_scale\n",
    "\n",
    "#get best λ with LassoCV\n",
    "lasso_cv_scale = LassoCV(alphas=None, cv=10, max_iter=10000)\n",
    "model_cv_scale = lasso_cv_scale.fit(X_train_scaled,ravel(y_train))\n",
    "print \"Lasso CV best λ:\",model_cv_scale.alpha_\n",
    "lasso_predict_scale = model_cv_scale.predict(X_test_scaled)\n",
    "lasso_RMSE_scale= sqrt(mean_squared_error(y_test, lasso_predict_scale))\n",
    "print \"Lasso RMSE:\",lasso_RMSE_scale\n",
    "\n",
    "#get best λ with RidgeCV\n",
    "ridge_cv_scale = RidgeCV(alphas=[0.1,1.0,10.0,100.0,1000.0,10000.0],cv=10)\n",
    "ridge_model_cv_scale = ridge_cv_scale.fit(X_train_scaled,ravel(y_train))\n",
    "print \"Ridge CV best λ:\",ridge_model_cv_scale.alpha_\n",
    "ridge_predict_scale= ridge_model_cv_scale.predict(X_test_scaled)\n",
    "ridge_RMSE_scale= sqrt(mean_squared_error(y_test, ridge_predict_scale))\n",
    "print \"Ridge RMSE:\",ridge_RMSE_scale"
   ]
  },
  {
   "cell_type": "code",
   "execution_count": 123,
   "metadata": {
    "collapsed": false
   },
   "outputs": [
    {
     "data": {
      "text/plain": [
       "array([ 219491.51968053,  185539.07566628,  107900.31320602,\n",
       "         73376.93485112,  143984.30583288,  325617.82834042,\n",
       "        296728.85379065,  145475.42858048,  222686.28466869,\n",
       "        236105.72623193,  178679.76768379,   61664.06361716,\n",
       "        199830.66362747,  338018.12909376,  222408.47850794,\n",
       "         98690.40452449,  113207.40677938,  122163.37067184,\n",
       "        215669.547332  ,  123946.77480774,  130050.6215379 ,\n",
       "        143091.95489905,  240735.68849542,  356454.36935158,\n",
       "         90270.11313589,  218316.25638433,  134251.41963194,\n",
       "        176447.51407918,  406179.12115729,  119308.70690578,\n",
       "        144243.09104374,  114220.55598391,  124120.3152208 ,\n",
       "         89453.18193269,  165765.37456135,  346348.07096866,\n",
       "        136151.79400363,   89025.86167104,  262150.74003621,\n",
       "        104581.39568458,  141346.81968434,  141166.72279445,\n",
       "         93042.89068283,  123740.60537602,  171917.30111315,\n",
       "        151256.06298651,  121070.60402044,  192693.24869321,\n",
       "        232554.25900594,  251856.52701936,  100339.7591639 ,\n",
       "        273456.11051846,  142726.94715973,  228290.31800175,\n",
       "        191373.65858628,  103031.06323149,  111139.71491041,\n",
       "        182734.76507491,  100122.40498641,  191885.2622876 ,\n",
       "        149742.94830549,  237090.88273111,   81552.2230998 ,\n",
       "        125234.01724932,  165902.32993513,  132064.80912345,\n",
       "        127258.00275364,  251357.2568718 ,  163069.35814815,\n",
       "        172410.62710763,  203914.45125063,  102874.60814651,\n",
       "        317276.73296454,  178765.11788687,  163300.82585219,\n",
       "        236741.23849247,  169938.49531491,  166193.76642247,\n",
       "        396196.46608538,  213993.49069863,  210390.17671168,\n",
       "        130014.87729527,  123606.10188656,  150950.81900426,\n",
       "        184622.22572085,  159666.81472599,  149698.90728556,\n",
       "        170665.52221175,  210031.8562488 ,  177154.13939953,\n",
       "        215588.08628609,  157466.93827039,  103176.88416029,\n",
       "         86366.92991486,  105565.05848615,  172652.24601789,\n",
       "        103566.335836  ,  124611.76135573,  149942.87968706,\n",
       "        154281.46251117,  189552.95187945,  143270.64019462,\n",
       "        120706.47914276,  117212.82158516,  129657.80528366,\n",
       "        168385.69858064,  195234.15224787,  182143.50257827,\n",
       "        140430.43601521,  303101.95365774,  165413.7097462 ,\n",
       "        195514.60865267,  138405.0916807 ,  196501.832781  ,\n",
       "        230636.33002101,  206884.52790099,  224268.29119812,\n",
       "        126099.88136824,  182913.09142535,  227954.2810176 ,\n",
       "        133964.28178333,  225029.84259601,  317203.2580499 ,\n",
       "        164510.8701839 ,  187891.9543672 ,  184680.21673352,\n",
       "        329984.01268599,  108196.6753918 ,  228466.02372192,\n",
       "        233333.3917071 ,  291090.89570658,   56852.66560324,\n",
       "        138208.86329538,  122076.10716893,   67455.4352966 ,\n",
       "        210325.27163792,  401857.77323268,  333475.73852577,\n",
       "        220363.14553291,  141655.75870372,  126976.57193059,\n",
       "        241059.67006373,  202718.88881473,  196470.36759285,\n",
       "         90268.54764096,  207462.38207211,  107211.09582541,\n",
       "        191249.4673087 ,  221337.44485082,  120304.32864206,\n",
       "        165086.3051117 ,  158132.48053987,  105129.14482253,\n",
       "        187659.06611603,  201286.22523523,  375195.04838175,\n",
       "         57033.95164499,  127665.48199124,   90271.94290928,\n",
       "        142512.14742303,   45702.15327961,  106224.97701   ,\n",
       "        152147.9033995 ,  139249.70555495,  118591.69701921,\n",
       "        128471.96879693,  165148.66408134,  136185.14703976,\n",
       "        149349.06270768,  129685.90783554,  223622.30614186,\n",
       "        181507.58436962,  209802.63670316,  260291.83376208,\n",
       "        180032.5227001 ,  131044.24348256,  178235.65836814,\n",
       "        199572.39462542,  138328.22483764,  166878.49952559,\n",
       "        130758.68652049,  220320.52012503,  132346.40432607,\n",
       "        152605.18621711,  289536.97144894,  137291.16813373,\n",
       "        345291.84336434,  291417.08210813,  172482.62259135,\n",
       "        118443.9497716 ,  106221.07528632,  139495.59759299,\n",
       "         96493.41538344,  198155.3283629 ,  136172.80288194,\n",
       "        268734.03038031,  199991.17728512,  152837.93147893,\n",
       "        163060.8366508 ,  105137.09969907,  225898.10442576,\n",
       "        260410.38270593,  178419.22275698,  177504.28309681,\n",
       "        239334.80175795,  102951.30561037,  186451.52215028,\n",
       "        281870.82114679,  242747.77627481,  262166.65778498,\n",
       "        199597.3274302 ,  118023.63438022,  172480.20591995,\n",
       "        125928.24717806,  288446.01204019,  249498.75372335,\n",
       "        110185.13993119,   77626.18318195,  217510.26323937,\n",
       "        116670.86353923,  381060.70972036,  114788.18927461,\n",
       "        166973.13894258,  193737.50996504,  132681.06875506,\n",
       "        115899.06259767,  191920.57811462,  186897.50079219,\n",
       "        182529.20618083,  173617.73580805,  127552.39121462,\n",
       "        193509.03666489,  105623.17932512,  128679.74457186,\n",
       "        328947.64668694,  126868.91916384,  286773.18453146,\n",
       "        121131.57623912,  137586.02248865,  278801.57326777,\n",
       "        335749.81748947,  164311.89036883,  161718.92337087,\n",
       "        160203.05454518,  145649.67313711,  132163.60268482,\n",
       "        136575.85086194,  140953.89304941,  166771.71986665,\n",
       "        179055.12891755,  140242.63747153,  105075.08265919,\n",
       "        200645.29590119,  151421.55111539,  102083.4297505 ,\n",
       "        138417.75397498,  185682.5582078 ,   92563.89168063,\n",
       "        320057.95455685,  113997.56423481,  221581.74395219,\n",
       "        157123.40161493,  211738.97616467,  181507.10738523,\n",
       "        130506.36964482,  195629.31437775,  124831.62995738,\n",
       "        227602.56265991,  146531.03177448,   95695.89878501,\n",
       "        183549.08139314,  180104.05792925,  106102.38834495,\n",
       "        118554.86114683,  193917.36203872,   88385.9845548 ,\n",
       "        114414.22071974,  130056.67189894,  203970.52618189,\n",
       "        136103.90746959,  126814.76399696,  134644.96997578,\n",
       "        137393.98502062,  146841.70368561,  238643.5667379 ,\n",
       "        222703.70153067,  130747.66328831,   88528.95641563,\n",
       "        223637.25801155,  100192.59695547,   81740.94345918,\n",
       "        299797.36641393,  140386.01270647,   92902.11191324,\n",
       "        217391.59580315,  225387.65810198,  192989.2450173 ,\n",
       "        217856.74905347,  165205.6387236 ,  119874.60177401,\n",
       "        164452.26292488,  130426.6001085 ,  131094.0316536 ,\n",
       "        188667.85599099,  114901.49295211,  210770.56704115,\n",
       "        148101.56476144,  200457.47995921,  146488.51153671,\n",
       "        191207.43960344,  236793.92017257,  136317.27559663,\n",
       "        112685.13803692,  239679.83418394,  148109.38452079,\n",
       "         57803.84541853,  309447.00453594,  209788.1981107 ,\n",
       "        200857.407167  ,  209696.42207329,  195443.52734409,\n",
       "        153405.73426984,  151626.19468083,  247993.70730778,\n",
       "        112090.30923799,  412001.59043055,  176520.41575576,\n",
       "        259843.73043677,  129556.64889658,  130345.84210814,\n",
       "        121048.15167715,  257094.30602566,  240772.94076758,\n",
       "        275584.12846967,  174656.74886433,  132764.44374234,\n",
       "        135261.40020844,  115895.09505089,  306144.60869949,\n",
       "        173520.96930714,  204839.74063488,  219496.23672996,\n",
       "        113587.58200472,  302895.46918183,  103692.80963522,\n",
       "        182710.93651526,  177736.21313943,  161044.26208034,\n",
       "        257108.78424817,   87199.25400709,  214519.8922621 ,\n",
       "        154673.56239127,  337611.76405327,  146072.24660798,\n",
       "        142159.18167801,  116483.06181447,  197393.55848559,\n",
       "        162859.13742739,   83374.6613709 ,  301450.3109824 ,\n",
       "        221281.31091983,  211022.48146129,  112883.13033826,\n",
       "        245858.38080567,  216919.34081502,  262071.76488558,\n",
       "        214669.5755    ,  174033.31183946,  158966.91287818,\n",
       "        151056.53101481,  138204.60170436,  164907.71818131,\n",
       "        214000.65834889,  219573.65497472,  302872.86251118,\n",
       "        193003.82351581,  102637.04654451,  117488.92565305,\n",
       "        134065.07187171,  386304.87469739,  177576.50999855,\n",
       "         41170.24356917,  354689.42338126,  137277.98351647,\n",
       "         99370.19231876,  238992.46654739,  174493.03777295,\n",
       "        330226.90000438,  154737.8035667 ,   87675.17315244,\n",
       "        291009.49830815,  178926.20824101,  232286.2948459 ,\n",
       "        216038.201954  ,  191755.80370469,  126291.72028252,\n",
       "         71220.72351676,  242098.83037802,  164956.80731747,\n",
       "        341857.06099508,  296644.63051087,  219453.05033542,\n",
       "        241153.56860053,  254986.43165423,  200848.59520537,\n",
       "        206405.42532131,   90331.28118046,  139542.60593102,\n",
       "        232513.81853518,  172871.59231443,  153629.33020688,\n",
       "        314519.78984955,  206898.3877701 ,  105826.85253226,\n",
       "         64751.41130064,  158340.00515829,  135525.25619454,\n",
       "         88527.4101414 ,  155990.56858013,  276839.80982146,\n",
       "         57187.34540481,  104227.86386508,  104172.4930718 ,\n",
       "        118808.57162908,  245683.87209525,  244594.8851931 ,\n",
       "        332479.1540148 ,  201076.56309854,  171138.30727523,\n",
       "         72331.7479318 ,  201386.46526967,  115491.14637511,\n",
       "        325943.52274082,  234467.79858617,  227441.99553575,\n",
       "        160900.07795622,  186706.91568648,  253899.56098458,\n",
       "        181788.83938148,  245238.04739254,  124236.44375411,\n",
       "        205689.44203182,   99100.77110467,  176427.98641252,\n",
       "        112014.24749744,  100450.23842747,  319767.15932236,\n",
       "        169451.02030416,  141408.85654225,  206041.72537938,\n",
       "        164325.84710466,  137421.47392131,   94656.69472397,\n",
       "        140097.73439431,  139530.99582814,  228816.37533482,\n",
       "        147364.63778591,  137989.37417999,  133524.53293981,\n",
       "        221588.8220899 ,  238727.70966947,  125275.56737103,\n",
       "        138665.92348889,  173478.11429289,  144886.21639755,\n",
       "        224180.08208017,  251137.95305311,  124348.29785283,\n",
       "        310544.77987701,  136957.05596043,  419962.95520463,\n",
       "        253929.67899468,  150484.96450149,  128509.57488837,\n",
       "        193278.27749763,  131448.40098048,  186857.90181406,\n",
       "        316325.66774943,  235383.17808331,  225734.68194538,\n",
       "        171501.9748727 ,  248639.21101184])"
      ]
     },
     "execution_count": 123,
     "metadata": {},
     "output_type": "execute_result"
    }
   ],
   "source": [
    "# for i, coef in enumerate(model_MLR_scale.coef_):\n",
    "#     if i==0:\n",
    "#         pass\n",
    "#     elif coef==0.0 or coef==-0.0:\n",
    "#         pass\n",
    "#     else:\n",
    "#         print X.columns.values[i],coef\n",
    "\n",
    "ridge_predict_scale"
   ]
  },
  {
   "cell_type": "code",
   "execution_count": 19,
   "metadata": {
    "collapsed": false
   },
   "outputs": [
    {
     "data": {
      "image/png": "[encoded data removed]",
      "text/plain": [
       "<matplotlib.figure.Figure at 0xcf38198>"
      ]
     },
     "metadata": {},
     "output_type": "display_data"
    }
   ],
   "source": [
    "# Based on RMSE, it appears as though MLR may have challenges predicting this data\n",
    "# For example, the linear regression problem could be under-determined \n",
    "#  (where the number of linearly independent rows of the training matrix \n",
    "#    is less than its number of linearly independent columns),\n",
    "#  resulting in erroneous predictions\n",
    "\n",
    "# Graph to see\n",
    "MLRresiduals_scale = y_test - MLR_predict_scale\n",
    "fig = plt.figure(figsize=(15, 7))\n",
    "\n",
    "# Predicted vs. Actual\n",
    "ax1 = fig.add_subplot(121)\n",
    "ax1.plot(y_test,MLR_predict_scale,\"o\",label='MLR',color='darkblue')\n",
    "ax1.legend(numpoints=1,loc='upper left')\n",
    "ax1.set_ylabel('Predicted Price ($)')\n",
    "ax1.set_xlabel('Actual Price ($)')\n",
    "ax1.xaxis.set_major_formatter(mtick.FuncFormatter('{:,.0f}'.format))\n",
    "ax1.set_title('Predicted vs. Actual Price', fontsize=12, fontweight='bold')\n",
    "\n",
    "# Residuals\n",
    "ax2 = fig.add_subplot(122)\n",
    "ax2.plot(y_test,MLRresiduals_scale, \"o\",label='MLR',color='darkblue')\n",
    "ax2.legend(numpoints=1,loc='upper left')\n",
    "ax2.set_ylabel('Residuals ($)')\n",
    "ax2.set_xlabel('Actual Price ($)')\n",
    "ax2.xaxis.set_major_formatter(mtick.FuncFormatter('{:,.0f}'.format))\n",
    "ax2.set_title('Residuals', fontsize=12, fontweight='bold')\n",
    "\n",
    "fig.subplots_adjust(wspace=.3)\n",
    "plt.show()"
   ]
  },
  {
   "cell_type": "code",
   "execution_count": 20,
   "metadata": {
    "collapsed": false,
    "scrolled": false
   },
   "outputs": [
    {
     "data": {
      "image/png": "[encoded data removed]",
      "text/plain": [
       "<matplotlib.figure.Figure at 0xe66eb38>"
      ]
     },
     "metadata": {},
     "output_type": "display_data"
    }
   ],
   "source": [
    "# Plot Lasso and Ridge\n",
    "lassoResiduals_scale = y_test - lasso_predict_scale\n",
    "ridgeResiduals_scale = y_test - ridge_predict_scale\n",
    "\n",
    "fig = plt.figure(figsize=(15, 7))\n",
    "\n",
    "# Predicted vs. Actual\n",
    "ax1 = fig.add_subplot(121)\n",
    "ax1.plot(y_test,lasso_predict_scale,\"o\",label='Lasso',color='blue')\n",
    "ax1.plot(y_test,ridge_predict_scale,\"o\",label='Ridge',color='aqua')\n",
    "ax1.legend(numpoints=1,loc='upper left')\n",
    "ax1.set_ylabel('Predicted Price ($)')\n",
    "ax1.yaxis.set_major_formatter(mtick.FuncFormatter('{:,.0f}'.format))\n",
    "ax1.set_xlabel('Actual Price ($)')\n",
    "ax1.xaxis.set_major_formatter(mtick.FuncFormatter('{:,.0f}'.format))\n",
    "ax1.set_title('Predicted vs. Actual Price', fontsize=12, fontweight='bold')\n",
    "\n",
    "# Residuals\n",
    "ax2 = fig.add_subplot(122)\n",
    "ax2.plot(y_test,lassoResiduals_scale,\"o\",label='Lasso',color='blue')\n",
    "ax2.plot(y_test,ridgeResiduals_scale,\"o\",label='Ridge',color='aqua')\n",
    "ax2.legend(numpoints=1,loc='upper left')\n",
    "ax2.set_ylabel('Residuals ($)')\n",
    "ax2.yaxis.set_major_formatter(mtick.FuncFormatter('{:,.0f}'.format))\n",
    "ax2.set_xlabel('Actual Price ($)')\n",
    "ax2.xaxis.set_major_formatter(mtick.FuncFormatter('{:,.0f}'.format))\n",
    "ax2.set_title('Residuals', fontsize=12, fontweight='bold')\n",
    "\n",
    "fig.subplots_adjust(wspace=.3)\n",
    "plt.show()"
   ]
  },
  {
   "cell_type": "code",
   "execution_count": 30,
   "metadata": {
    "collapsed": false
   },
   "outputs": [
    {
     "name": "stdout",
     "output_type": "stream",
     "text": [
      "Lasso CV best λ: 0.00617476647261\n",
      "Lasso RMSE: 23872.9408725\n",
      "Ridge CV best λ: 10.0\n",
      "Ridge RMSE: 26622.3843697\n"
     ]
    }
   ],
   "source": [
    "# Try fitting on scaled data and log SalePrice for Lasso and Ridge\n",
    "#get best λ with LassoCV\n",
    "lasso_cv_scalelog = LassoCV(alphas=None, cv=10, max_iter=10000)\n",
    "model_cv_scalelog = lasso_cv_scalelog.fit(X_train_scaled,ravel(log_y_train))\n",
    "print \"Lasso CV best λ:\",model_cv_scalelog.alpha_\n",
    "lasso_predict_scalelog= model_cv_scalelog.predict(X_test_scaled)\n",
    "lasso_RMSE_scalelog = sqrt(mean_squared_error(y_test, np.exp(lasso_predict_scalelog)))\n",
    "print \"Lasso RMSE:\",lasso_RMSE_scalelog\n",
    "\n",
    "#get best λ with RidgeCV\n",
    "ridge_cv_scalelog = RidgeCV(cv=10)\n",
    "ridge_model_cv_scalelog = ridge_cv_scalelog.fit(X_train_scaled,ravel(log_y_train))\n",
    "print \"Ridge CV best λ:\",ridge_model_cv_scalelog.alpha_\n",
    "ridge_predict_scalelog= ridge_model_cv_scalelog.predict(X_test_scaled)\n",
    "ridge_RMSE_scalelog = sqrt(mean_squared_error(y_test, np.exp(ridge_predict_scalelog)))\n",
    "print \"Ridge RMSE:\",ridge_RMSE_scalelog"
   ]
  },
  {
   "cell_type": "code",
   "execution_count": 22,
   "metadata": {
    "collapsed": false
   },
   "outputs": [
    {
     "data": {
      "image/png": "[encoded data removed]",
      "text/plain": [
       "<matplotlib.figure.Figure at 0x14356828>"
      ]
     },
     "metadata": {},
     "output_type": "display_data"
    }
   ],
   "source": [
    "# Plot Lasso and Ridge results for scaled X data / log SalePrice\n",
    "lassoResiduals_scalelog = y_test - np.exp(lasso_predict_scalelog)\n",
    "ridgeResiduals_scalelog = y_test - np.exp(ridge_predict_scalelog)\n",
    "\n",
    "fig = plt.figure(figsize=(15, 7))\n",
    "\n",
    "# Predicted vs. Actual\n",
    "ax1 = fig.add_subplot(121)\n",
    "ax1.plot(y_test,np.exp(lasso_predict_scalelog),\"o\",label='Lasso',color='blue')\n",
    "ax1.plot(y_test,np.exp(ridge_predict_scalelog),\"o\",label='Ridge',color='aqua')\n",
    "ax1.legend(numpoints=1,loc='upper left')\n",
    "ax1.set_ylabel('Predicted Price ($)')\n",
    "ax1.yaxis.set_major_formatter(mtick.FuncFormatter('{:,.0f}'.format))\n",
    "ax1.set_xlabel('Actual Price ($)')\n",
    "ax1.xaxis.set_major_formatter(mtick.FuncFormatter('{:,.0f}'.format))\n",
    "ax1.set_title('Predicted vs. Actual Price', fontsize=12, fontweight='bold')\n",
    "\n",
    "# Residuals\n",
    "ax2 = fig.add_subplot(122)\n",
    "ax2.plot(y_test,lassoResiduals_scalelog,\"o\",label='Lasso',color='blue')\n",
    "ax2.plot(y_test,ridgeResiduals_scalelog,\"o\",label='Ridge',color='aqua')\n",
    "ax2.legend(numpoints=1,loc='upper left')\n",
    "ax2.set_ylabel('Residuals ($)')\n",
    "ax2.yaxis.set_major_formatter(mtick.FuncFormatter('{:,.0f}'.format))\n",
    "ax2.set_xlabel('Actual Price ($)')\n",
    "ax2.xaxis.set_major_formatter(mtick.FuncFormatter('{:,.0f}'.format))\n",
    "ax2.set_title('Residuals', fontsize=12, fontweight='bold')\n",
    "\n",
    "fig.subplots_adjust(wspace=.3)\n",
    "plt.show()"
   ]
  },
  {
   "cell_type": "markdown",
   "metadata": {
    "collapsed": false
   },
   "source": [
    "### SVR"
   ]
  },
  {
   "cell_type": "code",
   "execution_count": 23,
   "metadata": {
    "collapsed": false
   },
   "outputs": [
    {
     "data": {
      "text/plain": [
       "35094.699875423103"
      ]
     },
     "execution_count": 23,
     "metadata": {},
     "output_type": "execute_result"
    }
   ],
   "source": [
    "SVR_reg = SVR(kernel='linear', C=10)\n",
    "SVR_reg.fit(X_train,y_train)\n",
    "SVR_predict_reg=SVR_reg.predict(X_test)\n",
    "SVR_RMSE_reg=np.sqrt(mean_squared_error(y_test,SVR_predict_reg))\n",
    "SVR_RMSE_reg"
   ]
  },
  {
   "cell_type": "code",
   "execution_count": 24,
   "metadata": {
    "collapsed": false
   },
   "outputs": [
    {
     "data": {
      "text/plain": [
       "43288.944140941188"
      ]
     },
     "execution_count": 24,
     "metadata": {},
     "output_type": "execute_result"
    }
   ],
   "source": [
    "SVR_scale = SVR(kernel='linear', C=10)\n",
    "SVR_scale.fit(X_train_scaled,y_train)\n",
    "SVR_predict_scale=SVR_scale.predict(X_test_scaled)\n",
    "SVR_RMSE_scale=np.sqrt(mean_squared_error(y_test,SVR_predict_scale))\n",
    "SVR_RMSE_scale"
   ]
  },
  {
   "cell_type": "code",
   "execution_count": null,
   "metadata": {
    "collapsed": true
   },
   "outputs": [],
   "source": [
    "# # LOG DOESN'T RUN\n",
    "# SVR_log = SVR(kernel='linear', C=10)\n",
    "# SVR_log.fit(X_train,ravel(log_y_train))\n",
    "# SVR_predict_log=SVR_log.predict(X_test)\n",
    "# SVR_RMSE_log=np.sqrt(mean_squared_error(y_test,np.exp(SVR_predict_log)))\n",
    "# SVR_RMSE_log"
   ]
  },
  {
   "cell_type": "code",
   "execution_count": 25,
   "metadata": {
    "collapsed": false
   },
   "outputs": [
    {
     "data": {
      "text/plain": [
       "27686.677793698218"
      ]
     },
     "execution_count": 25,
     "metadata": {},
     "output_type": "execute_result"
    }
   ],
   "source": [
    "SVR_scalelog = SVR(kernel='linear', C=10)\n",
    "SVR_scalelog.fit(X_train_scaled,ravel(log_y_train))\n",
    "SVR_predict_scalelog=SVR_scalelog.predict(X_test_scaled)\n",
    "SVR_RMSE_scalelog=np.sqrt(mean_squared_error(y_test,np.exp(SVR_predict_scalelog)))\n",
    "SVR_RMSE_scalelog"
   ]
  },
  {
   "cell_type": "markdown",
   "metadata": {},
   "source": [
    "### SGD Regressor"
   ]
  },
  {
   "cell_type": "code",
   "execution_count": 26,
   "metadata": {
    "collapsed": false
   },
   "outputs": [
    {
     "data": {
      "text/plain": [
       "GridSearchCV(cv=5, error_score='raise',\n",
       "       estimator=SGDRegressor(alpha=0.0001, average=False, epsilon=0.1, eta0=0.01,\n",
       "       fit_intercept=True, l1_ratio=0.15, learning_rate='invscaling',\n",
       "       loss='squared_loss', n_iter=5, penalty='l2', power_t=0.25,\n",
       "       random_state=42, shuffle=True, verbose=0, warm_start=False),\n",
       "       fit_params={}, iid=True, n_jobs=1,\n",
       "       param_grid={'penalty': ['l1', 'l2'], 'loss': ['squared_loss', 'huber'], 'learning_rate': ['optimal', 'invscaling', 'constant']},\n",
       "       pre_dispatch='2*n_jobs', refit=True,\n",
       "       scoring=make_scorer(mean_squared_error, greater_is_better=False),\n",
       "       verbose=0)"
      ]
     },
     "execution_count": 26,
     "metadata": {},
     "output_type": "execute_result"
    }
   ],
   "source": [
    "parameters = {'loss': ['squared_loss', 'huber'],\n",
    "             'penalty': ['l1','l2'],\n",
    "              'learning_rate': ['optimal','invscaling','constant']}\n",
    "accuracy=make_scorer(mean_squared_error, greater_is_better=False)\n",
    "SGDclf_reg = GridSearchCV(SGDRegressor(random_state=42), parameters, cv=5,scoring=accuracy)\n",
    "SGDclf_reg.fit(X_train, y_train) "
   ]
  },
  {
   "cell_type": "code",
   "execution_count": 27,
   "metadata": {
    "collapsed": false
   },
   "outputs": [
    {
     "name": "stdout",
     "output_type": "stream",
     "text": [
      "{'penalty': 'l1', 'loss': 'huber', 'learning_rate': 'invscaling'}\n",
      "-2853391889.73\n"
     ]
    }
   ],
   "source": [
    "print SGDclf_reg.best_params_\n",
    "print SGDclf_reg.best_score_"
   ]
  },
  {
   "cell_type": "code",
   "execution_count": 28,
   "metadata": {
    "collapsed": false
   },
   "outputs": [
    {
     "data": {
      "text/plain": [
       "51799.966768133061"
      ]
     },
     "execution_count": 28,
     "metadata": {},
     "output_type": "execute_result"
    }
   ],
   "source": [
    "GSCV_SGDclf_reg = SGDRegressor(loss='huber', penalty='l2', alpha=0.001, random_state=42)\n",
    "GSCV_SGDclf_reg.fit(X_train, y_train)\n",
    "GSCV_SGDclf_predict_reg = GSCV_SGDclf_reg.predict(X_test)\n",
    "GSCV_SGDclf_RMSE_reg=np.sqrt(mean_squared_error(y_test, GSCV_SGDclf_predict_reg))\n",
    "GSCV_SGDclf_RMSE_reg"
   ]
  },
  {
   "cell_type": "code",
   "execution_count": 29,
   "metadata": {
    "collapsed": false
   },
   "outputs": [
    {
     "data": {
      "text/plain": [
       "GridSearchCV(cv=5, error_score='raise',\n",
       "       estimator=SGDRegressor(alpha=0.0001, average=False, epsilon=0.1, eta0=0.01,\n",
       "       fit_intercept=True, l1_ratio=0.15, learning_rate='invscaling',\n",
       "       loss='squared_loss', n_iter=5, penalty='l2', power_t=0.25,\n",
       "       random_state=42, shuffle=True, verbose=0, warm_start=False),\n",
       "       fit_params={}, iid=True, n_jobs=1,\n",
       "       param_grid={'penalty': ['l1', 'l2'], 'loss': ['squared_loss', 'huber'], 'alpha': [0.01, 0.001, 0.0001]},\n",
       "       pre_dispatch='2*n_jobs', refit=True,\n",
       "       scoring=make_scorer(mean_squared_error, greater_is_better=False),\n",
       "       verbose=0)"
      ]
     },
     "execution_count": 29,
     "metadata": {},
     "output_type": "execute_result"
    }
   ],
   "source": [
    "parameters = {'loss': ['squared_loss', 'huber'],\n",
    "             'penalty': ['l1','l2'],\n",
    "              'alpha': [0.01, 0.001, 0.0001]\n",
    "             }\n",
    "accuracy=make_scorer(mean_squared_error, greater_is_better=False)\n",
    "SGDclf_scale = GridSearchCV(SGDRegressor(random_state=42), parameters, cv=5,scoring=accuracy)\n",
    "SGDclf_scale.fit(X_train_scaled, y_train)"
   ]
  },
  {
   "cell_type": "code",
   "execution_count": 30,
   "metadata": {
    "collapsed": false
   },
   "outputs": [
    {
     "name": "stdout",
     "output_type": "stream",
     "text": [
      "{'penalty': 'l1', 'alpha': 0.01, 'loss': 'huber'}\n",
      "-38717053033.4\n"
     ]
    }
   ],
   "source": [
    "print SGDclf_scale.best_params_\n",
    "print SGDclf_scale.best_score_"
   ]
  },
  {
   "cell_type": "code",
   "execution_count": 31,
   "metadata": {
    "collapsed": false
   },
   "outputs": [
    {
     "data": {
      "text/plain": [
       "199229.24122874188"
      ]
     },
     "execution_count": 31,
     "metadata": {},
     "output_type": "execute_result"
    }
   ],
   "source": [
    "GSCV_SGDclf_scale = SGDRegressor(penalty='l1', alpha=0.01, loss='huber', random_state=42)\n",
    "GSCV_SGDclf_scale.fit(X_train_scaled, y_train)\n",
    "GSCV_SGDclf_predict_scale = GSCV_SGDclf_scale.predict(X_test_scaled)\n",
    "GSCV_SGDclf_RMSE_scale=np.sqrt(mean_squared_error(y_test, GSCV_SGDclf_predict_scale))\n",
    "GSCV_SGDclf_RMSE_scale"
   ]
  },
  {
   "cell_type": "code",
   "execution_count": 32,
   "metadata": {
    "collapsed": false
   },
   "outputs": [
    {
     "data": {
      "text/plain": [
       "GridSearchCV(cv=5, error_score='raise',\n",
       "       estimator=SGDRegressor(alpha=0.0001, average=False, epsilon=0.1, eta0=0.01,\n",
       "       fit_intercept=True, l1_ratio=0.15, learning_rate='invscaling',\n",
       "       loss='squared_loss', n_iter=5, penalty='l2', power_t=0.25,\n",
       "       random_state=42, shuffle=True, verbose=0, warm_start=False),\n",
       "       fit_params={}, iid=True, n_jobs=1,\n",
       "       param_grid={'penalty': ['l1', 'l2'], 'loss': ['squared_loss', 'huber'], 'alpha': [0.01, 0.001, 0.0001]},\n",
       "       pre_dispatch='2*n_jobs', refit=True,\n",
       "       scoring=make_scorer(mean_squared_error, greater_is_better=False),\n",
       "       verbose=0)"
      ]
     },
     "execution_count": 32,
     "metadata": {},
     "output_type": "execute_result"
    }
   ],
   "source": [
    "parameters = {'loss': ['squared_loss', 'huber'],\n",
    "             'penalty': ['l1','l2'],\n",
    "              'alpha': [0.01, 0.001, 0.0001]\n",
    "             }\n",
    "accuracy=make_scorer(mean_squared_error, greater_is_better=False)\n",
    "SGDclf_log = GridSearchCV(SGDRegressor(random_state=42), parameters, cv=5,scoring=accuracy)\n",
    "SGDclf_log.fit(X_train, log_y_train)"
   ]
  },
  {
   "cell_type": "code",
   "execution_count": 33,
   "metadata": {
    "collapsed": false
   },
   "outputs": [
    {
     "name": "stdout",
     "output_type": "stream",
     "text": [
      "{'penalty': 'l1', 'alpha': 0.001, 'loss': 'huber'}\n",
      "-135807869.709\n"
     ]
    }
   ],
   "source": [
    "print SGDclf_log.best_params_\n",
    "print SGDclf_log.best_score_"
   ]
  },
  {
   "cell_type": "code",
   "execution_count": null,
   "metadata": {
    "collapsed": true
   },
   "outputs": [],
   "source": [
    "### NOT SURE OF BEST PARAMS -- LOG WOULDN'T RUN\n",
    "# GSCV_SGDclf_log = SGDRegressor(penalty='l1', alpha=0.01, loss='huber', random_state=42)\n",
    "# GSCV_SGDclf_log.fit(X_train, log_y_train)\n",
    "# GSCV_SGDclf_predict_log = GSCV_SGDclf_log.predict(X_test)\n",
    "# GSCV_SGDclf_RMSE_log=np.sqrt(mean_squared_error(y_test, np.exp(GSCV_SGDclf_predict_log)))\n",
    "# GSCV_SGDclf_RMSE_log"
   ]
  },
  {
   "cell_type": "code",
   "execution_count": 34,
   "metadata": {
    "collapsed": false
   },
   "outputs": [
    {
     "data": {
      "text/plain": [
       "GridSearchCV(cv=5, error_score='raise',\n",
       "       estimator=SGDRegressor(alpha=0.0001, average=False, epsilon=0.1, eta0=0.01,\n",
       "       fit_intercept=True, l1_ratio=0.15, learning_rate='invscaling',\n",
       "       loss='squared_loss', n_iter=5, penalty='l2', power_t=0.25,\n",
       "       random_state=42, shuffle=True, verbose=0, warm_start=False),\n",
       "       fit_params={}, iid=True, n_jobs=1,\n",
       "       param_grid={'penalty': ['l1', 'l2'], 'loss': ['squared_loss', 'huber'], 'alpha': [0.01, 0.001, 0.0001]},\n",
       "       pre_dispatch='2*n_jobs', refit=True,\n",
       "       scoring=make_scorer(mean_squared_error, greater_is_better=False),\n",
       "       verbose=0)"
      ]
     },
     "execution_count": 34,
     "metadata": {},
     "output_type": "execute_result"
    }
   ],
   "source": [
    "parameters = {'loss': ['squared_loss', 'huber'],\n",
    "             'penalty': ['l1','l2'],\n",
    "              'alpha': [0.01, 0.001, 0.0001]\n",
    "             }\n",
    "accuracy=make_scorer(mean_squared_error, greater_is_better=False)\n",
    "SGDclf_scalelog = GridSearchCV(SGDRegressor(random_state=42), parameters, cv=5,scoring=accuracy)\n",
    "SGDclf_scalelog.fit(X_train_scaled, log_y_train)"
   ]
  },
  {
   "cell_type": "code",
   "execution_count": 35,
   "metadata": {
    "collapsed": false
   },
   "outputs": [
    {
     "name": "stdout",
     "output_type": "stream",
     "text": [
      "{'penalty': 'l1', 'alpha': 0.01, 'loss': 'huber'}\n",
      "-129.479191791\n"
     ]
    }
   ],
   "source": [
    "print SGDclf_scalelog.best_params_\n",
    "print SGDclf_scalelog.best_score_"
   ]
  },
  {
   "cell_type": "code",
   "execution_count": null,
   "metadata": {
    "collapsed": true
   },
   "outputs": [],
   "source": [
    "# ## NOT SURE OF BEST PARAMS -- LOG WOULDN'T RUN\n",
    "# GSCV_SGDclf_scalelog = SGDRegressor(penalty='l1', alpha=0.01, loss='huber', random_state=42)\n",
    "# GSCV_SGDclf_scalelog.fit(X_train_scaled, log_y_train)\n",
    "# GSCV_SGDclf_predict_scalelog = GSCV_SGDclf_scalelog.predict(X_test_scaled)\n",
    "# GSCV_SGDclf_RMSE_scalelog=np.sqrt(mean_squared_error(y_test, np.exp(GSCV_SGDclf_predict_scalelog)))\n",
    "# GSCV_SGDclf_RMSE_scalelog"
   ]
  },
  {
   "cell_type": "markdown",
   "metadata": {},
   "source": [
    "### Regression Trees"
   ]
  },
  {
   "cell_type": "code",
   "execution_count": 36,
   "metadata": {
    "collapsed": false
   },
   "outputs": [
    {
     "name": "stdout",
     "output_type": "stream",
     "text": [
      "RMSE for Regression Tree is: 42057.2156\n"
     ]
    }
   ],
   "source": [
    "# Create and fit the model\n",
    "model_tree2_reg = DecisionTreeRegressor(random_state = 1)\n",
    "model_tree2_reg.fit(X_train, y_train)\n",
    "\n",
    "# Predict on the test set\n",
    "p_tree2_reg = model_tree2_reg.predict(X_test)\n",
    "\n",
    "# Calculate RMSE of the model\n",
    "REGTREE_residuals_reg = p_tree2_reg - y_test\n",
    "REGTREE_MSE_reg = (REGTREE_residuals_reg**2).mean()\n",
    "REGTREE_RMSE_reg = math.sqrt(REGTREE_MSE_reg)\n",
    "\n",
    "print \"RMSE for Regression Tree is:\", round(REGTREE_RMSE_reg,4)"
   ]
  },
  {
   "cell_type": "code",
   "execution_count": 37,
   "metadata": {
    "collapsed": false
   },
   "outputs": [
    {
     "name": "stdout",
     "output_type": "stream",
     "text": [
      "RMSE for Regression Tree USING LOG is: 44498.3929\n"
     ]
    }
   ],
   "source": [
    "# Create and fit the model\n",
    "model_tree2_log = DecisionTreeRegressor(random_state = 1)\n",
    "model_tree2_log.fit(X_train, log_y_train)\n",
    "\n",
    "# Predict on the test set\n",
    "p_tree2_log = model_tree2_log.predict(X_test)\n",
    "\n",
    "# Calculate RMSE of the model\n",
    "REGTREE_residuals_log = np.exp(p_tree2_log) - y_test\n",
    "REGTREE_MSE_log = (REGTREE_residuals_log**2).mean()\n",
    "REGTREE_RMSE_log = math.sqrt(REGTREE_MSE_log)\n",
    "\n",
    "print \"RMSE for Regression Tree USING LOG is:\", round(REGTREE_RMSE_log,4)"
   ]
  },
  {
   "cell_type": "code",
   "execution_count": 38,
   "metadata": {
    "collapsed": false
   },
   "outputs": [
    {
     "name": "stdout",
     "output_type": "stream",
     "text": [
      "RMSE with scaling Regression Tree is: 42052.9977\n"
     ]
    }
   ],
   "source": [
    "# Create and fit the model\n",
    "model_tree2_scale = DecisionTreeRegressor(random_state = 1)\n",
    "model_tree2_scale.fit(X_train_scaled, y_train)\n",
    "\n",
    "# Predict on the test set\n",
    "p_tree2_scale = model_tree2_scale.predict(X_test_scaled)\n",
    "\n",
    "# Calculate RMSE of the model\n",
    "REGTREE_residuals_scale = p_tree2_scale - y_test\n",
    "REGTREE_MSE_scale = (REGTREE_residuals_scale**2).mean()\n",
    "REGTREE_RMSE_scale = math.sqrt(REGTREE_MSE_scale)\n",
    "\n",
    "print \"RMSE with scaling Regression Tree is:\", round(REGTREE_RMSE_scale,4)"
   ]
  },
  {
   "cell_type": "code",
   "execution_count": 41,
   "metadata": {
    "collapsed": false
   },
   "outputs": [
    {
     "name": "stdout",
     "output_type": "stream",
     "text": [
      "RMSE with scaling for Regression Tree USING LOG is: 44498.3929\n"
     ]
    }
   ],
   "source": [
    "# Create and fit the model\n",
    "model_tree2_scalelog = DecisionTreeRegressor(random_state = 1)\n",
    "model_tree2_scalelog.fit(X_train_scaled, log_y_train)\n",
    "\n",
    "# Predict on the test set\n",
    "p_tree2_scalelog = model_tree2_scalelog.predict(X_test_scaled)\n",
    "\n",
    "# Calculate RMSE of the model\n",
    "REGTREE_residuals_scalelog = np.exp(p_tree2_scalelog) - y_test\n",
    "REGTREE_MSE_scalelog = (REGTREE_residuals_scalelog**2).mean()\n",
    "REGTREE_RMSE_scalelog = math.sqrt(REGTREE_MSE_scalelog)\n",
    "\n",
    "print \"RMSE with scaling for Regression Tree USING LOG is:\", round(REGTREE_RMSE_scalelog,4)"
   ]
  },
  {
   "cell_type": "code",
   "execution_count": 42,
   "metadata": {
    "collapsed": false
   },
   "outputs": [
    {
     "name": "stdout",
     "output_type": "stream",
     "text": [
      "OverallQual            0.614102\n",
      "GrLivArea              0.084007\n",
      "BsmtFinSF1             0.047267\n",
      "TotalBsmtSF            0.028029\n",
      "Exterior1st_HdBoard    0.024879\n",
      "LotArea                0.018646\n",
      "BsmtExposure_Gd        0.018032\n",
      "GarageArea             0.017976\n",
      "WoodDeckSF             0.017917\n",
      "LotFrontage            0.016860\n",
      "dtype: float64\n"
     ]
    }
   ],
   "source": [
    "# # Feature importances from Model 1\n",
    "# imp_tree1 = pd.Series(model_tree1.feature_importances_,X_train.columns.values)\n",
    "# print imp_tree1.sort_values(ascending = False)[:10]\n",
    "\n",
    "# Feature importances from Model 2\n",
    "imp_tree2 = pd.Series(model_tree2_reg.feature_importances_,X_train.columns.values)\n",
    "print imp_tree2.sort_values(ascending = False)[:10]"
   ]
  },
  {
   "cell_type": "code",
   "execution_count": 43,
   "metadata": {
    "collapsed": false
   },
   "outputs": [
    {
     "name": "stdout",
     "output_type": "stream",
     "text": [
      "RMSE for Regression Tree is: 42057.2156\n",
      "RMSE for Regression Tree USING LOG is: 44498.3929\n",
      "RMSE with scaling Regression Tree is: 42052.9977\n",
      "RMSE with scaling for Regression Tree USING LOG is: 44498.3929\n"
     ]
    }
   ],
   "source": [
    "# SUMMARY - Regression Trees\n",
    "print \"RMSE for Regression Tree is:\", round(REGTREE_RMSE_reg,4)\n",
    "print \"RMSE for Regression Tree USING LOG is:\", round(REGTREE_RMSE_log,4)\n",
    "print \"RMSE with scaling Regression Tree is:\", round(REGTREE_RMSE_scale,4)\n",
    "print \"RMSE with scaling for Regression Tree USING LOG is:\", round(REGTREE_RMSE_scalelog,4)"
   ]
  },
  {
   "cell_type": "markdown",
   "metadata": {},
   "source": [
    "###  Random Forest (GridSearchCV)"
   ]
  },
  {
   "cell_type": "code",
   "execution_count": 44,
   "metadata": {
    "collapsed": true
   },
   "outputs": [],
   "source": [
    "# Cross validate RF model\n",
    "# Set parameter dictionary to search through\n",
    "params = {'n_estimators':[10,100,500, 1000], 'max_depth':[5,10,20]}\n",
    "\n",
    "# Create model and fit best parameters\n",
    "model_rf2 = RandomForestRegressor()\n",
    "model_rf2_GS_reg = GridSearchCV(model_rf2, params)\n",
    "model_rf2_GS_log = GridSearchCV(model_rf2, params)\n",
    "model_rf2_GS_scale = GridSearchCV(model_rf2, params)\n",
    "model_rf2_GS_scalelog = GridSearchCV(model_rf2, params)"
   ]
  },
  {
   "cell_type": "code",
   "execution_count": 45,
   "metadata": {
    "collapsed": false
   },
   "outputs": [
    {
     "data": {
      "text/plain": [
       "GridSearchCV(cv=None, error_score='raise',\n",
       "       estimator=RandomForestRegressor(bootstrap=True, criterion='mse', max_depth=None,\n",
       "           max_features='auto', max_leaf_nodes=None,\n",
       "           min_impurity_split=1e-07, min_samples_leaf=1,\n",
       "           min_samples_split=2, min_weight_fraction_leaf=0.0,\n",
       "           n_estimators=10, n_jobs=1, oob_score=False, random_state=None,\n",
       "           verbose=0, warm_start=False),\n",
       "       fit_params={}, iid=True, n_jobs=1,\n",
       "       param_grid={'n_estimators': [10, 100, 500, 1000], 'max_depth': [5, 10, 20]},\n",
       "       pre_dispatch='2*n_jobs', refit=True, scoring=None, verbose=0)"
      ]
     },
     "execution_count": 45,
     "metadata": {},
     "output_type": "execute_result"
    }
   ],
   "source": [
    "# Avoid running, build a RF model below\n",
    "model_rf2_GS_reg.fit(X_train, y_train)"
   ]
  },
  {
   "cell_type": "code",
   "execution_count": 46,
   "metadata": {
    "collapsed": false
   },
   "outputs": [
    {
     "data": {
      "text/plain": [
       "GridSearchCV(cv=None, error_score='raise',\n",
       "       estimator=RandomForestRegressor(bootstrap=True, criterion='mse', max_depth=None,\n",
       "           max_features='auto', max_leaf_nodes=None,\n",
       "           min_impurity_split=1e-07, min_samples_leaf=1,\n",
       "           min_samples_split=2, min_weight_fraction_leaf=0.0,\n",
       "           n_estimators=10, n_jobs=1, oob_score=False, random_state=None,\n",
       "           verbose=0, warm_start=False),\n",
       "       fit_params={}, iid=True, n_jobs=1,\n",
       "       param_grid={'n_estimators': [10, 100, 500, 1000], 'max_depth': [5, 10, 20]},\n",
       "       pre_dispatch='2*n_jobs', refit=True, scoring=None, verbose=0)"
      ]
     },
     "execution_count": 46,
     "metadata": {},
     "output_type": "execute_result"
    }
   ],
   "source": [
    "# Avoid running, build a RF model below\n",
    "model_rf2_GS_log.fit(X_train, log_y_train)"
   ]
  },
  {
   "cell_type": "code",
   "execution_count": 47,
   "metadata": {
    "collapsed": false
   },
   "outputs": [
    {
     "data": {
      "text/plain": [
       "GridSearchCV(cv=None, error_score='raise',\n",
       "       estimator=RandomForestRegressor(bootstrap=True, criterion='mse', max_depth=None,\n",
       "           max_features='auto', max_leaf_nodes=None,\n",
       "           min_impurity_split=1e-07, min_samples_leaf=1,\n",
       "           min_samples_split=2, min_weight_fraction_leaf=0.0,\n",
       "           n_estimators=10, n_jobs=1, oob_score=False, random_state=None,\n",
       "           verbose=0, warm_start=False),\n",
       "       fit_params={}, iid=True, n_jobs=1,\n",
       "       param_grid={'n_estimators': [10, 100, 500, 1000], 'max_depth': [5, 10, 20]},\n",
       "       pre_dispatch='2*n_jobs', refit=True, scoring=None, verbose=0)"
      ]
     },
     "execution_count": 47,
     "metadata": {},
     "output_type": "execute_result"
    }
   ],
   "source": [
    "# Avoid running, build a RF model below\n",
    "model_rf2_GS_scale.fit(X_train_scaled, y_train)"
   ]
  },
  {
   "cell_type": "code",
   "execution_count": 48,
   "metadata": {
    "collapsed": false
   },
   "outputs": [
    {
     "data": {
      "text/plain": [
       "GridSearchCV(cv=None, error_score='raise',\n",
       "       estimator=RandomForestRegressor(bootstrap=True, criterion='mse', max_depth=None,\n",
       "           max_features='auto', max_leaf_nodes=None,\n",
       "           min_impurity_split=1e-07, min_samples_leaf=1,\n",
       "           min_samples_split=2, min_weight_fraction_leaf=0.0,\n",
       "           n_estimators=10, n_jobs=1, oob_score=False, random_state=None,\n",
       "           verbose=0, warm_start=False),\n",
       "       fit_params={}, iid=True, n_jobs=1,\n",
       "       param_grid={'n_estimators': [10, 100, 500, 1000], 'max_depth': [5, 10, 20]},\n",
       "       pre_dispatch='2*n_jobs', refit=True, scoring=None, verbose=0)"
      ]
     },
     "execution_count": 48,
     "metadata": {},
     "output_type": "execute_result"
    }
   ],
   "source": [
    "# Avoid running, build a RF model below\n",
    "model_rf2_GS_scalelog.fit(X_train_scaled, log_y_train)"
   ]
  },
  {
   "cell_type": "code",
   "execution_count": 49,
   "metadata": {
    "collapsed": true
   },
   "outputs": [],
   "source": [
    "# Save best estimates to avoid re-running grid search\n",
    "model_rf2_GS_reg_best=model_rf2_GS_reg.best_estimator_\n",
    "model_rf2_GS_log_best=model_rf2_GS_log.best_estimator_\n",
    "model_rf2_GS_scale_best=model_rf2_GS_scale.best_estimator_\n",
    "model_rf2_GS_scalelog_best=model_rf2_GS_scalelog.best_estimator_"
   ]
  },
  {
   "cell_type": "code",
   "execution_count": 50,
   "metadata": {
    "collapsed": false
   },
   "outputs": [
    {
     "name": "stdout",
     "output_type": "stream",
     "text": [
      "RMSE for GS Random Forest is: 26001.3018\n"
     ]
    }
   ],
   "source": [
    "# Make predictions on Grid search optimized RF model\n",
    "p_rf2_reg = model_rf2_GS_reg.predict(X_test)\n",
    "\n",
    "# Calculate RMSE of the model\n",
    "GS_RANDFOR_residuals_reg = p_rf2_reg - y_test\n",
    "GS_RANDFOR_MSE_reg = (GS_RANDFOR_residuals_reg**2).mean()\n",
    "GS_RANDFOR_RMSE_reg = math.sqrt(GS_RANDFOR_MSE_reg)\n",
    "\n",
    "print \"RMSE for GS Random Forest is:\", round(GS_RANDFOR_RMSE_reg,4)"
   ]
  },
  {
   "cell_type": "code",
   "execution_count": 51,
   "metadata": {
    "collapsed": false
   },
   "outputs": [
    {
     "name": "stdout",
     "output_type": "stream",
     "text": [
      "RMSE for GS Random Forest USING LOG is: 28729.3736\n"
     ]
    }
   ],
   "source": [
    "# Make predictions on Grid search optimized RF model\n",
    "p_rf2_log = model_rf2_GS_log.predict(X_test)\n",
    "\n",
    "# Calculate RMSE of the model\n",
    "GS_RANDFOR_residuals_log = np.exp(p_rf2_log) - y_test\n",
    "GS_RANDFOR_MSE_log = (GS_RANDFOR_residuals_log**2).mean()\n",
    "GS_RANDFOR_RMSE_log = math.sqrt(GS_RANDFOR_MSE_log)\n",
    "\n",
    "print \"RMSE for GS Random Forest USING LOG is:\", round(GS_RANDFOR_RMSE_log,4)"
   ]
  },
  {
   "cell_type": "code",
   "execution_count": 52,
   "metadata": {
    "collapsed": false
   },
   "outputs": [
    {
     "name": "stdout",
     "output_type": "stream",
     "text": [
      "RMSE using scaling for GS Random Forest is: 26411.5829\n"
     ]
    }
   ],
   "source": [
    "# Make predictions on Grid search optimized RF model\n",
    "p_rf2_scale = model_rf2_GS_scale.predict(X_test_scaled)\n",
    "\n",
    "# Calculate RMSE of the model\n",
    "GS_RANDFOR_residuals_scale = p_rf2_scale - y_test\n",
    "GS_RANDFOR_MSE_scale = (GS_RANDFOR_residuals_scale**2).mean()\n",
    "GS_RANDFOR_RMSE_scale = math.sqrt(GS_RANDFOR_MSE_scale)\n",
    "\n",
    "print \"RMSE using scaling for GS Random Forest is:\", round(GS_RANDFOR_RMSE_scale,4)"
   ]
  },
  {
   "cell_type": "code",
   "execution_count": 53,
   "metadata": {
    "collapsed": false
   },
   "outputs": [
    {
     "name": "stdout",
     "output_type": "stream",
     "text": [
      "RMSE using scaling for GS Random Forest USING LOG is: 28382.0876\n"
     ]
    }
   ],
   "source": [
    "# Make predictions on Grid search optimized RF model\n",
    "p_rf2_scalelog = model_rf2_GS_scalelog.predict(X_test_scaled)\n",
    "\n",
    "# Calculate RMSE of the model\n",
    "GS_RANDFOR_residuals_scalelog = np.exp(p_rf2_scalelog) - y_test\n",
    "GS_RANDFOR_MSE_scalelog = (GS_RANDFOR_residuals_scalelog**2).mean()\n",
    "GS_RANDFOR_RMSE_scalelog = math.sqrt(GS_RANDFOR_MSE_scalelog)\n",
    "\n",
    "print \"RMSE using scaling for GS Random Forest USING LOG is:\", round(GS_RANDFOR_RMSE_scalelog,4)"
   ]
  },
  {
   "cell_type": "code",
   "execution_count": 54,
   "metadata": {
    "collapsed": false
   },
   "outputs": [
    {
     "name": "stdout",
     "output_type": "stream",
     "text": [
      "RMSE for GS Random Forest is: 26001.3018\n",
      "RMSE for GS Random Forest USING LOG is: 28729.3736\n",
      "RMSE using scaling for GS Random Forest is: 26411.5829\n",
      "RMSE using scaling for GS Random Forest USING LOG is: 28382.0876\n"
     ]
    }
   ],
   "source": [
    "# SUMMARY - GridsearchCV on Random Forests\n",
    "print \"RMSE for GS Random Forest is:\", round(GS_RANDFOR_RMSE_reg,4)\n",
    "print \"RMSE for GS Random Forest USING LOG is:\", round(GS_RANDFOR_RMSE_log,4)\n",
    "print \"RMSE using scaling for GS Random Forest is:\", round(GS_RANDFOR_RMSE_scale,4)\n",
    "print \"RMSE using scaling for GS Random Forest USING LOG is:\", round(GS_RANDFOR_RMSE_scalelog,4)"
   ]
  },
  {
   "cell_type": "markdown",
   "metadata": {},
   "source": [
    "### Gradient Boosting (GridSearchCV)"
   ]
  },
  {
   "cell_type": "code",
   "execution_count": 55,
   "metadata": {
    "collapsed": true
   },
   "outputs": [],
   "source": [
    "# Create Gradient Boosting Model\n",
    "model_gb1 = GradientBoostingRegressor()\n",
    "\n",
    "# Create parameter dictionary for GridSearchCV\n",
    "params = {'n_estimators':(5,10,50,100,500,1000),'learning_rate':(0.01, 0.05, 0.1, 0.2),'min_samples_leaf':(1,5,10,20)}\n",
    "\n",
    "#Create Grid Search Model\n",
    "model_gb1_GS = GridSearchCV(model_gb1,params)\n",
    "model_gb1_GS_reg = GridSearchCV(model_gb1, params)\n",
    "model_gb1_GS_log = GridSearchCV(model_gb1, params)\n",
    "model_gb1_GS_scale = GridSearchCV(model_gb1, params)\n",
    "model_gb1_GS_scalelog = GridSearchCV(model_gb1, params)"
   ]
  },
  {
   "cell_type": "code",
   "execution_count": 56,
   "metadata": {
    "collapsed": false
   },
   "outputs": [
    {
     "data": {
      "text/plain": [
       "GridSearchCV(cv=None, error_score='raise',\n",
       "       estimator=GradientBoostingRegressor(alpha=0.9, criterion='friedman_mse', init=None,\n",
       "             learning_rate=0.1, loss='ls', max_depth=3, max_features=None,\n",
       "             max_leaf_nodes=None, min_impurity_split=1e-07,\n",
       "             min_samples_leaf=1, min_samples_split=2,\n",
       "             min_weight_fraction_leaf=0.0, n_estimators=100,\n",
       "             presort='auto', random_state=None, subsample=1.0, verbose=0,\n",
       "             warm_start=False),\n",
       "       fit_params={}, iid=True, n_jobs=1,\n",
       "       param_grid={'n_estimators': (5, 10, 50, 100, 500, 1000), 'learning_rate': (0.01, 0.05, 0.1, 0.2), 'min_samples_leaf': (1, 5, 10, 20)},\n",
       "       pre_dispatch='2*n_jobs', refit=True, scoring=None, verbose=0)"
      ]
     },
     "execution_count": 56,
     "metadata": {},
     "output_type": "execute_result"
    }
   ],
   "source": [
    "# Avoid running, build a RF model below\n",
    "model_gb1_GS_reg.fit(X_train, y_train)"
   ]
  },
  {
   "cell_type": "code",
   "execution_count": 57,
   "metadata": {
    "collapsed": false
   },
   "outputs": [
    {
     "data": {
      "text/plain": [
       "GridSearchCV(cv=None, error_score='raise',\n",
       "       estimator=GradientBoostingRegressor(alpha=0.9, criterion='friedman_mse', init=None,\n",
       "             learning_rate=0.1, loss='ls', max_depth=3, max_features=None,\n",
       "             max_leaf_nodes=None, min_impurity_split=1e-07,\n",
       "             min_samples_leaf=1, min_samples_split=2,\n",
       "             min_weight_fraction_leaf=0.0, n_estimators=100,\n",
       "             presort='auto', random_state=None, subsample=1.0, verbose=0,\n",
       "             warm_start=False),\n",
       "       fit_params={}, iid=True, n_jobs=1,\n",
       "       param_grid={'n_estimators': (5, 10, 50, 100, 500, 1000), 'learning_rate': (0.01, 0.05, 0.1, 0.2), 'min_samples_leaf': (1, 5, 10, 20)},\n",
       "       pre_dispatch='2*n_jobs', refit=True, scoring=None, verbose=0)"
      ]
     },
     "execution_count": 57,
     "metadata": {},
     "output_type": "execute_result"
    }
   ],
   "source": [
    "# Avoid running, build a RF model below\n",
    "model_gb1_GS_log.fit(X_train, log_y_train)"
   ]
  },
  {
   "cell_type": "code",
   "execution_count": 58,
   "metadata": {
    "collapsed": false
   },
   "outputs": [
    {
     "data": {
      "text/plain": [
       "GridSearchCV(cv=None, error_score='raise',\n",
       "       estimator=GradientBoostingRegressor(alpha=0.9, criterion='friedman_mse', init=None,\n",
       "             learning_rate=0.1, loss='ls', max_depth=3, max_features=None,\n",
       "             max_leaf_nodes=None, min_impurity_split=1e-07,\n",
       "             min_samples_leaf=1, min_samples_split=2,\n",
       "             min_weight_fraction_leaf=0.0, n_estimators=100,\n",
       "             presort='auto', random_state=None, subsample=1.0, verbose=0,\n",
       "             warm_start=False),\n",
       "       fit_params={}, iid=True, n_jobs=1,\n",
       "       param_grid={'n_estimators': (5, 10, 50, 100, 500, 1000), 'learning_rate': (0.01, 0.05, 0.1, 0.2), 'min_samples_leaf': (1, 5, 10, 20)},\n",
       "       pre_dispatch='2*n_jobs', refit=True, scoring=None, verbose=0)"
      ]
     },
     "execution_count": 58,
     "metadata": {},
     "output_type": "execute_result"
    }
   ],
   "source": [
    "# Avoid running, build a RF model below\n",
    "model_gb1_GS_scale.fit(X_train_scaled, y_train)"
   ]
  },
  {
   "cell_type": "code",
   "execution_count": 59,
   "metadata": {
    "collapsed": false
   },
   "outputs": [
    {
     "data": {
      "text/plain": [
       "GridSearchCV(cv=None, error_score='raise',\n",
       "       estimator=GradientBoostingRegressor(alpha=0.9, criterion='friedman_mse', init=None,\n",
       "             learning_rate=0.1, loss='ls', max_depth=3, max_features=None,\n",
       "             max_leaf_nodes=None, min_impurity_split=1e-07,\n",
       "             min_samples_leaf=1, min_samples_split=2,\n",
       "             min_weight_fraction_leaf=0.0, n_estimators=100,\n",
       "             presort='auto', random_state=None, subsample=1.0, verbose=0,\n",
       "             warm_start=False),\n",
       "       fit_params={}, iid=True, n_jobs=1,\n",
       "       param_grid={'n_estimators': (5, 10, 50, 100, 500, 1000), 'learning_rate': (0.01, 0.05, 0.1, 0.2), 'min_samples_leaf': (1, 5, 10, 20)},\n",
       "       pre_dispatch='2*n_jobs', refit=True, scoring=None, verbose=0)"
      ]
     },
     "execution_count": 59,
     "metadata": {},
     "output_type": "execute_result"
    }
   ],
   "source": [
    "# Avoid running, build a RF model below\n",
    "model_gb1_GS_scalelog.fit(X_train_scaled, log_y_train)"
   ]
  },
  {
   "cell_type": "code",
   "execution_count": 60,
   "metadata": {
    "collapsed": true
   },
   "outputs": [],
   "source": [
    "# Save best estimates to avoid re-running grid search\n",
    "model_gb1_GS_reg_best=model_gb1_GS_reg.best_estimator_\n",
    "model_gb1_GS_log_best=model_gb1_GS_log.best_estimator_\n",
    "model_gb1_GS_scale_best=model_gb1_GS_scale.best_estimator_\n",
    "model_gb1_GS_scalelog_best=model_gb1_GS_scalelog.best_estimator_"
   ]
  },
  {
   "cell_type": "code",
   "execution_count": 61,
   "metadata": {
    "collapsed": false
   },
   "outputs": [
    {
     "name": "stdout",
     "output_type": "stream",
     "text": [
      "RMSE for GS Gradient Boosting is: 22022.954\n"
     ]
    }
   ],
   "source": [
    "# Make predictions on Grid search optimized Gradient Boosting model\n",
    "p_gb1_reg = model_gb1_GS_reg.predict(X_test)\n",
    "\n",
    "# Calculate RMSE of the model\n",
    "GS_GRADBOOST_residuals_reg = p_gb1_reg - y_test\n",
    "GS_GRADBOOST_MSE_reg = (GS_GRADBOOST_residuals_reg**2).mean()\n",
    "GS_GRADBOOST_RMSE_reg = math.sqrt(GS_GRADBOOST_MSE_reg)\n",
    "\n",
    "print \"RMSE for GS Gradient Boosting is:\", round(GS_GRADBOOST_RMSE_reg,4)"
   ]
  },
  {
   "cell_type": "code",
   "execution_count": 62,
   "metadata": {
    "collapsed": false
   },
   "outputs": [
    {
     "name": "stdout",
     "output_type": "stream",
     "text": [
      "RMSE for GS Gradient Boosting USING LOG is: 27948.1032\n"
     ]
    }
   ],
   "source": [
    "# Make predictions on Grid search optimized Gradient Boosting model\n",
    "p_gb1_log = model_gb1_GS_log.predict(X_test)\n",
    "\n",
    "# Calculate RMSE of the model\n",
    "GS_GRADBOOST_residuals_log = np.exp(p_gb1_log) - y_test\n",
    "GS_GRADBOOST_MSE_log = (GS_GRADBOOST_residuals_log**2).mean()\n",
    "GS_GRADBOOST_RMSE_log = math.sqrt(GS_GRADBOOST_MSE_log)\n",
    "\n",
    "print \"RMSE for GS Gradient Boosting USING LOG is:\", round(GS_GRADBOOST_RMSE_log,4)"
   ]
  },
  {
   "cell_type": "code",
   "execution_count": 63,
   "metadata": {
    "collapsed": false
   },
   "outputs": [
    {
     "name": "stdout",
     "output_type": "stream",
     "text": [
      "RMSE with scaling for GS Gradient Boosting is: 22969.1354\n"
     ]
    }
   ],
   "source": [
    "# Make predictions on Grid search optimized Gradient Boosting model\n",
    "p_gb1_scale = model_gb1_GS_scale.predict(X_test_scaled)\n",
    "\n",
    "# Calculate RMSE of the model\n",
    "GS_GRADBOOST_residuals_scale = p_gb1_scale - y_test\n",
    "GS_GRADBOOST_MSE_scale = (GS_GRADBOOST_residuals_scale**2).mean()\n",
    "GS_GRADBOOST_RMSE_scale = math.sqrt(GS_GRADBOOST_MSE_scale)\n",
    "\n",
    "print \"RMSE with scaling for GS Gradient Boosting is:\", round(GS_GRADBOOST_RMSE_scale,4)"
   ]
  },
  {
   "cell_type": "code",
   "execution_count": 64,
   "metadata": {
    "collapsed": false
   },
   "outputs": [
    {
     "name": "stdout",
     "output_type": "stream",
     "text": [
      "RMSE with scaling for GS Gradient Boosting USING LOG is: 27946.2613\n"
     ]
    }
   ],
   "source": [
    "# Make predictions on Grid search optimized Gradient Boosting model\n",
    "p_gb1_scalelog = model_gb1_GS_scalelog.predict(X_test_scaled)\n",
    "\n",
    "# Calculate RMSE of the model\n",
    "GS_GRADBOOST_residuals_scalelog = np.exp(p_gb1_scalelog) - y_test\n",
    "GS_GRADBOOST_MSE_scalelog = (GS_GRADBOOST_residuals_scalelog**2).mean()\n",
    "GS_GRADBOOST_RMSE_scalelog = math.sqrt(GS_GRADBOOST_MSE_scalelog)\n",
    "\n",
    "print \"RMSE with scaling for GS Gradient Boosting USING LOG is:\", round(GS_GRADBOOST_RMSE_scalelog,4)"
   ]
  },
  {
   "cell_type": "code",
   "execution_count": 65,
   "metadata": {
    "collapsed": false
   },
   "outputs": [
    {
     "name": "stdout",
     "output_type": "stream",
     "text": [
      "RMSE for GS Gradient Boosting is: 22022.954\n",
      "RMSE for GS Gradient Boosting USING LOG is: 27948.1032\n",
      "RMSE with scaling for GS Gradient Boosting is: 22969.1354\n",
      "RMSE with scaling for GS Gradient Boosting USING LOG is: 27946.2613\n"
     ]
    }
   ],
   "source": [
    "# SUMMARY - GridsearchCV on Gradient Boosting\n",
    "print \"RMSE for GS Gradient Boosting is:\", round(GS_GRADBOOST_RMSE_reg,4)\n",
    "print \"RMSE for GS Gradient Boosting USING LOG is:\", round(GS_GRADBOOST_RMSE_log,4)\n",
    "print \"RMSE with scaling for GS Gradient Boosting is:\", round(GS_GRADBOOST_RMSE_scale,4)\n",
    "print \"RMSE with scaling for GS Gradient Boosting USING LOG is:\", round(GS_GRADBOOST_RMSE_scalelog,4)"
   ]
  },
  {
   "cell_type": "markdown",
   "metadata": {},
   "source": [
    "### AdaBoost"
   ]
  },
  {
   "cell_type": "code",
   "execution_count": 73,
   "metadata": {
    "collapsed": false
   },
   "outputs": [
    {
     "data": {
      "text/plain": [
       "GridSearchCV(cv=5, error_score='raise',\n",
       "       estimator=AdaBoostRegressor(base_estimator=None, learning_rate=1.0, loss='linear',\n",
       "         n_estimators=50, random_state=0),\n",
       "       fit_params={}, iid=True, n_jobs=1,\n",
       "       param_grid={'n_estimators': [10, 20, 50, 100, 500], 'loss': ['linear', 'square'], 'learning_rate': [0.01, 0.001, 0.0001]},\n",
       "       pre_dispatch='2*n_jobs', refit=True,\n",
       "       scoring=make_scorer(mean_squared_error, greater_is_better=False),\n",
       "       verbose=0)"
      ]
     },
     "execution_count": 73,
     "metadata": {},
     "output_type": "execute_result"
    }
   ],
   "source": [
    "#predictions are on average 1.17 times as large as the actual value\n",
    "parameters={'n_estimators':[10,20,50,100,500],'learning_rate': [0.01, 0.001, 0.0001], 'loss': ['linear', 'square']}\n",
    "accuracy=make_scorer(mean_squared_error, greater_is_better=False)\n",
    "GS_ADABOOST = GridSearchCV(AdaBoostRegressor(random_state=0), parameters, cv=5,scoring=accuracy)\n",
    "GS_ADABOOST.fit(X_train, y_train)"
   ]
  },
  {
   "cell_type": "code",
   "execution_count": 74,
   "metadata": {
    "collapsed": false
   },
   "outputs": [
    {
     "data": {
      "text/plain": [
       "{'learning_rate': 0.01, 'loss': 'linear', 'n_estimators': 500}"
      ]
     },
     "execution_count": 74,
     "metadata": {},
     "output_type": "execute_result"
    }
   ],
   "source": [
    "GS_ADABOOST.best_params_"
   ]
  },
  {
   "cell_type": "code",
   "execution_count": 75,
   "metadata": {
    "collapsed": false
   },
   "outputs": [
    {
     "data": {
      "text/plain": [
       "39013.091125634528"
      ]
     },
     "execution_count": 75,
     "metadata": {},
     "output_type": "execute_result"
    }
   ],
   "source": [
    "GS_ADABOOST_reg=AdaBoostRegressor(random_state=1, loss='linear', learning_rate=0.01)\n",
    "GS_ADABOOST_reg.fit(X_train, y_train)\n",
    "GS_ADABOOST_predict_reg=GS_ADABOOST_reg.predict(X_test)\n",
    "GS_ADABOOST_RMSE_reg=np.sqrt(np.mean((y_test-GS_ADABOOST_predict_reg)**2))\n",
    "GS_ADABOOST_RMSE_reg"
   ]
  },
  {
   "cell_type": "code",
   "execution_count": 76,
   "metadata": {
    "collapsed": false
   },
   "outputs": [
    {
     "data": {
      "text/plain": [
       "39034.963873358778"
      ]
     },
     "execution_count": 76,
     "metadata": {},
     "output_type": "execute_result"
    }
   ],
   "source": [
    "GS_ADABOOST_scale=AdaBoostRegressor(random_state=1, loss='linear', learning_rate=0.01)\n",
    "GS_ADABOOST_scale.fit(X_train_scaled, y_train)\n",
    "GS_ADABOOST_predict_scale = GS_ADABOOST_scale.predict(X_test_scaled)\n",
    "GS_ADABOOST_RMSE_scale=np.sqrt(np.mean((y_test-GS_ADABOOST_predict_scale)**2))\n",
    "GS_ADABOOST_RMSE_scale"
   ]
  },
  {
   "cell_type": "code",
   "execution_count": 77,
   "metadata": {
    "collapsed": false
   },
   "outputs": [
    {
     "data": {
      "text/plain": [
       "41806.003177239654"
      ]
     },
     "execution_count": 77,
     "metadata": {},
     "output_type": "execute_result"
    }
   ],
   "source": [
    "GS_ADABOOST_log=AdaBoostRegressor(random_state=1, loss='linear', learning_rate=0.01)\n",
    "GS_ADABOOST_log.fit(X_train, log_y_train)\n",
    "GS_ADABOOST_predict_log = GS_ADABOOST_log.predict(X_test)\n",
    "GS_ADABOOST_RMSE_log=np.sqrt(np.mean((y_test-np.exp(GS_ADABOOST_predict_log))**2))\n",
    "GS_ADABOOST_RMSE_log"
   ]
  },
  {
   "cell_type": "code",
   "execution_count": 78,
   "metadata": {
    "collapsed": false
   },
   "outputs": [
    {
     "data": {
      "text/plain": [
       "41793.829574989497"
      ]
     },
     "execution_count": 78,
     "metadata": {},
     "output_type": "execute_result"
    }
   ],
   "source": [
    "GS_ADABOOST_scalelog=AdaBoostRegressor(random_state=1, loss='linear', learning_rate=0.01)\n",
    "GS_ADABOOST_scalelog.fit(X_train_scaled, log_y_train)\n",
    "GS_ADABOOST_predict_scalelog = GS_ADABOOST_scalelog.predict(X_test_scaled)\n",
    "GS_ADABOOST_RMSE_scalelog=np.sqrt(np.mean((y_test-np.exp(GS_ADABOOST_predict_scalelog))**2))\n",
    "GS_ADABOOST_RMSE_scalelog"
   ]
  },
  {
   "cell_type": "markdown",
   "metadata": {},
   "source": [
    "### MARS"
   ]
  },
  {
   "cell_type": "code",
   "execution_count": 79,
   "metadata": {
    "collapsed": true
   },
   "outputs": [],
   "source": [
    "# Best Model\n",
    "MARS_scalelog = Earth(max_degree= 3,penalty=2.0,feature_importance_type = \"rss\",\n",
    "                      smooth=True,enable_pruning=True)\n",
    "\n",
    "MARS_scalelog_fit = MARS_scalelog.fit(X_train_scaled,log_y_train)"
   ]
  },
  {
   "cell_type": "code",
   "execution_count": 80,
   "metadata": {
    "collapsed": false
   },
   "outputs": [
    {
     "name": "stdout",
     "output_type": "stream",
     "text": [
      "Earth Model\n",
      "---------------------------------------------------------------------------------------------------\n",
      "Basis Function                                                                Pruned  Coefficient  \n",
      "---------------------------------------------------------------------------------------------------\n",
      "(Intercept)                                                                   No      12.5961      \n",
      "x2                                                                            No      0.0830991    \n",
      "C(x12|s=+1,0.114121,2.46204,5.11121)                                          No      0.108668     \n",
      "C(x12|s=-1,0.114121,2.46204,5.11121)                                          No      -0.145441    \n",
      "C(x5|s=+1,0.616204,2.19736,6.72856)                                           No      0.0483605    \n",
      "C(x5|s=-1,0.616204,2.19736,6.72856)                                           Yes     None         \n",
      "x21*C(x5|s=-1,0.616204,2.19736,6.72856)                                       No      0.016983     \n",
      "x53*C(x5|s=-1,0.616204,2.19736,6.72856)                                       No      -0.00851884  \n",
      "x32                                                                           No      -0.0318077   \n",
      "C(x8|s=+1,-0.0909479,2.17412,6.71651)                                         Yes     None         \n",
      "C(x8|s=-1,-0.0909479,2.17412,6.71651)                                         No      -0.10124     \n",
      "x354*C(x12|s=+1,0.114121,2.46204,5.11121)                                     Yes     None         \n",
      "C(x1|s=+1,-0.254857,0.370658,9.80875)                                         Yes     None         \n",
      "C(x1|s=-1,-0.254857,0.370658,9.80875)                                         No      0.0417486    \n",
      "x3*x32                                                                        No      0.0164868    \n",
      "x90                                                                           No      0.0229836    \n",
      "x278*C(x1|s=-1,-0.254857,0.370658,9.80875)                                    No      0.0322511    \n",
      "x348*x2                                                                       No      -0.0654      \n",
      "x258*C(x1|s=-1,-0.254857,0.370658,9.80875)                                    No      -0.0280124   \n",
      "x163*C(x5|s=-1,0.616204,2.19736,6.72856)                                      No      0.00671065   \n",
      "x5*x258*C(x1|s=-1,-0.254857,0.370658,9.80875)                                 No      -0.0180305   \n",
      "x44                                                                           No      -0.0391565   \n",
      "x330*x348*x2                                                                  No      0.0300416    \n",
      "x110*C(x8|s=-1,-0.0909479,2.17412,6.71651)                                    No      -0.00597707  \n",
      "C(x8|s=+1,-1.04577,0.264466,5.76168)*x32                                      No      -0.0523978   \n",
      "C(x8|s=-1,-1.04577,0.264466,5.76168)*x32                                      Yes     None         \n",
      "x277                                                                          No      -0.029233    \n",
      "C(x7|s=+1,-1.27018,-1.2543,1.37796)*x277                                      No      1.03013      \n",
      "C(x7|s=-1,-1.27018,-1.2543,1.37796)*x277                                      No      0.651946     \n",
      "x3*C(x7|s=+1,-1.27018,-1.2543,1.37796)*x277                                   No      -0.792054    \n",
      "x31                                                                           No      -0.0489252   \n",
      "C(x1|s=+1,-0.609902,-0.339432,9.45371)*C(x8|s=-1,-0.0909479,2.17412,6.71651)  Yes     None         \n",
      "C(x1|s=-1,-0.609902,-0.339432,9.45371)*C(x8|s=-1,-0.0909479,2.17412,6.71651)  No      -0.058847    \n",
      "C(x21|s=+1,-0.373356,1.70132,2.39288)*x44                                     No      0.0298234    \n",
      "C(x21|s=-1,-0.373356,1.70132,2.39288)*x44                                     No      0.0120027    \n",
      "x292*C(x1|s=+1,-0.254857,0.370658,9.80875)                                    No      -0.341926    \n",
      "C(x12|s=+1,0.114121,2.46204,5.11121)*x348*x2                                  No      0.0781088    \n",
      "C(x12|s=-1,0.114121,2.46204,5.11121)*x348*x2                                  No      0.0228287    \n",
      "x350*C(x7|s=+1,-1.27018,-1.2543,1.37796)*x277                                 No      0.466708     \n",
      "x201*x2                                                                       No      -0.021838    \n",
      "x20*C(x12|s=-1,0.114121,2.46204,5.11121)                                      No      0.00653488   \n",
      "x82*C(x1|s=+1,-0.254857,0.370658,9.80875)                                     No      -0.00438958  \n",
      "x316*x32                                                                      No      -0.0201894   \n",
      "x330*x2                                                                       No      -0.0140061   \n",
      "x92*x2                                                                        No      -0.0127321   \n",
      "---------------------------------------------------------------------------------------------------\n",
      "MSE: 0.0086, GCV: 0.0101, RSQ: 0.9412, GRSQ: 0.9309\n",
      "         rss\n",
      "x2       0.60   \n",
      "x12      0.10   \n",
      "x8       0.06   \n",
      "x277     0.04   \n",
      "x7       0.04   \n",
      "x31      0.03   \n",
      "x3       0.03   \n",
      "x1       0.03   \n",
      "x348     0.02   \n",
      "x5       0.01   \n",
      "x32      0.01   \n",
      "x21      0.01   \n",
      "x90      0.01   \n",
      "x44      0.01   \n",
      "x292     0.00   \n",
      "x330     0.00   \n",
      "x278     0.00   \n",
      "x350     0.00   \n",
      "x258     0.00   \n",
      "x82      0.00   \n",
      "x110     0.00   \n",
      "x163     0.00   \n",
      "x20      0.00   \n",
      "x201     0.00   \n",
      "x53      0.00   \n",
      "x92      0.00   \n",
      "x316     0.00   \n",
      "x354     0.00   \n",
      "x119     0.00   \n",
      "x116     0.00   \n",
      "x117     0.00   \n",
      "x118     0.00   \n",
      "x357     0.00   \n",
      "x120     0.00   \n",
      "x121     0.00   \n",
      "x122     0.00   \n",
      "x123     0.00   \n",
      "x124     0.00   \n",
      "x115     0.00   \n",
      "x126     0.00   \n",
      "x127     0.00   \n",
      "x128     0.00   \n",
      "x125     0.00   \n",
      "x108     0.00   \n",
      "x114     0.00   \n",
      "x113     0.00   \n",
      "x97      0.00   \n",
      "x98      0.00   \n",
      "x99      0.00   \n",
      "x100     0.00   \n",
      "x101     0.00   \n",
      "x102     0.00   \n",
      "x103     0.00   \n",
      "x104     0.00   \n",
      "x105     0.00   \n",
      "x106     0.00   \n",
      "x107     0.00   \n",
      "x130     0.00   \n",
      "x109     0.00   \n",
      "x111     0.00   \n",
      "x112     0.00   \n",
      "x129     0.00   \n",
      "x139     0.00   \n",
      "x131     0.00   \n",
      "x152     0.00   \n",
      "x154     0.00   \n",
      "x155     0.00   \n",
      "x156     0.00   \n",
      "x157     0.00   \n",
      "x158     0.00   \n",
      "x159     0.00   \n",
      "x160     0.00   \n",
      "x161     0.00   \n",
      "x162     0.00   \n",
      "x164     0.00   \n",
      "x165     0.00   \n",
      "x166     0.00   \n",
      "x167     0.00   \n",
      "x168     0.00   \n",
      "x169     0.00   \n",
      "x170     0.00   \n",
      "x171     0.00   \n",
      "x153     0.00   \n",
      "x151     0.00   \n",
      "x132     0.00   \n",
      "x150     0.00   \n",
      "x133     0.00   \n",
      "x134     0.00   \n",
      "x135     0.00   \n",
      "x136     0.00   \n",
      "x137     0.00   \n",
      "x138     0.00   \n",
      "x95      0.00   \n",
      "x140     0.00   \n",
      "x141     0.00   \n",
      "x142     0.00   \n",
      "x143     0.00   \n",
      "x144     0.00   \n",
      "x145     0.00   \n",
      "x146     0.00   \n",
      "x147     0.00   \n",
      "x148     0.00   \n",
      "x149     0.00   \n",
      "x96      0.00   \n",
      "x83      0.00   \n",
      "x94      0.00   \n",
      "x39      0.00   \n",
      "x30      0.00   \n",
      "x33      0.00   \n",
      "x34      0.00   \n",
      "x35      0.00   \n",
      "x36      0.00   \n",
      "x37      0.00   \n",
      "x38      0.00   \n",
      "x40      0.00   \n",
      "x28      0.00   \n",
      "x41      0.00   \n",
      "x42      0.00   \n",
      "x43      0.00   \n",
      "x45      0.00   \n",
      "x46      0.00   \n",
      "x47      0.00   \n",
      "x48      0.00   \n",
      "x29      0.00   \n",
      "x27      0.00   \n",
      "x50      0.00   \n",
      "x15      0.00   \n",
      "x4       0.00   \n",
      "x6       0.00   \n",
      "x9       0.00   \n",
      "x10      0.00   \n",
      "x11      0.00   \n",
      "x13      0.00   \n",
      "x14      0.00   \n",
      "x16      0.00   \n",
      "x26      0.00   \n",
      "x17      0.00   \n",
      "x18      0.00   \n",
      "x19      0.00   \n",
      "x22      0.00   \n",
      "x23      0.00   \n",
      "x24      0.00   \n",
      "x25      0.00   \n",
      "x49      0.00   \n",
      "x51      0.00   \n",
      "x93      0.00   \n",
      "x81      0.00   \n",
      "x74      0.00   \n",
      "x75      0.00   \n",
      "x76      0.00   \n",
      "x77      0.00   \n",
      "x78      0.00   \n",
      "x79      0.00   \n",
      "x80      0.00   \n",
      "x173     0.00   \n",
      "x72      0.00   \n",
      "x84      0.00   \n",
      "x85      0.00   \n",
      "x86      0.00   \n",
      "x87      0.00   \n",
      "x88      0.00   \n",
      "x89      0.00   \n",
      "x91      0.00   \n",
      "x73      0.00   \n",
      "x71      0.00   \n",
      "x52      0.00   \n",
      "x61      0.00   \n",
      "x54      0.00   \n",
      "x55      0.00   \n",
      "x56      0.00   \n",
      "x57      0.00   \n",
      "x58      0.00   \n",
      "x59      0.00   \n",
      "x60      0.00   \n",
      "x62      0.00   \n",
      "x70      0.00   \n",
      "x63      0.00   \n",
      "x64      0.00   \n",
      "x65      0.00   \n",
      "x66      0.00   \n",
      "x67      0.00   \n",
      "x68      0.00   \n",
      "x69      0.00   \n",
      "x172     0.00   \n",
      "x178     0.00   \n",
      "x174     0.00   \n",
      "x298     0.00   \n",
      "x289     0.00   \n",
      "x290     0.00   \n",
      "x291     0.00   \n",
      "x293     0.00   \n",
      "x294     0.00   \n",
      "x295     0.00   \n",
      "x296     0.00   \n",
      "x297     0.00   \n",
      "x299     0.00   \n",
      "x287     0.00   \n",
      "x300     0.00   \n",
      "x301     0.00   \n",
      "x302     0.00   \n",
      "x303     0.00   \n",
      "x304     0.00   \n",
      "x305     0.00   \n",
      "x306     0.00   \n",
      "x307     0.00   \n",
      "x288     0.00   \n",
      "x286     0.00   \n",
      "x263     0.00   \n",
      "x273     0.00   \n",
      "x265     0.00   \n",
      "x266     0.00   \n",
      "x267     0.00   \n",
      "x268     0.00   \n",
      "x269     0.00   \n",
      "x270     0.00   \n",
      "x271     0.00   \n",
      "x272     0.00   \n",
      "x274     0.00   \n",
      "x285     0.00   \n",
      "x275     0.00   \n",
      "x276     0.00   \n",
      "x279     0.00   \n",
      "x280     0.00   \n",
      "x281     0.00   \n",
      "x282     0.00   \n",
      "x283     0.00   \n",
      "x284     0.00   \n",
      "x308     0.00   \n",
      "x309     0.00   \n",
      "x310     0.00   \n",
      "x343     0.00   \n",
      "x335     0.00   \n",
      "x336     0.00   \n",
      "x337     0.00   \n",
      "x338     0.00   \n",
      "x339     0.00   \n",
      "x340     0.00   \n",
      "x341     0.00   \n",
      "x342     0.00   \n",
      "x344     0.00   \n",
      "x311     0.00   \n",
      "x345     0.00   \n",
      "x346     0.00   \n",
      "x347     0.00   \n",
      "x349     0.00   \n",
      "x351     0.00   \n",
      "x352     0.00   \n",
      "x353     0.00   \n",
      "x355     0.00   \n",
      "x334     0.00   \n",
      "x333     0.00   \n",
      "x332     0.00   \n",
      "x331     0.00   \n",
      "x312     0.00   \n",
      "x313     0.00   \n",
      "x314     0.00   \n",
      "x315     0.00   \n",
      "x317     0.00   \n",
      "x318     0.00   \n",
      "x319     0.00   \n",
      "x320     0.00   \n",
      "x321     0.00   \n",
      "x322     0.00   \n",
      "x323     0.00   \n",
      "x324     0.00   \n",
      "x325     0.00   \n",
      "x326     0.00   \n",
      "x327     0.00   \n",
      "x328     0.00   \n",
      "x329     0.00   \n",
      "x264     0.00   \n",
      "x262     0.00   \n",
      "x175     0.00   \n",
      "x207     0.00   \n",
      "x198     0.00   \n",
      "x199     0.00   \n",
      "x200     0.00   \n",
      "x202     0.00   \n",
      "x203     0.00   \n",
      "x204     0.00   \n",
      "x205     0.00   \n",
      "x206     0.00   \n",
      "x208     0.00   \n",
      "x196     0.00   \n",
      "x209     0.00   \n",
      "x210     0.00   \n",
      "x211     0.00   \n",
      "x212     0.00   \n",
      "x213     0.00   \n",
      "x214     0.00   \n",
      "x215     0.00   \n",
      "x216     0.00   \n",
      "x197     0.00   \n",
      "x195     0.00   \n",
      "x261     0.00   \n",
      "x184     0.00   \n",
      "x176     0.00   \n",
      "x177     0.00   \n",
      "x356     0.00   \n",
      "x179     0.00   \n",
      "x180     0.00   \n",
      "x181     0.00   \n",
      "x182     0.00   \n",
      "x183     0.00   \n",
      "x185     0.00   \n",
      "x194     0.00   \n",
      "x186     0.00   \n",
      "x187     0.00   \n",
      "x188     0.00   \n",
      "x189     0.00   \n",
      "x190     0.00   \n",
      "x191     0.00   \n",
      "x192     0.00   \n",
      "x193     0.00   \n",
      "x217     0.00   \n",
      "x218     0.00   \n",
      "x219     0.00   \n",
      "x250     0.00   \n",
      "x242     0.00   \n",
      "x243     0.00   \n",
      "x244     0.00   \n",
      "x245     0.00   \n",
      "x246     0.00   \n",
      "x247     0.00   \n",
      "x248     0.00   \n",
      "x249     0.00   \n",
      "x251     0.00   \n",
      "x220     0.00   \n",
      "x252     0.00   \n",
      "x253     0.00   \n",
      "x254     0.00   \n",
      "x255     0.00   \n",
      "x256     0.00   \n",
      "x257     0.00   \n",
      "x259     0.00   \n",
      "x260     0.00   \n",
      "x241     0.00   \n",
      "x240     0.00   \n",
      "x239     0.00   \n",
      "x238     0.00   \n",
      "x221     0.00   \n",
      "x222     0.00   \n",
      "x223     0.00   \n",
      "x224     0.00   \n",
      "x225     0.00   \n",
      "x226     0.00   \n",
      "x227     0.00   \n",
      "x228     0.00   \n",
      "x229     0.00   \n",
      "x230     0.00   \n",
      "x231     0.00   \n",
      "x232     0.00   \n",
      "x233     0.00   \n",
      "x234     0.00   \n",
      "x235     0.00   \n",
      "x236     0.00   \n",
      "x237     0.00   \n",
      "x0       0.00   \n",
      "\n"
     ]
    }
   ],
   "source": [
    "# Model Summary\n",
    "print MARS_scalelog_fit.summary()\n",
    "print MARS_scalelog_fit.summary_feature_importances(sort_by = 'rss')"
   ]
  },
  {
   "cell_type": "code",
   "execution_count": 81,
   "metadata": {
    "collapsed": false
   },
   "outputs": [
    {
     "name": "stdout",
     "output_type": "stream",
     "text": [
      "The rmse for MARS is 23209.5711592\n"
     ]
    }
   ],
   "source": [
    "MARS_predict_scalelog = MARS_scalelog_fit.predict(X_test_scaled)\n",
    "\n",
    "MARS_RMSE_scalelog = np.sqrt(mean_squared_error(y_test,np.exp(MARS_predict_scalelog)))\n",
    "print \"The rmse for MARS is\", MARS_RMSE_scalelog"
   ]
  },
  {
   "cell_type": "markdown",
   "metadata": {},
   "source": [
    "## MODEL COMPARISONS"
   ]
  },
  {
   "cell_type": "code",
   "execution_count": 111,
   "metadata": {
    "collapsed": false
   },
   "outputs": [
    {
     "data": {
      "text/html": [
       "<div>\n",
       "<table border=\"1\" class=\"dataframe\">\n",
       "  <thead>\n",
       "    <tr style=\"text-align: right;\">\n",
       "      <th></th>\n",
       "      <th>All Predictors</th>\n",
       "      <th>Log Price</th>\n",
       "      <th>Scaled Predictors</th>\n",
       "      <th>Scaled Predictors+LogPrice</th>\n",
       "    </tr>\n",
       "  </thead>\n",
       "  <tbody>\n",
       "    <tr>\n",
       "      <th>MLR</th>\n",
       "      <td>35113.8</td>\n",
       "      <td>26550.5</td>\n",
       "      <td>1.56759e+19</td>\n",
       "      <td>--</td>\n",
       "    </tr>\n",
       "    <tr>\n",
       "      <th>Lasso</th>\n",
       "      <td>39996</td>\n",
       "      <td>35654.5</td>\n",
       "      <td>29925.6</td>\n",
       "      <td>23872.9</td>\n",
       "    </tr>\n",
       "    <tr>\n",
       "      <th>Ridge</th>\n",
       "      <td>29851.5</td>\n",
       "      <td>27192.6</td>\n",
       "      <td>31577.3</td>\n",
       "      <td>26622.4</td>\n",
       "    </tr>\n",
       "    <tr>\n",
       "      <th>MLP</th>\n",
       "      <td>--</td>\n",
       "      <td>--</td>\n",
       "      <td>36015.5</td>\n",
       "      <td>--</td>\n",
       "    </tr>\n",
       "    <tr>\n",
       "      <th>SVR</th>\n",
       "      <td>35094.7</td>\n",
       "      <td>--</td>\n",
       "      <td>43288.9</td>\n",
       "      <td>27686.7</td>\n",
       "    </tr>\n",
       "    <tr>\n",
       "      <th>SGD Regression</th>\n",
       "      <td>51800</td>\n",
       "      <td>--</td>\n",
       "      <td>199229</td>\n",
       "      <td>--</td>\n",
       "    </tr>\n",
       "    <tr>\n",
       "      <th>MARS</th>\n",
       "      <td>--</td>\n",
       "      <td>--</td>\n",
       "      <td>--</td>\n",
       "      <td>23209.6</td>\n",
       "    </tr>\n",
       "    <tr>\n",
       "      <th>Regression Tree</th>\n",
       "      <td>42057.2</td>\n",
       "      <td>44498.4</td>\n",
       "      <td>42053</td>\n",
       "      <td>44498.4</td>\n",
       "    </tr>\n",
       "    <tr>\n",
       "      <th>Ada Boosting</th>\n",
       "      <td>39013.1</td>\n",
       "      <td>41806</td>\n",
       "      <td>39035</td>\n",
       "      <td>41793.8</td>\n",
       "    </tr>\n",
       "    <tr>\n",
       "      <th>Gradient Boost</th>\n",
       "      <td>22023</td>\n",
       "      <td>27948.1</td>\n",
       "      <td>22969.1</td>\n",
       "      <td>27946.3</td>\n",
       "    </tr>\n",
       "    <tr>\n",
       "      <th>Random Forest</th>\n",
       "      <td>26001.3</td>\n",
       "      <td>28729.4</td>\n",
       "      <td>26411.6</td>\n",
       "      <td>28382.1</td>\n",
       "    </tr>\n",
       "  </tbody>\n",
       "</table>\n",
       "</div>"
      ],
      "text/plain": [
       "                All Predictors Log Price Scaled Predictors  \\\n",
       "MLR                    35113.8   26550.5       1.56759e+19   \n",
       "Lasso                    39996   35654.5           29925.6   \n",
       "Ridge                  29851.5   27192.6           31577.3   \n",
       "MLP                         --        --           36015.5   \n",
       "SVR                    35094.7        --           43288.9   \n",
       "SGD Regression           51800        --            199229   \n",
       "MARS                        --        --                --   \n",
       "Regression Tree        42057.2   44498.4             42053   \n",
       "Ada Boosting           39013.1     41806             39035   \n",
       "Gradient Boost           22023   27948.1           22969.1   \n",
       "Random Forest          26001.3   28729.4           26411.6   \n",
       "\n",
       "                Scaled Predictors+LogPrice  \n",
       "MLR                                     --  \n",
       "Lasso                              23872.9  \n",
       "Ridge                              26622.4  \n",
       "MLP                                     --  \n",
       "SVR                                27686.7  \n",
       "SGD Regression                          --  \n",
       "MARS                               23209.6  \n",
       "Regression Tree                    44498.4  \n",
       "Ada Boosting                       41793.8  \n",
       "Gradient Boost                     27946.3  \n",
       "Random Forest                      28382.1  "
      ]
     },
     "execution_count": 111,
     "metadata": {},
     "output_type": "execute_result"
    }
   ],
   "source": [
    "models=['MLR','lasso','ridge','MLP','SVR','GSCV_SGDclf','MARS','REGTREE',\n",
    "        'GS_ADABOOST','GS_GRADBOOST','GS_RANDFOR']\n",
    "modelnames=['MLR','Lasso','Ridge','MLP','SVR','SGD Regression','MARS','Regression Tree',\n",
    "            'Ada Boosting','Gradient Boost','Random Forest']\n",
    "versions=['reg','log','scale','scalelog']\n",
    "versionnames=['All Predictors','Log Price','Scaled Predictors','Scaled Predictors+LogPrice']\n",
    "RMSEsummary_dict={}\n",
    "\n",
    "for model in models:\n",
    "    for version in versions:\n",
    "        try:\n",
    "            RMSE=eval(model+'_RMSE_'+version)\n",
    "        except:\n",
    "            RMSE='--'\n",
    "        if version in RMSEsummary_dict.keys():\n",
    "            RMSEsummary_dict[version].append(RMSE)\n",
    "        else:\n",
    "            RMSEsummary_dict[version]=[RMSE]\n",
    "\n",
    "\n",
    "RMSEsummary=pd.DataFrame(RMSEsummary_dict,index=modelnames)\n",
    "RMSEsummary=RMSEsummary.rename(columns=dict(zip(versions,versionnames)))\n",
    "RMSEsummary=RMSEsummary[versionnames]\n",
    "RMSEsummary"
   ]
  },
  {
   "cell_type": "code",
   "execution_count": 83,
   "metadata": {
    "collapsed": true
   },
   "outputs": [],
   "source": [
    "# Best Residuals\n",
    "BMresiduals_GRADBOOST_scale=GS_GRADBOOST_residuals_scale\n",
    "BMresiduals_MARS_scalelog=y_test-np.exp(MARS_predict_scalelog)\n",
    "BMresiduals_LASSO_scalelog=lassoResiduals_scalelog\n",
    "\n",
    "# Worst Residuals\n",
    "WMresiduals_SVR_scale=y_test-SVR_predict_scale\n",
    "WMresiduals_ADABOOST_log=y_test-np.exp(GS_ADABOOST_predict_log)\n",
    "WMresiduals_SGD_reg=y_test-GSCV_SGDclf_predict_reg"
   ]
  },
  {
   "cell_type": "code",
   "execution_count": 85,
   "metadata": {
    "collapsed": false
   },
   "outputs": [
    {
     "data": {
      "text/plain": [
       "<matplotlib.text.Text at 0x2295d5f8>"
      ]
     },
     "execution_count": 85,
     "metadata": {},
     "output_type": "execute_result"
    },
    {
     "data": {
      "image/png": "[encoded data removed]",
      "text/plain": [
       "<matplotlib.figure.Figure at 0x22ffac50>"
      ]
     },
     "metadata": {},
     "output_type": "display_data"
    }
   ],
   "source": [
    "# Plot Residuals - Best Models\n",
    "fig = plt.figure(figsize=(15, 7))\n",
    "ax1 = fig.add_subplot(121)\n",
    "ax1.plot(y_test,BMresiduals_LASSO_scalelog,\"o\",label='Lasso',color='palegreen')\n",
    "ax1.plot(y_test,BMresiduals_MARS_scalelog,\"o\",label='MARS',color='mediumspringgreen')\n",
    "ax1.plot(y_test,BMresiduals_GRADBOOST_scale,\"o\",label='GradientBoost', color='darkgreen')\n",
    "ax1.legend(numpoints=1,loc='upper right')\n",
    "ax1.set_ylabel('Residuals ($)')\n",
    "ax1.yaxis.set_major_formatter(mtick.FuncFormatter('{:,.0f}'.format))\n",
    "ax1.set_ylim([-200000,500000])\n",
    "ax1.set_xlabel('Actual Price ($)')\n",
    "ax1.xaxis.set_major_formatter(mtick.FuncFormatter('{:,.0f}'.format))\n",
    "ax1.set_title('Residuals', fontsize=12, fontweight='bold')"
   ]
  },
  {
   "cell_type": "code",
   "execution_count": 86,
   "metadata": {
    "collapsed": false
   },
   "outputs": [
    {
     "data": {
      "text/plain": [
       "<matplotlib.text.Text at 0x230d6160>"
      ]
     },
     "execution_count": 86,
     "metadata": {},
     "output_type": "execute_result"
    },
    {
     "data": {
      "image/png": "[encoded data removed]",
      "text/plain": [
       "<matplotlib.figure.Figure at 0x2294add8>"
      ]
     },
     "metadata": {},
     "output_type": "display_data"
    }
   ],
   "source": [
    "# Plot Residuals - Worst Models\n",
    "fig = plt.figure(figsize=(15, 7))\n",
    "ax2 = fig.add_subplot(121)\n",
    "ax2.plot(y_test,WMresiduals_SVR_scale,\"o\",label='SVR',color='palevioletred')\n",
    "ax2.plot(y_test,WMresiduals_SGD_reg,\"o\",label='SGD Regression',color='red')\n",
    "ax2.plot(y_test,WMresiduals_ADABOOST_log,\"o\",label='AdaBoost', color='darkred')\n",
    "ax2.legend(numpoints=1,loc='upper left')\n",
    "ax2.set_ylabel('Residuals ($)')\n",
    "ax2.yaxis.set_major_formatter(mtick.FuncFormatter('{:,.0f}'.format))\n",
    "ax2.set_xlabel('Actual Price ($)')\n",
    "ax2.xaxis.set_major_formatter(mtick.FuncFormatter('{:,.0f}'.format))\n",
    "ax2.set_title('Residuals', fontsize=12, fontweight='bold')"
   ]
  },
  {
   "cell_type": "markdown",
   "metadata": {
    "collapsed": true
   },
   "source": [
    "## CLUSTERING"
   ]
  },
  {
   "cell_type": "code",
   "execution_count": 87,
   "metadata": {
    "collapsed": true
   },
   "outputs": [],
   "source": [
    "# Consolidate train data for clustering purposes\n",
    "X_train_cluster = X_train.copy()\n",
    "train_data_cluster = X_train_cluster.copy()\n",
    "train_data_cluster['SalePrice'] = y_train\n",
    "# Consolidate train data for graphing purposes\n",
    "train_data = train_data_cluster.copy()\n",
    "# train_data['Id'] = X_train['Id']"
   ]
  },
  {
   "cell_type": "code",
   "execution_count": 88,
   "metadata": {
    "collapsed": false
   },
   "outputs": [],
   "source": [
    "# Fit model with 5 clusters\n",
    "KMmodel_5 = KMeans(n_clusters=5, random_state=1)\n",
    "KMfit_5 = KMmodel_5.fit(train_data_cluster)"
   ]
  },
  {
   "cell_type": "code",
   "execution_count": 89,
   "metadata": {
    "collapsed": true
   },
   "outputs": [],
   "source": [
    "# Fit model with 5 clusters on X variables\n",
    "KMmodel_5x = KMeans(n_clusters=5, random_state=1)\n",
    "KMfit_5x = KMmodel_5x.fit(X_train_cluster)"
   ]
  },
  {
   "cell_type": "code",
   "execution_count": 90,
   "metadata": {
    "collapsed": false
   },
   "outputs": [
    {
     "data": {
      "text/plain": [
       "<matplotlib.collections.PathCollection at 0x237683c8>"
      ]
     },
     "execution_count": 90,
     "metadata": {},
     "output_type": "execute_result"
    },
    {
     "data": {
      "image/png": "[encoded data removed]",
      "text/plain": [
       "<matplotlib.figure.Figure at 0x22ffa550>"
      ]
     },
     "metadata": {},
     "output_type": "display_data"
    }
   ],
   "source": [
    "# Check for delineation across home prices purely based on cluster when price is included\n",
    "scatter(train_data.index,train_data['SalePrice'],c=KMfit_5.labels_, cmap='ocean')\n"
   ]
  },
  {
   "cell_type": "code",
   "execution_count": 91,
   "metadata": {
    "collapsed": false
   },
   "outputs": [
    {
     "data": {
      "text/plain": [
       "<matplotlib.collections.PathCollection at 0x2381f550>"
      ]
     },
     "execution_count": 91,
     "metadata": {},
     "output_type": "execute_result"
    },
    {
     "data": {
      "image/png": "[encoded data removed]",
      "text/plain": [
       "<matplotlib.figure.Figure at 0x238adb38>"
      ]
     },
     "metadata": {},
     "output_type": "display_data"
    }
   ],
   "source": [
    "# Check for delineation across home prices purely based on cluster when price is excluded\n",
    "scatter(train_data.index,train_data['SalePrice'],c=KMfit_5x.labels_, cmap='ocean')"
   ]
  },
  {
   "cell_type": "code",
   "execution_count": 92,
   "metadata": {
    "collapsed": false
   },
   "outputs": [
    {
     "data": {
      "text/plain": [
       "<matplotlib.collections.PathCollection at 0x23bcdc88>"
      ]
     },
     "execution_count": 92,
     "metadata": {},
     "output_type": "execute_result"
    },
    {
     "data": {
      "image/png": "[encoded data removed]",
      "text/plain": [
       "<matplotlib.figure.Figure at 0x238ad320>"
      ]
     },
     "metadata": {},
     "output_type": "display_data"
    }
   ],
   "source": [
    "# Compare labels\n",
    "scatter(KMfit_5x.labels_,KMfit_5.labels_)"
   ]
  },
  {
   "cell_type": "code",
   "execution_count": 93,
   "metadata": {
    "collapsed": true
   },
   "outputs": [],
   "source": [
    "# Get correlation of each column with both labels\n",
    "correlation_dict={}\n",
    "for column in train_data.columns.values:\n",
    "    xcor=corrcoef(train_data[column],KMfit_5x.labels_)[0][1]\n",
    "    totcor=corrcoef(train_data[column],KMfit_5.labels_)[0][1]\n",
    "    correlation_dict[column]=[xcor,totcor]"
   ]
  },
  {
   "cell_type": "code",
   "execution_count": 94,
   "metadata": {
    "collapsed": false
   },
   "outputs": [
    {
     "data": {
      "text/html": [
       "<div>\n",
       "<table border=\"1\" class=\"dataframe\">\n",
       "  <thead>\n",
       "    <tr style=\"text-align: right;\">\n",
       "      <th></th>\n",
       "      <th>1_Column</th>\n",
       "      <th>2_X Corr</th>\n",
       "      <th>3_All Corr</th>\n",
       "    </tr>\n",
       "  </thead>\n",
       "  <tbody>\n",
       "    <tr>\n",
       "      <th>0</th>\n",
       "      <td>BsmtFinType2_ALQ</td>\n",
       "      <td>0.004170</td>\n",
       "      <td>0.034801</td>\n",
       "    </tr>\n",
       "    <tr>\n",
       "      <th>1</th>\n",
       "      <td>Condition2_Artery</td>\n",
       "      <td>-0.032733</td>\n",
       "      <td>-0.022887</td>\n",
       "    </tr>\n",
       "    <tr>\n",
       "      <th>2</th>\n",
       "      <td>SaleCondition_AdjLand</td>\n",
       "      <td>-0.032733</td>\n",
       "      <td>-0.022887</td>\n",
       "    </tr>\n",
       "    <tr>\n",
       "      <th>3</th>\n",
       "      <td>Exterior1st_AsbShng</td>\n",
       "      <td>-0.064986</td>\n",
       "      <td>-0.028130</td>\n",
       "    </tr>\n",
       "    <tr>\n",
       "      <th>4</th>\n",
       "      <td>PavedDrive_nan</td>\n",
       "      <td>NaN</td>\n",
       "      <td>NaN</td>\n",
       "    </tr>\n",
       "  </tbody>\n",
       "</table>\n",
       "</div>"
      ],
      "text/plain": [
       "                1_Column  2_X Corr  3_All Corr\n",
       "0       BsmtFinType2_ALQ  0.004170    0.034801\n",
       "1      Condition2_Artery -0.032733   -0.022887\n",
       "2  SaleCondition_AdjLand -0.032733   -0.022887\n",
       "3    Exterior1st_AsbShng -0.064986   -0.028130\n",
       "4         PavedDrive_nan       NaN         NaN"
      ]
     },
     "execution_count": 94,
     "metadata": {},
     "output_type": "execute_result"
    }
   ],
   "source": [
    "# Put correlations into a dataframe\n",
    "col1=correlation_dict.keys()\n",
    "col2=[val[0] for val in correlation_dict.values()]\n",
    "col3=[val[1] for val in correlation_dict.values()]\n",
    "correlation_df=pd.DataFrame({'1_Column':col1,'2_X Corr':col2,'3_All Corr':col3})\n",
    "correlation_df.head()"
   ]
  },
  {
   "cell_type": "code",
   "execution_count": 95,
   "metadata": {
    "collapsed": false
   },
   "outputs": [
    {
     "data": {
      "text/html": [
       "<div>\n",
       "<table border=\"1\" class=\"dataframe\">\n",
       "  <thead>\n",
       "    <tr style=\"text-align: right;\">\n",
       "      <th></th>\n",
       "      <th>1_Column</th>\n",
       "      <th>2_X Corr</th>\n",
       "      <th>3_All Corr</th>\n",
       "    </tr>\n",
       "  </thead>\n",
       "  <tbody>\n",
       "    <tr>\n",
       "      <th>0</th>\n",
       "      <td>HalfBath</td>\n",
       "      <td>0.147388</td>\n",
       "      <td>0.144541</td>\n",
       "    </tr>\n",
       "    <tr>\n",
       "      <th>1</th>\n",
       "      <td>Neighborhood_Gilbert</td>\n",
       "      <td>0.069268</td>\n",
       "      <td>0.140498</td>\n",
       "    </tr>\n",
       "    <tr>\n",
       "      <th>2</th>\n",
       "      <td>CentralAir_Y</td>\n",
       "      <td>0.104324</td>\n",
       "      <td>0.119619</td>\n",
       "    </tr>\n",
       "    <tr>\n",
       "      <th>3</th>\n",
       "      <td>ExterQual_Ex</td>\n",
       "      <td>0.135271</td>\n",
       "      <td>0.118435</td>\n",
       "    </tr>\n",
       "    <tr>\n",
       "      <th>4</th>\n",
       "      <td>MSSubClass_SPLIT OR MULTI-LEVEL</td>\n",
       "      <td>0.032753</td>\n",
       "      <td>0.116834</td>\n",
       "    </tr>\n",
       "    <tr>\n",
       "      <th>5</th>\n",
       "      <td>GarageType_Attchd</td>\n",
       "      <td>0.144481</td>\n",
       "      <td>0.112187</td>\n",
       "    </tr>\n",
       "    <tr>\n",
       "      <th>6</th>\n",
       "      <td>HouseStyle_SLvl</td>\n",
       "      <td>0.027569</td>\n",
       "      <td>0.110240</td>\n",
       "    </tr>\n",
       "    <tr>\n",
       "      <th>7</th>\n",
       "      <td>GarageQual_TA</td>\n",
       "      <td>0.122808</td>\n",
       "      <td>0.108774</td>\n",
       "    </tr>\n",
       "    <tr>\n",
       "      <th>8</th>\n",
       "      <td>Neighborhood_NWAmes</td>\n",
       "      <td>0.106843</td>\n",
       "      <td>0.107830</td>\n",
       "    </tr>\n",
       "    <tr>\n",
       "      <th>9</th>\n",
       "      <td>FullBath</td>\n",
       "      <td>0.206710</td>\n",
       "      <td>0.100977</td>\n",
       "    </tr>\n",
       "    <tr>\n",
       "      <th>10</th>\n",
       "      <td>Exterior1st_Plywood</td>\n",
       "      <td>0.078024</td>\n",
       "      <td>0.099371</td>\n",
       "    </tr>\n",
       "    <tr>\n",
       "      <th>11</th>\n",
       "      <td>GarageCond_TA</td>\n",
       "      <td>0.128825</td>\n",
       "      <td>0.097842</td>\n",
       "    </tr>\n",
       "    <tr>\n",
       "      <th>12</th>\n",
       "      <td>GarageFinish_RFn</td>\n",
       "      <td>-0.040365</td>\n",
       "      <td>0.097186</td>\n",
       "    </tr>\n",
       "    <tr>\n",
       "      <th>13</th>\n",
       "      <td>GarageCars</td>\n",
       "      <td>0.300103</td>\n",
       "      <td>0.095546</td>\n",
       "    </tr>\n",
       "    <tr>\n",
       "      <th>14</th>\n",
       "      <td>Exterior2nd_HdBoard</td>\n",
       "      <td>0.022065</td>\n",
       "      <td>0.094640</td>\n",
       "    </tr>\n",
       "    <tr>\n",
       "      <th>15</th>\n",
       "      <td>Exterior1st_HdBoard</td>\n",
       "      <td>0.004115</td>\n",
       "      <td>0.094370</td>\n",
       "    </tr>\n",
       "    <tr>\n",
       "      <th>16</th>\n",
       "      <td>FireplaceQu_TA</td>\n",
       "      <td>0.147595</td>\n",
       "      <td>0.093533</td>\n",
       "    </tr>\n",
       "    <tr>\n",
       "      <th>17</th>\n",
       "      <td>Heating_GasA</td>\n",
       "      <td>0.057231</td>\n",
       "      <td>0.092997</td>\n",
       "    </tr>\n",
       "    <tr>\n",
       "      <th>18</th>\n",
       "      <td>Alley_Pave</td>\n",
       "      <td>-0.068881</td>\n",
       "      <td>0.090986</td>\n",
       "    </tr>\n",
       "    <tr>\n",
       "      <th>19</th>\n",
       "      <td>MSZoning_RL</td>\n",
       "      <td>0.283089</td>\n",
       "      <td>0.080972</td>\n",
       "    </tr>\n",
       "    <tr>\n",
       "      <th>20</th>\n",
       "      <td>ScreenPorch</td>\n",
       "      <td>0.069524</td>\n",
       "      <td>0.079348</td>\n",
       "    </tr>\n",
       "    <tr>\n",
       "      <th>21</th>\n",
       "      <td>LotConfig_FR2</td>\n",
       "      <td>0.001482</td>\n",
       "      <td>0.076633</td>\n",
       "    </tr>\n",
       "    <tr>\n",
       "      <th>22</th>\n",
       "      <td>Electrical_SBrkr</td>\n",
       "      <td>0.066404</td>\n",
       "      <td>0.076347</td>\n",
       "    </tr>\n",
       "    <tr>\n",
       "      <th>23</th>\n",
       "      <td>SaleType_New</td>\n",
       "      <td>0.071768</td>\n",
       "      <td>0.075706</td>\n",
       "    </tr>\n",
       "    <tr>\n",
       "      <th>24</th>\n",
       "      <td>Fireplaces</td>\n",
       "      <td>0.332106</td>\n",
       "      <td>0.074308</td>\n",
       "    </tr>\n",
       "    <tr>\n",
       "      <th>25</th>\n",
       "      <td>HouseStyle_2.5Fin</td>\n",
       "      <td>0.069833</td>\n",
       "      <td>0.074140</td>\n",
       "    </tr>\n",
       "    <tr>\n",
       "      <th>26</th>\n",
       "      <td>SalePrice</td>\n",
       "      <td>0.402969</td>\n",
       "      <td>0.068280</td>\n",
       "    </tr>\n",
       "  </tbody>\n",
       "</table>\n",
       "</div>"
      ],
      "text/plain": [
       "                           1_Column  2_X Corr  3_All Corr\n",
       "0                          HalfBath  0.147388    0.144541\n",
       "1              Neighborhood_Gilbert  0.069268    0.140498\n",
       "2                      CentralAir_Y  0.104324    0.119619\n",
       "3                      ExterQual_Ex  0.135271    0.118435\n",
       "4   MSSubClass_SPLIT OR MULTI-LEVEL  0.032753    0.116834\n",
       "5                 GarageType_Attchd  0.144481    0.112187\n",
       "6                   HouseStyle_SLvl  0.027569    0.110240\n",
       "7                     GarageQual_TA  0.122808    0.108774\n",
       "8               Neighborhood_NWAmes  0.106843    0.107830\n",
       "9                          FullBath  0.206710    0.100977\n",
       "10              Exterior1st_Plywood  0.078024    0.099371\n",
       "11                    GarageCond_TA  0.128825    0.097842\n",
       "12                 GarageFinish_RFn -0.040365    0.097186\n",
       "13                       GarageCars  0.300103    0.095546\n",
       "14              Exterior2nd_HdBoard  0.022065    0.094640\n",
       "15              Exterior1st_HdBoard  0.004115    0.094370\n",
       "16                   FireplaceQu_TA  0.147595    0.093533\n",
       "17                     Heating_GasA  0.057231    0.092997\n",
       "18                       Alley_Pave -0.068881    0.090986\n",
       "19                      MSZoning_RL  0.283089    0.080972\n",
       "20                      ScreenPorch  0.069524    0.079348\n",
       "21                    LotConfig_FR2  0.001482    0.076633\n",
       "22                 Electrical_SBrkr  0.066404    0.076347\n",
       "23                     SaleType_New  0.071768    0.075706\n",
       "24                       Fireplaces  0.332106    0.074308\n",
       "25                HouseStyle_2.5Fin  0.069833    0.074140\n",
       "26                        SalePrice  0.402969    0.068280"
      ]
     },
     "execution_count": 95,
     "metadata": {},
     "output_type": "execute_result"
    }
   ],
   "source": [
    "# View 'best predictors' through sale price for correlation using all variables\n",
    "bestpredictor_df=correlation_df.sort_values('3_All Corr',ascending=False).copy()\n",
    "bestpredictor_df=bestpredictor_df.reset_index()\n",
    "bestpredictor_df=bestpredictor_df.drop('index',1)\n",
    "# All predictors up through saleprice\n",
    "bestpredictor_df[:27]"
   ]
  },
  {
   "cell_type": "code",
   "execution_count": 98,
   "metadata": {
    "collapsed": false
   },
   "outputs": [
    {
     "data": {
      "text/html": [
       "<div>\n",
       "<table border=\"1\" class=\"dataframe\">\n",
       "  <thead>\n",
       "    <tr style=\"text-align: right;\">\n",
       "      <th></th>\n",
       "      <th>LotFrontage</th>\n",
       "      <th>HalfBath</th>\n",
       "      <th>Neighborhood_Gilbert</th>\n",
       "      <th>CentralAir_Y</th>\n",
       "      <th>ExterQual_Ex</th>\n",
       "      <th>MSSubClass_SPLIT OR MULTI-LEVEL</th>\n",
       "      <th>GarageType_Attchd</th>\n",
       "      <th>HouseStyle_SLvl</th>\n",
       "      <th>GarageQual_TA</th>\n",
       "      <th>Neighborhood_NWAmes</th>\n",
       "      <th>...</th>\n",
       "      <th>FireplaceQu_TA</th>\n",
       "      <th>Heating_GasA</th>\n",
       "      <th>Alley_Pave</th>\n",
       "      <th>MSZoning_RL</th>\n",
       "      <th>ScreenPorch</th>\n",
       "      <th>LotConfig_FR2</th>\n",
       "      <th>Electrical_SBrkr</th>\n",
       "      <th>SaleType_New</th>\n",
       "      <th>Fireplaces</th>\n",
       "      <th>HouseStyle_2.5Fin</th>\n",
       "    </tr>\n",
       "  </thead>\n",
       "  <tbody>\n",
       "    <tr>\n",
       "      <th>355</th>\n",
       "      <td>105.000000</td>\n",
       "      <td>0</td>\n",
       "      <td>0.0</td>\n",
       "      <td>1.0</td>\n",
       "      <td>0.0</td>\n",
       "      <td>0.0</td>\n",
       "      <td>1.0</td>\n",
       "      <td>0.0</td>\n",
       "      <td>1.0</td>\n",
       "      <td>0.0</td>\n",
       "      <td>...</td>\n",
       "      <td>0.0</td>\n",
       "      <td>1.0</td>\n",
       "      <td>0.0</td>\n",
       "      <td>1.0</td>\n",
       "      <td>0</td>\n",
       "      <td>0.0</td>\n",
       "      <td>1.0</td>\n",
       "      <td>0.0</td>\n",
       "      <td>0</td>\n",
       "      <td>0.0</td>\n",
       "    </tr>\n",
       "    <tr>\n",
       "      <th>547</th>\n",
       "      <td>54.000000</td>\n",
       "      <td>0</td>\n",
       "      <td>0.0</td>\n",
       "      <td>1.0</td>\n",
       "      <td>0.0</td>\n",
       "      <td>0.0</td>\n",
       "      <td>0.0</td>\n",
       "      <td>0.0</td>\n",
       "      <td>1.0</td>\n",
       "      <td>0.0</td>\n",
       "      <td>...</td>\n",
       "      <td>0.0</td>\n",
       "      <td>1.0</td>\n",
       "      <td>0.0</td>\n",
       "      <td>1.0</td>\n",
       "      <td>0</td>\n",
       "      <td>0.0</td>\n",
       "      <td>1.0</td>\n",
       "      <td>0.0</td>\n",
       "      <td>0</td>\n",
       "      <td>0.0</td>\n",
       "    </tr>\n",
       "    <tr>\n",
       "      <th>1293</th>\n",
       "      <td>78.000000</td>\n",
       "      <td>1</td>\n",
       "      <td>0.0</td>\n",
       "      <td>1.0</td>\n",
       "      <td>0.0</td>\n",
       "      <td>0.0</td>\n",
       "      <td>1.0</td>\n",
       "      <td>0.0</td>\n",
       "      <td>1.0</td>\n",
       "      <td>1.0</td>\n",
       "      <td>...</td>\n",
       "      <td>1.0</td>\n",
       "      <td>1.0</td>\n",
       "      <td>0.0</td>\n",
       "      <td>1.0</td>\n",
       "      <td>259</td>\n",
       "      <td>0.0</td>\n",
       "      <td>1.0</td>\n",
       "      <td>0.0</td>\n",
       "      <td>1</td>\n",
       "      <td>0.0</td>\n",
       "    </tr>\n",
       "    <tr>\n",
       "      <th>452</th>\n",
       "      <td>70.049958</td>\n",
       "      <td>1</td>\n",
       "      <td>0.0</td>\n",
       "      <td>1.0</td>\n",
       "      <td>0.0</td>\n",
       "      <td>0.0</td>\n",
       "      <td>1.0</td>\n",
       "      <td>0.0</td>\n",
       "      <td>1.0</td>\n",
       "      <td>0.0</td>\n",
       "      <td>...</td>\n",
       "      <td>0.0</td>\n",
       "      <td>1.0</td>\n",
       "      <td>0.0</td>\n",
       "      <td>1.0</td>\n",
       "      <td>0</td>\n",
       "      <td>0.0</td>\n",
       "      <td>1.0</td>\n",
       "      <td>0.0</td>\n",
       "      <td>0</td>\n",
       "      <td>0.0</td>\n",
       "    </tr>\n",
       "    <tr>\n",
       "      <th>1292</th>\n",
       "      <td>60.000000</td>\n",
       "      <td>0</td>\n",
       "      <td>0.0</td>\n",
       "      <td>0.0</td>\n",
       "      <td>0.0</td>\n",
       "      <td>0.0</td>\n",
       "      <td>1.0</td>\n",
       "      <td>0.0</td>\n",
       "      <td>1.0</td>\n",
       "      <td>0.0</td>\n",
       "      <td>...</td>\n",
       "      <td>0.0</td>\n",
       "      <td>1.0</td>\n",
       "      <td>0.0</td>\n",
       "      <td>0.0</td>\n",
       "      <td>0</td>\n",
       "      <td>0.0</td>\n",
       "      <td>1.0</td>\n",
       "      <td>0.0</td>\n",
       "      <td>0</td>\n",
       "      <td>0.0</td>\n",
       "    </tr>\n",
       "  </tbody>\n",
       "</table>\n",
       "<p>5 rows × 27 columns</p>\n",
       "</div>"
      ],
      "text/plain": [
       "      LotFrontage  HalfBath  Neighborhood_Gilbert  CentralAir_Y  ExterQual_Ex  \\\n",
       "355    105.000000         0                   0.0           1.0           0.0   \n",
       "547     54.000000         0                   0.0           1.0           0.0   \n",
       "1293    78.000000         1                   0.0           1.0           0.0   \n",
       "452     70.049958         1                   0.0           1.0           0.0   \n",
       "1292    60.000000         0                   0.0           0.0           0.0   \n",
       "\n",
       "      MSSubClass_SPLIT OR MULTI-LEVEL  GarageType_Attchd  HouseStyle_SLvl  \\\n",
       "355                               0.0                1.0              0.0   \n",
       "547                               0.0                0.0              0.0   \n",
       "1293                              0.0                1.0              0.0   \n",
       "452                               0.0                1.0              0.0   \n",
       "1292                              0.0                1.0              0.0   \n",
       "\n",
       "      GarageQual_TA  Neighborhood_NWAmes        ...          FireplaceQu_TA  \\\n",
       "355             1.0                  0.0        ...                     0.0   \n",
       "547             1.0                  0.0        ...                     0.0   \n",
       "1293            1.0                  1.0        ...                     1.0   \n",
       "452             1.0                  0.0        ...                     0.0   \n",
       "1292            1.0                  0.0        ...                     0.0   \n",
       "\n",
       "      Heating_GasA  Alley_Pave  MSZoning_RL  ScreenPorch  LotConfig_FR2  \\\n",
       "355            1.0         0.0          1.0            0            0.0   \n",
       "547            1.0         0.0          1.0            0            0.0   \n",
       "1293           1.0         0.0          1.0          259            0.0   \n",
       "452            1.0         0.0          1.0            0            0.0   \n",
       "1292           1.0         0.0          0.0            0            0.0   \n",
       "\n",
       "      Electrical_SBrkr  SaleType_New  Fireplaces  HouseStyle_2.5Fin  \n",
       "355                1.0           0.0           0                0.0  \n",
       "547                1.0           0.0           0                0.0  \n",
       "1293               1.0           0.0           1                0.0  \n",
       "452                1.0           0.0           0                0.0  \n",
       "1292               1.0           0.0           0                0.0  \n",
       "\n",
       "[5 rows x 27 columns]"
      ]
     },
     "execution_count": 98,
     "metadata": {},
     "output_type": "execute_result"
    }
   ],
   "source": [
    "# Create new X matrix with just these columns\n",
    "X_cluster = X_train.ix[:,:1].copy()\n",
    "for colname in bestpredictor_df['1_Column'][:26]:\n",
    "    X_cluster[colname]=X_train[colname]\n",
    "X_cluster.head()"
   ]
  },
  {
   "cell_type": "code",
   "execution_count": 99,
   "metadata": {
    "collapsed": true
   },
   "outputs": [],
   "source": [
    "# Fit model with 5 clusters on X cluster data\n",
    "KMmodel_5xc = KMeans(n_clusters=5, random_state=1)\n",
    "KMfit_5xc = KMmodel_5xc.fit(X_cluster)"
   ]
  },
  {
   "cell_type": "code",
   "execution_count": 100,
   "metadata": {
    "collapsed": false
   },
   "outputs": [
    {
     "ename": "KeyError",
     "evalue": "'Id'",
     "output_type": "error",
     "traceback": [
      "\u001b[1;31m---------------------------------------------------------------------------\u001b[0m",
      "\u001b[1;31mKeyError\u001b[0m                                  Traceback (most recent call last)",
      "\u001b[1;32m<ipython-input-100-115525b6c627>\u001b[0m in \u001b[0;36m<module>\u001b[1;34m()\u001b[0m\n\u001b[0;32m      1\u001b[0m \u001b[1;31m# Prepare cluster data for graphing\u001b[0m\u001b[1;33m\u001b[0m\u001b[1;33m\u001b[0m\u001b[0m\n\u001b[0;32m      2\u001b[0m \u001b[0mcluster_data\u001b[0m\u001b[1;33m=\u001b[0m\u001b[0mX_cluster\u001b[0m\u001b[1;33m.\u001b[0m\u001b[0mcopy\u001b[0m\u001b[1;33m(\u001b[0m\u001b[1;33m)\u001b[0m\u001b[1;33m\u001b[0m\u001b[0m\n\u001b[1;32m----> 3\u001b[1;33m \u001b[0mcluster_data\u001b[0m\u001b[1;33m[\u001b[0m\u001b[1;34m'Id'\u001b[0m\u001b[1;33m]\u001b[0m\u001b[1;33m=\u001b[0m\u001b[0mX_train\u001b[0m\u001b[1;33m[\u001b[0m\u001b[1;34m'Id'\u001b[0m\u001b[1;33m]\u001b[0m\u001b[1;33m\u001b[0m\u001b[0m\n\u001b[0m\u001b[0;32m      4\u001b[0m \u001b[0mcluster_data\u001b[0m\u001b[1;33m[\u001b[0m\u001b[1;34m'SalePrice'\u001b[0m\u001b[1;33m]\u001b[0m\u001b[1;33m=\u001b[0m\u001b[0my_train\u001b[0m\u001b[1;33m\u001b[0m\u001b[0m\n",
      "\u001b[1;32mC:\\Users\\Vishwa\\Anaconda2\\lib\\site-packages\\pandas\\core\\frame.pyc\u001b[0m in \u001b[0;36m__getitem__\u001b[1;34m(self, key)\u001b[0m\n\u001b[0;32m   1995\u001b[0m             \u001b[1;32mreturn\u001b[0m \u001b[0mself\u001b[0m\u001b[1;33m.\u001b[0m\u001b[0m_getitem_multilevel\u001b[0m\u001b[1;33m(\u001b[0m\u001b[0mkey\u001b[0m\u001b[1;33m)\u001b[0m\u001b[1;33m\u001b[0m\u001b[0m\n\u001b[0;32m   1996\u001b[0m         \u001b[1;32melse\u001b[0m\u001b[1;33m:\u001b[0m\u001b[1;33m\u001b[0m\u001b[0m\n\u001b[1;32m-> 1997\u001b[1;33m             \u001b[1;32mreturn\u001b[0m \u001b[0mself\u001b[0m\u001b[1;33m.\u001b[0m\u001b[0m_getitem_column\u001b[0m\u001b[1;33m(\u001b[0m\u001b[0mkey\u001b[0m\u001b[1;33m)\u001b[0m\u001b[1;33m\u001b[0m\u001b[0m\n\u001b[0m\u001b[0;32m   1998\u001b[0m \u001b[1;33m\u001b[0m\u001b[0m\n\u001b[0;32m   1999\u001b[0m     \u001b[1;32mdef\u001b[0m \u001b[0m_getitem_column\u001b[0m\u001b[1;33m(\u001b[0m\u001b[0mself\u001b[0m\u001b[1;33m,\u001b[0m \u001b[0mkey\u001b[0m\u001b[1;33m)\u001b[0m\u001b[1;33m:\u001b[0m\u001b[1;33m\u001b[0m\u001b[0m\n",
      "\u001b[1;32mC:\\Users\\Vishwa\\Anaconda2\\lib\\site-packages\\pandas\\core\\frame.pyc\u001b[0m in \u001b[0;36m_getitem_column\u001b[1;34m(self, key)\u001b[0m\n\u001b[0;32m   2002\u001b[0m         \u001b[1;31m# get column\u001b[0m\u001b[1;33m\u001b[0m\u001b[1;33m\u001b[0m\u001b[0m\n\u001b[0;32m   2003\u001b[0m         \u001b[1;32mif\u001b[0m \u001b[0mself\u001b[0m\u001b[1;33m.\u001b[0m\u001b[0mcolumns\u001b[0m\u001b[1;33m.\u001b[0m\u001b[0mis_unique\u001b[0m\u001b[1;33m:\u001b[0m\u001b[1;33m\u001b[0m\u001b[0m\n\u001b[1;32m-> 2004\u001b[1;33m             \u001b[1;32mreturn\u001b[0m \u001b[0mself\u001b[0m\u001b[1;33m.\u001b[0m\u001b[0m_get_item_cache\u001b[0m\u001b[1;33m(\u001b[0m\u001b[0mkey\u001b[0m\u001b[1;33m)\u001b[0m\u001b[1;33m\u001b[0m\u001b[0m\n\u001b[0m\u001b[0;32m   2005\u001b[0m \u001b[1;33m\u001b[0m\u001b[0m\n\u001b[0;32m   2006\u001b[0m         \u001b[1;31m# duplicate columns & possible reduce dimensionality\u001b[0m\u001b[1;33m\u001b[0m\u001b[1;33m\u001b[0m\u001b[0m\n",
      "\u001b[1;32mC:\\Users\\Vishwa\\Anaconda2\\lib\\site-packages\\pandas\\core\\generic.pyc\u001b[0m in \u001b[0;36m_get_item_cache\u001b[1;34m(self, item)\u001b[0m\n\u001b[0;32m   1348\u001b[0m         \u001b[0mres\u001b[0m \u001b[1;33m=\u001b[0m \u001b[0mcache\u001b[0m\u001b[1;33m.\u001b[0m\u001b[0mget\u001b[0m\u001b[1;33m(\u001b[0m\u001b[0mitem\u001b[0m\u001b[1;33m)\u001b[0m\u001b[1;33m\u001b[0m\u001b[0m\n\u001b[0;32m   1349\u001b[0m         \u001b[1;32mif\u001b[0m \u001b[0mres\u001b[0m \u001b[1;32mis\u001b[0m \u001b[0mNone\u001b[0m\u001b[1;33m:\u001b[0m\u001b[1;33m\u001b[0m\u001b[0m\n\u001b[1;32m-> 1350\u001b[1;33m             \u001b[0mvalues\u001b[0m \u001b[1;33m=\u001b[0m \u001b[0mself\u001b[0m\u001b[1;33m.\u001b[0m\u001b[0m_data\u001b[0m\u001b[1;33m.\u001b[0m\u001b[0mget\u001b[0m\u001b[1;33m(\u001b[0m\u001b[0mitem\u001b[0m\u001b[1;33m)\u001b[0m\u001b[1;33m\u001b[0m\u001b[0m\n\u001b[0m\u001b[0;32m   1351\u001b[0m             \u001b[0mres\u001b[0m \u001b[1;33m=\u001b[0m \u001b[0mself\u001b[0m\u001b[1;33m.\u001b[0m\u001b[0m_box_item_values\u001b[0m\u001b[1;33m(\u001b[0m\u001b[0mitem\u001b[0m\u001b[1;33m,\u001b[0m \u001b[0mvalues\u001b[0m\u001b[1;33m)\u001b[0m\u001b[1;33m\u001b[0m\u001b[0m\n\u001b[0;32m   1352\u001b[0m             \u001b[0mcache\u001b[0m\u001b[1;33m[\u001b[0m\u001b[0mitem\u001b[0m\u001b[1;33m]\u001b[0m \u001b[1;33m=\u001b[0m \u001b[0mres\u001b[0m\u001b[1;33m\u001b[0m\u001b[0m\n",
      "\u001b[1;32mC:\\Users\\Vishwa\\Anaconda2\\lib\\site-packages\\pandas\\core\\internals.pyc\u001b[0m in \u001b[0;36mget\u001b[1;34m(self, item, fastpath)\u001b[0m\n\u001b[0;32m   3288\u001b[0m \u001b[1;33m\u001b[0m\u001b[0m\n\u001b[0;32m   3289\u001b[0m             \u001b[1;32mif\u001b[0m \u001b[1;32mnot\u001b[0m \u001b[0misnull\u001b[0m\u001b[1;33m(\u001b[0m\u001b[0mitem\u001b[0m\u001b[1;33m)\u001b[0m\u001b[1;33m:\u001b[0m\u001b[1;33m\u001b[0m\u001b[0m\n\u001b[1;32m-> 3290\u001b[1;33m                 \u001b[0mloc\u001b[0m \u001b[1;33m=\u001b[0m \u001b[0mself\u001b[0m\u001b[1;33m.\u001b[0m\u001b[0mitems\u001b[0m\u001b[1;33m.\u001b[0m\u001b[0mget_loc\u001b[0m\u001b[1;33m(\u001b[0m\u001b[0mitem\u001b[0m\u001b[1;33m)\u001b[0m\u001b[1;33m\u001b[0m\u001b[0m\n\u001b[0m\u001b[0;32m   3291\u001b[0m             \u001b[1;32melse\u001b[0m\u001b[1;33m:\u001b[0m\u001b[1;33m\u001b[0m\u001b[0m\n\u001b[0;32m   3292\u001b[0m                 \u001b[0mindexer\u001b[0m \u001b[1;33m=\u001b[0m \u001b[0mnp\u001b[0m\u001b[1;33m.\u001b[0m\u001b[0marange\u001b[0m\u001b[1;33m(\u001b[0m\u001b[0mlen\u001b[0m\u001b[1;33m(\u001b[0m\u001b[0mself\u001b[0m\u001b[1;33m.\u001b[0m\u001b[0mitems\u001b[0m\u001b[1;33m)\u001b[0m\u001b[1;33m)\u001b[0m\u001b[1;33m[\u001b[0m\u001b[0misnull\u001b[0m\u001b[1;33m(\u001b[0m\u001b[0mself\u001b[0m\u001b[1;33m.\u001b[0m\u001b[0mitems\u001b[0m\u001b[1;33m)\u001b[0m\u001b[1;33m]\u001b[0m\u001b[1;33m\u001b[0m\u001b[0m\n",
      "\u001b[1;32mC:\\Users\\Vishwa\\Anaconda2\\lib\\site-packages\\pandas\\indexes\\base.pyc\u001b[0m in \u001b[0;36mget_loc\u001b[1;34m(self, key, method, tolerance)\u001b[0m\n\u001b[0;32m   1945\u001b[0m                 \u001b[1;32mreturn\u001b[0m \u001b[0mself\u001b[0m\u001b[1;33m.\u001b[0m\u001b[0m_engine\u001b[0m\u001b[1;33m.\u001b[0m\u001b[0mget_loc\u001b[0m\u001b[1;33m(\u001b[0m\u001b[0mkey\u001b[0m\u001b[1;33m)\u001b[0m\u001b[1;33m\u001b[0m\u001b[0m\n\u001b[0;32m   1946\u001b[0m             \u001b[1;32mexcept\u001b[0m \u001b[0mKeyError\u001b[0m\u001b[1;33m:\u001b[0m\u001b[1;33m\u001b[0m\u001b[0m\n\u001b[1;32m-> 1947\u001b[1;33m                 \u001b[1;32mreturn\u001b[0m \u001b[0mself\u001b[0m\u001b[1;33m.\u001b[0m\u001b[0m_engine\u001b[0m\u001b[1;33m.\u001b[0m\u001b[0mget_loc\u001b[0m\u001b[1;33m(\u001b[0m\u001b[0mself\u001b[0m\u001b[1;33m.\u001b[0m\u001b[0m_maybe_cast_indexer\u001b[0m\u001b[1;33m(\u001b[0m\u001b[0mkey\u001b[0m\u001b[1;33m)\u001b[0m\u001b[1;33m)\u001b[0m\u001b[1;33m\u001b[0m\u001b[0m\n\u001b[0m\u001b[0;32m   1948\u001b[0m \u001b[1;33m\u001b[0m\u001b[0m\n\u001b[0;32m   1949\u001b[0m         \u001b[0mindexer\u001b[0m \u001b[1;33m=\u001b[0m \u001b[0mself\u001b[0m\u001b[1;33m.\u001b[0m\u001b[0mget_indexer\u001b[0m\u001b[1;33m(\u001b[0m\u001b[1;33m[\u001b[0m\u001b[0mkey\u001b[0m\u001b[1;33m]\u001b[0m\u001b[1;33m,\u001b[0m \u001b[0mmethod\u001b[0m\u001b[1;33m=\u001b[0m\u001b[0mmethod\u001b[0m\u001b[1;33m,\u001b[0m \u001b[0mtolerance\u001b[0m\u001b[1;33m=\u001b[0m\u001b[0mtolerance\u001b[0m\u001b[1;33m)\u001b[0m\u001b[1;33m\u001b[0m\u001b[0m\n",
      "\u001b[1;32mpandas\\index.pyx\u001b[0m in \u001b[0;36mpandas.index.IndexEngine.get_loc (pandas\\index.c:4154)\u001b[1;34m()\u001b[0m\n",
      "\u001b[1;32mpandas\\index.pyx\u001b[0m in \u001b[0;36mpandas.index.IndexEngine.get_loc (pandas\\index.c:4018)\u001b[1;34m()\u001b[0m\n",
      "\u001b[1;32mpandas\\hashtable.pyx\u001b[0m in \u001b[0;36mpandas.hashtable.PyObjectHashTable.get_item (pandas\\hashtable.c:12368)\u001b[1;34m()\u001b[0m\n",
      "\u001b[1;32mpandas\\hashtable.pyx\u001b[0m in \u001b[0;36mpandas.hashtable.PyObjectHashTable.get_item (pandas\\hashtable.c:12322)\u001b[1;34m()\u001b[0m\n",
      "\u001b[1;31mKeyError\u001b[0m: 'Id'"
     ]
    }
   ],
   "source": [
    "# Prepare cluster data for graphing\n",
    "cluster_data=X_cluster.copy()\n",
    "cluster_data['Id']=X_train['Id']\n",
    "cluster_data['SalePrice']=y_train"
   ]
  },
  {
   "cell_type": "code",
   "execution_count": null,
   "metadata": {
    "collapsed": false
   },
   "outputs": [],
   "source": [
    "# Check for delineation across home prices purely based on cluster using cluster data when price is excluded\n",
    "scatter(cluster_data['Id'],cluster_data['SalePrice'],c=KMfit_5xc.labels_, cmap='ocean')"
   ]
  },
  {
   "cell_type": "code",
   "execution_count": null,
   "metadata": {
    "collapsed": true
   },
   "outputs": [],
   "source": [
    "# Get top and bottom indicators for each cluster\n",
    "# where 'top' is biggest number (i.e., largest and/or most postive)\n",
    "# and 'bottome' is smallest number (i.e., smallest and/or most negative)\n",
    "keyindicators_dict={}\n",
    "centercounter=0\n",
    "for center in KMfit_5.cluster_centers_:\n",
    "    label=list(set(KMfit_5.labels_))[centercounter]\n",
    "    top5indices=np.argpartition(center,-5)[-5:]\n",
    "    top5=list(train_data.columns.values[top5indices])\n",
    "    top10indices=np.argpartition(center,-10)[-10:]\n",
    "    top10=list(train_data.columns.values[top10indices])\n",
    "    bottom5indices=np.argpartition(center,5)[:5]\n",
    "    bottom5=list(train_data.columns.values[bottom5indices])\n",
    "    bottom10indices=np.argpartition(center,10)[:10]\n",
    "    bottom10=list(train_data.columns.values[bottom10indices])\n",
    "    keyindicators_dict[label]=[top5,top10,bottom5,bottom10]\n",
    "    centercounter+=1"
   ]
  },
  {
   "cell_type": "code",
   "execution_count": null,
   "metadata": {
    "collapsed": false
   },
   "outputs": [],
   "source": [
    "# Get all indicators in top10s\n",
    "top10lists=[val[1] for val in keyindicators_dict.values()]\n",
    "uniquetop10=list(set([j for i in top10lists for j in i]))\n",
    "uniquetop10"
   ]
  },
  {
   "cell_type": "code",
   "execution_count": null,
   "metadata": {
    "collapsed": false
   },
   "outputs": [],
   "source": [
    "# Get all indicators in bottom10s\n",
    "bottom10lists=[val[3] for val in keyindicators_dict.values()]\n",
    "uniquebottom10=list(set([j for i in bottom10lists for j in i]))\n",
    "uniquebottom10"
   ]
  },
  {
   "cell_type": "code",
   "execution_count": null,
   "metadata": {
    "collapsed": false
   },
   "outputs": [],
   "source": [
    "# Design matrix of top10\n",
    "X_top10 = X_train.ix[:,:1].copy()\n",
    "for colname in uniquetop10:\n",
    "    try:\n",
    "        X_top10[colname]=X_train[colname]\n",
    "    except:\n",
    "        pass # SalePrice\n",
    "X_top10=X_top10.drop('Id',1)\n",
    "X_top10.head()"
   ]
  },
  {
   "cell_type": "code",
   "execution_count": null,
   "metadata": {
    "collapsed": true
   },
   "outputs": [],
   "source": [
    "# Fit model with 5 clusters on top10\n",
    "KMmodel_5xt10 = KMeans(n_clusters=5, random_state=1)\n",
    "KMfit_5xt10 = KMmodel_5xt10.fit(X_top10)"
   ]
  },
  {
   "cell_type": "code",
   "execution_count": null,
   "metadata": {
    "collapsed": true
   },
   "outputs": [],
   "source": [
    "# Prepare cluster data for graphing\n",
    "top10_data=X_top10.copy()\n",
    "top10_data['Id']=X_train['Id']\n",
    "top10_data['SalePrice']=y_train"
   ]
  },
  {
   "cell_type": "code",
   "execution_count": null,
   "metadata": {
    "collapsed": false
   },
   "outputs": [],
   "source": [
    "# Check for delineation across home prices purely based on cluster using cluster data when price is excluded\n",
    "scatter(top10_data['Id'],top10_data['SalePrice'],c=KMfit_5xt10.labels_, cmap='ocean')"
   ]
  },
  {
   "cell_type": "code",
   "execution_count": null,
   "metadata": {
    "collapsed": false
   },
   "outputs": [],
   "source": [
    "# Let's run models just to test...need test data first\n",
    "X_top10_test = X_test.ix[:,:1].copy()\n",
    "for colname in uniquetop10:\n",
    "    try:\n",
    "        X_top10_test[colname]=X_test[colname]\n",
    "    except:\n",
    "        pass # SalePrice\n",
    "X_top10_test=X_top10_test.drop('Id',1)\n",
    "X_top10_test.head()"
   ]
  },
  {
   "cell_type": "code",
   "execution_count": null,
   "metadata": {
    "collapsed": true
   },
   "outputs": [],
   "source": [
    "# Fit model with 5 clusters on top10 for test data\n",
    "KMmodel_5xt10test = KMeans(n_clusters=5, random_state=1)\n",
    "KMfit_5xt10test = KMmodel_5xt10test.fit(X_top10_test)"
   ]
  },
  {
   "cell_type": "code",
   "execution_count": null,
   "metadata": {
    "collapsed": true
   },
   "outputs": [],
   "source": [
    "X_top10['Cluster']=KMfit_5xt10.labels_\n",
    "X_top10_test['Cluster']=KMfit_5xt10test.labels_"
   ]
  },
  {
   "cell_type": "code",
   "execution_count": null,
   "metadata": {
    "collapsed": false
   },
   "outputs": [],
   "source": [
    "# Run models\n",
    "#Linear Regression\n",
    "MLR =LinearRegression()\n",
    "model_MLR = MLR.fit(X_top10,y_train)\n",
    "MLR_predict = model_MLR.predict(X_top10_test)\n",
    "MLR_RMSE= sqrt(mean_squared_error(y_test, MLR_predict))\n",
    "print \"MLR RMSE:\",MLR_RMSE\n",
    "\n",
    "#get best λ with LassoCV\n",
    "lasso_cv = LassoCV(alphas=None, cv=10, max_iter=10000)\n",
    "model_cv = lasso_cv.fit(X_top10,ravel(y_train))\n",
    "print \"Lasso CV best λ:\",model_cv.alpha_\n",
    "\n",
    "#Lasso\n",
    "lasso= Lasso(alpha=model_cv.alpha_)\n",
    "model_lasso= lasso.fit(X_top10,y_train)\n",
    "lasso_predict= model_lasso.predict(X_top10_test)\n",
    "lasso_RMSE= sqrt(mean_squared_error(y_test, lasso_predict))\n",
    "print \"Lasso RMSE:\",lasso_RMSE\n",
    "\n",
    "#get best λ with RidgeCV\n",
    "ridge_cv = RidgeCV(cv=10)\n",
    "ridge_model_cv = ridge_cv.fit(X_top10,ravel(y_train))\n",
    "print \"Ridge CV best λ:\",ridge_model_cv.alpha_\n",
    "\n",
    "#Ridge\n",
    "ridge= Ridge(alpha=ridge_model_cv.alpha_)\n",
    "model_ridge= ridge.fit(X_top10,y_train)\n",
    "ridge_predict= model_ridge.predict(X_top10_test)\n",
    "ridge_RMSE= sqrt(mean_squared_error(y_test, ridge_predict))\n",
    "print \"Ridge RMSE:\",ridge_RMSE"
   ]
  },
  {
   "cell_type": "code",
   "execution_count": null,
   "metadata": {
    "collapsed": false
   },
   "outputs": [],
   "source": [
    "# Not great...\n",
    "# But let's see if the errors are in different places...\n",
    "\n",
    "MLRresiduals = y_test - MLR_predict\n",
    "lassoResiduals = y_test - lasso_predict\n",
    "ridgeResiduals = y_test - ridge_predict\n",
    "\n",
    "# Plot\n",
    "fig = plt.figure(figsize=(15, 7))\n",
    "\n",
    "# Predicted vs. Actual\n",
    "ax1 = fig.add_subplot(121)\n",
    "ax1.plot(y_test,MLR_predict,\"o\",label='MLR', color='darkblue')\n",
    "ax1.plot(y_test,lasso_predict,\"o\",label='Lasso',color='blue')\n",
    "ax1.plot(y_test,ridge_predict,\"o\",label='Ridge',color='lightblue')\n",
    "ax1.legend(numpoints=1,loc='upper left')\n",
    "ax1.set_ylabel('Predicted Price ($)')\n",
    "ax1.yaxis.set_major_formatter(mtick.FuncFormatter('{:,.0f}'.format))\n",
    "ax1.set_xlabel('Actual Price ($)')\n",
    "ax1.xaxis.set_major_formatter(mtick.FuncFormatter('{:,.0f}'.format))\n",
    "ax1.set_title('Predicted vs. Actual Price', fontsize=12, fontweight='bold')\n",
    "\n",
    "# Residuals\n",
    "ax2 = fig.add_subplot(122)\n",
    "ax2.plot(y_test,MLRresiduals,\"o\",label='MLR',color='darkblue')\n",
    "ax2.plot(y_test,lassoResiduals,\"o\",label='Lasso',color='blue')\n",
    "ax2.plot(y_test,ridgeResiduals,\"o\",label='Ridge',color='lightblue')\n",
    "ax2.legend(numpoints=1,loc='upper left')\n",
    "ax2.set_ylabel('Residuals ($)')\n",
    "ax2.yaxis.set_major_formatter(mtick.FuncFormatter('{:,.0f}'.format))\n",
    "ax2.set_xlabel('Actual Price ($)')\n",
    "ax2.xaxis.set_major_formatter(mtick.FuncFormatter('{:,.0f}'.format))\n",
    "ax2.set_title('Residuals', fontsize=12, fontweight='bold')\n",
    "\n",
    "fig.subplots_adjust(wspace=.3)\n",
    "plt.show()"
   ]
  },
  {
   "cell_type": "code",
   "execution_count": null,
   "metadata": {
    "collapsed": false
   },
   "outputs": [],
   "source": [
    "Counter(list(KMfit_5x.labels_))"
   ]
  },
  {
   "cell_type": "code",
   "execution_count": null,
   "metadata": {
    "collapsed": false
   },
   "outputs": [],
   "source": [
    "#cross-validating to find best number of clusters\n",
    "k_range = range(1,14)\n",
    "k_means_var = [KMeans(n_clusters=k).fit(X_train_cluster) for k in k_range]\n",
    "centroids = [c.cluster_centers_ for c in k_means_var]\n",
    "euclid = [cdist(X_train_cluster,cent,'euclidean') for cent in centroids]\n",
    "dist = [np.min(ke,axis=1) for ke in euclid]\n",
    "\n",
    "#within cluster ss\n",
    "wcss = [sum(d**2) for d in dist]\n",
    "\n",
    "#total cluster ss\n",
    "tss = sum(pdist(X_train_cluster)**2)/X_train_cluster.shape[0]\n",
    "\n",
    "#between cluster ss\n",
    "bss = tss - wcss\n",
    "\n",
    "#elbow curve to identify best k (number of clusters)\n",
    "plt.plot(bss)\n",
    "plt.xlabel('k number of clusters')\n",
    "plt.ylabel('Between Cluster Sum of Squares')\n"
   ]
  },
  {
   "cell_type": "code",
   "execution_count": null,
   "metadata": {
    "collapsed": false
   },
   "outputs": [],
   "source": [
    "# Fit model with 5 clusters on X variables\n",
    "KMmodel_4x = KMeans(n_clusters=4, random_state=1)\n",
    "KModel_fit= KMmodel_4x.fit_predict(X_train_cluster)\n",
    "scatter(train_data.index,train_data['SalePrice'],c=KModel_fit, cmap='ocean')\n"
   ]
  },
  {
   "cell_type": "code",
   "execution_count": null,
   "metadata": {
    "collapsed": false
   },
   "outputs": [],
   "source": [
    "Counter(list(KModel_fit))\n",
    "# len(X_train_cluster)"
   ]
  },
  {
   "cell_type": "code",
   "execution_count": null,
   "metadata": {
    "collapsed": false
   },
   "outputs": [],
   "source": [
    "X_train_cluster= X_train_cluster.reset_index(drop=True)\n",
    "X_train_cluster['cluster'] = pd.Series(KModel_fit)"
   ]
  },
  {
   "cell_type": "code",
   "execution_count": null,
   "metadata": {
    "collapsed": false
   },
   "outputs": [],
   "source": [
    "X_test_cluster = X_test.copy()\n",
    "X_test_cluster= X_test_cluster.reset_index(drop=True)\n",
    "KMmodel_4x_pred = KMmodel_4x.predict(X_test_cluster)\n",
    "X_test_cluster['cluster'] = pd.Series(KMmodel_4x_pred)"
   ]
  },
  {
   "cell_type": "code",
   "execution_count": null,
   "metadata": {
    "collapsed": false
   },
   "outputs": [],
   "source": [
    "pd.Series(KMmodel_4x_pred).value_counts()"
   ]
  },
  {
   "cell_type": "code",
   "execution_count": null,
   "metadata": {
    "collapsed": false
   },
   "outputs": [],
   "source": [
    "# Run models\n",
    "#Linear Regression\n",
    "MLR =LinearRegression()\n",
    "model_MLR = MLR.fit(X_train_cluster,y_train)\n",
    "MLR_predict = model_MLR.predict(X_test_cluster)\n",
    "MLR_RMSE= sqrt(mean_squared_error(y_test, MLR_predict))\n",
    "print \"MLR RMSE:\",MLR_RMSE\n",
    "\n",
    "#get best λ with LassoCV\n",
    "lasso_cv = LassoCV(alphas=None, cv=10, max_iter=10000)\n",
    "model_cv = lasso_cv.fit(X_train_cluster,ravel(y_train))\n",
    "print \"Lasso CV best λ:\",model_cv.alpha_\n",
    "lasso_predict= model_cv.predict(X_test_cluster)\n",
    "lasso_RMSE= sqrt(mean_squared_error(y_test, lasso_predict))\n",
    "print \"Lasso RMSE:\",lasso_RMSE\n",
    "\n",
    "#get best λ with RidgeCV\n",
    "ridge_cv = RidgeCV(cv=10)\n",
    "ridge_model_cv = ridge_cv.fit(X_train_cluster,ravel(y_train))\n",
    "print \"Ridge CV best λ:\",ridge_model_cv.alpha_\n",
    "ridge_predict= ridge_model_cv.predict(X_test_cluster)\n",
    "ridge_RMSE= sqrt(mean_squared_error(y_test, ridge_predict))\n",
    "print \"Ridge RMSE:\",ridge_RMSE"
   ]
  },
  {
   "cell_type": "markdown",
   "metadata": {
    "collapsed": true
   },
   "source": [
    "# Cross-validating Best Models and Creating Kaggle Submissions"
   ]
  },
  {
   "cell_type": "code",
   "execution_count": 24,
   "metadata": {
    "collapsed": true
   },
   "outputs": [],
   "source": [
    "X_comp['BsmtFinSF1'] = X_comp['BsmtFinSF1'].fillna(0.0)\n",
    "X_comp['BsmtFinSF2'] = X_comp['BsmtFinSF2'].fillna(0.0)\n",
    "X_comp['BsmtUnfSF'] = X_comp['BsmtUnfSF'].fillna(0.0)\n",
    "X_comp['TotalBsmtSF'] = X_comp['TotalBsmtSF'].fillna(0.0)\n",
    "X_comp['BsmtFullBath'] = X_comp['BsmtFullBath'].fillna(0.0)\n",
    "X_comp['BsmtHalfBath'] = X_comp['BsmtHalfBath'].fillna(0.0)\n",
    "X_comp['GarageCars'] = X_comp['GarageCars'].fillna(2.0)\n",
    "X_comp['GarageArea'] = X_comp['GarageArea'].fillna(mean(X_test['GarageArea']))"
   ]
  },
  {
   "cell_type": "code",
   "execution_count": 25,
   "metadata": {
    "collapsed": false
   },
   "outputs": [],
   "source": [
    "# Transforming entire train set\n",
    "log_y = y.map(float).map(log)\n",
    "\n",
    "scaler = StandardScaler()\n",
    "X_scaled = scaler.fit_transform(X)\n",
    "X_comp_scaled = scaler.transform(X_comp)"
   ]
  },
  {
   "cell_type": "code",
   "execution_count": 26,
   "metadata": {
    "collapsed": false
   },
   "outputs": [],
   "source": [
    "for col in X_comp.columns.values:\n",
    "     if X_comp[col].isnull().sum()>0:\n",
    "            print col,X_comp[col].isnull().sum()\n",
    "\n"
   ]
  },
  {
   "cell_type": "code",
   "execution_count": 50,
   "metadata": {
    "collapsed": false
   },
   "outputs": [
    {
     "data": {
      "text/plain": [
       "0.0065564092557359593"
      ]
     },
     "execution_count": 50,
     "metadata": {},
     "output_type": "execute_result"
    }
   ],
   "source": [
    "lasso_cv_scalelog = LassoCV(alphas=None, cv=15, max_iter=10000).fit(X_scaled,ravel(log_y))\n",
    "lasso_cv_scalelog.alpha_"
   ]
  },
  {
   "cell_type": "code",
   "execution_count": 51,
   "metadata": {
    "collapsed": false
   },
   "outputs": [
    {
     "name": "stdout",
     "output_type": "stream",
     "text": [
      "[19438.925394784517, 49783.825860645913, 28675.929465481131, 19914.129395365151, 124815.23527779164]\n",
      "48525.6090788\n"
     ]
    }
   ],
   "source": [
    "#K-Fold validation for Lasso (scale_log)\n",
    "\n",
    "kf = KFold(n_splits=5)\n",
    "\n",
    "scores=[]\n",
    "for train_index, test_index in kf.split(X_scaled):\n",
    "    X_tr, X_ts = X_scaled[train_index], X_scaled[test_index]\n",
    "    y_tr, y_ts = log_y[train_index], log_y[test_index]\n",
    "    lasso = Lasso(alpha=lasso_cv_scalelog.alpha_)\n",
    "    model=lasso.fit(X_tr,ravel(y_tr))\n",
    "    predict=model.predict(X_ts)\n",
    "    rmse = sqrt(mean_squared_error(np.exp(y_ts), np.exp(predict)))\n",
    "    scores.append(rmse)\n",
    "    \n",
    "print scores\n",
    "print mean(scores)"
   ]
  },
  {
   "cell_type": "code",
   "execution_count": 58,
   "metadata": {
    "collapsed": true
   },
   "outputs": [],
   "source": [
    "lassoKagglePred = list(np.exp(lasso_cv_scalelog.predict(X_comp_scaled)))\n",
    "\n",
    "# Save predictions to file\n",
    "outfile = open('lassoKagglePred.csv', 'w')\n",
    "for item in lassoKagglePred:\n",
    "    outfile.write(\"%s\\n\" % item)\n",
    "outfile.close()"
   ]
  },
  {
   "cell_type": "code",
   "execution_count": 52,
   "metadata": {
    "collapsed": false
   },
   "outputs": [
    {
     "data": {
      "text/plain": [
       "GradientBoostingRegressor(alpha=0.9, criterion='friedman_mse', init=None,\n",
       "             learning_rate=0.1, loss='ls', max_depth=3, max_features=None,\n",
       "             max_leaf_nodes=None, min_impurity_split=1e-07,\n",
       "             min_samples_leaf=1, min_samples_split=2,\n",
       "             min_weight_fraction_leaf=0.0, n_estimators=500,\n",
       "             presort='auto', random_state=None, subsample=1.0, verbose=0,\n",
       "             warm_start=False)"
      ]
     },
     "execution_count": 52,
     "metadata": {},
     "output_type": "execute_result"
    }
   ],
   "source": [
    "# Create parameter dictionary for GridSearchCV\n",
    "params = {'n_estimators':(5,10,50,100,500,1000),'learning_rate':(0.01, 0.05, 0.1, 0.2),'min_samples_leaf':(1,5,10,20)}\n",
    "gradientBoost_scalelog = GridSearchCV(GradientBoostingRegressor(), params).fit(X_scaled,ravel(log_y))\n"
   ]
  },
  {
   "cell_type": "code",
   "execution_count": 53,
   "metadata": {
    "collapsed": true
   },
   "outputs": [],
   "source": [
    "GBmodel = gradientBoost_scalelog.best_estimator_"
   ]
  },
  {
   "cell_type": "code",
   "execution_count": 55,
   "metadata": {
    "collapsed": false
   },
   "outputs": [
    {
     "name": "stdout",
     "output_type": "stream",
     "text": [
      "[21326.999715184604, 31555.740006326803, 29713.428062539355, 20133.331418596536, 25683.218768074861]\n",
      "25682.5435941\n"
     ]
    }
   ],
   "source": [
    "#K-Fold validation for Gradient Boosting (scale_log)\n",
    "\n",
    "kf = KFold(n_splits=5)\n",
    "\n",
    "scores=[]\n",
    "for train_index, test_index in kf.split(X_scaled):\n",
    "    X_tr, X_ts = X_scaled[train_index], X_scaled[test_index]\n",
    "    y_tr, y_ts = log_y[train_index], log_y[test_index]\n",
    "    model=GBmodel.fit(X_tr,ravel(y_tr))\n",
    "    predict=model.predict(X_ts)\n",
    "    rmse = sqrt(mean_squared_error(np.exp(y_ts), np.exp(predict)))\n",
    "    scores.append(rmse)\n",
    "    \n",
    "print scores\n",
    "print mean(scores)"
   ]
  },
  {
   "cell_type": "code",
   "execution_count": 56,
   "metadata": {
    "collapsed": true
   },
   "outputs": [],
   "source": [
    "# Create parameter dictionary for GridSearchCV\n",
    "params = {'n_estimators':(5,10,50,100,500,1000),'learning_rate':(0.01, 0.05, 0.1, 0.2),'min_samples_leaf':(1,5,10,20)}\n",
    "gradientBoost_scalelog = GridSearchCV(GradientBoostingRegressor(), params).fit(X_scaled,ravel(y))\n",
    "GBmodel2 = gradientBoost_scalelog.best_estimator_"
   ]
  },
  {
   "cell_type": "code",
   "execution_count": 57,
   "metadata": {
    "collapsed": false
   },
   "outputs": [
    {
     "name": "stdout",
     "output_type": "stream",
     "text": [
      "[23251.504856962467, 32168.053621704781, 27534.853682229183, 21188.733738035542, 23743.401104990495]\n",
      "25577.3094008\n"
     ]
    }
   ],
   "source": [
    "#K-Fold validation for Gradient Boosting (scale)\n",
    "\n",
    "kf = KFold(n_splits=5)\n",
    "\n",
    "scores=[]\n",
    "for train_index, test_index in kf.split(X_scaled):\n",
    "    X_tr, X_ts = X_scaled[train_index], X_scaled[test_index]\n",
    "    y_tr, y_ts = y[train_index], y[test_index]\n",
    "    model=GBmodel2.fit(X_tr,ravel(y_tr))\n",
    "    predict=model.predict(X_ts)\n",
    "    rmse = sqrt(mean_squared_error(y_ts, predict))\n",
    "    scores.append(rmse)\n",
    "    \n",
    "print scores\n",
    "print mean(scores)"
   ]
  },
  {
   "cell_type": "code",
   "execution_count": 60,
   "metadata": {
    "collapsed": true
   },
   "outputs": [],
   "source": [
    "GBKagglePred1 = list(np.exp(GBmodel.predict(X_comp_scaled)))\n",
    "\n",
    "# Save predictions to file\n",
    "outfile = open('GBKagglePred1.csv', 'w')\n",
    "for item in GBKagglePred1:\n",
    "    outfile.write(\"%s\\n\" % item)\n",
    "outfile.close()"
   ]
  },
  {
   "cell_type": "code",
   "execution_count": 61,
   "metadata": {
    "collapsed": false
   },
   "outputs": [
    {
     "data": {
      "text/plain": [
       "(1460, 358)"
      ]
     },
     "execution_count": 61,
     "metadata": {},
     "output_type": "execute_result"
    }
   ],
   "source": [
    "X.shape"
   ]
  },
  {
   "cell_type": "code",
   "execution_count": 63,
   "metadata": {
    "collapsed": false
   },
   "outputs": [
    {
     "data": {
      "image/png": "[encoded data removed]",
      "text/plain": [
       "<matplotlib.figure.Figure at 0xd807208>"
      ]
     },
     "metadata": {},
     "output_type": "display_data"
    }
   ],
   "source": [
    "feature_importance = GBmodel2.feature_importances_\n",
    "# make importances relative to max importance\n",
    "feature_importance = 100.0 * (feature_importance / feature_importance.max())\n",
    "feature_importance = feature_importance[:20]\n",
    "#print feature_importance\n",
    "sorted_idx = np.argsort(feature_importance)\n",
    "#sorted_idx = sorted_idx\n",
    "#print sorted_idx\n",
    "list_columns=list(X.columns.values)\n",
    "\n",
    "pos = np.arange(sorted_idx.shape[0]) + .5\n",
    "\n",
    "feature_names=[]\n",
    "for i in range(len(sorted_idx)):\n",
    "    feature_names.append(list_columns[sorted_idx[i]])\n",
    "#print feature_names\n",
    "#print feature_importance[sorted_idx]\n",
    "#plt.subplot(1, 2, 2)\n",
    "plt.figure(figsize=(12, 6))\n",
    "plt.barh(pos, feature_importance[sorted_idx], align='center')\n",
    "plt.yticks(pos, feature_names)\n",
    "\n",
    "plt.xlabel('Relative Importance')\n",
    "plt.title('Gradient Boosting Variable Importance- Data w/ Basic Engineering')\n",
    "plt.show()"
   ]
  },
  {
   "cell_type": "code",
   "execution_count": null,
   "metadata": {
    "collapsed": true
   },
   "outputs": [],
   "source": []
  }
 ],
 "metadata": {
  "anaconda-cloud": {},
  "kernelspec": {
   "display_name": "Python [Root]",
   "language": "python",
   "name": "Python [Root]"
  },
  "language_info": {
   "codemirror_mode": {
    "name": "ipython",
    "version": 2
   },
   "file_extension": ".py",
   "mimetype": "text/x-python",
   "name": "python",
   "nbconvert_exporter": "python",
   "pygments_lexer": "ipython2",
   "version": "2.7.11"
  }
 },
 "nbformat": 4,
 "nbformat_minor": 0
}
