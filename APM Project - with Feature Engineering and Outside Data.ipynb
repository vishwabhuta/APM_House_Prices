{
 "cells": [
  {
   "cell_type": "markdown",
   "metadata": {},
   "source": [
    "# APM Project"
   ]
  },
  {
   "cell_type": "code",
   "execution_count": 116,
   "metadata": {
    "collapsed": false
   },
   "outputs": [
    {
     "name": "stdout",
     "output_type": "stream",
     "text": [
      "Populating the interactive namespace from numpy and matplotlib\n"
     ]
    },
    {
     "name": "stderr",
     "output_type": "stream",
     "text": [
      "WARNING: pylab import has clobbered these variables: ['log', 'exp']\n",
      "`%matplotlib` prevents importing * from pylab and numpy\n"
     ]
    }
   ],
   "source": [
    "#Import Statements\n",
    "\n",
    "#basic\n",
    "import pandas as pd\n",
    "import numpy as np\n",
    "from math import log,exp\n",
    "import math\n",
    "\n",
    "#visualization\n",
    "import matplotlib.pyplot as plt\n",
    "import matplotlib.ticker as mtick\n",
    "import seaborn\n",
    "\n",
    "% pylab inline\n",
    "\n",
    "#sklearn\n",
    "\n",
    "from sklearn import model_selection\n",
    "from sklearn.cluster import KMeans\n",
    "from sklearn.ensemble import (RandomForestRegressor, GradientBoostingRegressor, AdaBoostRegressor)\n",
    "from sklearn.grid_search import GridSearchCV\n",
    "from sklearn.linear_model import LinearRegression\n",
    "from sklearn.linear_model import LogisticRegression\n",
    "from sklearn.linear_model import Lasso\n",
    "from sklearn.linear_model import LassoCV\n",
    "from sklearn.linear_model import Ridge\n",
    "from sklearn.linear_model import RidgeCV\n",
    "from sklearn.linear_model import SGDRegressor\n",
    "from sklearn.metrics import (mean_squared_error, confusion_matrix,accuracy_score, make_scorer)\n",
    "from sklearn.model_selection import train_test_split\n",
    "from sklearn.neural_network import MLPRegressor\n",
    "from sklearn.preprocessing import StandardScaler\n",
    "from sklearn.svm import SVR\n",
    "from sklearn.tree import DecisionTreeClassifier, DecisionTreeRegressor\n",
    "from sklearn.model_selection import KFold\n",
    "\n",
    "#MARS\n",
    "import pyearth\n",
    "from pyearth import Earth\n",
    "\n",
    "#other stats & clustering\n",
    "from scipy import stats\n",
    "from patsy import dmatrices\n",
    "from collections import Counter\n",
    "from scipy.spatial.distance import cdist,pdist\n"
   ]
  },
  {
   "cell_type": "markdown",
   "metadata": {},
   "source": [
    "## DATA PRE-PROCESSING"
   ]
  },
  {
   "cell_type": "code",
   "execution_count": 117,
   "metadata": {
    "collapsed": true
   },
   "outputs": [],
   "source": [
    "def preprocess(df):\n",
    "    \n",
    "    # Feature engineering for categorical variables captured as numbers\n",
    "    # Turn MSSubClass into factors\n",
    "    code = ['20', '30', '40', '45', '50', '60', '70', '75', '80', '85', '90', '120', '150', '160', '180', '190']\n",
    "    strings = ['1-STORY 1946 & NEWER ALL STYLES', '1-STORY 1945 & OLDER', '1-STORY W/FINISHED ATTIC ALL AGES', '1-1/2 STORY - UNFINISHED ALL AGES',\\\n",
    "     '1-1/2 STORY FINISHED ALL AGES', '2-STORY 1946 & NEWER', '2-STORY 1945 & OLDER', '2-1/2 STORY ALL AGES', \\\n",
    "     'SPLIT OR MULTI-LEVEL', 'SPLIT FOYER', 'DUPLEX - ALL STYLES AND AGES', '1-STORY PUD (Planned Unit Development) - 1946 & NEWER',\\\n",
    "     '1-1/2 STORY PUD - ALL AGES', '2-STORY PUD - 1946 & NEWER', 'PUD - MULTILEVEL - INCL SPLIT LEV/FOYER', \\\n",
    "     '2 FAMILY CONVERSION - ALL STYLES AND AGES']\n",
    "\n",
    "    MSSubClass=dict(zip(code,strings))\n",
    "    df['MSSubClass']=[MSSubClass[str(val)] for val in df['MSSubClass']]\n",
    "\n",
    "    # Turn month sold into factors\n",
    "    months = ['Jan','Feb','Mar','Apr','May','Jun','Jul','Aug','Sept','Oct','Nov','Dec']\n",
    "    df['MoSold'] = df['MoSold'].replace(to_replace = df['MoSold'].value_counts().index.sort_values(),value=months)\n",
    "    \n",
    "    # Feature engineering for age-related variables\n",
    "    # Convert yearsold vs yearbuilt into age of house\n",
    "    df['Age'] =  df['YrSold'] - df['YearBuilt']\n",
    "    df = df.drop('YearBuilt', 1)\n",
    "    # Convert yearsold vs. yearreomdadd into age of remodel. Adding 2 to eliminate any negative or 0 values\n",
    "    df['AgeRem'] = (df['YrSold'] - df['YearRemodAdd'])+2\n",
    "    df = df.drop('YearRemodAdd', 1)\n",
    "    # Remove age of garage - many missing values (if no garage)\n",
    "    #  no additional valuable information (garage captured in other variables); age of house more important for age\n",
    "    df = df.drop('GarageYrBlt', 1)\n",
    "    df = df.drop('Id',1)\n",
    "    \n",
    "    # Fill select variables with most common / mode where logical\n",
    "    # Most masonry veneer type is None and area is 0\n",
    "    df['MasVnrType'] = df['MasVnrType'].fillna('None')\n",
    "    df['MasVnrArea'] = df['MasVnrArea'].fillna(0.0)\n",
    "    # Most electrical is 'SBrkr'\n",
    "    df['Electrical'] = df['Electrical'].fillna('SBrkr')\n",
    "    df['LotFrontage'] = df['LotFrontage'].fillna(mean(df['LotFrontage']))\n",
    "    \n",
    "    return df"
   ]
  },
  {
   "cell_type": "code",
   "execution_count": 118,
   "metadata": {
    "collapsed": true
   },
   "outputs": [],
   "source": [
    "# Get resiliency of neighborhood during recession\n",
    "def neighb_resiliency(df): \n",
    "    Neighb_pivot = pd.pivot_table(df,index='Neighborhood',values='SalePrice',columns='YrSold',aggfunc='mean',fill_value=0)\n",
    "    Neighb_pivot=Neighb_pivot.reset_index()\n",
    "    Neighb_pivot['AvgDiff']=Neighb_pivot[2008]-Neighb_pivot[2007]\n",
    "    NeighbAvgDiff_dict=dict(zip(list(Neighb_pivot['Neighborhood']),\n",
    "                                list(np.digitize(Neighb_pivot['AvgDiff'],np.histogram(Neighb_pivot['AvgDiff'])[1]))))\n",
    "    return NeighbAvgDiff_dict"
   ]
  },
  {
   "cell_type": "code",
   "execution_count": 119,
   "metadata": {
    "collapsed": true
   },
   "outputs": [],
   "source": [
    "def feature_engineering(df):\n",
    "    ## Feature engineering for age-related variables\n",
    "    # Convert yearsold vs yearbuilt into age of house\n",
    "    df['Age'] =  df['YrSold'] - df['YearBuilt']\n",
    "    df = df.drop('YearBuilt', 1)\n",
    "    # Convert yearsold vs. yearreomdadd into age of remodel. Adding 2 to eliminate any negative or 0 values\n",
    "    df['AgeRem'] = (df['YrSold'] - df['YearRemodAdd'])+2\n",
    "    df = df.drop('YearRemodAdd', 1)\n",
    "    # Turn YrSold and MoSold to categorical\n",
    "    #YrSold\n",
    "    df['2006']=(df['YrSold']==2006)*1\n",
    "    df['2007']=(df['YrSold']==2007)*1\n",
    "    df['2008']=(df['YrSold']==2008)*1\n",
    "    df['2009']=(df['YrSold']==2009)*1\n",
    "    df['2010']=(df['YrSold']==2010)*1\n",
    "    df = df.drop('YrSold', 1)\n",
    "    #MoSold\n",
    "    monthnum=[n+1 for n in range(12)]\n",
    "    monthname=['Jan','Feb','Mar','Apr','May','Jun','Jul','Aug','Sept','Oct','Nov','Dec']\n",
    "    monthdict=dict(zip(monthnum,monthname))\n",
    "    df['MoSold']=df['MoSold'].map(lambda x: monthdict[x])\n",
    "    df['MoSold_Jan']=(df['MoSold']=='Jan')*1\n",
    "    df['MoSold_Feb']=(df['MoSold']=='Feb')*1\n",
    "    df['MoSold_Mar']=(df['MoSold']=='Mar')*1\n",
    "    df['MoSold_Apr']=(df['MoSold']=='Apr')*1\n",
    "    df['MoSold_May']=(df['MoSold']=='May')*1\n",
    "    df['MoSold_Jun']=(df['MoSold']=='Jun')*1\n",
    "    df['MoSold_Jul']=(df['MoSold']=='Jul')*1\n",
    "    df['MoSold_Aug']=(df['MoSold']=='Aug')*1\n",
    "    df['MoSold_Sept']=(df['MoSold']=='Sept')*1\n",
    "    df['MoSold_Oct']=(df['MoSold']=='Oct')*1\n",
    "    df['MoSold_Nov']=(df['MoSold']=='Nov')*1\n",
    "    df['MoSold_Dec']=(df['MoSold']=='Dec')*1\n",
    "    df = df.drop('MoSold',1)\n",
    "\n",
    "    ## Get 'resiliency' of neighborhood\n",
    "    #First use YrSold to get resiliency of neighborhood during recession\n",
    "    NeighbAvgDiff=df['Neighborhood'].map(lambda x: NeighbAvgDiff_dict[x])\n",
    "    hurt=[]\n",
    "    slightlyhurt=[]\n",
    "    resilient=[]\n",
    "    slightlyhelped=[]\n",
    "    helped=[]\n",
    "    for avgdiffbin in NeighbAvgDiff:\n",
    "        if avgdiffbin<=2:\n",
    "            hurt.append(1)\n",
    "            slightlyhurt.append(0)\n",
    "            resilient.append(0)\n",
    "            slightlyhelped.append(0)\n",
    "            helped.append(0)\n",
    "        else:\n",
    "            hurt.append(0)\n",
    "            if avgdiffbin<=4:\n",
    "                slightlyhurt.append(1)\n",
    "                resilient.append(0)\n",
    "                slightlyhelped.append(0)\n",
    "                helped.append(0)\n",
    "            else:\n",
    "                slightlyhurt.append(0)\n",
    "                if avgdiffbin<=6:\n",
    "                    resilient.append(1)\n",
    "                    slightlyhelped.append(0)\n",
    "                    helped.append(0)\n",
    "                else:\n",
    "                    resilient.append(0)\n",
    "                    if avgdiffbin<=8:\n",
    "                        slightlyhelped.append(1)\n",
    "                        helped.append(0)\n",
    "                    else:\n",
    "                        slightlyhelped.append(0)\n",
    "                        helped.append(1)\n",
    "    df['RecessionHurt']=hurt*(df['2008']+df['2009'])\n",
    "    df['RecessionSlightlyHurt']=slightlyhurt*(df['2008']+df['2009'])\n",
    "    df['RecessionResilient']=resilient*(df['2008']+df['2009'])\n",
    "    df['RecessionSlightlyHelped']=slightlyhelped*(df['2008']+df['2009'])\n",
    "    df['RecessionHelped']=helped*(df['2008']+df['2009'])\n",
    "    \n",
    "    ## Log numerical variables with long tails\n",
    "    df['LotFrontage'] = log(df['LotFrontage'].fillna(mean(df['LotFrontage']))) #impute mean where missing\n",
    "    df['LotArea'] = log(df['LotArea'])\n",
    "    df['1stFlrSF'] = log(df['1stFlrSF'])\n",
    "    df['GrLivArea'] = log(df['GrLivArea'])\n",
    "\n",
    "    ## Manual levels for neigborhoods\n",
    "    df['Neighborhood_Blmngtn'] = (df['Neighborhood']=='Neighborhood_Blmngtn')*1\n",
    "    df['Neighborhood_Blueste'] = (df['Neighborhood']=='Neighborhood_Blueste')*1\n",
    "    df['Neighborhood_BrDale'] = (df['Neighborhood']=='Neighborhood_BrDale')*1\n",
    "    df['Neighborhood_BrkSide'] = (df['Neighborhood']=='Neighborhood_BrkSide')*1\n",
    "    df['Neighborhood_ClearCr'] = (df['Neighborhood']=='Neighborhood_ClearCr')*1\n",
    "    df['Neighborhood_CollgCr'] = (df['Neighborhood']=='Neighborhood_CollgCr')*1\n",
    "    df['Neighborhood_Crawfor'] = (df['Neighborhood']=='Neighborhood_Crawfor')*1\n",
    "    df['Neighborhood_Edwards'] = (df['Neighborhood']=='Neighborhood_Edwards')*1\n",
    "    df['Neighborhood_Gilbert'] = (df['Neighborhood']=='Neighborhood_Gilbert')*1\n",
    "    df['Neighborhood_IDOTRR'] = (df['Neighborhood']=='Neighborhood_IDOTRR')*1\n",
    "    df['Neighborhood_MeadowV'] = (df['Neighborhood']=='Neighborhood_MeadowV')*1\n",
    "    df['Neighborhood_Mitchel'] = (df['Neighborhood']=='Neighborhood_Mitchel')*1\n",
    "    df['Neighborhood_NAmes'] = (df['Neighborhood']=='Neighborhood_NAmes')*1\n",
    "    df['Neighborhood_NPkVill'] = (df['Neighborhood']=='Neighborhood_NPkVill')*1\n",
    "    df['Neighborhood_NoRidge'] = (df['Neighborhood']=='Neighborhood_NoRidge')*1\n",
    "    df['Neighborhood_NridgHt'] = (df['Neighborhood']=='Neighborhood_NridgHt')*1\n",
    "    df['Neighborhood_OldTown'] = (df['Neighborhood']=='Neighborhood_OldTown')*1\n",
    "    df['Neighborhood_SWISU'] = (df['Neighborhood']=='Neighborhood_SWISU')*1\n",
    "    df['Neighborhood_Sawyer'] = (df['Neighborhood']=='Neighborhood_Sawyer')*1\n",
    "    df['Neighborhood_SawyerW'] = (df['Neighborhood']=='Neighborhood_SawyerW')*1\n",
    "    df['Neighborhood_Somerst'] = (df['Neighborhood']=='Neighborhood_Somerst')*1\n",
    "    df['Neighborhood_StoneBr'] = (df['Neighborhood']=='Neighborhood_StoneBr')*1\n",
    "    df['Neighborhood_Timber'] = (df['Neighborhood']=='Neighborhood_Timber')*1\n",
    "    df['Neighborhood_Veenker'] = (df['Neighborhood']=='Neighborhood_Veenker')*1\n",
    "    df = df.drop('Neighborhood',1)\n",
    "    \n",
    "    ## Consolidate related variables to reduce features\n",
    "    # Consolidate Alley and Street\n",
    "    df['DriveAccess']=('A_'+df['Alley']).fillna('S_'+df['Street'])\n",
    "    df['Drive_APave']=(df['DriveAccess']=='A_Pave')*1\n",
    "    df['Drive_AGrvl']=(df['DriveAccess']=='A_Grvl')*1\n",
    "    df['Drive_SGrvl']=(df['DriveAccess']=='SGrvl')*1\n",
    "    df = df.drop('DriveAccess', 1)\n",
    "    df = df.drop('Alley', 1)\n",
    "    df = df.drop('Street', 1)\n",
    "    # Consolidate land and lot\n",
    "    df['LandContour']=df['LandContour'].fillna('Lvl')\n",
    "    df['LotShape']=df['LotShape'].fillna('Reg')\n",
    "    lotland_dict={'Lvl_Reg':'Reg','Bnk_Reg':'Reg','HLS_Reg':'Reg','Low_Reg':'Reg',\n",
    "                  'Lvl_IR1':'Lvl_Irr','Lvl_IR2':'Lvl_Irr','Lvl_IR3':'Lvl_Irr',\n",
    "                  'Bnk_IR1':'Bnk_Irr','Bnk_IR2':'Bnk_Irr','Bnk_IR3':'Bnk_Irr',\n",
    "                  'HLS_IR1':'HLS_IR1','HLS_IR2':'HLS_IR2','HLS_IR3':'HLS_IR3',\n",
    "                  'Low_IR1':'Low_IR1','Low_IR2':'Low_IR2','Low_IR3':'Low_IR3'}\n",
    "    df['LandLot']=[lotland_dict[x] for x in (df['LandContour']+'_'+df['LotShape'])]\n",
    "    df['LandLot_Reg']=(df['LandLot']=='Reg')*1\n",
    "    df['LandLot_LvlIrr']=(df['LandLot']=='Lvl_Irr')*1\n",
    "    df['LandLot_BnkIrr']=(df['LandLot']=='Bnk_Irr')*1\n",
    "    df['LandLot_HLSIR1']=(df['LandLot']=='HLS_IR1')*1\n",
    "    df['LandLot_HLSIR2']=(df['LandLot']=='HLS_IR2')*1\n",
    "    df['LandLot_HLSIR3']=(df['LandLot']=='HLS_IR3')*1\n",
    "    df['LandLot_LowIR1']=(df['LandLot']=='Low_IR1')*1\n",
    "    df['LandLot_LowIR2']=(df['LandLot']=='Low_IR2')*1\n",
    "    df['LandLot_LowIR3']=(df['LandLot']=='Low_IR3')*1\n",
    "    df = df.drop('LandLot',1)\n",
    "    df = df.drop('LandContour', 1)\n",
    "    df = df.drop('LotShape', 1)\n",
    "    df = df.drop('LotConfig', 1) # no additional value\n",
    "    df = df.drop('LandSlope', 1) # no additional value\n",
    "    # Consolidate Conditions\n",
    "    conditions=[x.split('_') for x in (df['Condition1']+'_'+df['Condition2'])]\n",
    "    consolidated_conditions=[]\n",
    "    for cond1, cond2 in conditions:\n",
    "        if cond1=='Norm' and cond2=='Norm':\n",
    "            conds='Baseline'\n",
    "        elif cond1=='Artery' and cond2=='Artery':\n",
    "            conds='DoubleArtFeed'\n",
    "        elif cond1=='Feedr' and cond2=='Feedr':\n",
    "            conds='DoubleArtFeed'\n",
    "        elif 'Pos' in cond1 or 'Pos' in cond2:\n",
    "            conds='Pos'\n",
    "        elif cond1=='Feedr' or cond2=='Feedr' or cond1=='Artery' or cond2=='Artery' or 'RR' in cond1 or 'RR' in cond2:\n",
    "            conds='Neg'\n",
    "        consolidated_conditions.append(conds)\n",
    "    df['Conditions']=consolidated_conditions\n",
    "    df['Conds_DoubleArtFeed']=(df['Conditions']=='DoubleArtFeed')*1\n",
    "    df['Conds_Pos']=(df['Conditions']=='Pos')*1\n",
    "    df['Conds_Neg']=(df['Conditions']=='Neg')*1\n",
    "    df = df.drop('Condition1', 1)\n",
    "    df = df.drop('Condition2', 1)\n",
    "    df = df.drop('Conditions', 1)\n",
    "    # Consolidate Bathrooms\n",
    "    df['Bath']=df['FullBath']+df['HalfBath']*0.5\n",
    "    df['BsmtBath']=df['BsmtFullBath']+df['BsmtHalfBath']*0.5\n",
    "    df['TotBath']=df['Bath']+df['BsmtBath']\n",
    "    # Consolidate Bsmt quality and space\n",
    "    glqunfsqft=[]\n",
    "    for i in range(len(df['BsmtFinType1'])):\n",
    "        sqft=0\n",
    "        if df['BsmtFinType1'][i]=='GLQ':\n",
    "            sqft+=df['BsmtFinSF1'][i]*12\n",
    "        elif df['BsmtFinType1'][i]=='Unf':\n",
    "            sqft+=df['BsmtFinSF1'][i]*5\n",
    "        elif df['BsmtFinType1'][i]=='LwQ':\n",
    "            sqft-=df['BsmtFinSF1'][i]*3.5\n",
    "        if df['BsmtFinType2'][i]=='Unf':\n",
    "            sqft+=df['BsmtFinSF2'][i]*15\n",
    "        elif df['BsmtFinType2'][i]=='LwQ':\n",
    "            sqft-=df['BsmtFinSF2'][i]*.5\n",
    "        if sqft==0:\n",
    "            sqft+=0.1\n",
    "        elif sqft<0:\n",
    "            sqft=-log(abs(sqft))\n",
    "        else:\n",
    "            sqft=log(sqft)\n",
    "        glqunfsqft.append(sqft)\n",
    "    df['BsmtGLQUnfSF']=glqunfsqft\n",
    "    #Identify 'bunkers'\n",
    "    bunker=[]\n",
    "    for i in range(len(df['TotBath'])):\n",
    "        if df['TotBath'][i]>3 and df['BsmtFinType1'][i]=='GLQ':\n",
    "            if df['BsmtFinType2'][i]=='Unf' or df['BsmtFinType2'][i]=='Rec':\n",
    "                if df['BsmtFullBath'][i]>=0 and df['FullBath'][i]!=df['BsmtFullBath'][i]:\n",
    "                    bunker.append(1)\n",
    "                else:\n",
    "                    bunker.append(0)\n",
    "            else:\n",
    "                 bunker.append(0)\n",
    "        else:\n",
    "            bunker.append(0)\n",
    "    df['Bunker']=bunker\n",
    "    df = df.drop('BsmtFinSF1', 1)\n",
    "    df = df.drop('BsmtFinSF2', 1)\n",
    "    df = df.drop('BsmtUnfSF', 1)\n",
    "    df = df.drop('TotalBsmtSF', 1)\n",
    "    df = df.drop('BsmtFinType1', 1)\n",
    "    df = df.drop('BsmtFinType2', 1)\n",
    "    df = df.drop('FullBath', 1)\n",
    "    df = df.drop('HalfBath', 1)\n",
    "    df = df.drop('BsmtFullBath', 1)\n",
    "    df = df.drop('BsmtHalfBath', 1)\n",
    "    # Consolidate OverallQual and OverallCond\n",
    "    df['OverallCondQual']=df['OverallCond']+df['OverallQual']\n",
    "    df = df.drop('OverallCond', 1)\n",
    "    df = df.drop('OverallQual', 1)\n",
    "    # Consolidate MasVnr\n",
    "    # Most masonry veneer type is None and area is 0\n",
    "    df['MasVnrType'] = df['MasVnrType'].fillna('None')\n",
    "    df['MasVnrArea'] = df['MasVnrArea'].fillna(0.0)\n",
    "    stone=[]\n",
    "    brkface=[]\n",
    "    brkcmn=[]\n",
    "    for i in range(len(df['MasVnrArea'])):\n",
    "        area=df['MasVnrArea'][i]\n",
    "        if df['MasVnrType'][i]=='Stone':\n",
    "            stone.append(area+1)\n",
    "            brkface.append(1)\n",
    "            brkcmn.append(1)\n",
    "        else:\n",
    "            stone.append(1)\n",
    "            if df['MasVnrType'][i]=='BrkFace':\n",
    "                brkface.append(area+1)\n",
    "                brkcmn.append(1)\n",
    "            else:\n",
    "                brkface.append(1)\n",
    "                if df['MasVnrType'][i]=='BrkCmn':\n",
    "                    brkcmn.append(area+1)\n",
    "                else:\n",
    "                    brkcmn.append(1)\n",
    "    df['MasVnr_Stone']=log(stone)\n",
    "    df['MasVnr_BrkFace']=log(brkface)\n",
    "    df['MasVnr_BrkCmn']=log(brkcmn)\n",
    "    df = df.drop('MasVnrType', 1)\n",
    "    df = df.drop('MasVnrArea', 1)\n",
    "    # Consolidate porch and deck space\n",
    "    bins_enclosedporch=np.digitize(df['EnclosedPorch'],np.histogram(df['WoodDeckSF'])[1])\n",
    "    bins_screenporch=np.digitize(df['ScreenPorch'],np.histogram(df['ScreenPorch'])[1])\n",
    "    bins_3ssnporch=np.digitize(df['3SsnPorch'],np.histogram(df['3SsnPorch'])[1])\n",
    "    bins_wooddeck=np.digitize(df['WoodDeckSF'],np.histogram(df['WoodDeckSF'])[1])\n",
    "    bins_openporch=np.digitize(df['OpenPorchSF'],np.histogram(df['OpenPorchSF'])[1])\n",
    "    outsidespace=bins_enclosedporch+bins_screenporch+bins_3ssnporch+bins_wooddeck+bins_openporch\n",
    "    df['PorchDeck']=outsidespace\n",
    "    df = df.drop('EnclosedPorch', 1)\n",
    "    df = df.drop('ScreenPorch', 1)\n",
    "    df = df.drop('3SsnPorch', 1)\n",
    "    df = df.drop('WoodDeckSF', 1)\n",
    "    df = df.drop('OpenPorchSF', 1)\n",
    "    # Consolidate garage\n",
    "    df['Garage']=(df['GarageCars']>0)*1\n",
    "    df['NiceGarage']=(df['GarageFinish']=='Fin')*1\n",
    "    df['Carport']=(df['GarageType']=='CarPort')*1\n",
    "    df['LargeGarage']=(df['GarageCars']>1)*1\n",
    "    df['3CarGarage']=(df['GarageCars']==3)*1\n",
    "    df = df.drop('GarageCars',1)\n",
    "    df = df.drop('GarageFinish',1)\n",
    "    df = df.drop('GarageType',1)\n",
    "    df = df.drop('GarageQual',1)\n",
    "    df = df.drop('GarageCond',1)\n",
    "    # Consolidate fireplaces\n",
    "    df['Fireplaces']=df['Fireplaces'].fillna(0)\n",
    "    df['FireplaceQu']=df['FireplaceQu'].fillna('None')\n",
    "    df['Fireplace_Any']=(df['Fireplaces']>0)*1\n",
    "    df['Fireplace_Many']=(df['Fireplaces']>1)*1\n",
    "    df['Fireplace_Ex']=(df['FireplaceQu']=='Ex')*1\n",
    "    df['Fireplace_Good']=(df['FireplaceQu'].str.contains('Gd|TA'))*1\n",
    "    df['Fireplace_ManyEx']=((df['Fireplaces']>1)*1)*((df['FireplaceQu']=='Ex')*1)\n",
    "    df = df.drop('Fireplaces',1)\n",
    "    df = df.drop('FireplaceQu',1)\n",
    "    # Consolidate sale situation\n",
    "    df['SaleType']=df['SaleType'].fillna('WD')\n",
    "    df['Sale_Adjoining']=(df['SaleCondition']=='AdjLand')*1\n",
    "    df['Sale_HelpFin']=(df['SaleType'].str.contains('ConL'))*1\n",
    "    df['Sale_Fam']=(df['SaleCondition']=='Fam')*1\n",
    "    df['Sale_Abnormal']=((df['SaleCondition']=='Abnormal')*1)*((df['SaleType']=='Other')*1)\n",
    "    df['Sale_QuickSale']=((df['SaleCondition']=='Partial')*1)*((df['SaleType']=='WD')*1)\n",
    "    df = df.drop('SaleCondition',1)\n",
    "    df = df.drop('SaleType',1)\n",
    "    # Consolidate physical building type and house style\n",
    "    df['HalfStoryLvl1Fam']=((df['BldgType']=='1Fam'))*((df['HouseStyle'].str.contains('.5|SFoyer|SLvl'))*1)\n",
    "    df['TwoStory1Fam']=((df['BldgType']=='1Fam'))*((df['HouseStyle'].str.contains('2'))*1)\n",
    "    df['MultiFam']=(df['BldgType']!='1Fam')*1\n",
    "    df['UnfHouse']=(df['HouseStyle'].str.contains('Unf'))*1\n",
    "    OldHomes=((df['MSSubClass']==30)*1)+((df['MSSubClass']==70)*1)\n",
    "    BigPUD=((df['MSSubClass']==160)*1)+((df['MSSubClass']==190)*1)\n",
    "    LvlPUD=((df['MSSubClass']==180)*1)\n",
    "    df = df.drop('BldgType',1)\n",
    "    df = df.drop('HouseStyle',1)\n",
    "    df = df.drop('MSSubClass',1)\n",
    "\n",
    "    ## Reduce levels for applicable variables\n",
    "    #MSZoning\n",
    "    df['Zoning_ResHiMedDensity']=((df['MSZoning']=='RH')*1)+((df['MSZoning']=='RM')*1)\n",
    "    df['Zoning_Commercial']=(df['MSZoning']=='C')*1\n",
    "    df = df.drop('MSZoning',1)\n",
    "    #Functional\n",
    "    df['Functional']=df['Functional'].fillna('Typ')\n",
    "    df['Functional_MajSev']=(df['Functional'].str.contains('Sev|Sal|Maj'))*1\n",
    "    df['Functional_MinMod']=(df['Functional'].str.contains('Min|Mod'))*1\n",
    "    df = df.drop('Functional',1)\n",
    "    #Fence\n",
    "    df['Fence']=df['Fence'].fillna('NoFence')\n",
    "    df['Fence_GdPrv']=(df['Fence']=='GdPrv')*1\n",
    "    df['Fence_GdWo']=(df['Fence']=='GdWo')*1\n",
    "    df['Fence_MnPrv']=(df['Fence']=='MnPrv')*1\n",
    "    df['Fence_MnWw']=(df['Fence']=='MnWw')*1\n",
    "    df = df.drop('Fence',1)\n",
    "    #RoofStyle\n",
    "    df['RoofStyle']=~df['RoofStyle'].str.contains('Hip|Gable')*1\n",
    "    #RoofMatl\n",
    "    df['RoofMatlWd']=df['RoofMatl'].str.contains('Wd')*1\n",
    "    df['RoofMatlUnique']=~df['RoofMatl'].str.contains('Wd|CompShg')*1\n",
    "    df = df.drop('RoofMatl',1)\n",
    "    #Utilities\n",
    "    df['Utilities']=~(df['Utilities'].fillna('AllPub')=='AllPub')*1\n",
    "    #Heating and HeatingQc\n",
    "    df['Heating']=~df['Heating'].fillna('Gas').str.contains('Gas')*1\n",
    "    df['HeatingQCEx']=(df['HeatingQC']=='Ex')*1\n",
    "    df['HeatingQCBad']=(df['HeatingQC'].str.contains('Fa|Po'))*1\n",
    "    df = df.drop('HeatingQC',1)\n",
    "    #Electrical\n",
    "    df['Electrical']=~df['Electrical'].fillna('SBrkr').str.contains('SBrkr')*1\n",
    "    #CentralAir\n",
    "    df['CentralAir']=~df['CentralAir'].fillna('Y').str.contains('Y')*1\n",
    "    #KitenQual\n",
    "    df['KitchenQual']=(df['KitchenQual']!='Ex')*1\n",
    "    #PavedDrive\n",
    "    df['PavedDrive']=~((df['PavedDrive'].fillna('Y'))=='Y')*1\n",
    "    #PoolQC\n",
    "    df['PoolQC']=(df['PoolQC']=='Ex')*1\n",
    "\n",
    "    ## Drop columns that do not provide predictive power (for variety of reasons)\n",
    "    df = df.drop('ExterCond',1)\n",
    "    df = df.drop('ExterQual',1)\n",
    "    df = df.drop('BsmtCond',1)\n",
    "    df = df.drop('BsmtQual',1)\n",
    "    df = df.drop('BsmtExposure',1)\n",
    "    df = df.drop('2ndFlrSF',1)\n",
    "    df = df.drop('LowQualFinSF',1)\n",
    "    df = df.drop('KitchenAbvGr',1)\n",
    "    df = df.drop('Exterior1st',1)\n",
    "    df = df.drop('Exterior2nd',1)\n",
    "    df = df.drop('PoolArea',1)\n",
    "    df = df.drop('Foundation',1)\n",
    "    df = df.drop('GarageYrBlt',1)\n",
    "    df = df.drop('GarageArea',1)\n",
    "    df = df.drop('PavedDrive',1)\n",
    "    df = df.drop('MiscFeature',1)\n",
    "    df = df.drop('Id',1)\n",
    "    \n",
    "    return df"
   ]
  },
  {
   "cell_type": "code",
   "execution_count": 120,
   "metadata": {
    "collapsed": true
   },
   "outputs": [],
   "source": [
    "def feature_engineering_withOutsideData(df):\n",
    "    ## Feature engineering for age-related variables\n",
    "    # Convert yearsold vs yearbuilt into age of house\n",
    "    df['Age'] =  df['YrSold'] - df['YearBuilt']\n",
    "    df = df.drop('YearBuilt', 1)\n",
    "    # Convert yearsold vs. yearreomdadd into age of remodel. Adding 2 to eliminate any negative or 0 values\n",
    "    df['AgeRem'] = (df['YrSold'] - df['YearRemodAdd'])+2\n",
    "    df = df.drop('YearRemodAdd', 1)\n",
    "    # Turn YrSold and MoSold to categorical\n",
    "    #YrSold\n",
    "    df['2006']=(df['YrSold']==2006)*1\n",
    "    df['2007']=(df['YrSold']==2007)*1\n",
    "    df['2008']=(df['YrSold']==2008)*1\n",
    "    df['2009']=(df['YrSold']==2009)*1\n",
    "    df['2010']=(df['YrSold']==2010)*1\n",
    "    df = df.drop('YrSold', 1)\n",
    "    #MoSold\n",
    "    monthnum=[n+1 for n in range(12)]\n",
    "    monthname=['Jan','Feb','Mar','Apr','May','Jun','Jul','Aug','Sept','Oct','Nov','Dec']\n",
    "    monthdict=dict(zip(monthnum,monthname))\n",
    "    df['MoSold']=df['MoSold'].map(lambda x: monthdict[x])\n",
    "    df['MoSold_Jan']=(df['MoSold']=='Jan')*1\n",
    "    df['MoSold_Feb']=(df['MoSold']=='Feb')*1\n",
    "    df['MoSold_Mar']=(df['MoSold']=='Mar')*1\n",
    "    df['MoSold_Apr']=(df['MoSold']=='Apr')*1\n",
    "    df['MoSold_May']=(df['MoSold']=='May')*1\n",
    "    df['MoSold_Jun']=(df['MoSold']=='Jun')*1\n",
    "    df['MoSold_Jul']=(df['MoSold']=='Jul')*1\n",
    "    df['MoSold_Aug']=(df['MoSold']=='Aug')*1\n",
    "    df['MoSold_Sept']=(df['MoSold']=='Sept')*1\n",
    "    df['MoSold_Oct']=(df['MoSold']=='Oct')*1\n",
    "    df['MoSold_Nov']=(df['MoSold']=='Nov')*1\n",
    "    df['MoSold_Dec']=(df['MoSold']=='Dec')*1\n",
    "    df = df.drop('MoSold',1)\n",
    "\n",
    "    ## Get 'resiliency' of neighborhood\n",
    "    #First use YrSold to get resiliency of neighborhood during recession\n",
    "    NeighbAvgDiff=df['Neighborhood'].map(lambda x: NeighbAvgDiff_dict[x])\n",
    "    hurt=[]\n",
    "    slightlyhurt=[]\n",
    "    resilient=[]\n",
    "    slightlyhelped=[]\n",
    "    helped=[]\n",
    "    for avgdiffbin in NeighbAvgDiff:\n",
    "        if avgdiffbin<=2:\n",
    "            hurt.append(1)\n",
    "            slightlyhurt.append(0)\n",
    "            resilient.append(0)\n",
    "            slightlyhelped.append(0)\n",
    "            helped.append(0)\n",
    "        else:\n",
    "            hurt.append(0)\n",
    "            if avgdiffbin<=4:\n",
    "                slightlyhurt.append(1)\n",
    "                resilient.append(0)\n",
    "                slightlyhelped.append(0)\n",
    "                helped.append(0)\n",
    "            else:\n",
    "                slightlyhurt.append(0)\n",
    "                if avgdiffbin<=6:\n",
    "                    resilient.append(1)\n",
    "                    slightlyhelped.append(0)\n",
    "                    helped.append(0)\n",
    "                else:\n",
    "                    resilient.append(0)\n",
    "                    if avgdiffbin<=8:\n",
    "                        slightlyhelped.append(1)\n",
    "                        helped.append(0)\n",
    "                    else:\n",
    "                        slightlyhelped.append(0)\n",
    "                        helped.append(1)\n",
    "    df['RecessionHurt']=hurt*(df['2008']+df['2009'])\n",
    "    df['RecessionSlightlyHurt']=slightlyhurt*(df['2008']+df['2009'])\n",
    "    df['RecessionResilient']=resilient*(df['2008']+df['2009'])\n",
    "    df['RecessionSlightlyHelped']=slightlyhelped*(df['2008']+df['2009'])\n",
    "    df['RecessionHelped']=helped*(df['2008']+df['2009'])\n",
    "    \n",
    "    ## Outside Data - Neighborhood Income Data\n",
    "    neighb_incomedata=pd.read_csv('data/Neighborhood_Income.csv')\n",
    "    neighb_incomedata['Rating']=neighb_incomedata['Rating'].map(lambda x: 'NeighbIncomeTier'+str(x))\n",
    "    incomerating_dict=dict(zip(neighb_incomedata['Neighborhood'],neighb_incomedata['Rating']))\n",
    "    df['NeighbIncomeRating']=df['Neighborhood'].map(lambda x:incomerating_dict[x])\n",
    "    \n",
    "    ## Outside Data - Census Data\n",
    "    #ImportData\n",
    "    census_AgeAndSex=pd.read_csv('data/AgeAndSex.csv')\n",
    "    census_EmploymentStatus=pd.read_csv('data/EmploymentStatus.csv')\n",
    "    census_FinancialCharacteristics=pd.read_csv('data/FinancialCharacteristics.csv')\n",
    "    census_HouseholdsAndFamilies=pd.read_csv('data/HouseholdsAndFamilies.csv')\n",
    "    census_Income=pd.read_csv('data/Income.csv')\n",
    "    #GetMeasures\n",
    "    MaleToFemaleRatio=census_AgeAndSex.ix[2,1:].astype(float)/census_AgeAndSex.ix[4,1:].astype(float)\n",
    "    AgeDependencyRatio=census_AgeAndSex.ix[186,1:].astype(float)\n",
    "    OldAgeDependencyRatio=census_AgeAndSex.ix[192,1:].astype(float)\n",
    "    UnemploymentRate=census_EmploymentStatus.ix[7,1:].astype(float)\n",
    "    PrimeWorkingAgeEmployed=census_EmploymentStatus.ix[28,1:].astype(float)\n",
    "    OwnerToRenterRatio=census_FinancialCharacteristics.ix[2,1:].astype(float)/census_FinancialCharacteristics.ix[4,1:].astype(int)\n",
    "    OwnerMonthlyHousingCostsIn00s=census_FinancialCharacteristics.ix[164,1:].astype(float)/100\n",
    "    AvgHouseholdSize=census_HouseholdsAndFamilies.ix[10,1:].astype(float)\n",
    "    PctFamilyHouseholds=census_HouseholdsAndFamilies.ix[2,1:].astype(float)/census_HouseholdsAndFamilies.ix[0,1:].astype(float)\n",
    "    SingleMaleToFemaleHouseholdsRatio=census_HouseholdsAndFamilies.ix[4,1:].astype(float)/census_HouseholdsAndFamilies.ix[6,1:].astype(float)\n",
    "    PctLivingAlone=census_HouseholdsAndFamilies.ix[110,1:].astype(float)/100\n",
    "    TenureOwnerToRenterRatio=census_HouseholdsAndFamilies.ix[180,1:].astype(float)/census_HouseholdsAndFamilies.ix[190,1:].astype(float)\n",
    "    PctLessThan15k=(census_Income.ix[8,1:].astype(float)+census_Income.ix[16,1:].astype(float))/100\n",
    "    Pct15kto25k=(census_Income.ix[24,1:].astype(float))/100\n",
    "    Pct25kto35k=(census_Income.ix[32,1:].astype(float))/100\n",
    "    Pct35kto50k=(census_Income.ix[40,1:].astype(float))/100\n",
    "    Pct50kto75k=(census_Income.ix[48,1:].astype(float))/100\n",
    "    Pct75kto100k=(census_Income.ix[56,1:].astype(float))/100\n",
    "    Pct100kto200k=(census_Income.ix[64,1:].astype(float)+census_Income.ix[72,1:].astype(float))/100\n",
    "    PctOver200k=(census_Income.ix[80,1:].astype(float))/100\n",
    "    MedIncomeIn000s=(census_Income.ix[88,1:].astype(float))/1000\n",
    "    MeanToMedIncomeRatio=(census_Income.ix[96,1:].astype(float))/(census_Income.ix[88,1:].astype(float))\n",
    "    #AddToDataframe\n",
    "    AnnualMeasures=[MaleToFemaleRatio,AgeDependencyRatio,OldAgeDependencyRatio,UnemploymentRate,PrimeWorkingAgeEmployed,\n",
    "                    OwnerToRenterRatio,OwnerMonthlyHousingCostsIn00s,AvgHouseholdSize,PctFamilyHouseholds,\n",
    "                    SingleMaleToFemaleHouseholdsRatio,PctLivingAlone,TenureOwnerToRenterRatio,PctLessThan15k,\n",
    "                    Pct15kto25k,Pct25kto35k,Pct35kto50k,Pct50kto75k,Pct75kto100k,Pct100kto200k,PctOver200k,\n",
    "                    MedIncomeIn000s,MeanToMedIncomeRatio]\n",
    "    MeasuresNames=['MaleToFemaleRatio','AgeDependencyRatio','OldAgeDependencyRatio','UnemploymentRate','PrimeWorkingAgeEmployed',\n",
    "                   'OwnerToRenterRatio','OwnerMonthlyHousingCostsIn00s','AvgHouseholdSize','PctFamilyHouseholds',\n",
    "                   'SingleMaleToFemaleHouseholdsRatio','PctLivingAlone','TenureOwnerToRenterRatio','PctLessThan15k',\n",
    "                   'Pct15kto25k','Pct25kto35k','Pct35kto50k','Pct50kto75k','Pct75kto100k','Pct100kto200k','PctOver200k',\n",
    "                   'MedIncomeIn000s','MeanToMedIncomeRatio']\n",
    "    for i in range(len(AnnualMeasures)):\n",
    "        M_2006=AnnualMeasures[i][0]*df['2006']\n",
    "        M_2007=AnnualMeasures[i][1]*df['2007']\n",
    "        M_2008=AnnualMeasures[i][2]*df['2008']\n",
    "        M_2009=AnnualMeasures[i][3]*df['2009']\n",
    "        M_2010=AnnualMeasures[i][4]*df['2010']\n",
    "        M_Total=M_2006+M_2007+M_2008+M_2009+M_2010\n",
    "        colname=MeasuresNames[i]\n",
    "        df[colname]=M_Total\n",
    "\n",
    "    ## Log numerical variables with long tails\n",
    "    df['LotFrontage'] = log(df['LotFrontage'].fillna(mean(df['LotFrontage']))) #impute mean where missing\n",
    "    df['LotArea'] = log(df['LotArea'])\n",
    "    df['1stFlrSF'] = log(df['1stFlrSF'])\n",
    "    df['GrLivArea'] = log(df['GrLivArea'])\n",
    "\n",
    "    ## Manual levels for neigborhoods\n",
    "    df['Neighborhood_Blmngtn'] = (df['Neighborhood']=='Neighborhood_Blmngtn')*1\n",
    "    df['Neighborhood_Blueste'] = (df['Neighborhood']=='Neighborhood_Blueste')*1\n",
    "    df['Neighborhood_BrDale'] = (df['Neighborhood']=='Neighborhood_BrDale')*1\n",
    "    df['Neighborhood_BrkSide'] = (df['Neighborhood']=='Neighborhood_BrkSide')*1\n",
    "    df['Neighborhood_ClearCr'] = (df['Neighborhood']=='Neighborhood_ClearCr')*1\n",
    "    df['Neighborhood_CollgCr'] = (df['Neighborhood']=='Neighborhood_CollgCr')*1\n",
    "    df['Neighborhood_Crawfor'] = (df['Neighborhood']=='Neighborhood_Crawfor')*1\n",
    "    df['Neighborhood_Edwards'] = (df['Neighborhood']=='Neighborhood_Edwards')*1\n",
    "    df['Neighborhood_Gilbert'] = (df['Neighborhood']=='Neighborhood_Gilbert')*1\n",
    "    df['Neighborhood_IDOTRR'] = (df['Neighborhood']=='Neighborhood_IDOTRR')*1\n",
    "    df['Neighborhood_MeadowV'] = (df['Neighborhood']=='Neighborhood_MeadowV')*1\n",
    "    df['Neighborhood_Mitchel'] = (df['Neighborhood']=='Neighborhood_Mitchel')*1\n",
    "    df['Neighborhood_NAmes'] = (df['Neighborhood']=='Neighborhood_NAmes')*1\n",
    "    df['Neighborhood_NPkVill'] = (df['Neighborhood']=='Neighborhood_NPkVill')*1\n",
    "    df['Neighborhood_NoRidge'] = (df['Neighborhood']=='Neighborhood_NoRidge')*1\n",
    "    df['Neighborhood_NridgHt'] = (df['Neighborhood']=='Neighborhood_NridgHt')*1\n",
    "    df['Neighborhood_OldTown'] = (df['Neighborhood']=='Neighborhood_OldTown')*1\n",
    "    df['Neighborhood_SWISU'] = (df['Neighborhood']=='Neighborhood_SWISU')*1\n",
    "    df['Neighborhood_Sawyer'] = (df['Neighborhood']=='Neighborhood_Sawyer')*1\n",
    "    df['Neighborhood_SawyerW'] = (df['Neighborhood']=='Neighborhood_SawyerW')*1\n",
    "    df['Neighborhood_Somerst'] = (df['Neighborhood']=='Neighborhood_Somerst')*1\n",
    "    df['Neighborhood_StoneBr'] = (df['Neighborhood']=='Neighborhood_StoneBr')*1\n",
    "    df['Neighborhood_Timber'] = (df['Neighborhood']=='Neighborhood_Timber')*1\n",
    "    df['Neighborhood_Veenker'] = (df['Neighborhood']=='Neighborhood_Veenker')*1\n",
    "    df = df.drop('Neighborhood',1)\n",
    "    \n",
    "    ## Consolidate related variables to reduce features\n",
    "    # Consolidate Alley and Street\n",
    "    df['DriveAccess']=('A_'+df['Alley']).fillna('S_'+df['Street'])\n",
    "    df['Drive_APave']=(df['DriveAccess']=='A_Pave')*1\n",
    "    df['Drive_AGrvl']=(df['DriveAccess']=='A_Grvl')*1\n",
    "    df['Drive_SGrvl']=(df['DriveAccess']=='SGrvl')*1\n",
    "    df = df.drop('DriveAccess', 1)\n",
    "    df = df.drop('Alley', 1)\n",
    "    df = df.drop('Street', 1)\n",
    "    # Consolidate land and lot\n",
    "    df['LandContour']=df['LandContour'].fillna('Lvl')\n",
    "    df['LotShape']=df['LotShape'].fillna('Reg')\n",
    "    lotland_dict={'Lvl_Reg':'Reg','Bnk_Reg':'Reg','HLS_Reg':'Reg','Low_Reg':'Reg',\n",
    "                  'Lvl_IR1':'Lvl_Irr','Lvl_IR2':'Lvl_Irr','Lvl_IR3':'Lvl_Irr',\n",
    "                  'Bnk_IR1':'Bnk_Irr','Bnk_IR2':'Bnk_Irr','Bnk_IR3':'Bnk_Irr',\n",
    "                  'HLS_IR1':'HLS_IR1','HLS_IR2':'HLS_IR2','HLS_IR3':'HLS_IR3',\n",
    "                  'Low_IR1':'Low_IR1','Low_IR2':'Low_IR2','Low_IR3':'Low_IR3'}\n",
    "    df['LandLot']=[lotland_dict[x] for x in (df['LandContour']+'_'+df['LotShape'])]\n",
    "    df['LandLot_Reg']=(df['LandLot']=='Reg')*1\n",
    "    df['LandLot_LvlIrr']=(df['LandLot']=='Lvl_Irr')*1\n",
    "    df['LandLot_BnkIrr']=(df['LandLot']=='Bnk_Irr')*1\n",
    "    df['LandLot_HLSIR1']=(df['LandLot']=='HLS_IR1')*1\n",
    "    df['LandLot_HLSIR2']=(df['LandLot']=='HLS_IR2')*1\n",
    "    df['LandLot_HLSIR3']=(df['LandLot']=='HLS_IR3')*1\n",
    "    df['LandLot_LowIR1']=(df['LandLot']=='Low_IR1')*1\n",
    "    df['LandLot_LowIR2']=(df['LandLot']=='Low_IR2')*1\n",
    "    df['LandLot_LowIR3']=(df['LandLot']=='Low_IR3')*1\n",
    "    df = df.drop('LandLot',1)\n",
    "    df = df.drop('LandContour', 1)\n",
    "    df = df.drop('LotShape', 1)\n",
    "    df = df.drop('LotConfig', 1) # no additional value\n",
    "    df = df.drop('LandSlope', 1) # no additional value\n",
    "    # Consolidate Conditions\n",
    "    conditions=[x.split('_') for x in (df['Condition1']+'_'+df['Condition2'])]\n",
    "    consolidated_conditions=[]\n",
    "    for cond1, cond2 in conditions:\n",
    "        if cond1=='Norm' and cond2=='Norm':\n",
    "            conds='Baseline'\n",
    "        elif cond1=='Artery' and cond2=='Artery':\n",
    "            conds='DoubleArtFeed'\n",
    "        elif cond1=='Feedr' and cond2=='Feedr':\n",
    "            conds='DoubleArtFeed'\n",
    "        elif 'Pos' in cond1 or 'Pos' in cond2:\n",
    "            conds='Pos'\n",
    "        elif cond1=='Feedr' or cond2=='Feedr' or cond1=='Artery' or cond2=='Artery' or 'RR' in cond1 or 'RR' in cond2:\n",
    "            conds='Neg'\n",
    "        consolidated_conditions.append(conds)\n",
    "    df['Conditions']=consolidated_conditions\n",
    "    df['Conds_DoubleArtFeed']=(df['Conditions']=='DoubleArtFeed')*1\n",
    "    df['Conds_Pos']=(df['Conditions']=='Pos')*1\n",
    "    df['Conds_Neg']=(df['Conditions']=='Neg')*1\n",
    "    df = df.drop('Condition1', 1)\n",
    "    df = df.drop('Condition2', 1)\n",
    "    df = df.drop('Conditions', 1)\n",
    "    # Consolidate Bathrooms\n",
    "    df['Bath']=df['FullBath']+df['HalfBath']*0.5\n",
    "    df['BsmtBath']=df['BsmtFullBath']+df['BsmtHalfBath']*0.5\n",
    "    df['TotBath']=df['Bath']+df['BsmtBath']\n",
    "    # Consolidate Bsmt quality and space\n",
    "    glqunfsqft=[]\n",
    "    for i in range(len(df['BsmtFinType1'])):\n",
    "        sqft=0\n",
    "        if df['BsmtFinType1'][i]=='GLQ':\n",
    "            sqft+=df['BsmtFinSF1'][i]*12\n",
    "        elif df['BsmtFinType1'][i]=='Unf':\n",
    "            sqft+=df['BsmtFinSF1'][i]*5\n",
    "        elif df['BsmtFinType1'][i]=='LwQ':\n",
    "            sqft-=df['BsmtFinSF1'][i]*3.5\n",
    "        if df['BsmtFinType2'][i]=='Unf':\n",
    "            sqft+=df['BsmtFinSF2'][i]*15\n",
    "        elif df['BsmtFinType2'][i]=='LwQ':\n",
    "            sqft-=df['BsmtFinSF2'][i]*.5\n",
    "        if sqft==0:\n",
    "            sqft+=0.1\n",
    "        elif sqft<0:\n",
    "            sqft=-log(abs(sqft))\n",
    "        else:\n",
    "            sqft=log(sqft)\n",
    "        glqunfsqft.append(sqft)\n",
    "    df['BsmtGLQUnfSF']=glqunfsqft\n",
    "    #Identify 'bunkers'\n",
    "    bunker=[]\n",
    "    for i in range(len(df['TotBath'])):\n",
    "        if df['TotBath'][i]>3 and df['BsmtFinType1'][i]=='GLQ':\n",
    "            if df['BsmtFinType2'][i]=='Unf' or df['BsmtFinType2'][i]=='Rec':\n",
    "                if df['BsmtFullBath'][i]>=0 and df['FullBath'][i]!=df['BsmtFullBath'][i]:\n",
    "                    bunker.append(1)\n",
    "                else:\n",
    "                    bunker.append(0)\n",
    "            else:\n",
    "                 bunker.append(0)\n",
    "        else:\n",
    "            bunker.append(0)\n",
    "    df['Bunker']=bunker\n",
    "    df = df.drop('BsmtFinSF1', 1)\n",
    "    df = df.drop('BsmtFinSF2', 1)\n",
    "    df = df.drop('BsmtUnfSF', 1)\n",
    "    df = df.drop('TotalBsmtSF', 1)\n",
    "    df = df.drop('BsmtFinType1', 1)\n",
    "    df = df.drop('BsmtFinType2', 1)\n",
    "    df = df.drop('FullBath', 1)\n",
    "    df = df.drop('HalfBath', 1)\n",
    "    df = df.drop('BsmtFullBath', 1)\n",
    "    df = df.drop('BsmtHalfBath', 1)\n",
    "    # Consolidate OverallQual and OverallCond\n",
    "    df['OverallCondQual']=df['OverallCond']+df['OverallQual']\n",
    "    df = df.drop('OverallCond', 1)\n",
    "    df = df.drop('OverallQual', 1)\n",
    "    # Consolidate MasVnr\n",
    "    # Most masonry veneer type is None and area is 0\n",
    "    df['MasVnrType'] = df['MasVnrType'].fillna('None')\n",
    "    df['MasVnrArea'] = df['MasVnrArea'].fillna(0.0)\n",
    "    stone=[]\n",
    "    brkface=[]\n",
    "    brkcmn=[]\n",
    "    for i in range(len(df['MasVnrArea'])):\n",
    "        area=df['MasVnrArea'][i]\n",
    "        if df['MasVnrType'][i]=='Stone':\n",
    "            stone.append(log(area+1))\n",
    "            brkface.append(1)\n",
    "            brkcmn.append(1)\n",
    "        else:\n",
    "            stone.append(1)\n",
    "            if df['MasVnrType'][i]=='BrkFace':\n",
    "                brkface.append(log(area+1))\n",
    "                brkcmn.append(1)\n",
    "            else:\n",
    "                brkface.append(1)\n",
    "                if df['MasVnrType'][i]=='BrkCmn':\n",
    "                    brkcmn.append(log(area+1))\n",
    "                else:\n",
    "                    brkcmn.append(1)\n",
    "    df['MasVnr_Stone']=stone\n",
    "    df['MasVnr_BrkFace']=brkface\n",
    "    df['MasVnr_BrkCmn']=brkcmn\n",
    "    df = df.drop('MasVnrType', 1)\n",
    "    df = df.drop('MasVnrArea', 1)\n",
    "    # Consolidate porch and deck space\n",
    "    bins_enclosedporch=np.digitize(df['EnclosedPorch'],np.histogram(df['WoodDeckSF'])[1])\n",
    "    bins_screenporch=np.digitize(df['ScreenPorch'],np.histogram(df['ScreenPorch'])[1])\n",
    "    bins_3ssnporch=np.digitize(df['3SsnPorch'],np.histogram(df['3SsnPorch'])[1])\n",
    "    bins_wooddeck=np.digitize(df['WoodDeckSF'],np.histogram(df['WoodDeckSF'])[1])\n",
    "    bins_openporch=np.digitize(df['OpenPorchSF'],np.histogram(df['OpenPorchSF'])[1])\n",
    "    outsidespace=bins_enclosedporch+bins_screenporch+bins_3ssnporch+bins_wooddeck+bins_openporch\n",
    "    df['PorchDeck']=outsidespace\n",
    "    df = df.drop('EnclosedPorch', 1)\n",
    "    df = df.drop('ScreenPorch', 1)\n",
    "    df = df.drop('3SsnPorch', 1)\n",
    "    df = df.drop('WoodDeckSF', 1)\n",
    "    df = df.drop('OpenPorchSF', 1)\n",
    "    # Consolidate garage\n",
    "    df['Garage']=(df['GarageCars']>0)*1\n",
    "    df['NiceGarage']=(df['GarageFinish']=='Fin')*1\n",
    "    df['Carport']=(df['GarageType']=='CarPort')*1\n",
    "    df['LargeGarage']=(df['GarageCars']>1)*1\n",
    "    df['3CarGarage']=(df['GarageCars']==3)*1\n",
    "    df = df.drop('GarageCars',1)\n",
    "    df = df.drop('GarageFinish',1)\n",
    "    df = df.drop('GarageType',1)\n",
    "    df = df.drop('GarageQual',1)\n",
    "    df = df.drop('GarageCond',1)\n",
    "    # Consolidate fireplaces\n",
    "    df['Fireplaces']=df['Fireplaces'].fillna(0)\n",
    "    df['FireplaceQu']=df['FireplaceQu'].fillna('None')\n",
    "    df['Fireplace_Any']=(df['Fireplaces']>0)*1\n",
    "    df['Fireplace_Many']=(df['Fireplaces']>1)*1\n",
    "    df['Fireplace_Ex']=(df['FireplaceQu']=='Ex')*1\n",
    "    df['Fireplace_Good']=(df['FireplaceQu'].str.contains('Gd|TA'))*1\n",
    "    df['Fireplace_ManyEx']=((df['Fireplaces']>1)*1)*((df['FireplaceQu']=='Ex')*1)\n",
    "    df = df.drop('Fireplaces',1)\n",
    "    df = df.drop('FireplaceQu',1)\n",
    "    # Consolidate sale situation\n",
    "    df['SaleType']=df['SaleType'].fillna('WD')\n",
    "    df['Sale_Adjoining']=(df['SaleCondition']=='AdjLand')*1\n",
    "    df['Sale_HelpFin']=(df['SaleType'].str.contains('ConL'))*1\n",
    "    df['Sale_Fam']=(df['SaleCondition']=='Fam')*1\n",
    "    df['Sale_Abnormal']=((df['SaleCondition']=='Abnormal')*1)*((df['SaleType']=='Other')*1)\n",
    "    df['Sale_QuickSale']=((df['SaleCondition']=='Partial')*1)*((df['SaleType']=='WD')*1)\n",
    "    df = df.drop('SaleCondition',1)\n",
    "    df = df.drop('SaleType',1)\n",
    "    # Consolidate physical building type and house style\n",
    "    df['HalfStoryLvl1Fam']=((df['BldgType']=='1Fam'))*((df['HouseStyle'].str.contains('.5|SFoyer|SLvl'))*1)\n",
    "    df['TwoStory1Fam']=((df['BldgType']=='1Fam'))*((df['HouseStyle'].str.contains('2'))*1)\n",
    "    df['MultiFam']=(df['BldgType']!='1Fam')*1\n",
    "    df['UnfHouse']=(df['HouseStyle'].str.contains('Unf'))*1\n",
    "    OldHomes=((df['MSSubClass']==30)*1)+((df['MSSubClass']==70)*1)\n",
    "    BigPUD=((df['MSSubClass']==160)*1)+((df['MSSubClass']==190)*1)\n",
    "    LvlPUD=((df['MSSubClass']==180)*1)\n",
    "    df = df.drop('BldgType',1)\n",
    "    df = df.drop('HouseStyle',1)\n",
    "    df = df.drop('MSSubClass',1)\n",
    "\n",
    "    ## Reduce levels for applicable variables\n",
    "    #MSZoning\n",
    "    df['Zoning_ResHiMedDensity']=((df['MSZoning']=='RH')*1)+((df['MSZoning']=='RM')*1)\n",
    "    df['Zoning_Commercial']=(df['MSZoning']=='C')*1\n",
    "    df = df.drop('MSZoning',1)\n",
    "    #Functional\n",
    "    df['Functional']=df['Functional'].fillna('Typ')\n",
    "    df['Functional_MajSev']=(df['Functional'].str.contains('Sev|Sal|Maj'))*1\n",
    "    df['Functional_MinMod']=(df['Functional'].str.contains('Min|Mod'))*1\n",
    "    df = df.drop('Functional',1)\n",
    "    #Fence\n",
    "    df['Fence']=df['Fence'].fillna('NoFence')\n",
    "    df['Fence_GdPrv']=(df['Fence']=='GdPrv')*1\n",
    "    df['Fence_GdWo']=(df['Fence']=='GdWo')*1\n",
    "    df['Fence_MnPrv']=(df['Fence']=='MnPrv')*1\n",
    "    df['Fence_MnWw']=(df['Fence']=='MnWw')*1\n",
    "    df = df.drop('Fence',1)\n",
    "    #RoofStyle\n",
    "    df['RoofStyle']=~df['RoofStyle'].str.contains('Hip|Gable')*1\n",
    "    #RoofMatl\n",
    "    df['RoofMatlWd']=df['RoofMatl'].str.contains('Wd')*1\n",
    "    df['RoofMatlUnique']=~df['RoofMatl'].str.contains('Wd|CompShg')*1\n",
    "    df = df.drop('RoofMatl',1)\n",
    "    #Utilities\n",
    "    df['Utilities']=~(df['Utilities'].fillna('AllPub')=='AllPub')*1\n",
    "    #Heating and HeatingQc\n",
    "    df['Heating']=~df['Heating'].fillna('Gas').str.contains('Gas')*1\n",
    "    df['HeatingQCEx']=(df['HeatingQC']=='Ex')*1\n",
    "    df['HeatingQCBad']=(df['HeatingQC'].str.contains('Fa|Po'))*1\n",
    "    df = df.drop('HeatingQC',1)\n",
    "    #Electrical\n",
    "    df['Electrical']=~df['Electrical'].fillna('SBrkr').str.contains('SBrkr')*1\n",
    "    #CentralAir\n",
    "    df['CentralAir']=~df['CentralAir'].fillna('Y').str.contains('Y')*1\n",
    "    #KitenQual\n",
    "    df['KitchenQual']=(df['KitchenQual']!='Ex')*1\n",
    "    #PavedDrive\n",
    "    df['PavedDrive']=~((df['PavedDrive'].fillna('Y'))=='Y')*1\n",
    "    #PoolQC\n",
    "    df['PoolQC']=(df['PoolQC']=='Ex')*1\n",
    "\n",
    "    ## Drop columns that do not provide predictive power (for variety of reasons)\n",
    "    df = df.drop('ExterCond',1)\n",
    "    df = df.drop('ExterQual',1)\n",
    "    df = df.drop('BsmtCond',1)\n",
    "    df = df.drop('BsmtQual',1)\n",
    "    df = df.drop('BsmtExposure',1)\n",
    "    df = df.drop('2ndFlrSF',1)\n",
    "    df = df.drop('LowQualFinSF',1)\n",
    "    df = df.drop('KitchenAbvGr',1)\n",
    "    df = df.drop('Exterior1st',1)\n",
    "    df = df.drop('Exterior2nd',1)\n",
    "    df = df.drop('PoolArea',1)\n",
    "    df = df.drop('Foundation',1)\n",
    "    df = df.drop('GarageYrBlt',1)\n",
    "    df = df.drop('GarageArea',1)\n",
    "    df = df.drop('PavedDrive',1)\n",
    "    df = df.drop('MiscFeature',1)\n",
    "    df = df.drop('Id',1)\n",
    "    \n",
    "    return df"
   ]
  },
  {
   "cell_type": "code",
   "execution_count": 121,
   "metadata": {
    "collapsed": true
   },
   "outputs": [],
   "source": [
    "def get_dummies(X_df):\n",
    "    # Dummify X data\n",
    "    X_dummy = pd.get_dummies(X_df,dummy_na=True)\n",
    "    return X_dummy"
   ]
  },
  {
   "cell_type": "code",
   "execution_count": 122,
   "metadata": {
    "collapsed": true
   },
   "outputs": [],
   "source": [
    "def level_cat(df_train,df_comp):\n",
    "    traincols = list(df_train.columns.values)\n",
    "    testcols = list(df_comp.columns.values)\n",
    "    \n",
    "    # Align train data columns to competition data columns\n",
    "    missingcols1 = list(set(testcols)-set(traincols))\n",
    "    for col in missingcols1:\n",
    "        df_train[col] = 0.0\n",
    "\n",
    "    # Align test data columns to competition data columns\n",
    "    missingcols = list(set(traincols)-set(testcols))\n",
    "    for col in missingcols:\n",
    "        df_comp[col] = 0.0\n",
    "    df_comp = df_comp[traincols+missingcols1]\n",
    "    \n",
    "    return df_train,df_comp"
   ]
  },
  {
   "cell_type": "markdown",
   "metadata": {},
   "source": [
    "#### Preprocess data using defined functions"
   ]
  },
  {
   "cell_type": "code",
   "execution_count": 123,
   "metadata": {
    "collapsed": false
   },
   "outputs": [],
   "source": [
    "#get resiliency scores by neighborhood for train data\n",
    "NeighbAvgDiff_dict=neighb_resiliency(pd.read_csv('train.csv'))\n",
    "\n",
    "#preprocess and dummify dataset\n",
    "housedata = feature_engineering_withOutsideData(pd.read_csv('train.csv'))\n",
    "# Split into X and y\n",
    "y = housedata['SalePrice']\n",
    "X = housedata.drop('SalePrice', 1)\n",
    "\n",
    "#preprocess and dummify competition\n",
    "X = get_dummies(X)\n",
    "competition = feature_engineering_withOutsideData(pd.read_csv('test.csv'))\n",
    "X_comp = get_dummies(competition)\n",
    "\n",
    "X,X_comp = level_cat(X,X_comp)"
   ]
  },
  {
   "cell_type": "code",
   "execution_count": 40,
   "metadata": {
    "collapsed": false
   },
   "outputs": [],
   "source": [
    "X_train, X_test, y_train, y_test = train_test_split(X,y,test_size = 0.33, random_state=1)"
   ]
  },
  {
   "cell_type": "code",
   "execution_count": 41,
   "metadata": {
    "collapsed": true
   },
   "outputs": [],
   "source": [
    "# Pull out MiscVal\n",
    "MiscVal_train = X_train['MiscVal']\n",
    "X_train = X_train.drop('MiscVal',1)\n",
    "y_train_LessMiscVal = y_train - MiscVal_train\n",
    "\n",
    "MiscVal_test = X_test['MiscVal']\n",
    "X_test = X_test.drop('MiscVal',1)\n",
    "y_test_LessMiscVal = y_test - MiscVal_test\n",
    "\n",
    "MiscVal_comp = X_comp['MiscVal']\n",
    "X_comp = X_comp.drop('MiscVal',1)"
   ]
  },
  {
   "cell_type": "code",
   "execution_count": 42,
   "metadata": {
    "collapsed": false
   },
   "outputs": [
    {
     "data": {
      "text/plain": [
       "0L"
      ]
     },
     "execution_count": 42,
     "metadata": {},
     "output_type": "execute_result"
    }
   ],
   "source": [
    "sum(sum(X_train.isnull()))"
   ]
  },
  {
   "cell_type": "code",
   "execution_count": 43,
   "metadata": {
    "collapsed": false
   },
   "outputs": [
    {
     "data": {
      "text/plain": [
       "False"
      ]
     },
     "execution_count": 43,
     "metadata": {},
     "output_type": "execute_result"
    }
   ],
   "source": [
    "np.any(np.isnan(X_train))"
   ]
  },
  {
   "cell_type": "code",
   "execution_count": 44,
   "metadata": {
    "collapsed": false
   },
   "outputs": [
    {
     "data": {
      "text/plain": [
       "Neighborhood_StoneBr                    0\n",
       "Neighborhood_Timber                     0\n",
       "Neighborhood_Veenker                    0\n",
       "Drive_APave                             0\n",
       "Drive_AGrvl                             0\n",
       "Drive_SGrvl                             0\n",
       "LandLot_Reg                             0\n",
       "LandLot_LvlIrr                          0\n",
       "LandLot_BnkIrr                          0\n",
       "LandLot_HLSIR1                          0\n",
       "LandLot_HLSIR2                          0\n",
       "LandLot_HLSIR3                          0\n",
       "LandLot_LowIR1                          0\n",
       "LandLot_LowIR2                          0\n",
       "LandLot_LowIR3                          0\n",
       "Conds_DoubleArtFeed                     0\n",
       "Conds_Pos                               0\n",
       "Conds_Neg                               0\n",
       "Bath                                    0\n",
       "BsmtBath                                0\n",
       "TotBath                                 0\n",
       "BsmtGLQUnfSF                            0\n",
       "Bunker                                  0\n",
       "OverallCondQual                         0\n",
       "MasVnr_Stone                            0\n",
       "MasVnr_BrkFace                          0\n",
       "MasVnr_BrkCmn                           0\n",
       "PorchDeck                               0\n",
       "Garage                                  0\n",
       "NiceGarage                              0\n",
       "                                       ..\n",
       "Fireplace_Many                          0\n",
       "Fireplace_Ex                            0\n",
       "Fireplace_Good                          0\n",
       "Fireplace_ManyEx                        0\n",
       "Sale_Adjoining                          0\n",
       "Sale_HelpFin                            0\n",
       "Sale_Fam                                0\n",
       "Sale_Abnormal                           0\n",
       "Sale_QuickSale                          0\n",
       "HalfStoryLvl1Fam                        0\n",
       "TwoStory1Fam                            0\n",
       "MultiFam                                0\n",
       "UnfHouse                                0\n",
       "Zoning_ResHiMedDensity                  0\n",
       "Zoning_Commercial                       0\n",
       "Functional_MajSev                       0\n",
       "Functional_MinMod                       0\n",
       "Fence_GdPrv                             0\n",
       "Fence_GdWo                              0\n",
       "Fence_MnPrv                             0\n",
       "Fence_MnWw                              0\n",
       "RoofMatlWd                              0\n",
       "RoofMatlUnique                          0\n",
       "HeatingQCEx                             0\n",
       "HeatingQCBad                            0\n",
       "NeighbIncomeRating_NeighbIncomeTier1    0\n",
       "NeighbIncomeRating_NeighbIncomeTier2    0\n",
       "NeighbIncomeRating_NeighbIncomeTier3    0\n",
       "NeighbIncomeRating_NeighbIncomeTier4    0\n",
       "NeighbIncomeRating_nan                  0\n",
       "dtype: int64"
      ]
     },
     "execution_count": 44,
     "metadata": {},
     "output_type": "execute_result"
    }
   ],
   "source": [
    "sum(~np.isfinite(X_train))[80:]"
   ]
  },
  {
   "cell_type": "markdown",
   "metadata": {},
   "source": [
    "## MODELING"
   ]
  },
  {
   "cell_type": "markdown",
   "metadata": {},
   "source": [
    "### Initital Model Exploration (MLR, Lasso, Ridge, MLP)"
   ]
  },
  {
   "cell_type": "code",
   "execution_count": 45,
   "metadata": {
    "collapsed": false
   },
   "outputs": [
    {
     "name": "stdout",
     "output_type": "stream",
     "text": [
      "MLR RMSE: 33506.3036545\n"
     ]
    }
   ],
   "source": [
    "# Run models\n",
    "#Linear Regression\n",
    "MLR =LinearRegression()\n",
    "model_MLR = MLR.fit(X_train,y_train_LessMiscVal)\n",
    "MLR_predict_reg = model_MLR.predict(X_test)\n",
    "MLR_predict_reg = MLR_predict_reg+MiscVal_test\n",
    "MLR_RMSE_reg= sqrt(mean_squared_error(y_test, MLR_predict_reg))\n",
    "print \"MLR RMSE:\",MLR_RMSE_reg"
   ]
  },
  {
   "cell_type": "code",
   "execution_count": 46,
   "metadata": {
    "collapsed": false
   },
   "outputs": [
    {
     "name": "stdout",
     "output_type": "stream",
     "text": [
      "MLR RMSE: 33506.3036545\n",
      "Lasso CV best λ: 1148.04762282\n",
      "Lasso RMSE: 34027.615076\n",
      "Ridge CV best λ: 10.0\n",
      "Ridge RMSE: 31454.2225137\n"
     ]
    }
   ],
   "source": [
    "# Run models\n",
    "#Linear Regression\n",
    "MLR =LinearRegression()\n",
    "model_MLR = MLR.fit(X_train,y_train_LessMiscVal)\n",
    "MLR_predict_reg = model_MLR.predict(X_test)\n",
    "MLR_predict_reg = MLR_predict_reg+MiscVal_test\n",
    "MLR_RMSE_reg= sqrt(mean_squared_error(y_test, MLR_predict_reg))\n",
    "print \"MLR RMSE:\",MLR_RMSE_reg\n",
    "\n",
    "#get best λ with LassoCV\n",
    "lasso_cv = LassoCV(alphas=None, cv=10, max_iter=10000)\n",
    "model_cv = lasso_cv.fit(X_train,ravel(y_train_LessMiscVal))\n",
    "print \"Lasso CV best λ:\",model_cv.alpha_\n",
    "lasso_predict_reg= model_cv.predict(X_test)\n",
    "lasso_predict_reg=lasso_predict_reg+MiscVal_test\n",
    "lasso_RMSE_reg= sqrt(mean_squared_error(y_test, lasso_predict_reg))\n",
    "print \"Lasso RMSE:\",lasso_RMSE_reg\n",
    "\n",
    "#get best λ with RidgeCV\n",
    "ridge_cv = RidgeCV(cv=10)\n",
    "ridge_model_cv = ridge_cv.fit(X_train,ravel(y_train_LessMiscVal))\n",
    "print \"Ridge CV best λ:\",ridge_model_cv.alpha_\n",
    "ridge_predict_reg= ridge_model_cv.predict(X_test)\n",
    "ridge_predict_reg=ridge_predict_reg+MiscVal_test\n",
    "ridge_RMSE_reg= sqrt(mean_squared_error(y_test, ridge_predict_reg))\n",
    "print \"Ridge RMSE:\",ridge_RMSE_reg"
   ]
  },
  {
   "cell_type": "code",
   "execution_count": 142,
   "metadata": {
    "collapsed": false
   },
   "outputs": [
    {
     "name": "stdout",
     "output_type": "stream",
     "text": [
      "LotArea 10238.2961352\n",
      "Utilities -53524.7168819\n",
      "RoofStyle 15518.8284096\n",
      "Heating -3684.61506759\n",
      "CentralAir 6258.45148139\n",
      "Electrical 1792.70164749\n",
      "1stFlrSF 26686.7341508\n",
      "GrLivArea 50735.76612\n",
      "BedroomAbvGr -6182.55191976\n",
      "KitchenQual -36780.0673061\n",
      "TotRmsAbvGrd 2142.42914578\n",
      "PoolQC -11181.6668546\n",
      "Age -360.01241905\n",
      "AgeRem -16.4509172374\n",
      "2006 402.349581315\n",
      "2007 -602.638090062\n",
      "2008 401.913953494\n",
      "2009 329.990925153\n",
      "2010 -531.616369901\n",
      "MoSold_Jan 1833.89445127\n",
      "MoSold_Feb -9156.70773991\n",
      "MoSold_Mar 2301.9419457\n",
      "MoSold_Apr 2367.63864935\n",
      "MoSold_May 12.6701800521\n",
      "MoSold_Jun 836.095847614\n",
      "MoSold_Jul 5107.17955448\n",
      "MoSold_Aug 392.238315827\n",
      "MoSold_Sept 10134.0857938\n",
      "MoSold_Oct -4630.23856731\n",
      "MoSold_Nov -5828.18409698\n",
      "MoSold_Dec -3370.61433387\n",
      "RecessionHurt -1013.20472551\n",
      "RecessionSlightlyHurt -8033.91729035\n",
      "RecessionResilient -11842.2838374\n",
      "RecessionSlightlyHelped 22009.8731953\n",
      "RecessionHelped -388.562463381\n",
      "MaleToFemaleRatio -6.60105531939\n",
      "AgeDependencyRatio 520.07319508\n",
      "OldAgeDependencyRatio 19.4136431941\n",
      "UnemploymentRate -407.729444575\n",
      "PrimeWorkingAgeEmployed 132.255492649\n",
      "OwnerToRenterRatio -53.4618656426\n",
      "OwnerMonthlyHousingCostsIn00s -551.533977319\n",
      "AvgHouseholdSize 19.3929227504\n",
      "PctFamilyHouseholds 9.37454424336\n",
      "SingleMaleToFemaleHouseholdsRatio 30.988471143\n",
      "PctLivingAlone -10.4831086258\n",
      "TenureOwnerToRenterRatio -57.0875300093\n",
      "PctLessThan15k -7.55165861849\n",
      "Pct15kto25k 20.3074357104\n",
      "Pct25kto35k -20.5763506147\n",
      "Pct35kto50k -4.41870128885\n",
      "Pct50kto75k -9.90955763105\n",
      "Pct75kto100k 9.90324791079\n",
      "Pct100kto200k -3.14037607515\n",
      "PctOver200k 12.5871722533\n",
      "MedIncomeIn000s 1063.52369441\n",
      "MeanToMedIncomeRatio 22.9028945394\n",
      "Neighborhood_Blmngtn 3.04680725094e-11\n",
      "Neighborhood_Blueste -3.09228198603e-11\n",
      "Neighborhood_BrDale 1.45519152284e-11\n",
      "Neighborhood_BrkSide 4.97379915032e-13\n",
      "Neighborhood_ClearCr 3.45607986674e-11\n",
      "Neighborhood_CollgCr -6.36646291241e-12\n",
      "Neighborhood_Crawfor 7.27595761418e-12\n",
      "Neighborhood_Edwards 2.91038304567e-11\n",
      "Neighborhood_Gilbert 7.27595761418e-12\n",
      "Neighborhood_IDOTRR -3.63797880709e-11\n",
      "Neighborhood_MeadowV -6.54836185277e-11\n",
      "Neighborhood_Mitchel -6.54836185277e-11\n",
      "Neighborhood_NAmes 2.27373675443e-11\n",
      "Neighborhood_NPkVill -5.45696821064e-11\n",
      "Neighborhood_NoRidge 3.63797880709e-12\n",
      "Neighborhood_NridgHt -4.36557456851e-11\n",
      "Neighborhood_OldTown -5.20685716765e-11\n",
      "Neighborhood_SWISU -2.18278728426e-11\n",
      "Neighborhood_Sawyer -2.91038304567e-11\n",
      "Neighborhood_SawyerW 1.45519152284e-11\n",
      "Neighborhood_Somerst -2.96722646453e-11\n",
      "Neighborhood_Timber 7.27595761418e-12\n",
      "Neighborhood_Veenker 5.82076609135e-11\n",
      "Drive_APave 13233.329386\n",
      "Drive_AGrvl -11908.2768637\n",
      "Drive_SGrvl 1.81898940355e-12\n",
      "LandLot_Reg -24692.623472\n",
      "LandLot_LvlIrr -21412.7414638\n",
      "LandLot_BnkIrr -57787.1145503\n",
      "LandLot_HLSIR1 -18590.9104351\n",
      "LandLot_HLSIR2 87580.4547664\n",
      "LandLot_HLSIR3 20742.3839052\n",
      "LandLot_LowIR1 -1949.42516255\n",
      "LandLot_LowIR2 -14822.9396596\n",
      "LandLot_LowIR3 30932.9160717\n",
      "Conds_DoubleArtFeed 1583.66532503\n",
      "Conds_Pos -33319.4141214\n",
      "Conds_Neg -12124.8310322\n",
      "Bath 3312.92154448\n",
      "BsmtBath 2106.55066853\n",
      "TotBath 5419.47221301\n",
      "BsmtGLQUnfSF 785.96358355\n",
      "Bunker 15569.0390215\n",
      "OverallCondQual 8110.83170009\n",
      "MasVnr_Stone 2205.7391049\n",
      "MasVnr_BrkFace 23.9535070822\n",
      "MasVnr_BrkCmn -929.705934981\n",
      "PorchDeck 2463.14073601\n",
      "Garage 2556.49488967\n",
      "NiceGarage 878.561014078\n",
      "Carport -3095.16474022\n",
      "LargeGarage 781.423890329\n",
      "3CarGarage 41318.5219046\n",
      "Fireplace_Any -839.539493241\n",
      "Fireplace_Many 15647.8677633\n",
      "Fireplace_Ex 34537.1065214\n",
      "Fireplace_Good 3940.85540203\n",
      "Fireplace_ManyEx 50092.7409203\n",
      "Sale_Adjoining 3425.11458987\n",
      "Sale_HelpFin 4309.12413755\n",
      "Sale_QuickSale -144378.965111\n",
      "HalfStoryLvl1Fam -3007.13364763\n",
      "TwoStory1Fam -4354.16528675\n",
      "MultiFam -15467.4455955\n",
      "UnfHouse 13205.0456406\n",
      "Zoning_ResHiMedDensity 4180.3076057\n",
      "Functional_MajSev -22868.5650802\n",
      "Functional_MinMod -15505.7540715\n",
      "Fence_GdPrv 1460.81931879\n",
      "Fence_GdWo 2078.04112257\n",
      "Fence_MnPrv -155.738956404\n",
      "Fence_MnWw -10374.6839964\n",
      "RoofMatlWd 56491.4221053\n",
      "RoofMatlUnique -32790.1466316\n",
      "HeatingQCEx 4186.95268149\n",
      "HeatingQCBad 673.917874298\n",
      "NeighbIncomeRating_NeighbIncomeTier1 -5615.96462716\n",
      "NeighbIncomeRating_NeighbIncomeTier2 31.5284294183\n",
      "NeighbIncomeRating_NeighbIncomeTier3 -2933.00758401\n",
      "NeighbIncomeRating_NeighbIncomeTier4 8517.44378175\n"
     ]
    }
   ],
   "source": [
    "for i, coef in enumerate(model_MLR.coef_):\n",
    "    if i==0:\n",
    "        pass\n",
    "    elif coef==0.0 or coef==-0.0:\n",
    "        pass\n",
    "    else:\n",
    "        print X.columns.values[i],coef"
   ]
  },
  {
   "cell_type": "code",
   "execution_count": 47,
   "metadata": {
    "collapsed": false
   },
   "outputs": [
    {
     "data": {
      "image/png": "[encoded data removed]",
      "text/plain": [
       "<matplotlib.figure.Figure at 0xcdae128>"
      ]
     },
     "metadata": {},
     "output_type": "display_data"
    }
   ],
   "source": [
    "#Model residuals\n",
    "\n",
    "MLRresiduals_reg = y_test - MLR_predict_reg\n",
    "lassoResiduals_reg = y_test - lasso_predict_reg\n",
    "ridgeResiduals_reg = y_test - ridge_predict_reg\n",
    "\n",
    "# Plot residuals\n",
    "fig = plt.figure(figsize=(15, 7))\n",
    "\n",
    "# Predicted vs. Actual\n",
    "ax1 = fig.add_subplot(121)\n",
    "ax1.plot(y_test,MLR_predict_reg,\"o\",label='MLR', color='darkblue')\n",
    "ax1.plot(y_test,lasso_predict_reg,\"o\",label='Lasso',color='blue')\n",
    "ax1.plot(y_test,ridge_predict_reg,\"o\",label='Ridge',color='aqua')\n",
    "ax1.legend(numpoints=1,loc='upper left')\n",
    "ax1.set_ylabel('Predicted Price ($)')\n",
    "ax1.yaxis.set_major_formatter(mtick.FuncFormatter('{:,.0f}'.format))\n",
    "ax1.set_xlabel('Actual Price ($)')\n",
    "ax1.xaxis.set_major_formatter(mtick.FuncFormatter('{:,.0f}'.format))\n",
    "ax1.set_title('Predicted vs. Actual Price', fontsize=12, fontweight='bold')\n",
    "\n",
    "# Residuals\n",
    "ax2 = fig.add_subplot(122)\n",
    "ax2.plot(y_test,MLRresiduals_reg,\"o\",label='MLR',color='darkblue')\n",
    "ax2.plot(y_test,lassoResiduals_reg,\"o\",label='Lasso',color='blue')\n",
    "ax2.plot(y_test,ridgeResiduals_reg,\"o\",label='Ridge',color='aqua')\n",
    "ax2.legend(numpoints=1,loc='upper left')\n",
    "ax2.set_ylabel('Residuals ($)')\n",
    "ax2.yaxis.set_major_formatter(mtick.FuncFormatter('{:,.0f}'.format))\n",
    "ax2.set_xlabel('Actual Price ($)')\n",
    "ax2.xaxis.set_major_formatter(mtick.FuncFormatter('{:,.0f}'.format))\n",
    "ax2.set_title('Residuals', fontsize=12, fontweight='bold')\n",
    "\n",
    "fig.subplots_adjust(wspace=.3)\n",
    "plt.show()"
   ]
  },
  {
   "cell_type": "code",
   "execution_count": 48,
   "metadata": {
    "collapsed": true
   },
   "outputs": [],
   "source": [
    "# Try predicting using log SalePrice\n",
    "log_y_train = y_train.map(float).map(log)\n",
    "log_y_train_LessMiscVal = y_train_LessMiscVal.map(float).map(log)"
   ]
  },
  {
   "cell_type": "code",
   "execution_count": 49,
   "metadata": {
    "collapsed": false
   },
   "outputs": [
    {
     "ename": "NameError",
     "evalue": "name 'MLR_predict_log' is not defined",
     "output_type": "error",
     "traceback": [
      "\u001b[1;31m---------------------------------------------------------------------------\u001b[0m",
      "\u001b[1;31mNameError\u001b[0m                                 Traceback (most recent call last)",
      "\u001b[1;32m<ipython-input-49-cdf91d281695>\u001b[0m in \u001b[0;36m<module>\u001b[1;34m()\u001b[0m\n\u001b[1;32m----> 1\u001b[1;33m \u001b[0mnp\u001b[0m\u001b[1;33m.\u001b[0m\u001b[0mexp\u001b[0m\u001b[1;33m(\u001b[0m\u001b[0mMLR_predict_log\u001b[0m\u001b[1;33m+\u001b[0m\u001b[0mMiscVal_test\u001b[0m\u001b[1;33m)\u001b[0m\u001b[1;33m\u001b[0m\u001b[0m\n\u001b[0m",
      "\u001b[1;31mNameError\u001b[0m: name 'MLR_predict_log' is not defined"
     ]
    }
   ],
   "source": [
    "np.exp(MLR_predict_log+MiscVal_test)"
   ]
  },
  {
   "cell_type": "code",
   "execution_count": 50,
   "metadata": {
    "collapsed": false
   },
   "outputs": [
    {
     "name": "stdout",
     "output_type": "stream",
     "text": [
      "MLR RMSE: 26791.950044\n",
      "Lasso CV best λ: 0.00642314550235\n",
      "Lasso RMSE: 31207.4004446\n",
      "Ridge CV best λ: 10.0\n",
      "Ridge RMSE: 26646.58906\n"
     ]
    }
   ],
   "source": [
    "#Linear Regression\n",
    "MLR =LinearRegression()\n",
    "model_MLR_log = MLR.fit(X_train,log_y_train_LessMiscVal)\n",
    "MLR_predict_log = model_MLR_log.predict(X_test)\n",
    "MLR_predict_log = np.exp(MLR_predict_log)+MiscVal_test\n",
    "MLR_RMSE_log = sqrt(mean_squared_error(y_test, MLR_predict_log))\n",
    "print \"MLR RMSE:\",MLR_RMSE_log\n",
    "\n",
    "#get best λ with LassoCV\n",
    "lasso_cv_log = LassoCV(alphas=None, cv=10, max_iter=10000)\n",
    "model_cv_log = lasso_cv_log.fit(X_train,ravel(log_y_train_LessMiscVal))\n",
    "print \"Lasso CV best λ:\",model_cv_log.alpha_\n",
    "lasso_predict_log= model_cv_log.predict(X_test)\n",
    "lasso_predict_log=np.exp(lasso_predict_log)+MiscVal_test\n",
    "lasso_RMSE_log = sqrt(mean_squared_error(y_test, lasso_predict_log))\n",
    "print \"Lasso RMSE:\",lasso_RMSE_log\n",
    "\n",
    "#get best λ with RidgeCV\n",
    "ridge_cv_log = RidgeCV(cv=10)\n",
    "ridge_model_cv_log = ridge_cv_log.fit(X_train,ravel(log_y_train_LessMiscVal))\n",
    "print \"Ridge CV best λ:\",ridge_model_cv_log.alpha_\n",
    "ridge_predict_log = ridge_model_cv_log.predict(X_test)\n",
    "ridge_predict_log=np.exp(ridge_predict_log)+MiscVal_test\n",
    "ridge_RMSE_log = sqrt(mean_squared_error(y_test, ridge_predict_log))\n",
    "print \"Ridge RMSE:\",ridge_RMSE_log"
   ]
  },
  {
   "cell_type": "code",
   "execution_count": 51,
   "metadata": {
    "collapsed": false
   },
   "outputs": [
    {
     "data": {
      "image/png": "[encoded data removed]",
      "text/plain": [
       "<matplotlib.figure.Figure at 0xcdaeac8>"
      ]
     },
     "metadata": {},
     "output_type": "display_data"
    }
   ],
   "source": [
    "#residuals with log price models (in original scale)\n",
    "MLRresiduals_log = y_test - MLR_predict_log\n",
    "lassoResiduals_log = y_test - lasso_predict_log\n",
    "ridgeResiduals_log = y_test - ridge_predict_log\n",
    "\n",
    "# Plot residuals\n",
    "fig = plt.figure(figsize=(15, 7))\n",
    "\n",
    "# Predicted vs. Actual\n",
    "ax1 = fig.add_subplot(121)\n",
    "ax1.plot(y_test,MLR_predict_log,\"o\",label='MLR',color='darkblue')\n",
    "ax1.plot(y_test,lasso_predict_log,\"o\",label='Lasso',color='blue')\n",
    "ax1.plot(y_test,ridge_predict_log,\"o\",label='Ridge',color='aqua')\n",
    "ax1.legend(numpoints=1,loc='upper left')\n",
    "ax1.set_ylabel('Predicted Price ($)')\n",
    "ax1.yaxis.set_major_formatter(mtick.FuncFormatter('{:,.0f}'.format))\n",
    "ax1.set_xlabel('Actual Price ($)')\n",
    "ax1.xaxis.set_major_formatter(mtick.FuncFormatter('{:,.0f}'.format))\n",
    "ax1.set_title('Predicted vs. Actual Price', fontsize=12, fontweight='bold')\n",
    "\n",
    "# Residuals\n",
    "ax2 = fig.add_subplot(122)\n",
    "ax2.plot(y_test,MLRresiduals_log,\"o\",label='MLR',color='darkblue')\n",
    "ax2.plot(y_test,lassoResiduals_log,\"o\",label='Lasso',color='blue')\n",
    "ax2.plot(y_test,ridgeResiduals_log,\"o\",label='Ridge',color='aqua')\n",
    "ax2.legend(numpoints=1,loc='upper left')\n",
    "ax2.set_ylabel('Residuals ($)')\n",
    "ax2.yaxis.set_major_formatter(mtick.FuncFormatter('{:,.0f}'.format))\n",
    "ax2.set_xlabel('Actual Price ($)')\n",
    "ax2.xaxis.set_major_formatter(mtick.FuncFormatter('{:,.0f}'.format))\n",
    "ax2.set_title('Residuals', fontsize=12, fontweight='bold')\n",
    "\n",
    "fig.subplots_adjust(wspace=.3)\n",
    "plt.show()"
   ]
  },
  {
   "cell_type": "code",
   "execution_count": 52,
   "metadata": {
    "collapsed": false
   },
   "outputs": [
    {
     "name": "stderr",
     "output_type": "stream",
     "text": [
      "C:\\Users\\Vishwa\\Anaconda2\\lib\\site-packages\\sklearn\\utils\\validation.py:429: DataConversionWarning: Data with input dtype int64 was converted to float64 by StandardScaler.\n",
      "  warnings.warn(msg, _DataConversionWarning)\n"
     ]
    }
   ],
   "source": [
    "# Scale data\n",
    "scaler = StandardScaler()\n",
    "X_train_scaled = scaler.fit_transform(X_train)\n",
    "X_test_scaled = scaler.transform(X_test)\n",
    "y_scaler = StandardScaler()\n",
    "Y_train_scaled = ravel(y_scaler.fit_transform(y_train.reshape(-1, 1)))\n",
    "Y_train_scaled_LessMiscVal = ravel(y_scaler.fit_transform(y_train_LessMiscVal.reshape(-1, 1)))\n",
    "Y_test_scaled = ravel(y_scaler.transform(y_test.reshape(-1, 1)))\n",
    "Y_test_scaled_LessMiscVal = ravel(y_scaler.transform(y_test_LessMiscVal.reshape(-1, 1)))"
   ]
  },
  {
   "cell_type": "code",
   "execution_count": 53,
   "metadata": {
    "collapsed": false
   },
   "outputs": [
    {
     "name": "stderr",
     "output_type": "stream",
     "text": [
      "C:\\Users\\Vishwa\\Anaconda2\\lib\\site-packages\\sklearn\\neural_network\\multilayer_perceptron.py:563: ConvergenceWarning: Stochastic Optimizer: Maximum iterations reached and the optimization hasn't converged yet.\n",
      "  % (), ConvergenceWarning)\n"
     ]
    }
   ],
   "source": [
    "# Run MLP using different hidden layer sizes\n",
    "sizes = [(20,),(50,),(100,),(150,),(200,),(250,),(300,)]\n",
    "RMSEs = []\n",
    "for size in sizes:\n",
    "    MLP = MLPRegressor(hidden_layer_sizes = size,activation='tanh',solver='sgd',learning_rate='constant',random_state=42,\\\n",
    "                       batch_size=40,learning_rate_init=0.001)\n",
    "    model_MLP = MLP.fit(X_train_scaled,Y_train_scaled_LessMiscVal)\n",
    "    MLP_predict = model_MLP.predict(X_test_scaled)\n",
    "    MLP_predict = y_scaler.inverse_transform(MLP_predict)+MiscVal_test\n",
    "    MLP_RMSE= sqrt(mean_squared_error(y_test, MLP_predict))\n",
    "    RMSEs.append(MLP_RMSE)"
   ]
  },
  {
   "cell_type": "code",
   "execution_count": 54,
   "metadata": {
    "collapsed": false
   },
   "outputs": [
    {
     "name": "stdout",
     "output_type": "stream",
     "text": [
      "MLP RMSE: 36972.8645163\n"
     ]
    }
   ],
   "source": [
    "# Choosing hidden layer size with best RMSE\n",
    "MLP = MLPRegressor(hidden_layer_sizes = sizes[np.argmin(RMSEs)],activation='tanh',solver='sgd',learning_rate='constant',random_state=42,\\\n",
    "                   batch_size=40,learning_rate_init=0.001)\n",
    "model_MLP = MLP.fit(X_train_scaled,Y_train_scaled_LessMiscVal)\n",
    "MLP_predict_scale = model_MLP.predict(X_test_scaled)\n",
    "MLP_predict_scale = y_scaler.inverse_transform(MLP_predict_scale)+MiscVal_test\n",
    "MLP_RMSE_scale = sqrt(mean_squared_error(y_test, MLP_predict_scale))\n",
    "print \"MLP RMSE:\",MLP_RMSE_scale\n",
    "\n",
    "MLPresiduals_scale = y_test - MLP_predict_scale"
   ]
  },
  {
   "cell_type": "code",
   "execution_count": 55,
   "metadata": {
    "collapsed": false
   },
   "outputs": [
    {
     "data": {
      "image/png": "[encoded data removed]",
      "text/plain": [
       "<matplotlib.figure.Figure at 0xdf77eb8>"
      ]
     },
     "metadata": {},
     "output_type": "display_data"
    }
   ],
   "source": [
    "# Plot residuals\n",
    "fig = plt.figure(figsize=(15, 7))\n",
    "\n",
    "# Predicted vs. Actual\n",
    "ax1 = fig.add_subplot(121)\n",
    "ax1.plot(y_test,MLP_predict_scale,\"o\",label='MLP',color='aliceblue')\n",
    "ax1.legend(numpoints=1,loc='upper left')\n",
    "ax1.set_ylabel('Predicted Price ($)')\n",
    "ax1.yaxis.set_major_formatter(mtick.FuncFormatter('{:,.0f}'.format))\n",
    "ax1.set_xlabel('Actual Price ($)')\n",
    "ax1.xaxis.set_major_formatter(mtick.FuncFormatter('{:,.0f}'.format))\n",
    "ax1.set_title('Predicted vs. Actual Price', fontsize=12, fontweight='bold')\n",
    "\n",
    "# Residuals\n",
    "ax2 = fig.add_subplot(122)\n",
    "ax2.plot(y_test,MLPresiduals_scale, \"o\",label='MLP',color='aliceblue')\n",
    "ax2.legend(numpoints=1,loc='upper left')\n",
    "ax2.set_ylabel('Residuals ($)')\n",
    "ax2.yaxis.set_major_formatter(mtick.FuncFormatter('{:,.0f}'.format))\n",
    "ax2.set_xlabel('Actual Price ($)')\n",
    "ax2.xaxis.set_major_formatter(mtick.FuncFormatter('{:,.0f}'.format))\n",
    "ax2.set_title('Residuals', fontsize=12, fontweight='bold')\n",
    "\n",
    "fig.subplots_adjust(wspace=.3)\n",
    "plt.show()"
   ]
  },
  {
   "cell_type": "code",
   "execution_count": 56,
   "metadata": {
    "collapsed": false
   },
   "outputs": [
    {
     "name": "stdout",
     "output_type": "stream",
     "text": [
      "MLR RMSE: 182699.078057\n",
      "Lasso CV best λ: 1136.86159119\n",
      "Lasso RMSE: 32096.5099211\n",
      "Ridge CV best λ: 10.0\n",
      "Ridge RMSE: 33489.5446882\n"
     ]
    }
   ],
   "source": [
    "# Try Linear Regression, Lasso, and Ridge with scaled X data\n",
    "\n",
    "#Linear Regression\n",
    "MLR =LinearRegression(fit_intercept=False)\n",
    "model_MLR_scale = MLR.fit(X_train_scaled,y_train_LessMiscVal)\n",
    "MLR_predict_scale = model_MLR_scale.predict(X_test_scaled)\n",
    "MLR_predict_scale = MLR_predict_scale+MiscVal_test\n",
    "MLR_RMSE_scale= sqrt(mean_squared_error(y_test, MLR_predict_scale))\n",
    "print \"MLR RMSE:\",MLR_RMSE_scale\n",
    "\n",
    "#get best λ with LassoCV\n",
    "lasso_cv_scale = LassoCV(alphas=None, cv=10, max_iter=10000)\n",
    "model_cv_scale = lasso_cv_scale.fit(X_train_scaled,ravel(y_train_LessMiscVal))\n",
    "print \"Lasso CV best λ:\",model_cv_scale.alpha_\n",
    "lasso_predict_scale = model_cv_scale.predict(X_test_scaled)\n",
    "lasso_predict_scale=lasso_predict_scale+MiscVal_test\n",
    "lasso_RMSE_scale= sqrt(mean_squared_error(y_test, lasso_predict_scale))\n",
    "print \"Lasso RMSE:\",lasso_RMSE_scale\n",
    "\n",
    "#get best λ with RidgeCV\n",
    "ridge_cv_scale = RidgeCV(cv=10)\n",
    "ridge_model_cv_scale = ridge_cv_scale.fit(X_train_scaled,ravel(y_train_LessMiscVal))\n",
    "print \"Ridge CV best λ:\",ridge_model_cv_scale.alpha_\n",
    "ridge_predict_scale= ridge_model_cv_scale.predict(X_test_scaled)\n",
    "ridge_predict_scale=ridge_predict_scale+MiscVal_test\n",
    "ridge_RMSE_scale= sqrt(mean_squared_error(y_test, ridge_predict_scale))\n",
    "print \"Ridge RMSE:\",ridge_RMSE_scale"
   ]
  },
  {
   "cell_type": "code",
   "execution_count": 57,
   "metadata": {
    "collapsed": false
   },
   "outputs": [
    {
     "data": {
      "image/png": "[encoded data removed]",
      "text/plain": [
       "<matplotlib.figure.Figure at 0xe4ab080>"
      ]
     },
     "metadata": {},
     "output_type": "display_data"
    }
   ],
   "source": [
    "# Based on RMSE, it appears as though MLR may have challenges predicting this data\n",
    "# For example, the linear regression problem could be under-determined \n",
    "#  (where the number of linearly independent rows of the training matrix \n",
    "#    is less than its number of linearly independent columns),\n",
    "#  resulting in erroneous predictions\n",
    "\n",
    "# Graph to see\n",
    "MLRresiduals_scale = y_test - MLR_predict_scale\n",
    "fig = plt.figure(figsize=(15, 7))\n",
    "\n",
    "# Predicted vs. Actual\n",
    "ax1 = fig.add_subplot(121)\n",
    "ax1.plot(y_test,MLR_predict_scale,\"o\",label='MLR',color='darkblue')\n",
    "ax1.legend(numpoints=1,loc='upper left')\n",
    "ax1.set_ylabel('Predicted Price ($)')\n",
    "ax1.set_xlabel('Actual Price ($)')\n",
    "ax1.xaxis.set_major_formatter(mtick.FuncFormatter('{:,.0f}'.format))\n",
    "ax1.set_title('Predicted vs. Actual Price', fontsize=12, fontweight='bold')\n",
    "\n",
    "# Residuals\n",
    "ax2 = fig.add_subplot(122)\n",
    "ax2.plot(y_test,MLRresiduals_scale, \"o\",label='MLR',color='darkblue')\n",
    "ax2.legend(numpoints=1,loc='upper left')\n",
    "ax2.set_ylabel('Residuals ($)')\n",
    "ax2.set_xlabel('Actual Price ($)')\n",
    "ax2.xaxis.set_major_formatter(mtick.FuncFormatter('{:,.0f}'.format))\n",
    "ax2.set_title('Residuals', fontsize=12, fontweight='bold')\n",
    "\n",
    "fig.subplots_adjust(wspace=.3)\n",
    "plt.show()"
   ]
  },
  {
   "cell_type": "code",
   "execution_count": 79,
   "metadata": {
    "collapsed": false
   },
   "outputs": [
    {
     "data": {
      "image/png": "[encoded data removed]",
      "text/plain": [
       "<matplotlib.figure.Figure at 0x1182b5e90>"
      ]
     },
     "metadata": {},
     "output_type": "display_data"
    }
   ],
   "source": [
    "# Plot Lasso and Ridge\n",
    "lassoResiduals_scale = y_test - lasso_predict_scale\n",
    "ridgeResiduals_scale = y_test - ridge_predict_scale\n",
    "\n",
    "fig = plt.figure(figsize=(15, 7))\n",
    "\n",
    "# Predicted vs. Actual\n",
    "ax1 = fig.add_subplot(121)\n",
    "ax1.plot(y_test,lasso_predict_scale,\"o\",label='Lasso',color='blue')\n",
    "ax1.plot(y_test,ridge_predict_scale,\"o\",label='Ridge',color='aqua')\n",
    "ax1.legend(numpoints=1,loc='upper left')\n",
    "ax1.set_ylabel('Predicted Price ($)')\n",
    "ax1.yaxis.set_major_formatter(mtick.FuncFormatter('{:,.0f}'.format))\n",
    "ax1.set_xlabel('Actual Price ($)')\n",
    "ax1.xaxis.set_major_formatter(mtick.FuncFormatter('{:,.0f}'.format))\n",
    "ax1.set_title('Predicted vs. Actual Price', fontsize=12, fontweight='bold')\n",
    "\n",
    "# Residuals\n",
    "ax2 = fig.add_subplot(122)\n",
    "ax2.plot(y_test,lassoResiduals_scale,\"o\",label='Lasso',color='blue')\n",
    "ax2.plot(y_test,ridgeResiduals_scale,\"o\",label='Ridge',color='aqua')\n",
    "ax2.legend(numpoints=1,loc='upper left')\n",
    "ax2.set_ylabel('Residuals ($)')\n",
    "ax2.yaxis.set_major_formatter(mtick.FuncFormatter('{:,.0f}'.format))\n",
    "ax2.set_xlabel('Actual Price ($)')\n",
    "ax2.xaxis.set_major_formatter(mtick.FuncFormatter('{:,.0f}'.format))\n",
    "ax2.set_title('Residuals', fontsize=12, fontweight='bold')\n",
    "\n",
    "fig.subplots_adjust(wspace=.3)\n",
    "plt.show()"
   ]
  },
  {
   "cell_type": "code",
   "execution_count": 140,
   "metadata": {
    "collapsed": false
   },
   "outputs": [
    {
     "name": "stdout",
     "output_type": "stream",
     "text": [
      "Lasso CV best λ: 0.00369396284612\n",
      "Lasso RMSE: 26190.5471312\n",
      "Ridge CV best λ: 10.0\n",
      "Ridge RMSE: 26934.2619722\n"
     ]
    }
   ],
   "source": [
    "# Try fitting on scaled data and log SalePrice for Lasso and Ridge\n",
    "#get best λ with LassoCV\n",
    "lasso_cv_scalelog = LassoCV(alphas=None, cv=10, max_iter=10000)\n",
    "model_cv_scalelog = lasso_cv_scalelog.fit(X_train_scaled,ravel(log_y_train_LessMiscVal))\n",
    "print \"Lasso CV best λ:\",model_cv_scalelog.alpha_\n",
    "lasso_predict_scalelog= model_cv_scalelog.predict(X_test_scaled)\n",
    "lasso_predict_scalelog=np.exp(lasso_predict_scalelog)+MiscVal_test\n",
    "lasso_RMSE_scalelog = sqrt(mean_squared_error(y_test, lasso_predict_scalelog))\n",
    "print \"Lasso RMSE:\",lasso_RMSE_scalelog\n",
    "\n",
    "#get best λ with RidgeCV\n",
    "ridge_cv_scalelog = RidgeCV(cv=10)\n",
    "ridge_model_cv_scalelog = ridge_cv_scalelog.fit(X_train_scaled,ravel(log_y_train_LessMiscVal))\n",
    "print \"Ridge CV best λ:\",ridge_model_cv_scalelog.alpha_\n",
    "ridge_predict_scalelog= ridge_model_cv_scalelog.predict(X_test_scaled)\n",
    "ridge_predict_scalelog=np.exp(ridge_predict_scalelog)+MiscVal_test\n",
    "ridge_RMSE_scalelog = sqrt(mean_squared_error(y_test, ridge_predict_scalelog))\n",
    "print \"Ridge RMSE:\",ridge_RMSE_scalelog"
   ]
  },
  {
   "cell_type": "code",
   "execution_count": 141,
   "metadata": {
    "collapsed": false
   },
   "outputs": [
    {
     "name": "stdout",
     "output_type": "stream",
     "text": [
      "LotArea 0.0330311388912\n",
      "Utilities -0.00446434304396\n",
      "RoofStyle 0.00553832376387\n",
      "Heating -0.00206376197919\n",
      "CentralAir -0.00254434675466\n",
      "1stFlrSF 0.0440934264875\n",
      "GrLivArea 0.105794047076\n",
      "KitchenQual -0.0163201621813\n",
      "Age -0.0709803130718\n",
      "AgeRem -0.0127332846551\n",
      "MoSold_Jan -0.00464659282369\n",
      "MoSold_Feb -0.000859647547577\n",
      "MoSold_Jul 0.00022706869173\n",
      "MoSold_Sept 0.00346742231062\n",
      "MoSold_Oct -0.00382710525643\n",
      "MoSold_Nov -0.000199276039991\n",
      "RecessionResilient -0.00389899728246\n",
      "RecessionSlightlyHelped 0.0140880833818\n",
      "Drive_APave 0.0103995628473\n",
      "Drive_AGrvl -0.00300385308938\n",
      "LandLot_Reg -0.0055260523451\n",
      "LandLot_BnkIrr -0.0201950811905\n",
      "LandLot_HLSIR1 0.00344959130591\n",
      "LandLot_HLSIR2 0.00277176135601\n",
      "LandLot_HLSIR3 0.00135005616954\n",
      "LandLot_LowIR1 0.00322101709857\n",
      "LandLot_LowIR3 0.00163230407717\n",
      "Conds_Pos -0.00675442172989\n",
      "Conds_Neg -0.0207909299209\n",
      "BsmtBath 0.0124346397835\n",
      "TotBath 0.0222547399249\n",
      "BsmtGLQUnfSF 0.0151078585441\n",
      "Bunker 0.00189001254694\n",
      "OverallCondQual 0.0844274884759\n",
      "MasVnr_Stone 0.00516331395163\n",
      "PorchDeck 0.0202298104773\n",
      "Garage 0.018878280484\n",
      "NiceGarage 0.000866880920106\n",
      "Carport -0.00383601823437\n",
      "LargeGarage 0.0147718710791\n",
      "3CarGarage 0.0320064541951\n",
      "Fireplace_Any 0.0133159863133\n",
      "Fireplace_Many 0.0130260407649\n",
      "Fireplace_Ex 0.00892955146345\n",
      "Fireplace_Good 0.0033387335161\n",
      "Sale_QuickSale -0.0145189526573\n",
      "MultiFam -0.0111700152819\n",
      "UnfHouse 0.00330730943598\n",
      "Zoning_ResHiMedDensity -0.00642182857136\n",
      "Functional_MajSev -0.0179118986732\n",
      "Functional_MinMod -0.0157015533545\n",
      "Fence_GdPrv 3.17659229075e-05\n",
      "RoofMatlWd 0.0013204093999\n",
      "RoofMatlUnique -0.00890301411412\n",
      "HeatingQCEx 0.015737446448\n",
      "HeatingQCBad -0.00266006251747\n",
      "NeighbIncomeRating_NeighbIncomeTier1 -0.00147630663512\n",
      "NeighbIncomeRating_NeighbIncomeTier4 0.0236615495034\n"
     ]
    }
   ],
   "source": [
    "for i, coef in enumerate(lasso_cv_scalelog.coef_):\n",
    "    if i==0:\n",
    "        pass\n",
    "    elif coef==0.0 or coef==-0.0:\n",
    "        pass\n",
    "    else:\n",
    "        print X.columns.values[i],coef"
   ]
  },
  {
   "cell_type": "code",
   "execution_count": 83,
   "metadata": {
    "collapsed": false
   },
   "outputs": [
    {
     "data": {
      "image/png": "[encoded data removed]",
      "text/plain": [
       "<matplotlib.figure.Figure at 0x11a8dcc90>"
      ]
     },
     "metadata": {},
     "output_type": "display_data"
    }
   ],
   "source": [
    "# Plot Lasso and Ridge results for scaled X data / log SalePrice\n",
    "lassoResiduals_scalelog = y_test - lasso_predict_scalelog\n",
    "ridgeResiduals_scalelog = y_test - ridge_predict_scalelog\n",
    "\n",
    "fig = plt.figure(figsize=(15, 7))\n",
    "\n",
    "# Predicted vs. Actual\n",
    "ax1 = fig.add_subplot(121)\n",
    "ax1.plot(y_test,lasso_predict_scalelog,\"o\",label='Lasso',color='blue')\n",
    "ax1.plot(y_test,ridge_predict_scalelog,\"o\",label='Ridge',color='aqua')\n",
    "ax1.legend(numpoints=1,loc='upper left')\n",
    "ax1.set_ylabel('Predicted Price ($)')\n",
    "ax1.yaxis.set_major_formatter(mtick.FuncFormatter('{:,.0f}'.format))\n",
    "ax1.set_xlabel('Actual Price ($)')\n",
    "ax1.xaxis.set_major_formatter(mtick.FuncFormatter('{:,.0f}'.format))\n",
    "ax1.set_title('Predicted vs. Actual Price', fontsize=12, fontweight='bold')\n",
    "\n",
    "# Residuals\n",
    "ax2 = fig.add_subplot(122)\n",
    "ax2.plot(y_test,lassoResiduals_scalelog,\"o\",label='Lasso',color='blue')\n",
    "ax2.plot(y_test,ridgeResiduals_scalelog,\"o\",label='Ridge',color='aqua')\n",
    "ax2.legend(numpoints=1,loc='upper left')\n",
    "ax2.set_ylabel('Residuals ($)')\n",
    "ax2.yaxis.set_major_formatter(mtick.FuncFormatter('{:,.0f}'.format))\n",
    "ax2.set_xlabel('Actual Price ($)')\n",
    "ax2.xaxis.set_major_formatter(mtick.FuncFormatter('{:,.0f}'.format))\n",
    "ax2.set_title('Residuals', fontsize=12, fontweight='bold')\n",
    "\n",
    "fig.subplots_adjust(wspace=.3)\n",
    "plt.show()"
   ]
  },
  {
   "cell_type": "markdown",
   "metadata": {
    "collapsed": false
   },
   "source": [
    "### SVR"
   ]
  },
  {
   "cell_type": "code",
   "execution_count": 64,
   "metadata": {
    "collapsed": false
   },
   "outputs": [
    {
     "data": {
      "text/plain": [
       "55794.026815552694"
      ]
     },
     "execution_count": 64,
     "metadata": {},
     "output_type": "execute_result"
    }
   ],
   "source": [
    "SVR_reg = SVR(kernel='linear', C=10)\n",
    "SVR_reg.fit(X_train,y_train_LessMiscVal)\n",
    "SVR_predict_reg=SVR_reg.predict(X_test)\n",
    "SVR_predict_reg=SVR_predict_reg+MiscVal_test\n",
    "SVR_RMSE_reg=np.sqrt(mean_squared_error(y_test,SVR_predict_reg))\n",
    "SVR_RMSE_reg"
   ]
  },
  {
   "cell_type": "code",
   "execution_count": 65,
   "metadata": {
    "collapsed": false
   },
   "outputs": [
    {
     "data": {
      "text/plain": [
       "52782.744316004202"
      ]
     },
     "execution_count": 65,
     "metadata": {},
     "output_type": "execute_result"
    }
   ],
   "source": [
    "SVR_scale = SVR(kernel='linear', C=10)\n",
    "SVR_scale.fit(X_train_scaled,y_train_LessMiscVal)\n",
    "SVR_predict_scale=SVR_scale.predict(X_test_scaled)\n",
    "SVR_predict_scale=SVR_predict_scale+MiscVal_test\n",
    "SVR_RMSE_scale=np.sqrt(mean_squared_error(y_test,SVR_predict_scale))\n",
    "SVR_RMSE_scale"
   ]
  },
  {
   "cell_type": "code",
   "execution_count": null,
   "metadata": {
    "collapsed": true
   },
   "outputs": [],
   "source": [
    "SVR_log = SVR(kernel='linear', C=10)\n",
    "SVR_log.fit(X_train,ravel(log_y_train_LessMiscVal))\n",
    "SVR_predict_log=SVR_log.predict(X_test)\n",
    "SVR_predict_log=np.exp(SVR_predict_log)+MiscVal_test\n",
    "SVR_RMSE_log=np.sqrt(mean_squared_error(y_test,SVR_predict_log))\n",
    "SVR_RMSE_log"
   ]
  },
  {
   "cell_type": "code",
   "execution_count": 66,
   "metadata": {
    "collapsed": false
   },
   "outputs": [
    {
     "data": {
      "text/plain": [
       "24662.218397434714"
      ]
     },
     "execution_count": 66,
     "metadata": {},
     "output_type": "execute_result"
    }
   ],
   "source": [
    "SVR_scalelog = SVR(kernel='linear', C=10)\n",
    "SVR_scalelog.fit(X_train_scaled,ravel(log_y_train_LessMiscVal))\n",
    "SVR_predict_scalelog=SVR_scalelog.predict(X_test_scaled)\n",
    "SVR_predict_scalelog=np.exp(SVR_predict_scalelog)+MiscVal_test\n",
    "SVR_RMSE_scalelog=np.sqrt(mean_squared_error(y_test,SVR_predict_scalelog))\n",
    "SVR_RMSE_scalelog"
   ]
  },
  {
   "cell_type": "markdown",
   "metadata": {},
   "source": [
    "### SGD Regressor"
   ]
  },
  {
   "cell_type": "code",
   "execution_count": 67,
   "metadata": {
    "collapsed": false
   },
   "outputs": [
    {
     "data": {
      "text/plain": [
       "GridSearchCV(cv=5, error_score='raise',\n",
       "       estimator=SGDRegressor(alpha=0.0001, average=False, epsilon=0.1, eta0=0.01,\n",
       "       fit_intercept=True, l1_ratio=0.15, learning_rate='invscaling',\n",
       "       loss='squared_loss', n_iter=5, penalty='l2', power_t=0.25,\n",
       "       random_state=42, shuffle=True, verbose=0, warm_start=False),\n",
       "       fit_params={}, iid=True, n_jobs=1,\n",
       "       param_grid={'penalty': ['l1', 'l2'], 'loss': ['squared_loss', 'huber'], 'learning_rate': ['optimal', 'invscaling', 'constant']},\n",
       "       pre_dispatch='2*n_jobs', refit=True,\n",
       "       scoring=make_scorer(mean_squared_error, greater_is_better=False),\n",
       "       verbose=0)"
      ]
     },
     "execution_count": 67,
     "metadata": {},
     "output_type": "execute_result"
    }
   ],
   "source": [
    "parameters = {'loss': ['squared_loss', 'huber'],\n",
    "             'penalty': ['l1','l2'],\n",
    "              'learning_rate': ['optimal','invscaling','constant']}\n",
    "accuracy=make_scorer(mean_squared_error, greater_is_better=False)\n",
    "SGDclf_reg = GridSearchCV(SGDRegressor(random_state=42), parameters, cv=5,scoring=accuracy)\n",
    "SGDclf_reg.fit(X_train, y_train_LessMiscVal) "
   ]
  },
  {
   "cell_type": "code",
   "execution_count": 68,
   "metadata": {
    "collapsed": false
   },
   "outputs": [
    {
     "name": "stdout",
     "output_type": "stream",
     "text": [
      "{'penalty': 'l1', 'loss': 'huber', 'learning_rate': 'optimal'}\n",
      "-3797428011.69\n"
     ]
    }
   ],
   "source": [
    "print SGDclf_reg.best_params_\n",
    "print SGDclf_reg.best_score_"
   ]
  },
  {
   "cell_type": "code",
   "execution_count": 69,
   "metadata": {
    "collapsed": false
   },
   "outputs": [
    {
     "data": {
      "text/plain": [
       "190218.32082133982"
      ]
     },
     "execution_count": 69,
     "metadata": {},
     "output_type": "execute_result"
    }
   ],
   "source": [
    "GSCV_SGDclf_reg = SGDRegressor(loss='huber', penalty='l2', alpha=0.001, random_state=42)\n",
    "GSCV_SGDclf_reg.fit(X_train, y_train_LessMiscVal)\n",
    "GSCV_SGDclf_predict_reg = GSCV_SGDclf_reg.predict(X_test)\n",
    "GSCV_SGDclf_predict_reg=GSCV_SGDclf_predict_reg+MiscVal_test\n",
    "GSCV_SGDclf_RMSE_reg=np.sqrt(mean_squared_error(y_test, GSCV_SGDclf_predict_reg))\n",
    "GSCV_SGDclf_RMSE_reg"
   ]
  },
  {
   "cell_type": "code",
   "execution_count": 70,
   "metadata": {
    "collapsed": false
   },
   "outputs": [
    {
     "data": {
      "text/plain": [
       "GridSearchCV(cv=5, error_score='raise',\n",
       "       estimator=SGDRegressor(alpha=0.0001, average=False, epsilon=0.1, eta0=0.01,\n",
       "       fit_intercept=True, l1_ratio=0.15, learning_rate='invscaling',\n",
       "       loss='squared_loss', n_iter=5, penalty='l2', power_t=0.25,\n",
       "       random_state=42, shuffle=True, verbose=0, warm_start=False),\n",
       "       fit_params={}, iid=True, n_jobs=1,\n",
       "       param_grid={'penalty': ['l1', 'l2'], 'loss': ['squared_loss', 'huber'], 'alpha': [0.01, 0.001, 0.0001]},\n",
       "       pre_dispatch='2*n_jobs', refit=True,\n",
       "       scoring=make_scorer(mean_squared_error, greater_is_better=False),\n",
       "       verbose=0)"
      ]
     },
     "execution_count": 70,
     "metadata": {},
     "output_type": "execute_result"
    }
   ],
   "source": [
    "parameters = {'loss': ['squared_loss', 'huber'],\n",
    "             'penalty': ['l1','l2'],\n",
    "              'alpha': [0.01, 0.001, 0.0001]\n",
    "             }\n",
    "accuracy=make_scorer(mean_squared_error, greater_is_better=False)\n",
    "SGDclf_scale = GridSearchCV(SGDRegressor(random_state=42), parameters, cv=5,scoring=accuracy)\n",
    "SGDclf_scale.fit(X_train_scaled, y_train_LessMiscVal)"
   ]
  },
  {
   "cell_type": "code",
   "execution_count": 71,
   "metadata": {
    "collapsed": false
   },
   "outputs": [
    {
     "name": "stdout",
     "output_type": "stream",
     "text": [
      "{'penalty': 'l2', 'alpha': 0.01, 'loss': 'squared_loss'}\n",
      "-1404707182.91\n"
     ]
    }
   ],
   "source": [
    "print SGDclf_scale.best_params_\n",
    "print SGDclf_scale.best_score_"
   ]
  },
  {
   "cell_type": "code",
   "execution_count": 72,
   "metadata": {
    "collapsed": false
   },
   "outputs": [
    {
     "data": {
      "text/plain": [
       "199211.22479709802"
      ]
     },
     "execution_count": 72,
     "metadata": {},
     "output_type": "execute_result"
    }
   ],
   "source": [
    "GSCV_SGDclf_scale = SGDRegressor(penalty='l1', alpha=0.01, loss='huber', random_state=42)\n",
    "GSCV_SGDclf_scale.fit(X_train_scaled, y_train_LessMiscVal)\n",
    "GSCV_SGDclf_predict_scale = GSCV_SGDclf_scale.predict(X_test_scaled)\n",
    "GSCV_SGDclf_predict_scale=GSCV_SGDclf_predict_scale+MiscVal_test\n",
    "GSCV_SGDclf_RMSE_scale=np.sqrt(mean_squared_error(y_test, GSCV_SGDclf_predict_scale))\n",
    "GSCV_SGDclf_RMSE_scale"
   ]
  },
  {
   "cell_type": "code",
   "execution_count": 73,
   "metadata": {
    "collapsed": true
   },
   "outputs": [],
   "source": [
    "# parameters = {'loss': ['squared_loss', 'huber'],\n",
    "#              'penalty': ['l1','l2'],\n",
    "#               'alpha': [0.01, 0.001, 0.0001]\n",
    "#              }\n",
    "# accuracy=make_scorer(mean_squared_error, greater_is_better=False)\n",
    "# SGDclf_log = GridSearchCV(SGDRegressor(random_state=42), parameters, cv=5,scoring=accuracy)\n",
    "# SGDclf_log.fit(X_train, log_y_train_LessMiscVal)"
   ]
  },
  {
   "cell_type": "code",
   "execution_count": null,
   "metadata": {
    "collapsed": true
   },
   "outputs": [],
   "source": [
    "# print SGDclf_log.best_params_\n",
    "# print SGDclf_log.best_score_"
   ]
  },
  {
   "cell_type": "code",
   "execution_count": null,
   "metadata": {
    "collapsed": true
   },
   "outputs": [],
   "source": [
    "# ## NOT SURE OF BEST PARAMS -- LOG WOULDN'T RUN\n",
    "# GSCV_SGDclf_log = SGDRegressor(penalty='l1', alpha=0.01, loss='huber', random_state=42)\n",
    "# GSCV_SGDclf_log.fit(X_train, log_y_train_LessMiscVal)\n",
    "# GSCV_SGDclf_predict_log = GSCV_SGDclf_log.predict(X_test)\n",
    "# GSCV_SGDclf_predict_log=np.exp(GSCV_SGDclf_predict_log)+MiscVal_test\n",
    "# GSCV_SGDclf_RMSE_log=np.sqrt(mean_squared_error(y_test, GSCV_SGDclf_predict_log))\n",
    "# GSCV_SGDclf_RMSE_log"
   ]
  },
  {
   "cell_type": "code",
   "execution_count": null,
   "metadata": {
    "collapsed": true
   },
   "outputs": [],
   "source": [
    "# parameters = {'loss': ['squared_loss', 'huber'],\n",
    "#              'penalty': ['l1','l2'],\n",
    "#               'alpha': [0.01, 0.001, 0.0001]\n",
    "#              }\n",
    "# accuracy=make_scorer(mean_squared_error, greater_is_better=False)\n",
    "# SGDclf_scalelog = GridSearchCV(SGDRegressor(random_state=42), parameters, cv=5,scoring=accuracy)\n",
    "# SGDclf_scalelog.fit(X_train_scaled, log_y_train_LessMiscVal)"
   ]
  },
  {
   "cell_type": "code",
   "execution_count": null,
   "metadata": {
    "collapsed": true
   },
   "outputs": [],
   "source": [
    "# print SGDclf_scalelog.best_params_\n",
    "# print SGDclf_scalelog.best_score_"
   ]
  },
  {
   "cell_type": "code",
   "execution_count": null,
   "metadata": {
    "collapsed": true
   },
   "outputs": [],
   "source": [
    "# ## NOT SURE OF BEST PARAMS -- LOG WOULDN'T RUN\n",
    "# GSCV_SGDclf_scalelog = SGDRegressor(penalty='l1', alpha=0.01, loss='huber', random_state=42)\n",
    "# GSCV_SGDclf_scalelog.fit(X_train_scaled, log_y_train_LessMiscVal)\n",
    "# GSCV_SGDclf_predict_scalelog = GSCV_SGDclf_scalelog.predict(X_test_scaled)\n",
    "# GSCV_SGDclf_predict_scalelog=np.exp(GSCV_SGDclf_predict_scalelog)+MiscVal_test\n",
    "# GSCV_SGDclf_RMSE_scalelog=np.sqrt(mean_squared_error(y_test,GSCV_SGDclf_predict_scalelog))\n",
    "# GSCV_SGDclf_RMSE_scalelog"
   ]
  },
  {
   "cell_type": "markdown",
   "metadata": {},
   "source": [
    "### Regression Trees"
   ]
  },
  {
   "cell_type": "code",
   "execution_count": 74,
   "metadata": {
    "collapsed": false
   },
   "outputs": [
    {
     "name": "stdout",
     "output_type": "stream",
     "text": [
      "RMSE for Regression Tree is: 48559.4118\n"
     ]
    }
   ],
   "source": [
    "# Create and fit the model\n",
    "model_tree2_reg = DecisionTreeRegressor(random_state = 1)\n",
    "model_tree2_reg.fit(X_train, y_train_LessMiscVal)\n",
    "\n",
    "# Predict on the test set\n",
    "p_tree2_reg = model_tree2_reg.predict(X_test)\n",
    "p_tree2_reg=p_tree2_reg+MiscVal_test\n",
    "\n",
    "# Calculate RMSE of the model\n",
    "REGTREE_residuals_reg = y_test-p_tree2_reg\n",
    "REGTREE_MSE_reg = (REGTREE_residuals_reg**2).mean()\n",
    "REGTREE_RMSE_reg = math.sqrt(REGTREE_MSE_reg)\n",
    "\n",
    "print \"RMSE for Regression Tree is:\", round(REGTREE_RMSE_reg,4)"
   ]
  },
  {
   "cell_type": "code",
   "execution_count": 75,
   "metadata": {
    "collapsed": false
   },
   "outputs": [
    {
     "name": "stdout",
     "output_type": "stream",
     "text": [
      "RMSE for Regression Tree USING LOG is: 42189.3956\n"
     ]
    }
   ],
   "source": [
    "# Create and fit the model\n",
    "model_tree2_log = DecisionTreeRegressor(random_state = 1)\n",
    "model_tree2_log.fit(X_train, log_y_train_LessMiscVal)\n",
    "\n",
    "# Predict on the test set\n",
    "p_tree2_log = model_tree2_log.predict(X_test)\n",
    "p_tree2_log = np.exp(p_tree2_log)+MiscVal_test\n",
    "\n",
    "# Calculate RMSE of the model\n",
    "REGTREE_residuals_log = y_test-p_tree2_log\n",
    "REGTREE_MSE_log = (REGTREE_residuals_log**2).mean()\n",
    "REGTREE_RMSE_log = math.sqrt(REGTREE_MSE_log)\n",
    "\n",
    "print \"RMSE for Regression Tree USING LOG is:\", round(REGTREE_RMSE_log,4)"
   ]
  },
  {
   "cell_type": "code",
   "execution_count": 76,
   "metadata": {
    "collapsed": false
   },
   "outputs": [
    {
     "name": "stdout",
     "output_type": "stream",
     "text": [
      "RMSE with scaling Regression Tree is: 48542.7365\n"
     ]
    }
   ],
   "source": [
    "# Create and fit the model\n",
    "model_tree2_scale = DecisionTreeRegressor(random_state = 1)\n",
    "model_tree2_scale.fit(X_train_scaled, y_train_LessMiscVal)\n",
    "\n",
    "# Predict on the test set\n",
    "p_tree2_scale = model_tree2_scale.predict(X_test_scaled)\n",
    "p_tree2_scale = p_tree2_scale+MiscVal_test\n",
    "\n",
    "# Calculate RMSE of the model\n",
    "REGTREE_residuals_scale = p_tree2_scale - y_test\n",
    "REGTREE_MSE_scale = (REGTREE_residuals_scale**2).mean()\n",
    "REGTREE_RMSE_scale = math.sqrt(REGTREE_MSE_scale)\n",
    "\n",
    "print \"RMSE with scaling Regression Tree is:\", round(REGTREE_RMSE_scale,4)"
   ]
  },
  {
   "cell_type": "code",
   "execution_count": 77,
   "metadata": {
    "collapsed": false
   },
   "outputs": [
    {
     "name": "stdout",
     "output_type": "stream",
     "text": [
      "RMSE with scaling for Regression Tree USING LOG is: 42191.1074\n"
     ]
    }
   ],
   "source": [
    "# Create and fit the model\n",
    "model_tree2_scalelog = DecisionTreeRegressor(random_state = 1)\n",
    "model_tree2_scalelog.fit(X_train_scaled, log_y_train_LessMiscVal)\n",
    "\n",
    "# Predict on the test set\n",
    "p_tree2_scalelog = model_tree2_scalelog.predict(X_test_scaled)\n",
    "p_tree2_scalelog = np.exp(p_tree2_scalelog)+MiscVal_test\n",
    "\n",
    "# Calculate RMSE of the model\n",
    "REGTREE_residuals_scalelog = y_test - p_tree2_scalelog\n",
    "REGTREE_MSE_scalelog = (REGTREE_residuals_scalelog**2).mean()\n",
    "REGTREE_RMSE_scalelog = math.sqrt(REGTREE_MSE_scalelog)\n",
    "\n",
    "print \"RMSE with scaling for Regression Tree USING LOG is:\", round(REGTREE_RMSE_scalelog,4)"
   ]
  },
  {
   "cell_type": "code",
   "execution_count": 78,
   "metadata": {
    "collapsed": false
   },
   "outputs": [
    {
     "name": "stdout",
     "output_type": "stream",
     "text": [
      "3CarGarage         0.340405\n",
      "GrLivArea          0.216499\n",
      "OverallCondQual    0.129307\n",
      "1stFlrSF           0.064889\n",
      "AgeRem             0.038405\n",
      "Age                0.032806\n",
      "MoSold_Jan         0.027103\n",
      "BsmtGLQUnfSF       0.019264\n",
      "TotBath            0.017042\n",
      "LotArea            0.016421\n",
      "dtype: float64\n"
     ]
    }
   ],
   "source": [
    "# # Feature importances from Model 1\n",
    "# imp_tree1 = pd.Series(model_tree1.feature_importances_,X_train.columns.values)\n",
    "# print imp_tree1.sort_values(ascending = False)[:10]\n",
    "\n",
    "# Feature importances from Model 2\n",
    "imp_tree2 = pd.Series(model_tree2_reg.feature_importances_,X_train.columns.values)\n",
    "print imp_tree2.sort_values(ascending = False)[:10]"
   ]
  },
  {
   "cell_type": "code",
   "execution_count": 79,
   "metadata": {
    "collapsed": false
   },
   "outputs": [
    {
     "name": "stdout",
     "output_type": "stream",
     "text": [
      "RMSE for Regression Tree is: 48559.4118\n",
      "RMSE for Regression Tree USING LOG is: 42189.3956\n",
      "RMSE with scaling Regression Tree is: 48542.7365\n",
      "RMSE with scaling for Regression Tree USING LOG is: 42191.1074\n"
     ]
    }
   ],
   "source": [
    "# SUMMARY - Regression Trees\n",
    "print \"RMSE for Regression Tree is:\", round(REGTREE_RMSE_reg,4)\n",
    "print \"RMSE for Regression Tree USING LOG is:\", round(REGTREE_RMSE_log,4)\n",
    "print \"RMSE with scaling Regression Tree is:\", round(REGTREE_RMSE_scale,4)\n",
    "print \"RMSE with scaling for Regression Tree USING LOG is:\", round(REGTREE_RMSE_scalelog,4)"
   ]
  },
  {
   "cell_type": "markdown",
   "metadata": {},
   "source": [
    "###  Random Forest (GridSearchCV)"
   ]
  },
  {
   "cell_type": "code",
   "execution_count": 80,
   "metadata": {
    "collapsed": true
   },
   "outputs": [],
   "source": [
    "# Cross validate RF model\n",
    "# Set parameter dictionary to search through\n",
    "params = {'n_estimators':[10,100,500, 1000], 'max_depth':[5,10,20]}\n",
    "\n",
    "# Create model and fit best parameters\n",
    "model_rf2 = RandomForestRegressor()\n",
    "model_rf2_GS_reg = GridSearchCV(model_rf2, params)\n",
    "model_rf2_GS_log = GridSearchCV(model_rf2, params)\n",
    "model_rf2_GS_scale = GridSearchCV(model_rf2, params)\n",
    "model_rf2_GS_scalelog = GridSearchCV(model_rf2, params)"
   ]
  },
  {
   "cell_type": "code",
   "execution_count": 81,
   "metadata": {
    "collapsed": false
   },
   "outputs": [
    {
     "data": {
      "text/plain": [
       "GridSearchCV(cv=None, error_score='raise',\n",
       "       estimator=RandomForestRegressor(bootstrap=True, criterion='mse', max_depth=None,\n",
       "           max_features='auto', max_leaf_nodes=None,\n",
       "           min_impurity_split=1e-07, min_samples_leaf=1,\n",
       "           min_samples_split=2, min_weight_fraction_leaf=0.0,\n",
       "           n_estimators=10, n_jobs=1, oob_score=False, random_state=None,\n",
       "           verbose=0, warm_start=False),\n",
       "       fit_params={}, iid=True, n_jobs=1,\n",
       "       param_grid={'n_estimators': [10, 100, 500, 1000], 'max_depth': [5, 10, 20]},\n",
       "       pre_dispatch='2*n_jobs', refit=True, scoring=None, verbose=0)"
      ]
     },
     "execution_count": 81,
     "metadata": {},
     "output_type": "execute_result"
    }
   ],
   "source": [
    "# Avoid running, build a RF model below\n",
    "model_rf2_GS_reg.fit(X_train, y_train_LessMiscVal)"
   ]
  },
  {
   "cell_type": "code",
   "execution_count": 82,
   "metadata": {
    "collapsed": false
   },
   "outputs": [
    {
     "data": {
      "text/plain": [
       "GridSearchCV(cv=None, error_score='raise',\n",
       "       estimator=RandomForestRegressor(bootstrap=True, criterion='mse', max_depth=None,\n",
       "           max_features='auto', max_leaf_nodes=None,\n",
       "           min_impurity_split=1e-07, min_samples_leaf=1,\n",
       "           min_samples_split=2, min_weight_fraction_leaf=0.0,\n",
       "           n_estimators=10, n_jobs=1, oob_score=False, random_state=None,\n",
       "           verbose=0, warm_start=False),\n",
       "       fit_params={}, iid=True, n_jobs=1,\n",
       "       param_grid={'n_estimators': [10, 100, 500, 1000], 'max_depth': [5, 10, 20]},\n",
       "       pre_dispatch='2*n_jobs', refit=True, scoring=None, verbose=0)"
      ]
     },
     "execution_count": 82,
     "metadata": {},
     "output_type": "execute_result"
    }
   ],
   "source": [
    "# Avoid running, build a RF model below\n",
    "model_rf2_GS_log.fit(X_train, log_y_train_LessMiscVal)"
   ]
  },
  {
   "cell_type": "code",
   "execution_count": 83,
   "metadata": {
    "collapsed": false
   },
   "outputs": [
    {
     "data": {
      "text/plain": [
       "GridSearchCV(cv=None, error_score='raise',\n",
       "       estimator=RandomForestRegressor(bootstrap=True, criterion='mse', max_depth=None,\n",
       "           max_features='auto', max_leaf_nodes=None,\n",
       "           min_impurity_split=1e-07, min_samples_leaf=1,\n",
       "           min_samples_split=2, min_weight_fraction_leaf=0.0,\n",
       "           n_estimators=10, n_jobs=1, oob_score=False, random_state=None,\n",
       "           verbose=0, warm_start=False),\n",
       "       fit_params={}, iid=True, n_jobs=1,\n",
       "       param_grid={'n_estimators': [10, 100, 500, 1000], 'max_depth': [5, 10, 20]},\n",
       "       pre_dispatch='2*n_jobs', refit=True, scoring=None, verbose=0)"
      ]
     },
     "execution_count": 83,
     "metadata": {},
     "output_type": "execute_result"
    }
   ],
   "source": [
    "# Avoid running, build a RF model below\n",
    "model_rf2_GS_scale.fit(X_train_scaled, y_train_LessMiscVal)"
   ]
  },
  {
   "cell_type": "code",
   "execution_count": 84,
   "metadata": {
    "collapsed": false
   },
   "outputs": [
    {
     "data": {
      "text/plain": [
       "GridSearchCV(cv=None, error_score='raise',\n",
       "       estimator=RandomForestRegressor(bootstrap=True, criterion='mse', max_depth=None,\n",
       "           max_features='auto', max_leaf_nodes=None,\n",
       "           min_impurity_split=1e-07, min_samples_leaf=1,\n",
       "           min_samples_split=2, min_weight_fraction_leaf=0.0,\n",
       "           n_estimators=10, n_jobs=1, oob_score=False, random_state=None,\n",
       "           verbose=0, warm_start=False),\n",
       "       fit_params={}, iid=True, n_jobs=1,\n",
       "       param_grid={'n_estimators': [10, 100, 500, 1000], 'max_depth': [5, 10, 20]},\n",
       "       pre_dispatch='2*n_jobs', refit=True, scoring=None, verbose=0)"
      ]
     },
     "execution_count": 84,
     "metadata": {},
     "output_type": "execute_result"
    }
   ],
   "source": [
    "# Avoid running, build a RF model below\n",
    "model_rf2_GS_scalelog.fit(X_train_scaled, log_y_train_LessMiscVal)"
   ]
  },
  {
   "cell_type": "code",
   "execution_count": 85,
   "metadata": {
    "collapsed": true
   },
   "outputs": [],
   "source": [
    "# Save best estimates to avoid re-running grid search\n",
    "model_rf2_GS_reg_best=model_rf2_GS_reg.best_estimator_\n",
    "model_rf2_GS_log_best=model_rf2_GS_log.best_estimator_\n",
    "model_rf2_GS_scale_best=model_rf2_GS_scale.best_estimator_\n",
    "model_rf2_GS_scalelog_best=model_rf2_GS_scalelog.best_estimator_"
   ]
  },
  {
   "cell_type": "code",
   "execution_count": 86,
   "metadata": {
    "collapsed": false
   },
   "outputs": [
    {
     "name": "stdout",
     "output_type": "stream",
     "text": [
      "RMSE for GS Random Forest is: 28024.3873\n"
     ]
    }
   ],
   "source": [
    "# Make predictions on Grid search optimized RF model\n",
    "p_rf2_reg = model_rf2_GS_reg.predict(X_test)\n",
    "p_rf2_reg = p_rf2_reg+MiscVal_test\n",
    "\n",
    "# Calculate RMSE of the model\n",
    "GS_RANDFOR_residuals_reg =  y_test-p_rf2_reg\n",
    "GS_RANDFOR_MSE_reg = (GS_RANDFOR_residuals_reg**2).mean()\n",
    "GS_RANDFOR_RMSE_reg = math.sqrt(GS_RANDFOR_MSE_reg)\n",
    "\n",
    "print \"RMSE for GS Random Forest is:\", round(GS_RANDFOR_RMSE_reg,4)"
   ]
  },
  {
   "cell_type": "code",
   "execution_count": 87,
   "metadata": {
    "collapsed": false
   },
   "outputs": [
    {
     "name": "stdout",
     "output_type": "stream",
     "text": [
      "RMSE for GS Random Forest USING LOG is: 28633.5935\n"
     ]
    }
   ],
   "source": [
    "# Make predictions on Grid search optimized RF model\n",
    "p_rf2_log = model_rf2_GS_log.predict(X_test)\n",
    "p_rf2_log = np.exp(p_rf2_log)+MiscVal_test\n",
    "\n",
    "# Calculate RMSE of the model\n",
    "GS_RANDFOR_residuals_log = y_test - p_rf2_log\n",
    "GS_RANDFOR_MSE_log = (GS_RANDFOR_residuals_log**2).mean()\n",
    "GS_RANDFOR_RMSE_log = math.sqrt(GS_RANDFOR_MSE_log)\n",
    "\n",
    "print \"RMSE for GS Random Forest USING LOG is:\", round(GS_RANDFOR_RMSE_log,4)"
   ]
  },
  {
   "cell_type": "code",
   "execution_count": 88,
   "metadata": {
    "collapsed": false
   },
   "outputs": [
    {
     "name": "stdout",
     "output_type": "stream",
     "text": [
      "RMSE using scaling for GS Random Forest is: 28181.7702\n"
     ]
    }
   ],
   "source": [
    "# Make predictions on Grid search optimized RF model\n",
    "p_rf2_scale = model_rf2_GS_scale.predict(X_test_scaled)\n",
    "p_rf2_scale = p_rf2_scale+MiscVal_test\n",
    "\n",
    "# Calculate RMSE of the model\n",
    "GS_RANDFOR_residuals_scale = y_test-p_rf2_scale\n",
    "GS_RANDFOR_MSE_scale = (GS_RANDFOR_residuals_scale**2).mean()\n",
    "GS_RANDFOR_RMSE_scale = math.sqrt(GS_RANDFOR_MSE_scale)\n",
    "\n",
    "print \"RMSE using scaling for GS Random Forest is:\", round(GS_RANDFOR_RMSE_scale,4)"
   ]
  },
  {
   "cell_type": "code",
   "execution_count": 89,
   "metadata": {
    "collapsed": false
   },
   "outputs": [
    {
     "name": "stdout",
     "output_type": "stream",
     "text": [
      "RMSE using scaling for GS Random Forest USING LOG is: 29042.8014\n"
     ]
    }
   ],
   "source": [
    "# Make predictions on Grid search optimized RF model\n",
    "p_rf2_scalelog = model_rf2_GS_scalelog.predict(X_test_scaled)\n",
    "p_rf2_scalelog = np.exp(p_rf2_scalelog)+MiscVal_test\n",
    "\n",
    "# Calculate RMSE of the model\n",
    "GS_RANDFOR_residuals_scalelog = y_test - p_rf2_scalelog\n",
    "GS_RANDFOR_MSE_scalelog = (GS_RANDFOR_residuals_scalelog**2).mean()\n",
    "GS_RANDFOR_RMSE_scalelog = math.sqrt(GS_RANDFOR_MSE_scalelog)\n",
    "\n",
    "print \"RMSE using scaling for GS Random Forest USING LOG is:\", round(GS_RANDFOR_RMSE_scalelog,4)"
   ]
  },
  {
   "cell_type": "code",
   "execution_count": 90,
   "metadata": {
    "collapsed": false
   },
   "outputs": [
    {
     "name": "stdout",
     "output_type": "stream",
     "text": [
      "RMSE for GS Random Forest is: 28024.3873\n",
      "RMSE for GS Random Forest USING LOG is: 28633.5935\n",
      "RMSE using scaling for GS Random Forest is: 28181.7702\n",
      "RMSE using scaling for GS Random Forest USING LOG is: 29042.8014\n"
     ]
    }
   ],
   "source": [
    "# SUMMARY - GridsearchCV on Random Forests\n",
    "print \"RMSE for GS Random Forest is:\", round(GS_RANDFOR_RMSE_reg,4)\n",
    "print \"RMSE for GS Random Forest USING LOG is:\", round(GS_RANDFOR_RMSE_log,4)\n",
    "print \"RMSE using scaling for GS Random Forest is:\", round(GS_RANDFOR_RMSE_scale,4)\n",
    "print \"RMSE using scaling for GS Random Forest USING LOG is:\", round(GS_RANDFOR_RMSE_scalelog,4)"
   ]
  },
  {
   "cell_type": "markdown",
   "metadata": {},
   "source": [
    "### Gradient Boosting (GridSearchCV)"
   ]
  },
  {
   "cell_type": "code",
   "execution_count": 91,
   "metadata": {
    "collapsed": true
   },
   "outputs": [],
   "source": [
    "# Create Gradient Boosting Model\n",
    "model_gb1 = GradientBoostingRegressor()\n",
    "\n",
    "# Create parameter dictionary for GridSearchCV\n",
    "params = {'n_estimators':(5,10,50,100,500,1000),'learning_rate':(0.01, 0.05, 0.1, 0.2)}\n",
    "\n",
    "#Create Grid Search Model\n",
    "model_gb1_GS = GridSearchCV(model_gb1,params)\n",
    "model_gb1_GS_reg = GridSearchCV(model_gb1, params)\n",
    "model_gb1_GS_log = GridSearchCV(model_gb1, params)\n",
    "model_gb1_GS_scale = GridSearchCV(model_gb1, params)\n",
    "model_gb1_GS_scalelog = GridSearchCV(model_gb1, params)"
   ]
  },
  {
   "cell_type": "code",
   "execution_count": 92,
   "metadata": {
    "collapsed": false
   },
   "outputs": [
    {
     "data": {
      "text/plain": [
       "GridSearchCV(cv=None, error_score='raise',\n",
       "       estimator=GradientBoostingRegressor(alpha=0.9, criterion='friedman_mse', init=None,\n",
       "             learning_rate=0.1, loss='ls', max_depth=3, max_features=None,\n",
       "             max_leaf_nodes=None, min_impurity_split=1e-07,\n",
       "             min_samples_leaf=1, min_samples_split=2,\n",
       "             min_weight_fraction_leaf=0.0, n_estimators=100,\n",
       "             presort='auto', random_state=None, subsample=1.0, verbose=0,\n",
       "             warm_start=False),\n",
       "       fit_params={}, iid=True, n_jobs=1,\n",
       "       param_grid={'n_estimators': (5, 10, 50, 100, 500, 1000), 'learning_rate': (0.01, 0.05, 0.1, 0.2)},\n",
       "       pre_dispatch='2*n_jobs', refit=True, scoring=None, verbose=0)"
      ]
     },
     "execution_count": 92,
     "metadata": {},
     "output_type": "execute_result"
    }
   ],
   "source": [
    "# Avoid running, build a RF model below\n",
    "model_gb1_GS_reg.fit(X_train, y_train_LessMiscVal)"
   ]
  },
  {
   "cell_type": "code",
   "execution_count": 93,
   "metadata": {
    "collapsed": false
   },
   "outputs": [
    {
     "data": {
      "text/plain": [
       "GridSearchCV(cv=None, error_score='raise',\n",
       "       estimator=GradientBoostingRegressor(alpha=0.9, criterion='friedman_mse', init=None,\n",
       "             learning_rate=0.1, loss='ls', max_depth=3, max_features=None,\n",
       "             max_leaf_nodes=None, min_impurity_split=1e-07,\n",
       "             min_samples_leaf=1, min_samples_split=2,\n",
       "             min_weight_fraction_leaf=0.0, n_estimators=100,\n",
       "             presort='auto', random_state=None, subsample=1.0, verbose=0,\n",
       "             warm_start=False),\n",
       "       fit_params={}, iid=True, n_jobs=1,\n",
       "       param_grid={'n_estimators': (5, 10, 50, 100, 500, 1000), 'learning_rate': (0.01, 0.05, 0.1, 0.2)},\n",
       "       pre_dispatch='2*n_jobs', refit=True, scoring=None, verbose=0)"
      ]
     },
     "execution_count": 93,
     "metadata": {},
     "output_type": "execute_result"
    }
   ],
   "source": [
    "# Avoid running, build a RF model below\n",
    "model_gb1_GS_log.fit(X_train, log_y_train_LessMiscVal)"
   ]
  },
  {
   "cell_type": "code",
   "execution_count": 94,
   "metadata": {
    "collapsed": false
   },
   "outputs": [
    {
     "data": {
      "text/plain": [
       "GridSearchCV(cv=None, error_score='raise',\n",
       "       estimator=GradientBoostingRegressor(alpha=0.9, criterion='friedman_mse', init=None,\n",
       "             learning_rate=0.1, loss='ls', max_depth=3, max_features=None,\n",
       "             max_leaf_nodes=None, min_impurity_split=1e-07,\n",
       "             min_samples_leaf=1, min_samples_split=2,\n",
       "             min_weight_fraction_leaf=0.0, n_estimators=100,\n",
       "             presort='auto', random_state=None, subsample=1.0, verbose=0,\n",
       "             warm_start=False),\n",
       "       fit_params={}, iid=True, n_jobs=1,\n",
       "       param_grid={'n_estimators': (5, 10, 50, 100, 500, 1000), 'learning_rate': (0.01, 0.05, 0.1, 0.2)},\n",
       "       pre_dispatch='2*n_jobs', refit=True, scoring=None, verbose=0)"
      ]
     },
     "execution_count": 94,
     "metadata": {},
     "output_type": "execute_result"
    }
   ],
   "source": [
    "# Avoid running, build a RF model below\n",
    "model_gb1_GS_scale.fit(X_train_scaled, y_train_LessMiscVal)"
   ]
  },
  {
   "cell_type": "code",
   "execution_count": 95,
   "metadata": {
    "collapsed": false
   },
   "outputs": [
    {
     "data": {
      "text/plain": [
       "GridSearchCV(cv=None, error_score='raise',\n",
       "       estimator=GradientBoostingRegressor(alpha=0.9, criterion='friedman_mse', init=None,\n",
       "             learning_rate=0.1, loss='ls', max_depth=3, max_features=None,\n",
       "             max_leaf_nodes=None, min_impurity_split=1e-07,\n",
       "             min_samples_leaf=1, min_samples_split=2,\n",
       "             min_weight_fraction_leaf=0.0, n_estimators=100,\n",
       "             presort='auto', random_state=None, subsample=1.0, verbose=0,\n",
       "             warm_start=False),\n",
       "       fit_params={}, iid=True, n_jobs=1,\n",
       "       param_grid={'n_estimators': (5, 10, 50, 100, 500, 1000), 'learning_rate': (0.01, 0.05, 0.1, 0.2)},\n",
       "       pre_dispatch='2*n_jobs', refit=True, scoring=None, verbose=0)"
      ]
     },
     "execution_count": 95,
     "metadata": {},
     "output_type": "execute_result"
    }
   ],
   "source": [
    "# Avoid running, build a RF model below\n",
    "model_gb1_GS_scalelog.fit(X_train_scaled, log_y_train_LessMiscVal)"
   ]
  },
  {
   "cell_type": "code",
   "execution_count": 96,
   "metadata": {
    "collapsed": true
   },
   "outputs": [],
   "source": [
    "# Save best estimates to avoid re-running grid search\n",
    "model_gb1_GS_reg_best=model_gb1_GS_reg.best_estimator_\n",
    "model_gb1_GS_log_best=model_gb1_GS_log.best_estimator_\n",
    "model_gb1_GS_scale_best=model_gb1_GS_scale.best_estimator_\n",
    "model_gb1_GS_scalelog_best=model_gb1_GS_scalelog.best_estimator_"
   ]
  },
  {
   "cell_type": "code",
   "execution_count": 97,
   "metadata": {
    "collapsed": false
   },
   "outputs": [
    {
     "name": "stdout",
     "output_type": "stream",
     "text": [
      "RMSE for GS Gradient Boosting is: 25259.7379\n"
     ]
    }
   ],
   "source": [
    "# Make predictions on Grid search optimized Gradient Boosting model\n",
    "p_gb1_reg = model_gb1_GS_reg.predict(X_test)\n",
    "p_gb1_reg = p_gb1_reg+MiscVal_test\n",
    "\n",
    "# Calculate RMSE of the model\n",
    "GS_GRADBOOST_residuals_reg = y_test - p_gb1_reg\n",
    "GS_GRADBOOST_MSE_reg = (GS_GRADBOOST_residuals_reg**2).mean()\n",
    "GS_GRADBOOST_RMSE_reg = math.sqrt(GS_GRADBOOST_MSE_reg)\n",
    "\n",
    "print \"RMSE for GS Gradient Boosting is:\", round(GS_GRADBOOST_RMSE_reg,4)"
   ]
  },
  {
   "cell_type": "code",
   "execution_count": 98,
   "metadata": {
    "collapsed": false
   },
   "outputs": [
    {
     "name": "stdout",
     "output_type": "stream",
     "text": [
      "RMSE for GS Gradient Boosting USING LOG is: 25096.6796\n"
     ]
    }
   ],
   "source": [
    "# Make predictions on Grid search optimized Gradient Boosting model\n",
    "p_gb1_log = model_gb1_GS_log.predict(X_test)\n",
    "p_gb1_log = np.exp(p_gb1_log)+MiscVal_test\n",
    "\n",
    "# Calculate RMSE of the model\n",
    "GS_GRADBOOST_residuals_log = y_test-p_gb1_log\n",
    "GS_GRADBOOST_MSE_log = (GS_GRADBOOST_residuals_log**2).mean()\n",
    "GS_GRADBOOST_RMSE_log = math.sqrt(GS_GRADBOOST_MSE_log)\n",
    "\n",
    "print \"RMSE for GS Gradient Boosting USING LOG is:\", round(GS_GRADBOOST_RMSE_log,4)"
   ]
  },
  {
   "cell_type": "code",
   "execution_count": 99,
   "metadata": {
    "collapsed": false
   },
   "outputs": [
    {
     "name": "stdout",
     "output_type": "stream",
     "text": [
      "RMSE with scaling for GS Gradient Boosting is: 25183.3798\n"
     ]
    }
   ],
   "source": [
    "# Make predictions on Grid search optimized Gradient Boosting model\n",
    "p_gb1_scale = model_gb1_GS_scale.predict(X_test_scaled)\n",
    "p_gb1_scale = p_gb1_scale+MiscVal_test\n",
    "\n",
    "# Calculate RMSE of the model\n",
    "GS_GRADBOOST_residuals_scale = y_test - p_gb1_scale\n",
    "GS_GRADBOOST_MSE_scale = (GS_GRADBOOST_residuals_scale**2).mean()\n",
    "GS_GRADBOOST_RMSE_scale = math.sqrt(GS_GRADBOOST_MSE_scale)\n",
    "\n",
    "print \"RMSE with scaling for GS Gradient Boosting is:\", round(GS_GRADBOOST_RMSE_scale,4)"
   ]
  },
  {
   "cell_type": "code",
   "execution_count": 100,
   "metadata": {
    "collapsed": false
   },
   "outputs": [
    {
     "name": "stdout",
     "output_type": "stream",
     "text": [
      "RMSE with scaling for GS Gradient Boosting USING LOG is: 25349.1898\n"
     ]
    }
   ],
   "source": [
    "# Make predictions on Grid search optimized Gradient Boosting model\n",
    "p_gb1_scalelog = model_gb1_GS_scalelog.predict(X_test_scaled)\n",
    "p_gb1_scalelog = np.exp(p_gb1_scalelog)+MiscVal_test\n",
    "\n",
    "# Calculate RMSE of the model\n",
    "GS_GRADBOOST_residuals_scalelog = y_test - p_gb1_scalelog\n",
    "GS_GRADBOOST_MSE_scalelog = (GS_GRADBOOST_residuals_scalelog**2).mean()\n",
    "GS_GRADBOOST_RMSE_scalelog = math.sqrt(GS_GRADBOOST_MSE_scalelog)\n",
    "\n",
    "print \"RMSE with scaling for GS Gradient Boosting USING LOG is:\", round(GS_GRADBOOST_RMSE_scalelog,4)"
   ]
  },
  {
   "cell_type": "code",
   "execution_count": 101,
   "metadata": {
    "collapsed": false
   },
   "outputs": [
    {
     "name": "stdout",
     "output_type": "stream",
     "text": [
      "RMSE for GS Gradient Boosting is: 25259.7379\n",
      "RMSE for GS Gradient Boosting USING LOG is: 25096.6796\n",
      "RMSE with scaling for GS Gradient Boosting is: 25183.3798\n",
      "RMSE with scaling for GS Gradient Boosting USING LOG is: 25349.1898\n"
     ]
    }
   ],
   "source": [
    "# SUMMARY - GridsearchCV on Gradient Boosting\n",
    "print \"RMSE for GS Gradient Boosting is:\", round(GS_GRADBOOST_RMSE_reg,4)\n",
    "print \"RMSE for GS Gradient Boosting USING LOG is:\", round(GS_GRADBOOST_RMSE_log,4)\n",
    "print \"RMSE with scaling for GS Gradient Boosting is:\", round(GS_GRADBOOST_RMSE_scale,4)\n",
    "print \"RMSE with scaling for GS Gradient Boosting USING LOG is:\", round(GS_GRADBOOST_RMSE_scalelog,4)"
   ]
  },
  {
   "cell_type": "markdown",
   "metadata": {},
   "source": [
    "### AdaBoost"
   ]
  },
  {
   "cell_type": "code",
   "execution_count": 102,
   "metadata": {
    "collapsed": false
   },
   "outputs": [
    {
     "data": {
      "text/plain": [
       "GridSearchCV(cv=5, error_score='raise',\n",
       "       estimator=AdaBoostRegressor(base_estimator=None, learning_rate=1.0, loss='linear',\n",
       "         n_estimators=50, random_state=0),\n",
       "       fit_params={}, iid=True, n_jobs=1,\n",
       "       param_grid={'loss': ['linear', 'square'], 'learning_rate': [0.01, 0.001, 0.0001]},\n",
       "       pre_dispatch='2*n_jobs', refit=True,\n",
       "       scoring=make_scorer(mean_squared_error, greater_is_better=False),\n",
       "       verbose=0)"
      ]
     },
     "execution_count": 102,
     "metadata": {},
     "output_type": "execute_result"
    }
   ],
   "source": [
    "#predictions are on average 1.17 times as large as the actual value\n",
    "parameters={'learning_rate': [0.01, 0.001, 0.0001], 'loss': ['linear', 'square']}\n",
    "accuracy=make_scorer(mean_squared_error, greater_is_better=False)\n",
    "GS_ADABOOST = GridSearchCV(AdaBoostRegressor(random_state=0), parameters, cv=5,scoring=accuracy)\n",
    "GS_ADABOOST.fit(X_train, y_train_LessMiscVal)"
   ]
  },
  {
   "cell_type": "code",
   "execution_count": 103,
   "metadata": {
    "collapsed": false
   },
   "outputs": [
    {
     "data": {
      "text/plain": [
       "{'learning_rate': 0.01, 'loss': 'linear'}"
      ]
     },
     "execution_count": 103,
     "metadata": {},
     "output_type": "execute_result"
    }
   ],
   "source": [
    "GS_ADABOOST.best_params_"
   ]
  },
  {
   "cell_type": "code",
   "execution_count": 104,
   "metadata": {
    "collapsed": false
   },
   "outputs": [
    {
     "data": {
      "text/plain": [
       "40965.453593454782"
      ]
     },
     "execution_count": 104,
     "metadata": {},
     "output_type": "execute_result"
    }
   ],
   "source": [
    "GS_ADABOOST_reg=AdaBoostRegressor(random_state=1, loss='linear', learning_rate=0.01)\n",
    "GS_ADABOOST_reg.fit(X_train, y_train_LessMiscVal)\n",
    "GS_ADABOOST_predict_reg=GS_ADABOOST_reg.predict(X_test)\n",
    "GS_ADABOOST_predict_reg=GS_ADABOOST_predict_reg+MiscVal_test\n",
    "GS_ADABOOST_RMSE_reg=np.sqrt(np.mean((y_test-GS_ADABOOST_predict_reg)**2))\n",
    "GS_ADABOOST_RMSE_reg"
   ]
  },
  {
   "cell_type": "code",
   "execution_count": 105,
   "metadata": {
    "collapsed": false
   },
   "outputs": [
    {
     "data": {
      "text/plain": [
       "41587.503785603963"
      ]
     },
     "execution_count": 105,
     "metadata": {},
     "output_type": "execute_result"
    }
   ],
   "source": [
    "GS_ADABOOST_scale=AdaBoostRegressor(random_state=1, loss='linear', learning_rate=0.01)\n",
    "GS_ADABOOST_scale.fit(X_train_scaled, y_train_LessMiscVal)\n",
    "GS_ADABOOST_predict_scale = GS_ADABOOST_scale.predict(X_test_scaled)\n",
    "GS_ADABOOST_predict_scale=GS_ADABOOST_predict_scale+MiscVal_test\n",
    "GS_ADABOOST_RMSE_scale=np.sqrt(np.mean((y_test-GS_ADABOOST_predict_scale)**2))\n",
    "GS_ADABOOST_RMSE_scale"
   ]
  },
  {
   "cell_type": "code",
   "execution_count": 106,
   "metadata": {
    "collapsed": false
   },
   "outputs": [
    {
     "data": {
      "text/plain": [
       "44149.652508502186"
      ]
     },
     "execution_count": 106,
     "metadata": {},
     "output_type": "execute_result"
    }
   ],
   "source": [
    "GS_ADABOOST_log=AdaBoostRegressor(random_state=1, loss='linear', learning_rate=0.01)\n",
    "GS_ADABOOST_log.fit(X_train, log_y_train_LessMiscVal)\n",
    "GS_ADABOOST_predict_log = GS_ADABOOST_log.predict(X_test)\n",
    "GS_ADABOOST_predict_log=np.exp(GS_ADABOOST_predict_log)+MiscVal_test\n",
    "GS_ADABOOST_RMSE_log=np.sqrt(np.mean((y_test-GS_ADABOOST_predict_log)**2))\n",
    "GS_ADABOOST_RMSE_log"
   ]
  },
  {
   "cell_type": "code",
   "execution_count": 107,
   "metadata": {
    "collapsed": false
   },
   "outputs": [
    {
     "data": {
      "text/plain": [
       "44149.905981014206"
      ]
     },
     "execution_count": 107,
     "metadata": {},
     "output_type": "execute_result"
    }
   ],
   "source": [
    "GS_ADABOOST_scalelog=AdaBoostRegressor(random_state=1, loss='linear', learning_rate=0.01)\n",
    "GS_ADABOOST_scalelog.fit(X_train_scaled, log_y_train_LessMiscVal)\n",
    "GS_ADABOOST_predict_scalelog = GS_ADABOOST_scalelog.predict(X_test_scaled)\n",
    "GS_ADABOOST_predict_scalelog=np.exp(GS_ADABOOST_predict_scalelog)+MiscVal_test\n",
    "GS_ADABOOST_RMSE_scalelog=np.sqrt(np.mean((y_test-GS_ADABOOST_predict_scalelog)**2))\n",
    "GS_ADABOOST_RMSE_scalelog"
   ]
  },
  {
   "cell_type": "markdown",
   "metadata": {},
   "source": [
    "### MARS"
   ]
  },
  {
   "cell_type": "code",
   "execution_count": 108,
   "metadata": {
    "collapsed": true
   },
   "outputs": [],
   "source": [
    "# Best Model\n",
    "MARS_scalelog = Earth(max_degree= 3,penalty=2.0,feature_importance_type = \"rss\",\n",
    "                      smooth=True,enable_pruning=True)\n",
    "\n",
    "MARS_scalelog_fit = MARS_scalelog.fit(X_train_scaled,log_y_train_LessMiscVal)"
   ]
  },
  {
   "cell_type": "code",
   "execution_count": 109,
   "metadata": {
    "collapsed": false
   },
   "outputs": [
    {
     "name": "stdout",
     "output_type": "stream",
     "text": [
      "Earth Model\n",
      "----------------------------------------------------------------------------------------------------\n",
      "Basis Function                                                                 Pruned  Coefficient  \n",
      "----------------------------------------------------------------------------------------------------\n",
      "(Intercept)                                                                    No      12.6298      \n",
      "C(x8|s=+1,1.92073,2.06079,3.06549)                                             No      0.281409     \n",
      "C(x8|s=-1,1.92073,2.06079,3.06549)                                             No      -0.20635     \n",
      "x13                                                                            No      -0.145162    \n",
      "C(x103|s=+1,-1.36808,1.96777,3.18081)                                          No      0.102728     \n",
      "C(x103|s=-1,-1.36808,1.96777,3.18081)                                          No      -0.0870705   \n",
      "C(x7|s=+1,-0.827562,2.0682,3.27567)                                            No      -0.0627399   \n",
      "C(x7|s=-1,-0.827562,2.0682,3.27567)                                            No      -0.0489929   \n",
      "x1                                                                             No      0.043777     \n",
      "C(x101|s=+1,-0.440299,1.4622,1.7047)*x13                                       No      -0.290216    \n",
      "C(x101|s=-1,-0.440299,1.4622,1.7047)*x13                                       Yes     None         \n",
      "x88*C(x8|s=+1,1.92073,2.06079,3.06549)                                         No      -0.171443    \n",
      "x140*x13                                                                       No      0.0338542    \n",
      "x107                                                                           No      0.0226797    \n",
      "x129*C(x7|s=-1,-0.827562,2.0682,3.27567)                                       Yes     None         \n",
      "C(x104|s=+1,0.738746,2.58275,3.37516)                                          No      0.102375     \n",
      "C(x104|s=-1,0.738746,2.58275,3.37516)                                          Yes     None         \n",
      "x99*C(x104|s=-1,0.738746,2.58275,3.37516)                                      No      0.0123908    \n",
      "x97                                                                            No      -0.0254906   \n",
      "x142*x13                                                                       No      -0.0242788   \n",
      "x130*C(x7|s=-1,-0.827562,2.0682,3.27567)                                       No      -0.011477    \n",
      "x108                                                                           Yes     None         \n",
      "C(x8|s=+1,-1.28075,1.78068,1.92073)*C(x8|s=-1,1.92073,2.06079,3.06549)         Yes     None         \n",
      "C(x8|s=-1,-1.28075,1.78068,1.92073)*C(x8|s=-1,1.92073,2.06079,3.06549)         No      0.0176984    \n",
      "C(x1|s=+1,-1.76286,0.141709,3.05696)*x129*C(x7|s=-1,-0.827562,2.0682,3.27567)  No      -0.0186254   \n",
      "C(x1|s=-1,-1.76286,0.141709,3.05696)*x129*C(x7|s=-1,-0.827562,2.0682,3.27567)  No      -0.0050181   \n",
      "C(x1|s=+1,-1.53529,0.596847,3.28453)*x108                                      No      0.049595     \n",
      "C(x1|s=-1,-1.53529,0.596847,3.28453)*x108                                      No      0.00697416   \n",
      "x125*C(x103|s=-1,-1.36808,1.96777,3.18081)                                     No      -0.00873397  \n",
      "x111*C(x8|s=-1,-1.28075,1.78068,1.92073)*C(x8|s=-1,1.92073,2.06079,3.06549)    No      0.00270732   \n",
      "x10*x142*x13                                                                   No      0.0138823    \n",
      "x35*C(x104|s=+1,0.738746,2.58275,3.37516)                                      No      0.116088     \n",
      "x112*x125*C(x103|s=-1,-1.36808,1.96777,3.18081)                                No      -0.00898943  \n",
      "x137*C(x103|s=-1,-1.36808,1.96777,3.18081)                                     No      0.00699109   \n",
      "x122                                                                           No      -0.0145488   \n",
      "C(x7|s=+1,-0.827562,2.0682,3.27567)*x13                                        No      -0.255057    \n",
      "C(x7|s=-1,-0.827562,2.0682,3.27567)*x13                                        No      0.0121293    \n",
      "x107*C(x7|s=-1,-0.827562,2.0682,3.27567)*x13                                   No      0.00744375   \n",
      "x114*C(x104|s=-1,0.738746,2.58275,3.37516)                                     No      0.00624171   \n",
      "x83                                                                            No      0.0143821    \n",
      "----------------------------------------------------------------------------------------------------\n",
      "MSE: 0.0100, GCV: 0.0115, RSQ: 0.9318, GRSQ: 0.9212\n",
      "         rss\n",
      "x8       0.55   \n",
      "x13      0.20   \n",
      "x103     0.10   \n",
      "x1       0.04   \n",
      "x101     0.02   \n",
      "x7       0.02   \n",
      "x88      0.01   \n",
      "x104     0.01   \n",
      "x107     0.01   \n",
      "x140     0.01   \n",
      "x142     0.01   \n",
      "x129     0.00   \n",
      "x125     0.00   \n",
      "x99      0.00   \n",
      "x108     0.00   \n",
      "x111     0.00   \n",
      "x97      0.00   \n",
      "x130     0.00   \n",
      "x10      0.00   \n",
      "x35      0.00   \n",
      "x112     0.00   \n",
      "x114     0.00   \n",
      "x137     0.00   \n",
      "x122     0.00   \n",
      "x83      0.00   \n",
      "x52      0.00   \n",
      "x36      0.00   \n",
      "x37      0.00   \n",
      "x59      0.00   \n",
      "x58      0.00   \n",
      "x38      0.00   \n",
      "x57      0.00   \n",
      "x39      0.00   \n",
      "x40      0.00   \n",
      "x56      0.00   \n",
      "x41      0.00   \n",
      "x54      0.00   \n",
      "x55      0.00   \n",
      "x42      0.00   \n",
      "x43      0.00   \n",
      "x53      0.00   \n",
      "x44      0.00   \n",
      "x45      0.00   \n",
      "x46      0.00   \n",
      "x47      0.00   \n",
      "x34      0.00   \n",
      "x49      0.00   \n",
      "x50      0.00   \n",
      "x51      0.00   \n",
      "x48      0.00   \n",
      "x143     0.00   \n",
      "x33      0.00   \n",
      "x32      0.00   \n",
      "x2       0.00   \n",
      "x3       0.00   \n",
      "x4       0.00   \n",
      "x5       0.00   \n",
      "x6       0.00   \n",
      "x9       0.00   \n",
      "x11      0.00   \n",
      "x12      0.00   \n",
      "x14      0.00   \n",
      "x15      0.00   \n",
      "x16      0.00   \n",
      "x17      0.00   \n",
      "x18      0.00   \n",
      "x19      0.00   \n",
      "x20      0.00   \n",
      "x21      0.00   \n",
      "x22      0.00   \n",
      "x23      0.00   \n",
      "x24      0.00   \n",
      "x25      0.00   \n",
      "x26      0.00   \n",
      "x61      0.00   \n",
      "x27      0.00   \n",
      "x28      0.00   \n",
      "x29      0.00   \n",
      "x30      0.00   \n",
      "x31      0.00   \n",
      "x60      0.00   \n",
      "x71      0.00   \n",
      "x62      0.00   \n",
      "x121     0.00   \n",
      "x100     0.00   \n",
      "x102     0.00   \n",
      "x105     0.00   \n",
      "x106     0.00   \n",
      "x109     0.00   \n",
      "x110     0.00   \n",
      "x113     0.00   \n",
      "x115     0.00   \n",
      "x116     0.00   \n",
      "x117     0.00   \n",
      "x118     0.00   \n",
      "x119     0.00   \n",
      "x120     0.00   \n",
      "x123     0.00   \n",
      "x63      0.00   \n",
      "x124     0.00   \n",
      "x126     0.00   \n",
      "x127     0.00   \n",
      "x128     0.00   \n",
      "x131     0.00   \n",
      "x132     0.00   \n",
      "x133     0.00   \n",
      "x134     0.00   \n",
      "x135     0.00   \n",
      "x136     0.00   \n",
      "x138     0.00   \n",
      "x139     0.00   \n",
      "x141     0.00   \n",
      "x98      0.00   \n",
      "x96      0.00   \n",
      "x95      0.00   \n",
      "x94      0.00   \n",
      "x64      0.00   \n",
      "x65      0.00   \n",
      "x66      0.00   \n",
      "x67      0.00   \n",
      "x68      0.00   \n",
      "x69      0.00   \n",
      "x70      0.00   \n",
      "x72      0.00   \n",
      "x73      0.00   \n",
      "x74      0.00   \n",
      "x75      0.00   \n",
      "x76      0.00   \n",
      "x77      0.00   \n",
      "x78      0.00   \n",
      "x79      0.00   \n",
      "x80      0.00   \n",
      "x81      0.00   \n",
      "x82      0.00   \n",
      "x84      0.00   \n",
      "x85      0.00   \n",
      "x86      0.00   \n",
      "x87      0.00   \n",
      "x89      0.00   \n",
      "x90      0.00   \n",
      "x91      0.00   \n",
      "x92      0.00   \n",
      "x93      0.00   \n",
      "x0       0.00   \n",
      "\n"
     ]
    }
   ],
   "source": [
    "# Model Summary\n",
    "print MARS_scalelog_fit.summary()\n",
    "print MARS_scalelog_fit.summary_feature_importances(sort_by = 'rss')"
   ]
  },
  {
   "cell_type": "code",
   "execution_count": 110,
   "metadata": {
    "collapsed": false
   },
   "outputs": [
    {
     "name": "stdout",
     "output_type": "stream",
     "text": [
      "The rmse for MARS is 23064.1786493\n"
     ]
    }
   ],
   "source": [
    "MARS_predict_scalelog = MARS_scalelog_fit.predict(X_test_scaled)\n",
    "MARS_predict_scalelog = np.exp(MARS_predict_scalelog)+MiscVal_test\n",
    "MARS_RMSE_scalelog = np.sqrt(mean_squared_error(y_test,MARS_predict_scalelog))\n",
    "print \"The rmse for MARS is\", MARS_RMSE_scalelog"
   ]
  },
  {
   "cell_type": "markdown",
   "metadata": {},
   "source": [
    "## MODEL COMPARISONS"
   ]
  },
  {
   "cell_type": "code",
   "execution_count": 111,
   "metadata": {
    "collapsed": false
   },
   "outputs": [
    {
     "data": {
      "text/html": [
       "<div>\n",
       "<table border=\"1\" class=\"dataframe\">\n",
       "  <thead>\n",
       "    <tr style=\"text-align: right;\">\n",
       "      <th></th>\n",
       "      <th>All Predictors</th>\n",
       "      <th>Log Price</th>\n",
       "      <th>Scaled Predictors</th>\n",
       "      <th>Scaled Predictors+LogPrice</th>\n",
       "    </tr>\n",
       "  </thead>\n",
       "  <tbody>\n",
       "    <tr>\n",
       "      <th>MLR</th>\n",
       "      <td>33506.3</td>\n",
       "      <td>26792</td>\n",
       "      <td>182699</td>\n",
       "      <td>--</td>\n",
       "    </tr>\n",
       "    <tr>\n",
       "      <th>Lasso</th>\n",
       "      <td>34027.6</td>\n",
       "      <td>31207.4</td>\n",
       "      <td>32096.5</td>\n",
       "      <td>26190.5</td>\n",
       "    </tr>\n",
       "    <tr>\n",
       "      <th>Ridge</th>\n",
       "      <td>31454.2</td>\n",
       "      <td>26646.6</td>\n",
       "      <td>33489.5</td>\n",
       "      <td>26934.3</td>\n",
       "    </tr>\n",
       "    <tr>\n",
       "      <th>MLP</th>\n",
       "      <td>--</td>\n",
       "      <td>--</td>\n",
       "      <td>36972.9</td>\n",
       "      <td>--</td>\n",
       "    </tr>\n",
       "    <tr>\n",
       "      <th>SVR</th>\n",
       "      <td>55794</td>\n",
       "      <td>--</td>\n",
       "      <td>52782.7</td>\n",
       "      <td>24662.2</td>\n",
       "    </tr>\n",
       "    <tr>\n",
       "      <th>SGD Regression</th>\n",
       "      <td>190218</td>\n",
       "      <td>--</td>\n",
       "      <td>199211</td>\n",
       "      <td>--</td>\n",
       "    </tr>\n",
       "    <tr>\n",
       "      <th>MARS</th>\n",
       "      <td>--</td>\n",
       "      <td>--</td>\n",
       "      <td>--</td>\n",
       "      <td>23064.2</td>\n",
       "    </tr>\n",
       "    <tr>\n",
       "      <th>Regression Tree</th>\n",
       "      <td>48559.4</td>\n",
       "      <td>42189.4</td>\n",
       "      <td>48542.7</td>\n",
       "      <td>42191.1</td>\n",
       "    </tr>\n",
       "    <tr>\n",
       "      <th>Ada Boosting</th>\n",
       "      <td>40965.5</td>\n",
       "      <td>44149.7</td>\n",
       "      <td>41587.5</td>\n",
       "      <td>44149.9</td>\n",
       "    </tr>\n",
       "    <tr>\n",
       "      <th>Gradient Boost</th>\n",
       "      <td>25259.7</td>\n",
       "      <td>25096.7</td>\n",
       "      <td>25183.4</td>\n",
       "      <td>25349.2</td>\n",
       "    </tr>\n",
       "    <tr>\n",
       "      <th>Random Forest</th>\n",
       "      <td>28024.4</td>\n",
       "      <td>28633.6</td>\n",
       "      <td>28181.8</td>\n",
       "      <td>29042.8</td>\n",
       "    </tr>\n",
       "  </tbody>\n",
       "</table>\n",
       "</div>"
      ],
      "text/plain": [
       "                All Predictors Log Price Scaled Predictors  \\\n",
       "MLR                    33506.3     26792            182699   \n",
       "Lasso                  34027.6   31207.4           32096.5   \n",
       "Ridge                  31454.2   26646.6           33489.5   \n",
       "MLP                         --        --           36972.9   \n",
       "SVR                      55794        --           52782.7   \n",
       "SGD Regression          190218        --            199211   \n",
       "MARS                        --        --                --   \n",
       "Regression Tree        48559.4   42189.4           48542.7   \n",
       "Ada Boosting           40965.5   44149.7           41587.5   \n",
       "Gradient Boost         25259.7   25096.7           25183.4   \n",
       "Random Forest          28024.4   28633.6           28181.8   \n",
       "\n",
       "                Scaled Predictors+LogPrice  \n",
       "MLR                                     --  \n",
       "Lasso                              26190.5  \n",
       "Ridge                              26934.3  \n",
       "MLP                                     --  \n",
       "SVR                                24662.2  \n",
       "SGD Regression                          --  \n",
       "MARS                               23064.2  \n",
       "Regression Tree                    42191.1  \n",
       "Ada Boosting                       44149.9  \n",
       "Gradient Boost                     25349.2  \n",
       "Random Forest                      29042.8  "
      ]
     },
     "execution_count": 111,
     "metadata": {},
     "output_type": "execute_result"
    }
   ],
   "source": [
    "models=['MLR','lasso','ridge','MLP','SVR','GSCV_SGDclf','MARS','REGTREE',\n",
    "        'GS_ADABOOST','GS_GRADBOOST','GS_RANDFOR']\n",
    "modelnames=['MLR','Lasso','Ridge','MLP','SVR','SGD Regression','MARS','Regression Tree',\n",
    "            'Ada Boosting','Gradient Boost','Random Forest']\n",
    "versions=['reg','log','scale','scalelog']\n",
    "versionnames=['All Predictors','Log Price','Scaled Predictors','Scaled Predictors+LogPrice']\n",
    "RMSEsummary_dict={}\n",
    "\n",
    "for model in models:\n",
    "    for version in versions:\n",
    "        try:\n",
    "            RMSE=eval(model+'_RMSE_'+version)\n",
    "        except:\n",
    "            RMSE='--'\n",
    "        if version in RMSEsummary_dict.keys():\n",
    "            RMSEsummary_dict[version].append(RMSE)\n",
    "        else:\n",
    "            RMSEsummary_dict[version]=[RMSE]\n",
    "\n",
    "\n",
    "RMSEsummary=pd.DataFrame(RMSEsummary_dict,index=modelnames)\n",
    "RMSEsummary=RMSEsummary.rename(columns=dict(zip(versions,versionnames)))\n",
    "RMSEsummary=RMSEsummary[versionnames]\n",
    "RMSEsummary"
   ]
  },
  {
   "cell_type": "code",
   "execution_count": 112,
   "metadata": {
    "collapsed": true
   },
   "outputs": [],
   "source": [
    "# Best Residuals\n",
    "BMresiduals_GRADBOOST_scale=GS_GRADBOOST_residuals_scale\n",
    "BMresiduals_MARS_scalelog=y_test-MARS_predict_scalelog\n",
    "BMresiduals_LASSO_scalelog=lassoResiduals_scalelog\n",
    "\n",
    "# Worst Residuals\n",
    "WMresiduals_SVR_scale=y_test-SVR_predict_scale\n",
    "WMresiduals_ADABOOST_log=y_test-GS_ADABOOST_predict_log\n",
    "WMresiduals_SGD_reg=y_test-GSCV_SGDclf_predict_reg"
   ]
  },
  {
   "cell_type": "code",
   "execution_count": 113,
   "metadata": {
    "collapsed": false
   },
   "outputs": [
    {
     "data": {
      "text/plain": [
       "<matplotlib.text.Text at 0xf88b860>"
      ]
     },
     "execution_count": 113,
     "metadata": {},
     "output_type": "execute_result"
    },
    {
     "data": {
      "image/png": "[encoded data removed]",
      "text/plain": [
       "<matplotlib.figure.Figure at 0xcdace48>"
      ]
     },
     "metadata": {},
     "output_type": "display_data"
    }
   ],
   "source": [
    "# Plot Residuals - Best Models\n",
    "fig = plt.figure(figsize=(15, 7))\n",
    "ax1 = fig.add_subplot(121)\n",
    "ax1.plot(y_test,BMresiduals_LASSO_scalelog,\"o\",label='Lasso',color='palegreen')\n",
    "ax1.plot(y_test,BMresiduals_MARS_scalelog,\"o\",label='MARS',color='mediumspringgreen')\n",
    "ax1.plot(y_test,BMresiduals_GRADBOOST_scale,\"o\",label='GradientBoost', color='darkgreen')\n",
    "ax1.legend(numpoints=1,loc='upper right')\n",
    "ax1.set_ylabel('Residuals ($)')\n",
    "ax1.yaxis.set_major_formatter(mtick.FuncFormatter('{:,.0f}'.format))\n",
    "ax1.set_ylim([-200000,500000])\n",
    "ax1.set_xlabel('Actual Price ($)')\n",
    "ax1.xaxis.set_major_formatter(mtick.FuncFormatter('{:,.0f}'.format))\n",
    "ax1.set_title('Residuals', fontsize=12, fontweight='bold')"
   ]
  },
  {
   "cell_type": "code",
   "execution_count": 114,
   "metadata": {
    "collapsed": false
   },
   "outputs": [
    {
     "data": {
      "text/plain": [
       "<matplotlib.text.Text at 0xf245470>"
      ]
     },
     "execution_count": 114,
     "metadata": {},
     "output_type": "execute_result"
    },
    {
     "data": {
      "image/png": "[encoded data removed]",
      "text/plain": [
       "<matplotlib.figure.Figure at 0xf834470>"
      ]
     },
     "metadata": {},
     "output_type": "display_data"
    }
   ],
   "source": [
    "# Plot Residuals - Worst Models\n",
    "fig = plt.figure(figsize=(15, 7))\n",
    "ax2 = fig.add_subplot(121)\n",
    "ax2.plot(y_test,WMresiduals_SVR_scale,\"o\",label='SVR',color='palevioletred')\n",
    "ax2.plot(y_test,WMresiduals_SGD_reg,\"o\",label='SGD Regression',color='red')\n",
    "ax2.plot(y_test,WMresiduals_ADABOOST_log,\"o\",label='AdaBoost', color='darkred')\n",
    "ax2.legend(numpoints=1,loc='upper left')\n",
    "ax2.set_ylabel('Residuals ($)')\n",
    "ax2.yaxis.set_major_formatter(mtick.FuncFormatter('{:,.0f}'.format))\n",
    "ax2.set_xlabel('Actual Price ($)')\n",
    "ax2.xaxis.set_major_formatter(mtick.FuncFormatter('{:,.0f}'.format))\n",
    "ax2.set_title('Residuals', fontsize=12, fontweight='bold')"
   ]
  },
  {
   "cell_type": "markdown",
   "metadata": {},
   "source": [
    "# Cross-validating Best Models and Creating Kaggle Submissions"
   ]
  },
  {
   "cell_type": "code",
   "execution_count": 126,
   "metadata": {
    "collapsed": true
   },
   "outputs": [],
   "source": [
    "X_comp['BsmtBath'] = X_comp['BsmtBath'].fillna(0.0)\n",
    "X_comp['TotBath'] = X_comp['TotBath'].fillna(0.0)"
   ]
  },
  {
   "cell_type": "code",
   "execution_count": 124,
   "metadata": {
    "collapsed": true
   },
   "outputs": [],
   "source": [
    "# Pull out MiscVal\n",
    "MiscVal_train = X['MiscVal']\n",
    "X = X.drop('MiscVal',1)\n",
    "y_LessMiscVal = y - MiscVal_train\n",
    "\n",
    "\n",
    "MiscVal_comp = X_comp['MiscVal']\n",
    "X_comp = X_comp.drop('MiscVal',1)"
   ]
  },
  {
   "cell_type": "code",
   "execution_count": 127,
   "metadata": {
    "collapsed": false
   },
   "outputs": [],
   "source": [
    "# Transforming entire train set\n",
    "log_y = y_LessMiscVal.map(float).map(log)\n",
    "\n",
    "scaler = StandardScaler()\n",
    "X_scaled = scaler.fit_transform(X)\n",
    "X_comp_scaled = scaler.transform(X_comp)"
   ]
  },
  {
   "cell_type": "code",
   "execution_count": 128,
   "metadata": {
    "collapsed": true
   },
   "outputs": [],
   "source": [
    "# Create parameter dictionary for GridSearchCV\n",
    "params = {'kernel':('linear', 'poly', 'rbf', 'sigmoid'),'C':(.01,.1,1,10)}\n",
    "SVR_scalelog = GridSearchCV(SVR(), params).fit(X_scaled,ravel(log_y))\n",
    "SVRmodel = SVR_scalelog.best_estimator_"
   ]
  },
  {
   "cell_type": "code",
   "execution_count": 129,
   "metadata": {
    "collapsed": false
   },
   "outputs": [
    {
     "name": "stdout",
     "output_type": "stream",
     "text": [
      "[22228.604404827871, 36041.214808565353, 31360.446567994237, 22345.60804562092, 47525.448077130357]\n",
      "31900.2643808\n"
     ]
    }
   ],
   "source": [
    "#K-Fold validation for SVR (scale_log)\n",
    "\n",
    "kf = KFold(n_splits=5)\n",
    "\n",
    "scores=[]\n",
    "for train_index, test_index in kf.split(X_scaled):\n",
    "    X_tr, X_ts = X_scaled[train_index], X_scaled[test_index]\n",
    "    misc_tr, misc_ts = MiscVal_train[train_index], MiscVal_train[test_index]\n",
    "    y_tr, y_ts = log_y[train_index], log_y[test_index]\n",
    "    model=SVRmodel.fit(X_tr,ravel(y_tr))\n",
    "    predict=model.predict(X_ts)\n",
    "    rmse = sqrt(mean_squared_error((np.exp(y_ts)+misc_ts), (np.exp(predict)+misc_ts)))\n",
    "    scores.append(rmse)\n",
    "    \n",
    "print scores\n",
    "print mean(scores)"
   ]
  },
  {
   "cell_type": "code",
   "execution_count": 130,
   "metadata": {
    "collapsed": true
   },
   "outputs": [],
   "source": [
    "# Best Model\n",
    "MARS_scalelog = Earth(max_degree= 3,penalty=2.0,feature_importance_type = \"rss\",\n",
    "                      smooth=True,enable_pruning=True)\n",
    "\n",
    "MARS_scalelog_fit = MARS_scalelog.fit(X_scaled,log_y)"
   ]
  },
  {
   "cell_type": "code",
   "execution_count": 131,
   "metadata": {
    "collapsed": false
   },
   "outputs": [
    {
     "name": "stdout",
     "output_type": "stream",
     "text": [
      "[23124.209142613407, 45020.215359469468, 28499.938270508355, 19979.763850052208, 28167.370491128833]\n",
      "28958.2994228\n"
     ]
    }
   ],
   "source": [
    "#K-Fold validation for MARS (scale_log)\n",
    "\n",
    "kf = KFold(n_splits=5)\n",
    "\n",
    "scores=[]\n",
    "for train_index, test_index in kf.split(X_scaled):\n",
    "    X_tr, X_ts = X_scaled[train_index], X_scaled[test_index]\n",
    "    misc_tr, misc_ts = MiscVal_train[train_index], MiscVal_train[test_index]\n",
    "    y_tr, y_ts = log_y[train_index], log_y[test_index]\n",
    "    model=MARS_scalelog.fit(X_tr,ravel(y_tr))\n",
    "    predict=model.predict(X_ts)\n",
    "    rmse = sqrt(mean_squared_error((np.exp(y_ts)+misc_ts), (np.exp(predict)+misc_ts)))\n",
    "    scores.append(rmse)\n",
    "    \n",
    "print scores\n",
    "print mean(scores)"
   ]
  },
  {
   "cell_type": "code",
   "execution_count": 134,
   "metadata": {
    "collapsed": true
   },
   "outputs": [],
   "source": [
    "MARS_scalelog_fit = MARS_scalelog.fit(X_scaled,log_y)\n",
    "MARS_scalelog_pred = list(np.exp(MARS_scalelog_fit.predict(X_comp_scaled))+MiscVal_comp)\n",
    "\n",
    "# Save predictions to file\n",
    "outfile = open('MARS_scalelog_pred.csv', 'w')\n",
    "for item in MARS_scalelog_pred:\n",
    "    outfile.write(\"%s\\n\" % item)\n",
    "outfile.close()"
   ]
  },
  {
   "cell_type": "code",
   "execution_count": 132,
   "metadata": {
    "collapsed": true
   },
   "outputs": [],
   "source": [
    "# Create parameter dictionary for GridSearchCV\n",
    "params = {'n_estimators':(5,10,50,100,500,1000),'learning_rate':(0.01, 0.05, 0.1, 0.2),'min_samples_leaf':(1,5,10,20)}\n",
    "gradientBoost_scalelog = GridSearchCV(GradientBoostingRegressor(), params).fit(X_scaled,ravel(y))\n",
    "GBmodel2 = gradientBoost_scalelog.best_estimator_"
   ]
  },
  {
   "cell_type": "code",
   "execution_count": 133,
   "metadata": {
    "collapsed": false
   },
   "outputs": [
    {
     "name": "stdout",
     "output_type": "stream",
     "text": [
      "[23106.811257402438, 37138.153309115281, 31159.147467337621, 20742.870071811176, 27388.154778691955]\n",
      "27907.0273769\n"
     ]
    }
   ],
   "source": [
    "#K-Fold validation for Gradient Boosting (scale)\n",
    "\n",
    "kf = KFold(n_splits=5)\n",
    "\n",
    "scores=[]\n",
    "for train_index, test_index in kf.split(X_scaled):\n",
    "    X_tr, X_ts = X_scaled[train_index], X_scaled[test_index]\n",
    "    misc_tr, misc_ts = MiscVal_train[train_index], MiscVal_train[test_index]\n",
    "    y_tr, y_ts = y[train_index], y[test_index]\n",
    "    model=GBmodel2.fit(X_tr,ravel(y_tr))\n",
    "    predict=model.predict(X_ts)\n",
    "    rmse = sqrt(mean_squared_error(y_ts, predict+misc_ts))\n",
    "    scores.append(rmse)\n",
    "    \n",
    "print scores\n",
    "print mean(scores)"
   ]
  },
  {
   "cell_type": "code",
   "execution_count": 137,
   "metadata": {
    "collapsed": false
   },
   "outputs": [
    {
     "data": {
      "text/plain": [
       "0.0041351065015407104"
      ]
     },
     "execution_count": 137,
     "metadata": {},
     "output_type": "execute_result"
    }
   ],
   "source": [
    "lasso_cv_scalelog = LassoCV(alphas=None, cv=15, max_iter=10000).fit(X_scaled,ravel(log_y))\n",
    "lasso_cv_scalelog.alpha_"
   ]
  },
  {
   "cell_type": "code",
   "execution_count": 136,
   "metadata": {
    "collapsed": false
   },
   "outputs": [
    {
     "name": "stdout",
     "output_type": "stream",
     "text": [
      "[22602.246296805093, 35283.004740546443, 31630.880920026408, 23636.148686545639, 41147.530296344587]\n",
      "30859.9621881\n"
     ]
    }
   ],
   "source": [
    "#K-Fold validation for Lasso (scale_log)\n",
    "\n",
    "kf = KFold(n_splits=5)\n",
    "\n",
    "scores=[]\n",
    "for train_index, test_index in kf.split(X_scaled):\n",
    "    X_tr, X_ts = X_scaled[train_index], X_scaled[test_index]\n",
    "    misc_tr, misc_ts = MiscVal_train[train_index], MiscVal_train[test_index]\n",
    "    y_tr, y_ts = log_y[train_index], log_y[test_index]\n",
    "    lasso = Lasso(alpha=lasso_cv_scalelog.alpha_)\n",
    "    model=lasso.fit(X_tr,ravel(y_tr))\n",
    "    predict=model.predict(X_ts)\n",
    "    rmse = sqrt(mean_squared_error((np.exp(y_ts)+misc_ts), (np.exp(predict)+misc_ts)))\n",
    "    scores.append(rmse)\n",
    "    \n",
    "print scores\n",
    "print mean(scores)"
   ]
  },
  {
   "cell_type": "code",
   "execution_count": 138,
   "metadata": {
    "collapsed": true
   },
   "outputs": [],
   "source": [
    "lassoPred4 = list(np.exp(lasso_cv_scalelog.predict(X_comp_scaled))+MiscVal_comp)\n",
    "\n",
    "# Save predictions to file\n",
    "outfile = open('lassoPred4.csv', 'w')\n",
    "for item in lassoPred4:\n",
    "    outfile.write(\"%s\\n\" % item)\n",
    "outfile.close()"
   ]
  },
  {
   "cell_type": "code",
   "execution_count": 144,
   "metadata": {
    "collapsed": false
   },
   "outputs": [
    {
     "data": {
      "image/png": "[encoded data removed]",
      "text/plain": [
       "<matplotlib.figure.Figure at 0xf6281d0>"
      ]
     },
     "metadata": {},
     "output_type": "display_data"
    }
   ],
   "source": [
    "feature_importance = GBmodel2.feature_importances_\n",
    "# make importances relative to max importance\n",
    "feature_importance = 100.0 * (feature_importance / feature_importance.max())\n",
    "feature_importance = feature_importance[:20]\n",
    "#print feature_importance\n",
    "sorted_idx = np.argsort(feature_importance)\n",
    "#sorted_idx = sorted_idx\n",
    "#print sorted_idx\n",
    "list_columns=list(X.columns.values)\n",
    "\n",
    "pos = np.arange(sorted_idx.shape[0]) + .5\n",
    "\n",
    "feature_names=[]\n",
    "for i in range(len(sorted_idx)):\n",
    "    feature_names.append(list_columns[sorted_idx[i]])\n",
    "#print feature_names\n",
    "#print feature_importance[sorted_idx]\n",
    "#plt.subplot(1, 2, 2)\n",
    "plt.figure(figsize=(12, 6))\n",
    "plt.barh(pos, feature_importance[sorted_idx], align='center')\n",
    "plt.yticks(pos, feature_names)\n",
    "\n",
    "plt.xlabel('Relative Importance')\n",
    "plt.title('Gradient Boosting Variable Importance- Data w/Feature Engineering & Outside Data')\n",
    "plt.show()"
   ]
  },
  {
   "cell_type": "code",
   "execution_count": 145,
   "metadata": {
    "collapsed": false
   },
   "outputs": [
    {
     "data": {
      "text/plain": [
       "<matplotlib.text.Text at 0xe690518>"
      ]
     },
     "execution_count": 145,
     "metadata": {},
     "output_type": "execute_result"
    },
    {
     "data": {
      "image/png": "[encoded data removed]",
      "text/plain": [
       "<matplotlib.figure.Figure at 0xf5e4048>"
      ]
     },
     "metadata": {},
     "output_type": "display_data"
    },
    {
     "data": {
      "image/png": "[encoded data removed]",
      "text/plain": [
       "<matplotlib.figure.Figure at 0xdd853c8>"
      ]
     },
     "metadata": {},
     "output_type": "display_data"
    }
   ],
   "source": [
    "## Best\n",
    "BMresiduals_MARS_scalelog=y_test-MARS_predict_scalelog\n",
    "BMresiduals_GRADBOOST_log=y_test-p_gb1_log\n",
    "BMresiduals_SVR_scalelog=y_test-SVR_predict_scalelog\n",
    "\n",
    "# Plot Residuals - Best Models\n",
    "fig = plt.figure(figsize=(15, 7))\n",
    "ax1 = fig.add_subplot(121)\n",
    "ax1.plot(y_test,BMresiduals_GRADBOOST_log,\"o\",label='Gradient Boost',color='palegreen')\n",
    "ax1.plot(y_test,BMresiduals_SVR_scalelog,\"o\",label='SVR',color='mediumspringgreen')\n",
    "ax1.plot(y_test,BMresiduals_MARS_scalelog,\"o\",label='MARS', color='darkgreen')\n",
    "ax1.legend(numpoints=1,loc='upper right')\n",
    "ax1.set_ylabel('Residuals ($)')\n",
    "ax1.yaxis.set_major_formatter(mtick.FuncFormatter('{:,.0f}'.format))\n",
    "ax1.set_xlabel('Actual Price ($)')\n",
    "ax1.xaxis.set_major_formatter(mtick.FuncFormatter('{:,.0f}'.format))\n",
    "ax1.set_title('Residuals', fontsize=12, fontweight='bold')\n",
    "\n",
    "## Worst\n",
    "WMresiduals_SVR_reg=y_test-SVR_RMSE_reg\n",
    "WMresiduals_REGTREE_reg=y_test-p_tree2_reg\n",
    "WMresiduals_ADABOOST_scalelog=y_test-GS_ADABOOST_predict_scalelog\n",
    "\n",
    "# Plot Residuals - Worst Models\n",
    "fig = plt.figure(figsize=(15, 7))\n",
    "ax2 = fig.add_subplot(121)\n",
    "ax2.plot(y_test,WMresiduals_ADABOOST_scalelog,\"o\",label='Ada Boosting',color='palevioletred')\n",
    "ax2.plot(y_test,WMresiduals_REGTREE_reg,\"o\",label='Regression Tree',color='red')\n",
    "ax2.plot(y_test,WMresiduals_SVR_reg,\"o\",label='SVR', color='darkred')\n",
    "ax2.legend(numpoints=1,loc='upper left')\n",
    "ax2.set_ylabel('Residuals ($)')\n",
    "ax2.yaxis.set_major_formatter(mtick.FuncFormatter('{:,.0f}'.format))\n",
    "ax2.set_xlabel('Actual Price ($)')\n",
    "ax2.xaxis.set_major_formatter(mtick.FuncFormatter('{:,.0f}'.format))\n",
    "ax2.set_title('Residuals', fontsize=12, fontweight='bold')"
   ]
  },
  {
   "cell_type": "code",
   "execution_count": null,
   "metadata": {
    "collapsed": true
   },
   "outputs": [],
   "source": []
  }
 ],
 "metadata": {
  "anaconda-cloud": {},
  "kernelspec": {
   "display_name": "Python [Root]",
   "language": "python",
   "name": "Python [Root]"
  }
 },
 "nbformat": 4,
 "nbformat_minor": 0
}
