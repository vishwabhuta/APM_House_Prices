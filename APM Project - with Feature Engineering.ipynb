{
 "cells": [
  {
   "cell_type": "markdown",
   "metadata": {},
   "source": [
    "# APM Project"
   ]
  },
  {
   "cell_type": "code",
   "execution_count": 61,
   "metadata": {
    "collapsed": false
   },
   "outputs": [
    {
     "name": "stdout",
     "output_type": "stream",
     "text": [
      "Populating the interactive namespace from numpy and matplotlib\n"
     ]
    },
    {
     "name": "stderr",
     "output_type": "stream",
     "text": [
      "WARNING: pylab import has clobbered these variables: ['log', 'exp']\n",
      "`%matplotlib` prevents importing * from pylab and numpy\n"
     ]
    }
   ],
   "source": [
    "#Import Statements\n",
    "\n",
    "#basic\n",
    "import pandas as pd\n",
    "import numpy as np\n",
    "from math import log,exp\n",
    "import math\n",
    "\n",
    "#visualization\n",
    "import matplotlib.pyplot as plt\n",
    "import matplotlib.ticker as mtick\n",
    "import seaborn\n",
    "\n",
    "% pylab inline\n",
    "\n",
    "#sklearn\n",
    "from sklearn import model_selection\n",
    "from sklearn.cluster import KMeans\n",
    "from sklearn.ensemble import (RandomForestRegressor, GradientBoostingRegressor, AdaBoostRegressor)\n",
    "from sklearn.grid_search import GridSearchCV\n",
    "from sklearn.linear_model import LinearRegression\n",
    "from sklearn.linear_model import LogisticRegression\n",
    "from sklearn.linear_model import Lasso\n",
    "from sklearn.linear_model import LassoCV\n",
    "from sklearn.linear_model import Ridge\n",
    "from sklearn.linear_model import RidgeCV\n",
    "from sklearn.linear_model import SGDRegressor\n",
    "from sklearn.metrics import (mean_squared_error, confusion_matrix,accuracy_score, make_scorer)\n",
    "from sklearn.model_selection import train_test_split\n",
    "from sklearn.neural_network import MLPRegressor\n",
    "from sklearn.preprocessing import StandardScaler\n",
    "from sklearn.svm import SVR\n",
    "from sklearn.tree import DecisionTreeClassifier, DecisionTreeRegressor\n",
    "from sklearn.model_selection import KFold\n",
    "\n",
    "#MARS\n",
    "import pyearth\n",
    "from pyearth import Earth\n",
    "\n",
    "#other stats & clustering\n",
    "from scipy import stats\n",
    "from patsy import dmatrices\n",
    "from collections import Counter\n",
    "from scipy.spatial.distance import cdist,pdist\n"
   ]
  },
  {
   "cell_type": "markdown",
   "metadata": {},
   "source": [
    "## DATA PRE-PROCESSING"
   ]
  },
  {
   "cell_type": "code",
   "execution_count": 62,
   "metadata": {
    "collapsed": true
   },
   "outputs": [],
   "source": [
    "def preprocess(df):\n",
    "    \n",
    "    # Feature engineering for categorical variables captured as numbers\n",
    "    # Turn MSSubClass into factors\n",
    "    code = ['20', '30', '40', '45', '50', '60', '70', '75', '80', '85', '90', '120', '150', '160', '180', '190']\n",
    "    strings = ['1-STORY 1946 & NEWER ALL STYLES', '1-STORY 1945 & OLDER', '1-STORY W/FINISHED ATTIC ALL AGES', '1-1/2 STORY - UNFINISHED ALL AGES',\\\n",
    "     '1-1/2 STORY FINISHED ALL AGES', '2-STORY 1946 & NEWER', '2-STORY 1945 & OLDER', '2-1/2 STORY ALL AGES', \\\n",
    "     'SPLIT OR MULTI-LEVEL', 'SPLIT FOYER', 'DUPLEX - ALL STYLES AND AGES', '1-STORY PUD (Planned Unit Development) - 1946 & NEWER',\\\n",
    "     '1-1/2 STORY PUD - ALL AGES', '2-STORY PUD - 1946 & NEWER', 'PUD - MULTILEVEL - INCL SPLIT LEV/FOYER', \\\n",
    "     '2 FAMILY CONVERSION - ALL STYLES AND AGES']\n",
    "\n",
    "    MSSubClass=dict(zip(code,strings))\n",
    "    df['MSSubClass']=[MSSubClass[str(val)] for val in df['MSSubClass']]\n",
    "\n",
    "    # Turn month sold into factors\n",
    "    months = ['Jan','Feb','Mar','Apr','May','Jun','Jul','Aug','Sept','Oct','Nov','Dec']\n",
    "    df['MoSold'] = df['MoSold'].replace(to_replace = df['MoSold'].value_counts().index.sort_values(),value=months)\n",
    "    \n",
    "    # Feature engineering for age-related variables\n",
    "    # Convert yearsold vs yearbuilt into age of house\n",
    "    df['Age'] =  df['YrSold'] - df['YearBuilt']\n",
    "    df = df.drop('YearBuilt', 1)\n",
    "    # Convert yearsold vs. yearreomdadd into age of remodel. Adding 2 to eliminate any negative or 0 values\n",
    "    df['AgeRem'] = (df['YrSold'] - df['YearRemodAdd'])+2\n",
    "    df = df.drop('YearRemodAdd', 1)\n",
    "    # Remove age of garage - many missing values (if no garage)\n",
    "    #  no additional valuable information (garage captured in other variables); age of house more important for age\n",
    "    df = df.drop('GarageYrBlt', 1)\n",
    "    df = df.drop('Id',1)\n",
    "    \n",
    "    # Fill select variables with most common / mode where logical\n",
    "    # Most masonry veneer type is None and area is 0\n",
    "    df['MasVnrType'] = df['MasVnrType'].fillna('None')\n",
    "    df['MasVnrArea'] = df['MasVnrArea'].fillna(0.0)\n",
    "    # Most electrical is 'SBrkr'\n",
    "    df['Electrical'] = df['Electrical'].fillna('SBrkr')\n",
    "    df['LotFrontage'] = df['LotFrontage'].fillna(mean(df['LotFrontage']))\n",
    "    \n",
    "    return df"
   ]
  },
  {
   "cell_type": "code",
   "execution_count": 63,
   "metadata": {
    "collapsed": true
   },
   "outputs": [],
   "source": [
    "# Get resiliency of neighborhood during recession\n",
    "def neighb_resiliency(df): \n",
    "    Neighb_pivot = pd.pivot_table(df,index='Neighborhood',values='SalePrice',columns='YrSold',aggfunc='mean',fill_value=0)\n",
    "    Neighb_pivot=Neighb_pivot.reset_index()\n",
    "    Neighb_pivot['AvgDiff']=Neighb_pivot[2008]-Neighb_pivot[2007]\n",
    "    NeighbAvgDiff_dict=dict(zip(list(Neighb_pivot['Neighborhood']),\n",
    "                                list(np.digitize(Neighb_pivot['AvgDiff'],np.histogram(Neighb_pivot['AvgDiff'])[1]))))\n",
    "    return NeighbAvgDiff_dict"
   ]
  },
  {
   "cell_type": "code",
   "execution_count": 64,
   "metadata": {
    "collapsed": true
   },
   "outputs": [],
   "source": [
    "def feature_engineering(df):\n",
    "    ## Feature engineering for age-related variables\n",
    "    # Convert yearsold vs yearbuilt into age of house\n",
    "    df['Age'] =  df['YrSold'] - df['YearBuilt']\n",
    "    df = df.drop('YearBuilt', 1)\n",
    "    # Convert yearsold vs. yearreomdadd into age of remodel. Adding 2 to eliminate any negative or 0 values\n",
    "    df['AgeRem'] = (df['YrSold'] - df['YearRemodAdd'])+2\n",
    "    df = df.drop('YearRemodAdd', 1)\n",
    "    # Turn YrSold and MoSold to categorical\n",
    "    #YrSold\n",
    "    df['2006']=(df['YrSold']==2006)*1\n",
    "    df['2007']=(df['YrSold']==2007)*1\n",
    "    df['2008']=(df['YrSold']==2008)*1\n",
    "    df['2009']=(df['YrSold']==2009)*1\n",
    "    df['2010']=(df['YrSold']==2010)*1\n",
    "    df = df.drop('YrSold', 1)\n",
    "    #MoSold\n",
    "    monthnum=[n+1 for n in range(12)]\n",
    "    monthname=['Jan','Feb','Mar','Apr','May','Jun','Jul','Aug','Sept','Oct','Nov','Dec']\n",
    "    monthdict=dict(zip(monthnum,monthname))\n",
    "    df['MoSold']=df['MoSold'].map(lambda x: monthdict[x])\n",
    "    df['MoSold_Jan']=(df['MoSold']=='Jan')*1\n",
    "    df['MoSold_Feb']=(df['MoSold']=='Feb')*1\n",
    "    df['MoSold_Mar']=(df['MoSold']=='Mar')*1\n",
    "    df['MoSold_Apr']=(df['MoSold']=='Apr')*1\n",
    "    df['MoSold_May']=(df['MoSold']=='May')*1\n",
    "    df['MoSold_Jun']=(df['MoSold']=='Jun')*1\n",
    "    df['MoSold_Jul']=(df['MoSold']=='Jul')*1\n",
    "    df['MoSold_Aug']=(df['MoSold']=='Aug')*1\n",
    "    df['MoSold_Sept']=(df['MoSold']=='Sept')*1\n",
    "    df['MoSold_Oct']=(df['MoSold']=='Oct')*1\n",
    "    df['MoSold_Nov']=(df['MoSold']=='Nov')*1\n",
    "    df['MoSold_Dec']=(df['MoSold']=='Dec')*1\n",
    "    df = df.drop('MoSold',1)\n",
    "\n",
    "    ## Get 'resiliency' of neighborhood\n",
    "    #First use YrSold to get resiliency of neighborhood during recession\n",
    "    NeighbAvgDiff=df['Neighborhood'].map(lambda x: NeighbAvgDiff_dict[x])\n",
    "    hurt=[]\n",
    "    slightlyhurt=[]\n",
    "    resilient=[]\n",
    "    slightlyhelped=[]\n",
    "    helped=[]\n",
    "    for avgdiffbin in NeighbAvgDiff:\n",
    "        if avgdiffbin<=2:\n",
    "            hurt.append(1)\n",
    "            slightlyhurt.append(0)\n",
    "            resilient.append(0)\n",
    "            slightlyhelped.append(0)\n",
    "            helped.append(0)\n",
    "        else:\n",
    "            hurt.append(0)\n",
    "            if avgdiffbin<=4:\n",
    "                slightlyhurt.append(1)\n",
    "                resilient.append(0)\n",
    "                slightlyhelped.append(0)\n",
    "                helped.append(0)\n",
    "            else:\n",
    "                slightlyhurt.append(0)\n",
    "                if avgdiffbin<=6:\n",
    "                    resilient.append(1)\n",
    "                    slightlyhelped.append(0)\n",
    "                    helped.append(0)\n",
    "                else:\n",
    "                    resilient.append(0)\n",
    "                    if avgdiffbin<=8:\n",
    "                        slightlyhelped.append(1)\n",
    "                        helped.append(0)\n",
    "                    else:\n",
    "                        slightlyhelped.append(0)\n",
    "                        helped.append(1)\n",
    "    df['RecessionHurt']=hurt*(df['2008']+df['2009'])\n",
    "    df['RecessionSlightlyHurt']=slightlyhurt*(df['2008']+df['2009'])\n",
    "    df['RecessionResilient']=resilient*(df['2008']+df['2009'])\n",
    "    df['RecessionSlightlyHelped']=slightlyhelped*(df['2008']+df['2009'])\n",
    "    df['RecessionHelped']=helped*(df['2008']+df['2009'])\n",
    "    \n",
    "    ## Log numerical variables with long tails\n",
    "    df['LotFrontage'] = log(df['LotFrontage'].fillna(mean(df['LotFrontage']))) #impute mean where missing\n",
    "    df['LotArea'] = log(df['LotArea'])\n",
    "    df['1stFlrSF'] = log(df['1stFlrSF'])\n",
    "    df['GrLivArea'] = log(df['GrLivArea'])\n",
    "\n",
    "    ## Manual levels for neigborhoods\n",
    "    df['Neighborhood_Blmngtn'] = (df['Neighborhood']=='Neighborhood_Blmngtn')*1\n",
    "    df['Neighborhood_Blueste'] = (df['Neighborhood']=='Neighborhood_Blueste')*1\n",
    "    df['Neighborhood_BrDale'] = (df['Neighborhood']=='Neighborhood_BrDale')*1\n",
    "    df['Neighborhood_BrkSide'] = (df['Neighborhood']=='Neighborhood_BrkSide')*1\n",
    "    df['Neighborhood_ClearCr'] = (df['Neighborhood']=='Neighborhood_ClearCr')*1\n",
    "    df['Neighborhood_CollgCr'] = (df['Neighborhood']=='Neighborhood_CollgCr')*1\n",
    "    df['Neighborhood_Crawfor'] = (df['Neighborhood']=='Neighborhood_Crawfor')*1\n",
    "    df['Neighborhood_Edwards'] = (df['Neighborhood']=='Neighborhood_Edwards')*1\n",
    "    df['Neighborhood_Gilbert'] = (df['Neighborhood']=='Neighborhood_Gilbert')*1\n",
    "    df['Neighborhood_IDOTRR'] = (df['Neighborhood']=='Neighborhood_IDOTRR')*1\n",
    "    df['Neighborhood_MeadowV'] = (df['Neighborhood']=='Neighborhood_MeadowV')*1\n",
    "    df['Neighborhood_Mitchel'] = (df['Neighborhood']=='Neighborhood_Mitchel')*1\n",
    "    df['Neighborhood_NAmes'] = (df['Neighborhood']=='Neighborhood_NAmes')*1\n",
    "    df['Neighborhood_NPkVill'] = (df['Neighborhood']=='Neighborhood_NPkVill')*1\n",
    "    df['Neighborhood_NoRidge'] = (df['Neighborhood']=='Neighborhood_NoRidge')*1\n",
    "    df['Neighborhood_NridgHt'] = (df['Neighborhood']=='Neighborhood_NridgHt')*1\n",
    "    df['Neighborhood_OldTown'] = (df['Neighborhood']=='Neighborhood_OldTown')*1\n",
    "    df['Neighborhood_SWISU'] = (df['Neighborhood']=='Neighborhood_SWISU')*1\n",
    "    df['Neighborhood_Sawyer'] = (df['Neighborhood']=='Neighborhood_Sawyer')*1\n",
    "    df['Neighborhood_SawyerW'] = (df['Neighborhood']=='Neighborhood_SawyerW')*1\n",
    "    df['Neighborhood_Somerst'] = (df['Neighborhood']=='Neighborhood_Somerst')*1\n",
    "    df['Neighborhood_StoneBr'] = (df['Neighborhood']=='Neighborhood_StoneBr')*1\n",
    "    df['Neighborhood_Timber'] = (df['Neighborhood']=='Neighborhood_Timber')*1\n",
    "    df['Neighborhood_Veenker'] = (df['Neighborhood']=='Neighborhood_Veenker')*1\n",
    "    df = df.drop('Neighborhood',1)\n",
    "    \n",
    "    ## Consolidate related variables to reduce features\n",
    "    # Consolidate Alley and Street\n",
    "    df['DriveAccess']=('A_'+df['Alley']).fillna('S_'+df['Street'])\n",
    "    df['Drive_APave']=(df['DriveAccess']=='A_Pave')*1\n",
    "    df['Drive_AGrvl']=(df['DriveAccess']=='A_Grvl')*1\n",
    "    df['Drive_SGrvl']=(df['DriveAccess']=='SGrvl')*1\n",
    "    df = df.drop('DriveAccess', 1)\n",
    "    df = df.drop('Alley', 1)\n",
    "    df = df.drop('Street', 1)\n",
    "    # Consolidate land and lot\n",
    "    df['LandContour']=df['LandContour'].fillna('Lvl')\n",
    "    df['LotShape']=df['LotShape'].fillna('Reg')\n",
    "    lotland_dict={'Lvl_Reg':'Reg','Bnk_Reg':'Reg','HLS_Reg':'Reg','Low_Reg':'Reg',\n",
    "                  'Lvl_IR1':'Lvl_Irr','Lvl_IR2':'Lvl_Irr','Lvl_IR3':'Lvl_Irr',\n",
    "                  'Bnk_IR1':'Bnk_Irr','Bnk_IR2':'Bnk_Irr','Bnk_IR3':'Bnk_Irr',\n",
    "                  'HLS_IR1':'HLS_IR1','HLS_IR2':'HLS_IR2','HLS_IR3':'HLS_IR3',\n",
    "                  'Low_IR1':'Low_IR1','Low_IR2':'Low_IR2','Low_IR3':'Low_IR3'}\n",
    "    df['LandLot']=[lotland_dict[x] for x in (df['LandContour']+'_'+df['LotShape'])]\n",
    "    df['LandLot_Reg']=(df['LandLot']=='Reg')*1\n",
    "    df['LandLot_LvlIrr']=(df['LandLot']=='Lvl_Irr')*1\n",
    "    df['LandLot_BnkIrr']=(df['LandLot']=='Bnk_Irr')*1\n",
    "    df['LandLot_HLSIR1']=(df['LandLot']=='HLS_IR1')*1\n",
    "    df['LandLot_HLSIR2']=(df['LandLot']=='HLS_IR2')*1\n",
    "    df['LandLot_HLSIR3']=(df['LandLot']=='HLS_IR3')*1\n",
    "    df['LandLot_LowIR1']=(df['LandLot']=='Low_IR1')*1\n",
    "    df['LandLot_LowIR2']=(df['LandLot']=='Low_IR2')*1\n",
    "    df['LandLot_LowIR3']=(df['LandLot']=='Low_IR3')*1\n",
    "    df = df.drop('LandLot',1)\n",
    "    df = df.drop('LandContour', 1)\n",
    "    df = df.drop('LotShape', 1)\n",
    "    df = df.drop('LotConfig', 1) # no additional value\n",
    "    df = df.drop('LandSlope', 1) # no additional value\n",
    "    # Consolidate Conditions\n",
    "    conditions=[x.split('_') for x in (df['Condition1']+'_'+df['Condition2'])]\n",
    "    consolidated_conditions=[]\n",
    "    for cond1, cond2 in conditions:\n",
    "        if cond1=='Norm' and cond2=='Norm':\n",
    "            conds='Baseline'\n",
    "        elif cond1=='Artery' and cond2=='Artery':\n",
    "            conds='DoubleArtFeed'\n",
    "        elif cond1=='Feedr' and cond2=='Feedr':\n",
    "            conds='DoubleArtFeed'\n",
    "        elif 'Pos' in cond1 or 'Pos' in cond2:\n",
    "            conds='Pos'\n",
    "        elif cond1=='Feedr' or cond2=='Feedr' or cond1=='Artery' or cond2=='Artery' or 'RR' in cond1 or 'RR' in cond2:\n",
    "            conds='Neg'\n",
    "        consolidated_conditions.append(conds)\n",
    "    df['Conditions']=consolidated_conditions\n",
    "    df['Conds_DoubleArtFeed']=(df['Conditions']=='DoubleArtFeed')*1\n",
    "    df['Conds_Pos']=(df['Conditions']=='Pos')*1\n",
    "    df['Conds_Neg']=(df['Conditions']=='Neg')*1\n",
    "    df = df.drop('Condition1', 1)\n",
    "    df = df.drop('Condition2', 1)\n",
    "    df = df.drop('Conditions', 1)\n",
    "    # Consolidate Bathrooms\n",
    "    df['Bath']=df['FullBath']+df['HalfBath']*0.5\n",
    "    df['BsmtBath']=df['BsmtFullBath']+df['BsmtHalfBath']*0.5\n",
    "    df['TotBath']=df['Bath']+df['BsmtBath']\n",
    "    # Consolidate Bsmt quality and space\n",
    "    glqunfsqft=[]\n",
    "    for i in range(len(df['BsmtFinType1'])):\n",
    "        sqft=0\n",
    "        if df['BsmtFinType1'][i]=='GLQ':\n",
    "            sqft+=df['BsmtFinSF1'][i]*12\n",
    "        elif df['BsmtFinType1'][i]=='Unf':\n",
    "            sqft+=df['BsmtFinSF1'][i]*5\n",
    "        elif df['BsmtFinType1'][i]=='LwQ':\n",
    "            sqft-=df['BsmtFinSF1'][i]*3.5\n",
    "        if df['BsmtFinType2'][i]=='Unf':\n",
    "            sqft+=df['BsmtFinSF2'][i]*15\n",
    "        elif df['BsmtFinType2'][i]=='LwQ':\n",
    "            sqft-=df['BsmtFinSF2'][i]*.5\n",
    "        if sqft==0:\n",
    "            sqft+=0.1\n",
    "        elif sqft<0:\n",
    "            sqft=-log(abs(sqft))\n",
    "        else:\n",
    "            sqft=log(sqft)\n",
    "        glqunfsqft.append(sqft)\n",
    "    df['BsmtGLQUnfSF']=glqunfsqft\n",
    "    #Identify 'bunkers'\n",
    "    bunker=[]\n",
    "    for i in range(len(df['TotBath'])):\n",
    "        if df['TotBath'][i]>3 and df['BsmtFinType1'][i]=='GLQ':\n",
    "            if df['BsmtFinType2'][i]=='Unf' or df['BsmtFinType2'][i]=='Rec':\n",
    "                if df['BsmtFullBath'][i]>=0 and df['FullBath'][i]!=df['BsmtFullBath'][i]:\n",
    "                    bunker.append(1)\n",
    "                else:\n",
    "                    bunker.append(0)\n",
    "            else:\n",
    "                 bunker.append(0)\n",
    "        else:\n",
    "            bunker.append(0)\n",
    "    df['Bunker']=bunker\n",
    "    df = df.drop('BsmtFinSF1', 1)\n",
    "    df = df.drop('BsmtFinSF2', 1)\n",
    "    df = df.drop('BsmtUnfSF', 1)\n",
    "    df = df.drop('TotalBsmtSF', 1)\n",
    "    df = df.drop('BsmtFinType1', 1)\n",
    "    df = df.drop('BsmtFinType2', 1)\n",
    "    df = df.drop('FullBath', 1)\n",
    "    df = df.drop('HalfBath', 1)\n",
    "    df = df.drop('BsmtFullBath', 1)\n",
    "    df = df.drop('BsmtHalfBath', 1)\n",
    "    # Consolidate OverallQual and OverallCond\n",
    "    df['OverallCondQual']=df['OverallCond']+df['OverallQual']\n",
    "    df = df.drop('OverallCond', 1)\n",
    "    df = df.drop('OverallQual', 1)\n",
    "    # Consolidate MasVnr\n",
    "    # Most masonry veneer type is None and area is 0\n",
    "    df['MasVnrType'] = df['MasVnrType'].fillna('None')\n",
    "    df['MasVnrArea'] = df['MasVnrArea'].fillna(0.0)\n",
    "    stone=[]\n",
    "    brkface=[]\n",
    "    brkcmn=[]\n",
    "    for i in range(len(df['MasVnrArea'])):\n",
    "        area=df['MasVnrArea'][i]\n",
    "        if df['MasVnrType'][i]=='Stone':\n",
    "            stone.append(area+1)\n",
    "            brkface.append(1)\n",
    "            brkcmn.append(1)\n",
    "        else:\n",
    "            stone.append(1)\n",
    "            if df['MasVnrType'][i]=='BrkFace':\n",
    "                brkface.append(area+1)\n",
    "                brkcmn.append(1)\n",
    "            else:\n",
    "                brkface.append(1)\n",
    "                if df['MasVnrType'][i]=='BrkCmn':\n",
    "                    brkcmn.append(area+1)\n",
    "                else:\n",
    "                    brkcmn.append(1)\n",
    "    df['MasVnr_Stone']=log(stone)\n",
    "    df['MasVnr_BrkFace']=log(brkface)\n",
    "    df['MasVnr_BrkCmn']=log(brkcmn)\n",
    "    df = df.drop('MasVnrType', 1)\n",
    "    df = df.drop('MasVnrArea', 1)\n",
    "    # Consolidate porch and deck space\n",
    "    bins_enclosedporch=np.digitize(df['EnclosedPorch'],np.histogram(df['WoodDeckSF'])[1])\n",
    "    bins_screenporch=np.digitize(df['ScreenPorch'],np.histogram(df['ScreenPorch'])[1])\n",
    "    bins_3ssnporch=np.digitize(df['3SsnPorch'],np.histogram(df['3SsnPorch'])[1])\n",
    "    bins_wooddeck=np.digitize(df['WoodDeckSF'],np.histogram(df['WoodDeckSF'])[1])\n",
    "    bins_openporch=np.digitize(df['OpenPorchSF'],np.histogram(df['OpenPorchSF'])[1])\n",
    "    outsidespace=bins_enclosedporch+bins_screenporch+bins_3ssnporch+bins_wooddeck+bins_openporch\n",
    "    df['PorchDeck']=outsidespace\n",
    "    df = df.drop('EnclosedPorch', 1)\n",
    "    df = df.drop('ScreenPorch', 1)\n",
    "    df = df.drop('3SsnPorch', 1)\n",
    "    df = df.drop('WoodDeckSF', 1)\n",
    "    df = df.drop('OpenPorchSF', 1)\n",
    "    # Consolidate garage\n",
    "    df['Garage']=(df['GarageCars']>0)*1\n",
    "    df['NiceGarage']=(df['GarageFinish']=='Fin')*1\n",
    "    df['Carport']=(df['GarageType']=='CarPort')*1\n",
    "    df['LargeGarage']=(df['GarageCars']>1)*1\n",
    "    df['3CarGarage']=(df['GarageCars']==3)*1\n",
    "    df = df.drop('GarageCars',1)\n",
    "    df = df.drop('GarageFinish',1)\n",
    "    df = df.drop('GarageType',1)\n",
    "    df = df.drop('GarageQual',1)\n",
    "    df = df.drop('GarageCond',1)\n",
    "    # Consolidate fireplaces\n",
    "    df['Fireplaces']=df['Fireplaces'].fillna(0)\n",
    "    df['FireplaceQu']=df['FireplaceQu'].fillna('None')\n",
    "    df['Fireplace_Any']=(df['Fireplaces']>0)*1\n",
    "    df['Fireplace_Many']=(df['Fireplaces']>1)*1\n",
    "    df['Fireplace_Ex']=(df['FireplaceQu']=='Ex')*1\n",
    "    df['Fireplace_Good']=(df['FireplaceQu'].str.contains('Gd|TA'))*1\n",
    "    df['Fireplace_ManyEx']=((df['Fireplaces']>1)*1)*((df['FireplaceQu']=='Ex')*1)\n",
    "    df = df.drop('Fireplaces',1)\n",
    "    df = df.drop('FireplaceQu',1)\n",
    "    # Consolidate sale situation\n",
    "    df['SaleType']=df['SaleType'].fillna('WD')\n",
    "    df['Sale_Adjoining']=(df['SaleCondition']=='AdjLand')*1\n",
    "    df['Sale_HelpFin']=(df['SaleType'].str.contains('ConL'))*1\n",
    "    df['Sale_Fam']=(df['SaleCondition']=='Fam')*1\n",
    "    df['Sale_Abnormal']=((df['SaleCondition']=='Abnormal')*1)*((df['SaleType']=='Other')*1)\n",
    "    df['Sale_QuickSale']=((df['SaleCondition']=='Partial')*1)*((df['SaleType']=='WD')*1)\n",
    "    df = df.drop('SaleCondition',1)\n",
    "    df = df.drop('SaleType',1)\n",
    "    # Consolidate physical building type and house style\n",
    "    df['HalfStoryLvl1Fam']=((df['BldgType']=='1Fam'))*((df['HouseStyle'].str.contains('.5|SFoyer|SLvl'))*1)\n",
    "    df['TwoStory1Fam']=((df['BldgType']=='1Fam'))*((df['HouseStyle'].str.contains('2'))*1)\n",
    "    df['MultiFam']=(df['BldgType']!='1Fam')*1\n",
    "    df['UnfHouse']=(df['HouseStyle'].str.contains('Unf'))*1\n",
    "    OldHomes=((df['MSSubClass']==30)*1)+((df['MSSubClass']==70)*1)\n",
    "    BigPUD=((df['MSSubClass']==160)*1)+((df['MSSubClass']==190)*1)\n",
    "    LvlPUD=((df['MSSubClass']==180)*1)\n",
    "    df = df.drop('BldgType',1)\n",
    "    df = df.drop('HouseStyle',1)\n",
    "    df = df.drop('MSSubClass',1)\n",
    "\n",
    "    ## Reduce levels for applicable variables\n",
    "    #MSZoning\n",
    "    df['Zoning_ResHiMedDensity']=((df['MSZoning']=='RH')*1)+((df['MSZoning']=='RM')*1)\n",
    "    df['Zoning_Commercial']=(df['MSZoning']=='C')*1\n",
    "    df = df.drop('MSZoning',1)\n",
    "    #Functional\n",
    "    df['Functional']=df['Functional'].fillna('Typ')\n",
    "    df['Functional_MajSev']=(df['Functional'].str.contains('Sev|Sal|Maj'))*1\n",
    "    df['Functional_MinMod']=(df['Functional'].str.contains('Min|Mod'))*1\n",
    "    df = df.drop('Functional',1)\n",
    "    #Fence\n",
    "    df['Fence']=df['Fence'].fillna('NoFence')\n",
    "    df['Fence_GdPrv']=(df['Fence']=='GdPrv')*1\n",
    "    df['Fence_GdWo']=(df['Fence']=='GdWo')*1\n",
    "    df['Fence_MnPrv']=(df['Fence']=='MnPrv')*1\n",
    "    df['Fence_MnWw']=(df['Fence']=='MnWw')*1\n",
    "    df = df.drop('Fence',1)\n",
    "    #RoofStyle\n",
    "    df['RoofStyle']=~df['RoofStyle'].str.contains('Hip|Gable')*1\n",
    "    #RoofMatl\n",
    "    df['RoofMatlWd']=df['RoofMatl'].str.contains('Wd')*1\n",
    "    df['RoofMatlUnique']=~df['RoofMatl'].str.contains('Wd|CompShg')*1\n",
    "    df = df.drop('RoofMatl',1)\n",
    "    #Utilities\n",
    "    df['Utilities']=~(df['Utilities'].fillna('AllPub')=='AllPub')*1\n",
    "    #Heating and HeatingQc\n",
    "    df['Heating']=~df['Heating'].fillna('Gas').str.contains('Gas')*1\n",
    "    df['HeatingQCEx']=(df['HeatingQC']=='Ex')*1\n",
    "    df['HeatingQCBad']=(df['HeatingQC'].str.contains('Fa|Po'))*1\n",
    "    df = df.drop('HeatingQC',1)\n",
    "    #Electrical\n",
    "    df['Electrical']=~df['Electrical'].fillna('SBrkr').str.contains('SBrkr')*1\n",
    "    #CentralAir\n",
    "    df['CentralAir']=~df['CentralAir'].fillna('Y').str.contains('Y')*1\n",
    "    #KitenQual\n",
    "    df['KitchenQual']=(df['KitchenQual']!='Ex')*1\n",
    "    #PavedDrive\n",
    "    df['PavedDrive']=~((df['PavedDrive'].fillna('Y'))=='Y')*1\n",
    "    #PoolQC\n",
    "    df['PoolQC']=(df['PoolQC']=='Ex')*1\n",
    "\n",
    "    ## Drop columns that do not provide predictive power (for variety of reasons)\n",
    "    df = df.drop('ExterCond',1)\n",
    "    df = df.drop('ExterQual',1)\n",
    "    df = df.drop('BsmtCond',1)\n",
    "    df = df.drop('BsmtQual',1)\n",
    "    df = df.drop('BsmtExposure',1)\n",
    "    df = df.drop('2ndFlrSF',1)\n",
    "    df = df.drop('LowQualFinSF',1)\n",
    "    df = df.drop('KitchenAbvGr',1)\n",
    "    df = df.drop('Exterior1st',1)\n",
    "    df = df.drop('Exterior2nd',1)\n",
    "    df = df.drop('PoolArea',1)\n",
    "    df = df.drop('Foundation',1)\n",
    "    df = df.drop('GarageYrBlt',1)\n",
    "    df = df.drop('GarageArea',1)\n",
    "    df = df.drop('PavedDrive',1)\n",
    "    df = df.drop('MiscFeature',1)\n",
    "    df = df.drop('Id',1)\n",
    "    \n",
    "    return df"
   ]
  },
  {
   "cell_type": "code",
   "execution_count": 65,
   "metadata": {
    "collapsed": true
   },
   "outputs": [],
   "source": [
    "def get_dummies(X_df):\n",
    "    # Dummify X data\n",
    "    X_dummy = pd.get_dummies(X_df,dummy_na=True)\n",
    "    return X_dummy"
   ]
  },
  {
   "cell_type": "code",
   "execution_count": 66,
   "metadata": {
    "collapsed": true
   },
   "outputs": [],
   "source": [
    "def level_cat(df_train,df_comp):\n",
    "    traincols = list(df_train.columns.values)\n",
    "    testcols = list(df_comp.columns.values)\n",
    "    \n",
    "    # Align train data columns to competition data columns\n",
    "    missingcols1 = list(set(testcols)-set(traincols))\n",
    "    for col in missingcols1:\n",
    "        df_train[col] = 0.0\n",
    "\n",
    "    # Align test data columns to competition data columns\n",
    "    missingcols = list(set(traincols)-set(testcols))\n",
    "    for col in missingcols:\n",
    "        df_comp[col] = 0.0\n",
    "    df_comp = df_comp[traincols+missingcols1]\n",
    "    \n",
    "    return df_train,df_comp"
   ]
  },
  {
   "cell_type": "markdown",
   "metadata": {},
   "source": [
    "#### Preprocess data using defined functions"
   ]
  },
  {
   "cell_type": "code",
   "execution_count": 67,
   "metadata": {
    "collapsed": false
   },
   "outputs": [],
   "source": [
    "#get resiliency scores by neighborhood for train data\n",
    "NeighbAvgDiff_dict=neighb_resiliency(pd.read_csv('train.csv'))\n",
    "\n",
    "#preprocess and dummify dataset\n",
    "housedata = feature_engineering(pd.read_csv('train.csv'))\n",
    "# Split into X and y\n",
    "y = housedata['SalePrice']\n",
    "X = housedata.drop('SalePrice', 1)\n",
    "\n",
    "#preprocess and dummify competition\n",
    "X = get_dummies(X)\n",
    "competition = feature_engineering(pd.read_csv('test.csv'))\n",
    "X_comp = get_dummies(competition)\n",
    "\n",
    "X,X_comp = level_cat(X,X_comp)"
   ]
  },
  {
   "cell_type": "code",
   "execution_count": 68,
   "metadata": {
    "collapsed": false
   },
   "outputs": [],
   "source": [
    "X_train, X_test, y_train, y_test = train_test_split(X,y,test_size = 0.33, random_state=1)"
   ]
  },
  {
   "cell_type": "code",
   "execution_count": 69,
   "metadata": {
    "collapsed": true
   },
   "outputs": [],
   "source": [
    "# Pull out MiscVal\n",
    "MiscVal_train = X_train['MiscVal']\n",
    "X_train = X_train.drop('MiscVal',1)\n",
    "y_train_LessMiscVal = y_train - MiscVal_train\n",
    "\n",
    "MiscVal_test = X_test['MiscVal']\n",
    "X_test = X_test.drop('MiscVal',1)\n",
    "y_test_LessMiscVal = y_test - MiscVal_test\n",
    "\n",
    "MiscVal_comp = X_comp['MiscVal']\n",
    "X_comp = X_comp.drop('MiscVal',1)"
   ]
  },
  {
   "cell_type": "code",
   "execution_count": 10,
   "metadata": {
    "collapsed": false
   },
   "outputs": [
    {
     "data": {
      "text/plain": [
       "0L"
      ]
     },
     "execution_count": 10,
     "metadata": {},
     "output_type": "execute_result"
    }
   ],
   "source": [
    "sum(sum(X_train.isnull()))"
   ]
  },
  {
   "cell_type": "code",
   "execution_count": 11,
   "metadata": {
    "collapsed": false
   },
   "outputs": [
    {
     "data": {
      "text/plain": [
       "False"
      ]
     },
     "execution_count": 11,
     "metadata": {},
     "output_type": "execute_result"
    }
   ],
   "source": [
    "np.any(np.isnan(X_train))"
   ]
  },
  {
   "cell_type": "code",
   "execution_count": 12,
   "metadata": {
    "collapsed": false
   },
   "outputs": [
    {
     "data": {
      "text/plain": [
       "Bunker                    0\n",
       "OverallCondQual           0\n",
       "MasVnr_Stone              0\n",
       "MasVnr_BrkFace            0\n",
       "MasVnr_BrkCmn             0\n",
       "PorchDeck                 0\n",
       "Garage                    0\n",
       "NiceGarage                0\n",
       "Carport                   0\n",
       "LargeGarage               0\n",
       "3CarGarage                0\n",
       "Fireplace_Any             0\n",
       "Fireplace_Many            0\n",
       "Fireplace_Ex              0\n",
       "Fireplace_Good            0\n",
       "Fireplace_ManyEx          0\n",
       "Sale_Adjoining            0\n",
       "Sale_HelpFin              0\n",
       "Sale_Fam                  0\n",
       "Sale_Abnormal             0\n",
       "Sale_QuickSale            0\n",
       "HalfStoryLvl1Fam          0\n",
       "TwoStory1Fam              0\n",
       "MultiFam                  0\n",
       "UnfHouse                  0\n",
       "Zoning_ResHiMedDensity    0\n",
       "Zoning_Commercial         0\n",
       "Functional_MajSev         0\n",
       "Functional_MinMod         0\n",
       "Fence_GdPrv               0\n",
       "Fence_GdWo                0\n",
       "Fence_MnPrv               0\n",
       "Fence_MnWw                0\n",
       "RoofMatlWd                0\n",
       "RoofMatlUnique            0\n",
       "HeatingQCEx               0\n",
       "HeatingQCBad              0\n",
       "dtype: int64"
      ]
     },
     "execution_count": 12,
     "metadata": {},
     "output_type": "execute_result"
    }
   ],
   "source": [
    "sum(~np.isfinite(X_train))[80:]"
   ]
  },
  {
   "cell_type": "markdown",
   "metadata": {},
   "source": [
    "## MODELING"
   ]
  },
  {
   "cell_type": "markdown",
   "metadata": {},
   "source": [
    "### Initital Model Exploration (MLR, Lasso, Ridge, MLP)"
   ]
  },
  {
   "cell_type": "code",
   "execution_count": 13,
   "metadata": {
    "collapsed": false
   },
   "outputs": [
    {
     "name": "stdout",
     "output_type": "stream",
     "text": [
      "MLR RMSE: 33660.3183608\n"
     ]
    }
   ],
   "source": [
    "# Run models\n",
    "#Linear Regression\n",
    "MLR =LinearRegression()\n",
    "model_MLR = MLR.fit(X_train,y_train_LessMiscVal)\n",
    "MLR_predict_reg = model_MLR.predict(X_test)\n",
    "MLR_predict_reg = MLR_predict_reg+MiscVal_test\n",
    "MLR_RMSE_reg= sqrt(mean_squared_error(y_test, MLR_predict_reg))\n",
    "print \"MLR RMSE:\",MLR_RMSE_reg"
   ]
  },
  {
   "cell_type": "code",
   "execution_count": 14,
   "metadata": {
    "collapsed": false
   },
   "outputs": [
    {
     "name": "stdout",
     "output_type": "stream",
     "text": [
      "MLR RMSE: 33660.3183608\n",
      "Lasso CV best λ: 1148.04762282\n",
      "Lasso RMSE: 34128.8379926\n",
      "Ridge CV best λ: 10.0\n",
      "Ridge RMSE: 31649.1033384\n"
     ]
    }
   ],
   "source": [
    "# Run models\n",
    "#Linear Regression\n",
    "MLR =LinearRegression()\n",
    "model_MLR = MLR.fit(X_train,y_train_LessMiscVal)\n",
    "MLR_predict_reg = model_MLR.predict(X_test)\n",
    "MLR_predict_reg = MLR_predict_reg+MiscVal_test\n",
    "MLR_RMSE_reg= sqrt(mean_squared_error(y_test, MLR_predict_reg))\n",
    "print \"MLR RMSE:\",MLR_RMSE_reg\n",
    "\n",
    "#get best λ with LassoCV\n",
    "lasso_cv = LassoCV(alphas=None, cv=10, max_iter=10000)\n",
    "model_cv = lasso_cv.fit(X_train,ravel(y_train_LessMiscVal))\n",
    "print \"Lasso CV best λ:\",model_cv.alpha_\n",
    "lasso_predict_reg= model_cv.predict(X_test)\n",
    "lasso_predict_reg=lasso_predict_reg+MiscVal_test\n",
    "lasso_RMSE_reg= sqrt(mean_squared_error(y_test, lasso_predict_reg))\n",
    "print \"Lasso RMSE:\",lasso_RMSE_reg\n",
    "\n",
    "#get best λ with RidgeCV\n",
    "ridge_cv = RidgeCV(cv=10)\n",
    "ridge_model_cv = ridge_cv.fit(X_train,ravel(y_train_LessMiscVal))\n",
    "print \"Ridge CV best λ:\",ridge_model_cv.alpha_\n",
    "ridge_predict_reg= ridge_model_cv.predict(X_test)\n",
    "ridge_predict_reg=ridge_predict_reg+MiscVal_test\n",
    "ridge_RMSE_reg= sqrt(mean_squared_error(y_test, ridge_predict_reg))\n",
    "print \"Ridge RMSE:\",ridge_RMSE_reg"
   ]
  },
  {
   "cell_type": "code",
   "execution_count": 15,
   "metadata": {
    "collapsed": false
   },
   "outputs": [
    {
     "data": {
      "image/png": "[encoded data removed]",
      "text/plain": [
       "<matplotlib.figure.Figure at 0xc8d5278>"
      ]
     },
     "metadata": {},
     "output_type": "display_data"
    }
   ],
   "source": [
    "#Model residuals\n",
    "\n",
    "MLRresiduals_reg = y_test - MLR_predict_reg\n",
    "lassoResiduals_reg = y_test - lasso_predict_reg\n",
    "ridgeResiduals_reg = y_test - ridge_predict_reg\n",
    "\n",
    "# Plot residuals\n",
    "fig = plt.figure(figsize=(15, 7))\n",
    "\n",
    "# Predicted vs. Actual\n",
    "ax1 = fig.add_subplot(121)\n",
    "ax1.plot(y_test,MLR_predict_reg,\"o\",label='MLR', color='darkblue')\n",
    "ax1.plot(y_test,lasso_predict_reg,\"o\",label='Lasso',color='blue')\n",
    "ax1.plot(y_test,ridge_predict_reg,\"o\",label='Ridge',color='aqua')\n",
    "ax1.legend(numpoints=1,loc='upper left')\n",
    "ax1.set_ylabel('Predicted Price ($)')\n",
    "ax1.yaxis.set_major_formatter(mtick.FuncFormatter('{:,.0f}'.format))\n",
    "ax1.set_xlabel('Actual Price ($)')\n",
    "ax1.xaxis.set_major_formatter(mtick.FuncFormatter('{:,.0f}'.format))\n",
    "ax1.set_title('Predicted vs. Actual Price', fontsize=12, fontweight='bold')\n",
    "\n",
    "# Residuals\n",
    "ax2 = fig.add_subplot(122)\n",
    "ax2.plot(y_test,MLRresiduals_reg,\"o\",label='MLR',color='darkblue')\n",
    "ax2.plot(y_test,lassoResiduals_reg,\"o\",label='Lasso',color='blue')\n",
    "ax2.plot(y_test,ridgeResiduals_reg,\"o\",label='Ridge',color='aqua')\n",
    "ax2.legend(numpoints=1,loc='upper left')\n",
    "ax2.set_ylabel('Residuals ($)')\n",
    "ax2.yaxis.set_major_formatter(mtick.FuncFormatter('{:,.0f}'.format))\n",
    "ax2.set_xlabel('Actual Price ($)')\n",
    "ax2.xaxis.set_major_formatter(mtick.FuncFormatter('{:,.0f}'.format))\n",
    "ax2.set_title('Residuals', fontsize=12, fontweight='bold')\n",
    "\n",
    "fig.subplots_adjust(wspace=.3)\n",
    "plt.show()"
   ]
  },
  {
   "cell_type": "code",
   "execution_count": 70,
   "metadata": {
    "collapsed": true
   },
   "outputs": [],
   "source": [
    "# Try predicting using log SalePrice\n",
    "log_y_train = y_train.map(float).map(log)\n",
    "log_y_train_LessMiscVal = y_train_LessMiscVal.map(float).map(log)"
   ]
  },
  {
   "cell_type": "code",
   "execution_count": 19,
   "metadata": {
    "collapsed": false
   },
   "outputs": [
    {
     "data": {
      "text/plain": [
       "258     inf\n",
       "267     inf\n",
       "288     inf\n",
       "649     inf\n",
       "1233    inf\n",
       "167     inf\n",
       "926     inf\n",
       "831     inf\n",
       "1237    inf\n",
       "426     inf\n",
       "487     inf\n",
       "375     inf\n",
       "1126    inf\n",
       "53      inf\n",
       "1033    inf\n",
       "1022    inf\n",
       "1215    inf\n",
       "91      inf\n",
       "1270    inf\n",
       "680     inf\n",
       "464     inf\n",
       "1416    inf\n",
       "730     inf\n",
       "994     inf\n",
       "383     inf\n",
       "992     inf\n",
       "531     inf\n",
       "742     inf\n",
       "798     inf\n",
       "432     inf\n",
       "       ... \n",
       "870     inf\n",
       "892     inf\n",
       "1446    inf\n",
       "746     inf\n",
       "439     inf\n",
       "419     inf\n",
       "713     inf\n",
       "1127    inf\n",
       "1447    inf\n",
       "323     inf\n",
       "1424    inf\n",
       "1309    inf\n",
       "719     inf\n",
       "602     inf\n",
       "1008    inf\n",
       "899     inf\n",
       "654     inf\n",
       "200     inf\n",
       "349     inf\n",
       "1250    inf\n",
       "823     inf\n",
       "1445    inf\n",
       "902     inf\n",
       "1213    inf\n",
       "1089    inf\n",
       "1115    inf\n",
       "825     inf\n",
       "937     inf\n",
       "1387    inf\n",
       "764     inf\n",
       "Name: MiscVal, dtype: float64"
      ]
     },
     "execution_count": 19,
     "metadata": {},
     "output_type": "execute_result"
    }
   ],
   "source": [
    "np.exp(MLR_predict_log+MiscVal_test)"
   ]
  },
  {
   "cell_type": "code",
   "execution_count": 18,
   "metadata": {
    "collapsed": false
   },
   "outputs": [
    {
     "name": "stdout",
     "output_type": "stream",
     "text": [
      "MLR RMSE: 27131.7490628\n",
      "Lasso CV best λ: 0.00642314550235\n",
      "Lasso RMSE: 31410.9433862\n",
      "Ridge CV best λ: 10.0\n",
      "Ridge RMSE: 26892.1404406\n"
     ]
    }
   ],
   "source": [
    "#Linear Regression\n",
    "MLR =LinearRegression()\n",
    "model_MLR_log = MLR.fit(X_train,log_y_train_LessMiscVal)\n",
    "MLR_predict_log = model_MLR_log.predict(X_test)\n",
    "MLR_predict_log = np.exp(MLR_predict_log)+MiscVal_test\n",
    "MLR_RMSE_log = sqrt(mean_squared_error(y_test, MLR_predict_log))\n",
    "print \"MLR RMSE:\",MLR_RMSE_log\n",
    "\n",
    "#get best λ with LassoCV\n",
    "lasso_cv_log = LassoCV(alphas=None, cv=10, max_iter=10000)\n",
    "model_cv_log = lasso_cv_log.fit(X_train,ravel(log_y_train_LessMiscVal))\n",
    "print \"Lasso CV best λ:\",model_cv_log.alpha_\n",
    "lasso_predict_log= model_cv_log.predict(X_test)\n",
    "lasso_predict_log=np.exp(lasso_predict_log)+MiscVal_test\n",
    "lasso_RMSE_log = sqrt(mean_squared_error(y_test, lasso_predict_log))\n",
    "print \"Lasso RMSE:\",lasso_RMSE_log\n",
    "\n",
    "#get best λ with RidgeCV\n",
    "ridge_cv_log = RidgeCV(cv=10)\n",
    "ridge_model_cv_log = ridge_cv_log.fit(X_train,ravel(log_y_train_LessMiscVal))\n",
    "print \"Ridge CV best λ:\",ridge_model_cv_log.alpha_\n",
    "ridge_predict_log = ridge_model_cv_log.predict(X_test)\n",
    "ridge_predict_log=np.exp(ridge_predict_log)+MiscVal_test\n",
    "ridge_RMSE_log = sqrt(mean_squared_error(y_test, ridge_predict_log))\n",
    "print \"Ridge RMSE:\",ridge_RMSE_log"
   ]
  },
  {
   "cell_type": "code",
   "execution_count": 20,
   "metadata": {
    "collapsed": false
   },
   "outputs": [
    {
     "data": {
      "image/png": "[encoded data removed]",
      "text/plain": [
       "<matplotlib.figure.Figure at 0xe3c4438>"
      ]
     },
     "metadata": {},
     "output_type": "display_data"
    }
   ],
   "source": [
    "#residuals with log price models (in original scale)\n",
    "MLRresiduals_log = y_test - MLR_predict_log\n",
    "lassoResiduals_log = y_test - lasso_predict_log\n",
    "ridgeResiduals_log = y_test - ridge_predict_log\n",
    "\n",
    "# Plot residuals\n",
    "fig = plt.figure(figsize=(15, 7))\n",
    "\n",
    "# Predicted vs. Actual\n",
    "ax1 = fig.add_subplot(121)\n",
    "ax1.plot(y_test,MLR_predict_log,\"o\",label='MLR',color='darkblue')\n",
    "ax1.plot(y_test,lasso_predict_log,\"o\",label='Lasso',color='blue')\n",
    "ax1.plot(y_test,ridge_predict_log,\"o\",label='Ridge',color='aqua')\n",
    "ax1.legend(numpoints=1,loc='upper left')\n",
    "ax1.set_ylabel('Predicted Price ($)')\n",
    "ax1.yaxis.set_major_formatter(mtick.FuncFormatter('{:,.0f}'.format))\n",
    "ax1.set_xlabel('Actual Price ($)')\n",
    "ax1.xaxis.set_major_formatter(mtick.FuncFormatter('{:,.0f}'.format))\n",
    "ax1.set_title('Predicted vs. Actual Price', fontsize=12, fontweight='bold')\n",
    "\n",
    "# Residuals\n",
    "ax2 = fig.add_subplot(122)\n",
    "ax2.plot(y_test,MLRresiduals_log,\"o\",label='MLR',color='darkblue')\n",
    "ax2.plot(y_test,lassoResiduals_log,\"o\",label='Lasso',color='blue')\n",
    "ax2.plot(y_test,ridgeResiduals_log,\"o\",label='Ridge',color='aqua')\n",
    "ax2.legend(numpoints=1,loc='upper left')\n",
    "ax2.set_ylabel('Residuals ($)')\n",
    "ax2.yaxis.set_major_formatter(mtick.FuncFormatter('{:,.0f}'.format))\n",
    "ax2.set_xlabel('Actual Price ($)')\n",
    "ax2.xaxis.set_major_formatter(mtick.FuncFormatter('{:,.0f}'.format))\n",
    "ax2.set_title('Residuals', fontsize=12, fontweight='bold')\n",
    "\n",
    "fig.subplots_adjust(wspace=.3)\n",
    "plt.show()"
   ]
  },
  {
   "cell_type": "code",
   "execution_count": 71,
   "metadata": {
    "collapsed": false
   },
   "outputs": [
    {
     "name": "stderr",
     "output_type": "stream",
     "text": [
      "C:\\Users\\Vishwa\\Anaconda2\\lib\\site-packages\\sklearn\\utils\\validation.py:429: DataConversionWarning: Data with input dtype int64 was converted to float64 by StandardScaler.\n",
      "  warnings.warn(msg, _DataConversionWarning)\n"
     ]
    }
   ],
   "source": [
    "# Scale data\n",
    "scaler = StandardScaler()\n",
    "X_train_scaled = scaler.fit_transform(X_train)\n",
    "X_test_scaled = scaler.transform(X_test)\n",
    "y_scaler = StandardScaler()\n",
    "Y_train_scaled = ravel(y_scaler.fit_transform(y_train.reshape(-1, 1)))\n",
    "Y_train_scaled_LessMiscVal = ravel(y_scaler.fit_transform(y_train_LessMiscVal.reshape(-1, 1)))\n",
    "Y_test_scaled = ravel(y_scaler.transform(y_test.reshape(-1, 1)))\n",
    "Y_test_scaled_LessMiscVal = ravel(y_scaler.transform(y_test_LessMiscVal.reshape(-1, 1)))"
   ]
  },
  {
   "cell_type": "code",
   "execution_count": 22,
   "metadata": {
    "collapsed": false
   },
   "outputs": [
    {
     "name": "stderr",
     "output_type": "stream",
     "text": [
      "C:\\Users\\Vishwa\\Anaconda2\\lib\\site-packages\\sklearn\\neural_network\\multilayer_perceptron.py:563: ConvergenceWarning: Stochastic Optimizer: Maximum iterations reached and the optimization hasn't converged yet.\n",
      "  % (), ConvergenceWarning)\n"
     ]
    }
   ],
   "source": [
    "# Run MLP using different hidden layer sizes\n",
    "sizes = [(20,),(50,),(100,),(150,),(200,),(250,),(300,)]\n",
    "RMSEs = []\n",
    "for size in sizes:\n",
    "    MLP = MLPRegressor(hidden_layer_sizes = size,activation='tanh',solver='sgd',learning_rate='constant',random_state=42,\\\n",
    "                       batch_size=40,learning_rate_init=0.001)\n",
    "    model_MLP = MLP.fit(X_train_scaled,Y_train_scaled_LessMiscVal)\n",
    "    MLP_predict = model_MLP.predict(X_test_scaled)\n",
    "    MLP_predict = y_scaler.inverse_transform(MLP_predict)+MiscVal_test\n",
    "    MLP_RMSE= sqrt(mean_squared_error(y_test, MLP_predict))\n",
    "    RMSEs.append(MLP_RMSE)"
   ]
  },
  {
   "cell_type": "code",
   "execution_count": 23,
   "metadata": {
    "collapsed": false
   },
   "outputs": [
    {
     "name": "stdout",
     "output_type": "stream",
     "text": [
      "MLP RMSE: 36454.6127281\n"
     ]
    }
   ],
   "source": [
    "# Choosing hidden layer size with best RMSE\n",
    "MLP = MLPRegressor(hidden_layer_sizes = sizes[np.argmin(RMSEs)],activation='tanh',solver='sgd',learning_rate='constant',random_state=42,\\\n",
    "                   batch_size=40,learning_rate_init=0.001)\n",
    "model_MLP = MLP.fit(X_train_scaled,Y_train_scaled_LessMiscVal)\n",
    "MLP_predict_scale = model_MLP.predict(X_test_scaled)\n",
    "MLP_predict_scale = y_scaler.inverse_transform(MLP_predict_scale)+MiscVal_test\n",
    "MLP_RMSE_scale = sqrt(mean_squared_error(y_test, MLP_predict_scale))\n",
    "print \"MLP RMSE:\",MLP_RMSE_scale\n",
    "\n",
    "MLPresiduals_scale = y_test - MLP_predict_scale"
   ]
  },
  {
   "cell_type": "code",
   "execution_count": 24,
   "metadata": {
    "collapsed": false
   },
   "outputs": [
    {
     "data": {
      "image/png": "[encoded data removed]",
      "text/plain": [
       "<matplotlib.figure.Figure at 0xe71f9e8>"
      ]
     },
     "metadata": {},
     "output_type": "display_data"
    }
   ],
   "source": [
    "# Plot residuals\n",
    "fig = plt.figure(figsize=(15, 7))\n",
    "\n",
    "# Predicted vs. Actual\n",
    "ax1 = fig.add_subplot(121)\n",
    "ax1.plot(y_test,MLP_predict_scale,\"o\",label='MLP',color='aliceblue')\n",
    "ax1.legend(numpoints=1,loc='upper left')\n",
    "ax1.set_ylabel('Predicted Price ($)')\n",
    "ax1.yaxis.set_major_formatter(mtick.FuncFormatter('{:,.0f}'.format))\n",
    "ax1.set_xlabel('Actual Price ($)')\n",
    "ax1.xaxis.set_major_formatter(mtick.FuncFormatter('{:,.0f}'.format))\n",
    "ax1.set_title('Predicted vs. Actual Price', fontsize=12, fontweight='bold')\n",
    "\n",
    "# Residuals\n",
    "ax2 = fig.add_subplot(122)\n",
    "ax2.plot(y_test,MLPresiduals_scale, \"o\",label='MLP',color='aliceblue')\n",
    "ax2.legend(numpoints=1,loc='upper left')\n",
    "ax2.set_ylabel('Residuals ($)')\n",
    "ax2.yaxis.set_major_formatter(mtick.FuncFormatter('{:,.0f}'.format))\n",
    "ax2.set_xlabel('Actual Price ($)')\n",
    "ax2.xaxis.set_major_formatter(mtick.FuncFormatter('{:,.0f}'.format))\n",
    "ax2.set_title('Residuals', fontsize=12, fontweight='bold')\n",
    "\n",
    "fig.subplots_adjust(wspace=.3)\n",
    "plt.show()"
   ]
  },
  {
   "cell_type": "code",
   "execution_count": 25,
   "metadata": {
    "collapsed": false
   },
   "outputs": [
    {
     "name": "stdout",
     "output_type": "stream",
     "text": [
      "MLR RMSE: 184580.665062\n",
      "Lasso CV best λ: 1136.86159119\n",
      "Lasso RMSE: 32074.9598851\n",
      "Ridge CV best λ: 10.0\n",
      "Ridge RMSE: 33648.8145222\n"
     ]
    }
   ],
   "source": [
    "# Try Linear Regression, Lasso, and Ridge with scaled X data\n",
    "\n",
    "#Linear Regression\n",
    "MLR =LinearRegression(fit_intercept=False)\n",
    "model_MLR_scale = MLR.fit(X_train_scaled,y_train_LessMiscVal)\n",
    "MLR_predict_scale = model_MLR_scale.predict(X_test_scaled)\n",
    "MLR_predict_scale = MLR_predict_scale+MiscVal_test\n",
    "MLR_RMSE_scale= sqrt(mean_squared_error(y_test, MLR_predict_scale))\n",
    "print \"MLR RMSE:\",MLR_RMSE_scale\n",
    "\n",
    "#get best λ with LassoCV\n",
    "lasso_cv_scale = LassoCV(alphas=None, cv=10, max_iter=10000)\n",
    "model_cv_scale = lasso_cv_scale.fit(X_train_scaled,ravel(y_train_LessMiscVal))\n",
    "print \"Lasso CV best λ:\",model_cv_scale.alpha_\n",
    "lasso_predict_scale = model_cv_scale.predict(X_test_scaled)\n",
    "lasso_predict_scale=lasso_predict_scale+MiscVal_test\n",
    "lasso_RMSE_scale= sqrt(mean_squared_error(y_test, lasso_predict_scale))\n",
    "print \"Lasso RMSE:\",lasso_RMSE_scale\n",
    "\n",
    "#get best λ with RidgeCV\n",
    "ridge_cv_scale = RidgeCV(cv=10)\n",
    "ridge_model_cv_scale = ridge_cv_scale.fit(X_train_scaled,ravel(y_train_LessMiscVal))\n",
    "print \"Ridge CV best λ:\",ridge_model_cv_scale.alpha_\n",
    "ridge_predict_scale= ridge_model_cv_scale.predict(X_test_scaled)\n",
    "ridge_predict_scale=ridge_predict_scale+MiscVal_test\n",
    "ridge_RMSE_scale= sqrt(mean_squared_error(y_test, ridge_predict_scale))\n",
    "print \"Ridge RMSE:\",ridge_RMSE_scale"
   ]
  },
  {
   "cell_type": "code",
   "execution_count": 26,
   "metadata": {
    "collapsed": false
   },
   "outputs": [
    {
     "data": {
      "image/png": "[encoded data removed]",
      "text/plain": [
       "<matplotlib.figure.Figure at 0x12cacdd8>"
      ]
     },
     "metadata": {},
     "output_type": "display_data"
    }
   ],
   "source": [
    "# Based on RMSE, it appears as though MLR may have challenges predicting this data\n",
    "# For example, the linear regression problem could be under-determined \n",
    "#  (where the number of linearly independent rows of the training matrix \n",
    "#    is less than its number of linearly independent columns),\n",
    "#  resulting in erroneous predictions\n",
    "\n",
    "# Graph to see\n",
    "MLRresiduals_scale = y_test - MLR_predict_scale\n",
    "fig = plt.figure(figsize=(15, 7))\n",
    "\n",
    "# Predicted vs. Actual\n",
    "ax1 = fig.add_subplot(121)\n",
    "ax1.plot(y_test,MLR_predict_scale,\"o\",label='MLR',color='darkblue')\n",
    "ax1.legend(numpoints=1,loc='upper left')\n",
    "ax1.set_ylabel('Predicted Price ($)')\n",
    "ax1.set_xlabel('Actual Price ($)')\n",
    "ax1.xaxis.set_major_formatter(mtick.FuncFormatter('{:,.0f}'.format))\n",
    "ax1.set_title('Predicted vs. Actual Price', fontsize=12, fontweight='bold')\n",
    "\n",
    "# Residuals\n",
    "ax2 = fig.add_subplot(122)\n",
    "ax2.plot(y_test,MLRresiduals_scale, \"o\",label='MLR',color='darkblue')\n",
    "ax2.legend(numpoints=1,loc='upper left')\n",
    "ax2.set_ylabel('Residuals ($)')\n",
    "ax2.set_xlabel('Actual Price ($)')\n",
    "ax2.xaxis.set_major_formatter(mtick.FuncFormatter('{:,.0f}'.format))\n",
    "ax2.set_title('Residuals', fontsize=12, fontweight='bold')\n",
    "\n",
    "fig.subplots_adjust(wspace=.3)\n",
    "plt.show()"
   ]
  },
  {
   "cell_type": "code",
   "execution_count": 27,
   "metadata": {
    "collapsed": false
   },
   "outputs": [
    {
     "data": {
      "image/png": "[encoded data removed]",
      "text/plain": [
       "<matplotlib.figure.Figure at 0x12a6bef0>"
      ]
     },
     "metadata": {},
     "output_type": "display_data"
    }
   ],
   "source": [
    "# Plot Lasso and Ridge\n",
    "lassoResiduals_scale = y_test - lasso_predict_scale\n",
    "ridgeResiduals_scale = y_test - ridge_predict_scale\n",
    "\n",
    "fig = plt.figure(figsize=(15, 7))\n",
    "\n",
    "# Predicted vs. Actual\n",
    "ax1 = fig.add_subplot(121)\n",
    "ax1.plot(y_test,lasso_predict_scale,\"o\",label='Lasso',color='blue')\n",
    "ax1.plot(y_test,ridge_predict_scale,\"o\",label='Ridge',color='aqua')\n",
    "ax1.legend(numpoints=1,loc='upper left')\n",
    "ax1.set_ylabel('Predicted Price ($)')\n",
    "ax1.yaxis.set_major_formatter(mtick.FuncFormatter('{:,.0f}'.format))\n",
    "ax1.set_xlabel('Actual Price ($)')\n",
    "ax1.xaxis.set_major_formatter(mtick.FuncFormatter('{:,.0f}'.format))\n",
    "ax1.set_title('Predicted vs. Actual Price', fontsize=12, fontweight='bold')\n",
    "\n",
    "# Residuals\n",
    "ax2 = fig.add_subplot(122)\n",
    "ax2.plot(y_test,lassoResiduals_scale,\"o\",label='Lasso',color='blue')\n",
    "ax2.plot(y_test,ridgeResiduals_scale,\"o\",label='Ridge',color='aqua')\n",
    "ax2.legend(numpoints=1,loc='upper left')\n",
    "ax2.set_ylabel('Residuals ($)')\n",
    "ax2.yaxis.set_major_formatter(mtick.FuncFormatter('{:,.0f}'.format))\n",
    "ax2.set_xlabel('Actual Price ($)')\n",
    "ax2.xaxis.set_major_formatter(mtick.FuncFormatter('{:,.0f}'.format))\n",
    "ax2.set_title('Residuals', fontsize=12, fontweight='bold')\n",
    "\n",
    "fig.subplots_adjust(wspace=.3)\n",
    "plt.show()"
   ]
  },
  {
   "cell_type": "code",
   "execution_count": 28,
   "metadata": {
    "collapsed": false
   },
   "outputs": [
    {
     "name": "stdout",
     "output_type": "stream",
     "text": [
      "Lasso CV best λ: 0.00369396284612\n",
      "Lasso RMSE: 26493.3089571\n",
      "Ridge CV best λ: 10.0\n",
      "Ridge RMSE: 27280.3282389\n"
     ]
    }
   ],
   "source": [
    "# Try fitting on scaled data and log SalePrice for Lasso and Ridge\n",
    "#get best λ with LassoCV\n",
    "lasso_cv_scalelog = LassoCV(alphas=None, cv=10, max_iter=10000)\n",
    "model_cv_scalelog = lasso_cv_scalelog.fit(X_train_scaled,ravel(log_y_train_LessMiscVal))\n",
    "print \"Lasso CV best λ:\",model_cv_scalelog.alpha_\n",
    "lasso_predict_scalelog= model_cv_scalelog.predict(X_test_scaled)\n",
    "lasso_predict_scalelog=np.exp(lasso_predict_scalelog)+MiscVal_test\n",
    "lasso_RMSE_scalelog = sqrt(mean_squared_error(y_test, lasso_predict_scalelog))\n",
    "print \"Lasso RMSE:\",lasso_RMSE_scalelog\n",
    "\n",
    "#get best λ with RidgeCV\n",
    "ridge_cv_scalelog = RidgeCV(cv=10)\n",
    "ridge_model_cv_scalelog = ridge_cv_scalelog.fit(X_train_scaled,ravel(log_y_train_LessMiscVal))\n",
    "print \"Ridge CV best λ:\",ridge_model_cv_scalelog.alpha_\n",
    "ridge_predict_scalelog= ridge_model_cv_scalelog.predict(X_test_scaled)\n",
    "ridge_predict_scalelog=np.exp(ridge_predict_scalelog)+MiscVal_test\n",
    "ridge_RMSE_scalelog = sqrt(mean_squared_error(y_test, ridge_predict_scalelog))\n",
    "print \"Ridge RMSE:\",ridge_RMSE_scalelog"
   ]
  },
  {
   "cell_type": "code",
   "execution_count": 29,
   "metadata": {
    "collapsed": false
   },
   "outputs": [
    {
     "data": {
      "image/png": "[encoded data removed]",
      "text/plain": [
       "<matplotlib.figure.Figure at 0x12f18e10>"
      ]
     },
     "metadata": {},
     "output_type": "display_data"
    }
   ],
   "source": [
    "# Plot Lasso and Ridge results for scaled X data / log SalePrice\n",
    "lassoResiduals_scalelog = y_test - lasso_predict_scalelog\n",
    "ridgeResiduals_scalelog = y_test - ridge_predict_scalelog\n",
    "\n",
    "fig = plt.figure(figsize=(15, 7))\n",
    "\n",
    "# Predicted vs. Actual\n",
    "ax1 = fig.add_subplot(121)\n",
    "ax1.plot(y_test,lasso_predict_scalelog,\"o\",label='Lasso',color='blue')\n",
    "ax1.plot(y_test,ridge_predict_scalelog,\"o\",label='Ridge',color='aqua')\n",
    "ax1.legend(numpoints=1,loc='upper left')\n",
    "ax1.set_ylabel('Predicted Price ($)')\n",
    "ax1.yaxis.set_major_formatter(mtick.FuncFormatter('{:,.0f}'.format))\n",
    "ax1.set_xlabel('Actual Price ($)')\n",
    "ax1.xaxis.set_major_formatter(mtick.FuncFormatter('{:,.0f}'.format))\n",
    "ax1.set_title('Predicted vs. Actual Price', fontsize=12, fontweight='bold')\n",
    "\n",
    "# Residuals\n",
    "ax2 = fig.add_subplot(122)\n",
    "ax2.plot(y_test,lassoResiduals_scalelog,\"o\",label='Lasso',color='blue')\n",
    "ax2.plot(y_test,ridgeResiduals_scalelog,\"o\",label='Ridge',color='aqua')\n",
    "ax2.legend(numpoints=1,loc='upper left')\n",
    "ax2.set_ylabel('Residuals ($)')\n",
    "ax2.yaxis.set_major_formatter(mtick.FuncFormatter('{:,.0f}'.format))\n",
    "ax2.set_xlabel('Actual Price ($)')\n",
    "ax2.xaxis.set_major_formatter(mtick.FuncFormatter('{:,.0f}'.format))\n",
    "ax2.set_title('Residuals', fontsize=12, fontweight='bold')\n",
    "\n",
    "fig.subplots_adjust(wspace=.3)\n",
    "plt.show()"
   ]
  },
  {
   "cell_type": "markdown",
   "metadata": {
    "collapsed": false
   },
   "source": [
    "### SVR"
   ]
  },
  {
   "cell_type": "code",
   "execution_count": 82,
   "metadata": {
    "collapsed": false
   },
   "outputs": [
    {
     "data": {
      "text/plain": [
       "55946.981318951766"
      ]
     },
     "execution_count": 82,
     "metadata": {},
     "output_type": "execute_result"
    }
   ],
   "source": [
    "SVR_reg = SVR(kernel='linear', C=10)\n",
    "SVR_reg.fit(X_train,y_train_LessMiscVal)\n",
    "SVR_predict_reg=SVR_reg.predict(X_test)\n",
    "SVR_predict_reg=SVR_predict_reg+MiscVal_test\n",
    "SVR_RMSE_reg=np.sqrt(mean_squared_error(y_test,SVR_predict_reg))\n",
    "SVR_RMSE_reg"
   ]
  },
  {
   "cell_type": "code",
   "execution_count": 31,
   "metadata": {
    "collapsed": false
   },
   "outputs": [
    {
     "data": {
      "text/plain": [
       "52939.45725536377"
      ]
     },
     "execution_count": 31,
     "metadata": {},
     "output_type": "execute_result"
    }
   ],
   "source": [
    "SVR_scale = SVR(kernel='linear', C=10)\n",
    "SVR_scale.fit(X_train_scaled,y_train_LessMiscVal)\n",
    "SVR_predict_scale=SVR_scale.predict(X_test_scaled)\n",
    "SVR_predict_scale=SVR_predict_scale+MiscVal_test\n",
    "SVR_RMSE_scale=np.sqrt(mean_squared_error(y_test,SVR_predict_scale))\n",
    "SVR_RMSE_scale"
   ]
  },
  {
   "cell_type": "code",
   "execution_count": null,
   "metadata": {
    "collapsed": true
   },
   "outputs": [],
   "source": [
    "SVR_log = SVR(kernel='linear', C=10)\n",
    "SVR_log.fit(X_train,ravel(log_y_train_LessMiscVal))\n",
    "SVR_predict_log=SVR_log.predict(X_test)\n",
    "SVR_predict_log=np.exp(SVR_predict_log)+MiscVal_test\n",
    "SVR_RMSE_log=np.sqrt(mean_squared_error(y_test,SVR_predict_log))\n",
    "SVR_RMSE_log"
   ]
  },
  {
   "cell_type": "code",
   "execution_count": 79,
   "metadata": {
    "collapsed": false
   },
   "outputs": [
    {
     "data": {
      "text/plain": [
       "24791.434768444597"
      ]
     },
     "execution_count": 79,
     "metadata": {},
     "output_type": "execute_result"
    }
   ],
   "source": [
    "SVR_scalelog = SVR(kernel='linear', C=10)\n",
    "SVR_scalelog.fit(X_train_scaled,ravel(log_y_train_LessMiscVal))\n",
    "SVR_predict_scalelog=SVR_scalelog.predict(X_test_scaled)\n",
    "SVR_predict_scalelog=np.exp(SVR_predict_scalelog)+MiscVal_test\n",
    "SVR_RMSE_scalelog=np.sqrt(mean_squared_error(y_test,SVR_predict_scalelog))\n",
    "SVR_RMSE_scalelog"
   ]
  },
  {
   "cell_type": "markdown",
   "metadata": {},
   "source": [
    "### SGD Regressor"
   ]
  },
  {
   "cell_type": "code",
   "execution_count": 34,
   "metadata": {
    "collapsed": false
   },
   "outputs": [
    {
     "data": {
      "text/plain": [
       "GridSearchCV(cv=5, error_score='raise',\n",
       "       estimator=SGDRegressor(alpha=0.0001, average=False, epsilon=0.1, eta0=0.01,\n",
       "       fit_intercept=True, l1_ratio=0.15, learning_rate='invscaling',\n",
       "       loss='squared_loss', n_iter=5, penalty='l2', power_t=0.25,\n",
       "       random_state=42, shuffle=True, verbose=0, warm_start=False),\n",
       "       fit_params={}, iid=True, n_jobs=1,\n",
       "       param_grid={'penalty': ['l1', 'l2'], 'loss': ['squared_loss', 'huber'], 'learning_rate': ['optimal', 'invscaling', 'constant']},\n",
       "       pre_dispatch='2*n_jobs', refit=True,\n",
       "       scoring=make_scorer(mean_squared_error, greater_is_better=False),\n",
       "       verbose=0)"
      ]
     },
     "execution_count": 34,
     "metadata": {},
     "output_type": "execute_result"
    }
   ],
   "source": [
    "parameters = {'loss': ['squared_loss', 'huber'],\n",
    "             'penalty': ['l1','l2'],\n",
    "              'learning_rate': ['optimal','invscaling','constant']}\n",
    "accuracy=make_scorer(mean_squared_error, greater_is_better=False)\n",
    "SGDclf_reg = GridSearchCV(SGDRegressor(random_state=42), parameters, cv=5,scoring=accuracy)\n",
    "SGDclf_reg.fit(X_train, y_train_LessMiscVal) "
   ]
  },
  {
   "cell_type": "code",
   "execution_count": 35,
   "metadata": {
    "collapsed": false
   },
   "outputs": [
    {
     "name": "stdout",
     "output_type": "stream",
     "text": [
      "{'penalty': 'l1', 'loss': 'huber', 'learning_rate': 'optimal'}\n",
      "-2754551994.79\n"
     ]
    }
   ],
   "source": [
    "print SGDclf_reg.best_params_\n",
    "print SGDclf_reg.best_score_"
   ]
  },
  {
   "cell_type": "code",
   "execution_count": 36,
   "metadata": {
    "collapsed": false
   },
   "outputs": [
    {
     "data": {
      "text/plain": [
       "197801.78622784265"
      ]
     },
     "execution_count": 36,
     "metadata": {},
     "output_type": "execute_result"
    }
   ],
   "source": [
    "GSCV_SGDclf_reg = SGDRegressor(loss='huber', penalty='l2', alpha=0.001, random_state=42)\n",
    "GSCV_SGDclf_reg.fit(X_train, y_train_LessMiscVal)\n",
    "GSCV_SGDclf_predict_reg = GSCV_SGDclf_reg.predict(X_test)\n",
    "GSCV_SGDclf_predict_reg=GSCV_SGDclf_predict_reg+MiscVal_test\n",
    "GSCV_SGDclf_RMSE_reg=np.sqrt(mean_squared_error(y_test, GSCV_SGDclf_predict_reg))\n",
    "GSCV_SGDclf_RMSE_reg"
   ]
  },
  {
   "cell_type": "code",
   "execution_count": 37,
   "metadata": {
    "collapsed": false
   },
   "outputs": [
    {
     "data": {
      "text/plain": [
       "GridSearchCV(cv=5, error_score='raise',\n",
       "       estimator=SGDRegressor(alpha=0.0001, average=False, epsilon=0.1, eta0=0.01,\n",
       "       fit_intercept=True, l1_ratio=0.15, learning_rate='invscaling',\n",
       "       loss='squared_loss', n_iter=5, penalty='l2', power_t=0.25,\n",
       "       random_state=42, shuffle=True, verbose=0, warm_start=False),\n",
       "       fit_params={}, iid=True, n_jobs=1,\n",
       "       param_grid={'penalty': ['l1', 'l2'], 'loss': ['squared_loss', 'huber'], 'alpha': [0.01, 0.001, 0.0001]},\n",
       "       pre_dispatch='2*n_jobs', refit=True,\n",
       "       scoring=make_scorer(mean_squared_error, greater_is_better=False),\n",
       "       verbose=0)"
      ]
     },
     "execution_count": 37,
     "metadata": {},
     "output_type": "execute_result"
    }
   ],
   "source": [
    "parameters = {'loss': ['squared_loss', 'huber'],\n",
    "             'penalty': ['l1','l2'],\n",
    "              'alpha': [0.01, 0.001, 0.0001]\n",
    "             }\n",
    "accuracy=make_scorer(mean_squared_error, greater_is_better=False)\n",
    "SGDclf_scale = GridSearchCV(SGDRegressor(random_state=42), parameters, cv=5,scoring=accuracy)\n",
    "SGDclf_scale.fit(X_train_scaled, y_train_LessMiscVal)"
   ]
  },
  {
   "cell_type": "code",
   "execution_count": 38,
   "metadata": {
    "collapsed": false
   },
   "outputs": [
    {
     "name": "stdout",
     "output_type": "stream",
     "text": [
      "{'penalty': 'l2', 'alpha': 0.01, 'loss': 'squared_loss'}\n",
      "-1387898096.71\n"
     ]
    }
   ],
   "source": [
    "print SGDclf_scale.best_params_\n",
    "print SGDclf_scale.best_score_"
   ]
  },
  {
   "cell_type": "code",
   "execution_count": 39,
   "metadata": {
    "collapsed": false
   },
   "outputs": [
    {
     "data": {
      "text/plain": [
       "199211.22479709802"
      ]
     },
     "execution_count": 39,
     "metadata": {},
     "output_type": "execute_result"
    }
   ],
   "source": [
    "GSCV_SGDclf_scale = SGDRegressor(penalty='l1', alpha=0.01, loss='huber', random_state=42)\n",
    "GSCV_SGDclf_scale.fit(X_train_scaled, y_train_LessMiscVal)\n",
    "GSCV_SGDclf_predict_scale = GSCV_SGDclf_scale.predict(X_test_scaled)\n",
    "GSCV_SGDclf_predict_scale=GSCV_SGDclf_predict_scale+MiscVal_test\n",
    "GSCV_SGDclf_RMSE_scale=np.sqrt(mean_squared_error(y_test, GSCV_SGDclf_predict_scale))\n",
    "GSCV_SGDclf_RMSE_scale"
   ]
  },
  {
   "cell_type": "code",
   "execution_count": null,
   "metadata": {
    "collapsed": true
   },
   "outputs": [],
   "source": [
    "# parameters = {'loss': ['squared_loss', 'huber'],\n",
    "#              'penalty': ['l1','l2'],\n",
    "#               'alpha': [0.01, 0.001, 0.0001]\n",
    "#              }\n",
    "# accuracy=make_scorer(mean_squared_error, greater_is_better=False)\n",
    "# SGDclf_log = GridSearchCV(SGDRegressor(random_state=42), parameters, cv=5,scoring=accuracy)\n",
    "# SGDclf_log.fit(X_train, log_y_train_LessMiscVal)"
   ]
  },
  {
   "cell_type": "code",
   "execution_count": null,
   "metadata": {
    "collapsed": true
   },
   "outputs": [],
   "source": [
    "# print SGDclf_log.best_params_\n",
    "# print SGDclf_log.best_score_"
   ]
  },
  {
   "cell_type": "code",
   "execution_count": null,
   "metadata": {
    "collapsed": true
   },
   "outputs": [],
   "source": [
    "# ## NOT SURE OF BEST PARAMS -- LOG WOULDN'T RUN\n",
    "# GSCV_SGDclf_log = SGDRegressor(penalty='l1', alpha=0.01, loss='huber', random_state=42)\n",
    "# GSCV_SGDclf_log.fit(X_train, log_y_train_LessMiscVal)\n",
    "# GSCV_SGDclf_predict_log = GSCV_SGDclf_log.predict(X_test)\n",
    "# GSCV_SGDclf_predict_log=np.exp(GSCV_SGDclf_predict_log)+MiscVal_test\n",
    "# GSCV_SGDclf_RMSE_log=np.sqrt(mean_squared_error(y_test, GSCV_SGDclf_predict_log))\n",
    "# GSCV_SGDclf_RMSE_log"
   ]
  },
  {
   "cell_type": "code",
   "execution_count": null,
   "metadata": {
    "collapsed": true
   },
   "outputs": [],
   "source": [
    "# parameters = {'loss': ['squared_loss', 'huber'],\n",
    "#              'penalty': ['l1','l2'],\n",
    "#               'alpha': [0.01, 0.001, 0.0001]\n",
    "#              }\n",
    "# accuracy=make_scorer(mean_squared_error, greater_is_better=False)\n",
    "# SGDclf_scalelog = GridSearchCV(SGDRegressor(random_state=42), parameters, cv=5,scoring=accuracy)\n",
    "# SGDclf_scalelog.fit(X_train_scaled, log_y_train_LessMiscVal)"
   ]
  },
  {
   "cell_type": "code",
   "execution_count": null,
   "metadata": {
    "collapsed": true
   },
   "outputs": [],
   "source": [
    "# print SGDclf_scalelog.best_params_\n",
    "# print SGDclf_scalelog.best_score_"
   ]
  },
  {
   "cell_type": "code",
   "execution_count": null,
   "metadata": {
    "collapsed": true
   },
   "outputs": [],
   "source": [
    "# ## NOT SURE OF BEST PARAMS -- LOG WOULDN'T RUN\n",
    "# GSCV_SGDclf_scalelog = SGDRegressor(penalty='l1', alpha=0.01, loss='huber', random_state=42)\n",
    "# GSCV_SGDclf_scalelog.fit(X_train_scaled, log_y_train_LessMiscVal)\n",
    "# GSCV_SGDclf_predict_scalelog = GSCV_SGDclf_scalelog.predict(X_test_scaled)\n",
    "# GSCV_SGDclf_predict_scalelog=np.exp(GSCV_SGDclf_predict_scalelog)+MiscVal_test\n",
    "# GSCV_SGDclf_RMSE_scalelog=np.sqrt(mean_squared_error(y_test,GSCV_SGDclf_predict_scalelog))\n",
    "# GSCV_SGDclf_RMSE_scalelog"
   ]
  },
  {
   "cell_type": "markdown",
   "metadata": {},
   "source": [
    "### Regression Trees"
   ]
  },
  {
   "cell_type": "code",
   "execution_count": 40,
   "metadata": {
    "collapsed": false
   },
   "outputs": [
    {
     "name": "stdout",
     "output_type": "stream",
     "text": [
      "RMSE for Regression Tree is: 47122.7055\n"
     ]
    }
   ],
   "source": [
    "# Create and fit the model\n",
    "model_tree2_reg = DecisionTreeRegressor(random_state = 1)\n",
    "model_tree2_reg.fit(X_train, y_train_LessMiscVal)\n",
    "\n",
    "# Predict on the test set\n",
    "p_tree2_reg = model_tree2_reg.predict(X_test)\n",
    "p_tree2_reg=p_tree2_reg+MiscVal_test\n",
    "\n",
    "# Calculate RMSE of the model\n",
    "REGTREE_residuals_reg = y_test-p_tree2_reg\n",
    "REGTREE_MSE_reg = (REGTREE_residuals_reg**2).mean()\n",
    "REGTREE_RMSE_reg = math.sqrt(REGTREE_MSE_reg)\n",
    "\n",
    "print \"RMSE for Regression Tree is:\", round(REGTREE_RMSE_reg,4)"
   ]
  },
  {
   "cell_type": "code",
   "execution_count": 83,
   "metadata": {
    "collapsed": false
   },
   "outputs": [
    {
     "name": "stdout",
     "output_type": "stream",
     "text": [
      "RMSE for Regression Tree USING LOG is: 47124.9776\n"
     ]
    }
   ],
   "source": [
    "# Create and fit the model\n",
    "model_tree2_log = DecisionTreeRegressor(random_state = 1)\n",
    "model_tree2_log.fit(X_train, log_y_train_LessMiscVal)\n",
    "\n",
    "# Predict on the test set\n",
    "p_tree2_log = model_tree2_log.predict(X_test)\n",
    "p_tree2_log = np.exp(p_tree2_log)+MiscVal_test\n",
    "\n",
    "# Calculate RMSE of the model\n",
    "REGTREE_residuals_log = y_test-p_tree2_log\n",
    "REGTREE_MSE_log = (REGTREE_residuals_log**2).mean()\n",
    "REGTREE_RMSE_log = math.sqrt(REGTREE_MSE_log)\n",
    "\n",
    "print \"RMSE for Regression Tree USING LOG is:\", round(REGTREE_RMSE_log,4)"
   ]
  },
  {
   "cell_type": "code",
   "execution_count": 42,
   "metadata": {
    "collapsed": false
   },
   "outputs": [
    {
     "name": "stdout",
     "output_type": "stream",
     "text": [
      "RMSE with scaling Regression Tree is: 47106.5476\n"
     ]
    }
   ],
   "source": [
    "# Create and fit the model\n",
    "model_tree2_scale = DecisionTreeRegressor(random_state = 1)\n",
    "model_tree2_scale.fit(X_train_scaled, y_train_LessMiscVal)\n",
    "\n",
    "# Predict on the test set\n",
    "p_tree2_scale = model_tree2_scale.predict(X_test_scaled)\n",
    "p_tree2_scale = p_tree2_scale+MiscVal_test\n",
    "\n",
    "# Calculate RMSE of the model\n",
    "REGTREE_residuals_scale = p_tree2_scale - y_test\n",
    "REGTREE_MSE_scale = (REGTREE_residuals_scale**2).mean()\n",
    "REGTREE_RMSE_scale = math.sqrt(REGTREE_MSE_scale)\n",
    "\n",
    "print \"RMSE with scaling Regression Tree is:\", round(REGTREE_RMSE_scale,4)"
   ]
  },
  {
   "cell_type": "code",
   "execution_count": 43,
   "metadata": {
    "collapsed": false
   },
   "outputs": [
    {
     "name": "stdout",
     "output_type": "stream",
     "text": [
      "RMSE with scaling for Regression Tree USING LOG is: 47096.1417\n"
     ]
    }
   ],
   "source": [
    "# Create and fit the model\n",
    "model_tree2_scalelog = DecisionTreeRegressor(random_state = 1)\n",
    "model_tree2_scalelog.fit(X_train_scaled, log_y_train_LessMiscVal)\n",
    "\n",
    "# Predict on the test set\n",
    "p_tree2_scalelog = model_tree2_scalelog.predict(X_test_scaled)\n",
    "p_tree2_scalelog = np.exp(p_tree2_scalelog)+MiscVal_test\n",
    "\n",
    "# Calculate RMSE of the model\n",
    "REGTREE_residuals_scalelog = y_test - p_tree2_scalelog\n",
    "REGTREE_MSE_scalelog = (REGTREE_residuals_scalelog**2).mean()\n",
    "REGTREE_RMSE_scalelog = math.sqrt(REGTREE_MSE_scalelog)\n",
    "\n",
    "print \"RMSE with scaling for Regression Tree USING LOG is:\", round(REGTREE_RMSE_scalelog,4)"
   ]
  },
  {
   "cell_type": "code",
   "execution_count": 44,
   "metadata": {
    "collapsed": false
   },
   "outputs": [
    {
     "name": "stdout",
     "output_type": "stream",
     "text": [
      "3CarGarage         0.340405\n",
      "GrLivArea          0.210178\n",
      "OverallCondQual    0.129570\n",
      "1stFlrSF           0.074432\n",
      "Age                0.068998\n",
      "MoSold_Jan         0.026902\n",
      "BsmtGLQUnfSF       0.025703\n",
      "LotArea            0.015673\n",
      "BedroomAbvGr       0.012511\n",
      "LargeGarage        0.011858\n",
      "dtype: float64\n"
     ]
    }
   ],
   "source": [
    "# # Feature importances from Model 1\n",
    "# imp_tree1 = pd.Series(model_tree1.feature_importances_,X_train.columns.values)\n",
    "# print imp_tree1.sort_values(ascending = False)[:10]\n",
    "\n",
    "# Feature importances from Model 2\n",
    "imp_tree2 = pd.Series(model_tree2_reg.feature_importances_,X_train.columns.values)\n",
    "print imp_tree2.sort_values(ascending = False)[:10]"
   ]
  },
  {
   "cell_type": "code",
   "execution_count": 45,
   "metadata": {
    "collapsed": false
   },
   "outputs": [
    {
     "name": "stdout",
     "output_type": "stream",
     "text": [
      "RMSE for Regression Tree is: 47122.7055\n",
      "RMSE for Regression Tree USING LOG is: 47124.9776\n",
      "RMSE with scaling Regression Tree is: 47106.5476\n",
      "RMSE with scaling for Regression Tree USING LOG is: 47096.1417\n"
     ]
    }
   ],
   "source": [
    "# SUMMARY - Regression Trees\n",
    "print \"RMSE for Regression Tree is:\", round(REGTREE_RMSE_reg,4)\n",
    "print \"RMSE for Regression Tree USING LOG is:\", round(REGTREE_RMSE_log,4)\n",
    "print \"RMSE with scaling Regression Tree is:\", round(REGTREE_RMSE_scale,4)\n",
    "print \"RMSE with scaling for Regression Tree USING LOG is:\", round(REGTREE_RMSE_scalelog,4)"
   ]
  },
  {
   "cell_type": "markdown",
   "metadata": {},
   "source": [
    "###  Random Forest (GridSearchCV)"
   ]
  },
  {
   "cell_type": "code",
   "execution_count": 46,
   "metadata": {
    "collapsed": true
   },
   "outputs": [],
   "source": [
    "# Cross validate RF model\n",
    "# Set parameter dictionary to search through\n",
    "params = {'n_estimators':[10,100,500, 1000], 'max_depth':[5,10,20]}\n",
    "\n",
    "# Create model and fit best parameters\n",
    "model_rf2 = RandomForestRegressor()\n",
    "model_rf2_GS_reg = GridSearchCV(model_rf2, params)\n",
    "model_rf2_GS_log = GridSearchCV(model_rf2, params)\n",
    "model_rf2_GS_scale = GridSearchCV(model_rf2, params)\n",
    "model_rf2_GS_scalelog = GridSearchCV(model_rf2, params)"
   ]
  },
  {
   "cell_type": "code",
   "execution_count": 47,
   "metadata": {
    "collapsed": false
   },
   "outputs": [
    {
     "data": {
      "text/plain": [
       "GridSearchCV(cv=None, error_score='raise',\n",
       "       estimator=RandomForestRegressor(bootstrap=True, criterion='mse', max_depth=None,\n",
       "           max_features='auto', max_leaf_nodes=None,\n",
       "           min_impurity_split=1e-07, min_samples_leaf=1,\n",
       "           min_samples_split=2, min_weight_fraction_leaf=0.0,\n",
       "           n_estimators=10, n_jobs=1, oob_score=False, random_state=None,\n",
       "           verbose=0, warm_start=False),\n",
       "       fit_params={}, iid=True, n_jobs=1,\n",
       "       param_grid={'n_estimators': [10, 100, 500, 1000], 'max_depth': [5, 10, 20]},\n",
       "       pre_dispatch='2*n_jobs', refit=True, scoring=None, verbose=0)"
      ]
     },
     "execution_count": 47,
     "metadata": {},
     "output_type": "execute_result"
    }
   ],
   "source": [
    "# Avoid running, build a RF model below\n",
    "model_rf2_GS_reg.fit(X_train, y_train_LessMiscVal)"
   ]
  },
  {
   "cell_type": "code",
   "execution_count": 48,
   "metadata": {
    "collapsed": false
   },
   "outputs": [
    {
     "data": {
      "text/plain": [
       "GridSearchCV(cv=None, error_score='raise',\n",
       "       estimator=RandomForestRegressor(bootstrap=True, criterion='mse', max_depth=None,\n",
       "           max_features='auto', max_leaf_nodes=None,\n",
       "           min_impurity_split=1e-07, min_samples_leaf=1,\n",
       "           min_samples_split=2, min_weight_fraction_leaf=0.0,\n",
       "           n_estimators=10, n_jobs=1, oob_score=False, random_state=None,\n",
       "           verbose=0, warm_start=False),\n",
       "       fit_params={}, iid=True, n_jobs=1,\n",
       "       param_grid={'n_estimators': [10, 100, 500, 1000], 'max_depth': [5, 10, 20]},\n",
       "       pre_dispatch='2*n_jobs', refit=True, scoring=None, verbose=0)"
      ]
     },
     "execution_count": 48,
     "metadata": {},
     "output_type": "execute_result"
    }
   ],
   "source": [
    "# Avoid running, build a RF model below\n",
    "model_rf2_GS_log.fit(X_train, log_y_train_LessMiscVal)"
   ]
  },
  {
   "cell_type": "code",
   "execution_count": 49,
   "metadata": {
    "collapsed": false
   },
   "outputs": [
    {
     "data": {
      "text/plain": [
       "GridSearchCV(cv=None, error_score='raise',\n",
       "       estimator=RandomForestRegressor(bootstrap=True, criterion='mse', max_depth=None,\n",
       "           max_features='auto', max_leaf_nodes=None,\n",
       "           min_impurity_split=1e-07, min_samples_leaf=1,\n",
       "           min_samples_split=2, min_weight_fraction_leaf=0.0,\n",
       "           n_estimators=10, n_jobs=1, oob_score=False, random_state=None,\n",
       "           verbose=0, warm_start=False),\n",
       "       fit_params={}, iid=True, n_jobs=1,\n",
       "       param_grid={'n_estimators': [10, 100, 500, 1000], 'max_depth': [5, 10, 20]},\n",
       "       pre_dispatch='2*n_jobs', refit=True, scoring=None, verbose=0)"
      ]
     },
     "execution_count": 49,
     "metadata": {},
     "output_type": "execute_result"
    }
   ],
   "source": [
    "# Avoid running, build a RF model below\n",
    "model_rf2_GS_scale.fit(X_train_scaled, y_train_LessMiscVal)"
   ]
  },
  {
   "cell_type": "code",
   "execution_count": 50,
   "metadata": {
    "collapsed": false
   },
   "outputs": [
    {
     "data": {
      "text/plain": [
       "GridSearchCV(cv=None, error_score='raise',\n",
       "       estimator=RandomForestRegressor(bootstrap=True, criterion='mse', max_depth=None,\n",
       "           max_features='auto', max_leaf_nodes=None,\n",
       "           min_impurity_split=1e-07, min_samples_leaf=1,\n",
       "           min_samples_split=2, min_weight_fraction_leaf=0.0,\n",
       "           n_estimators=10, n_jobs=1, oob_score=False, random_state=None,\n",
       "           verbose=0, warm_start=False),\n",
       "       fit_params={}, iid=True, n_jobs=1,\n",
       "       param_grid={'n_estimators': [10, 100, 500, 1000], 'max_depth': [5, 10, 20]},\n",
       "       pre_dispatch='2*n_jobs', refit=True, scoring=None, verbose=0)"
      ]
     },
     "execution_count": 50,
     "metadata": {},
     "output_type": "execute_result"
    }
   ],
   "source": [
    "# Avoid running, build a RF model below\n",
    "model_rf2_GS_scalelog.fit(X_train_scaled, log_y_train_LessMiscVal)"
   ]
  },
  {
   "cell_type": "code",
   "execution_count": 51,
   "metadata": {
    "collapsed": true
   },
   "outputs": [],
   "source": [
    "# Save best estimates to avoid re-running grid search\n",
    "model_rf2_GS_reg_best=model_rf2_GS_reg.best_estimator_\n",
    "model_rf2_GS_log_best=model_rf2_GS_log.best_estimator_\n",
    "model_rf2_GS_scale_best=model_rf2_GS_scale.best_estimator_\n",
    "model_rf2_GS_scalelog_best=model_rf2_GS_scalelog.best_estimator_"
   ]
  },
  {
   "cell_type": "code",
   "execution_count": 52,
   "metadata": {
    "collapsed": false
   },
   "outputs": [
    {
     "name": "stdout",
     "output_type": "stream",
     "text": [
      "RMSE for GS Random Forest is: 28787.5195\n"
     ]
    }
   ],
   "source": [
    "# Make predictions on Grid search optimized RF model\n",
    "p_rf2_reg = model_rf2_GS_reg.predict(X_test)\n",
    "p_rf2_reg = p_rf2_reg+MiscVal_test\n",
    "\n",
    "# Calculate RMSE of the model\n",
    "GS_RANDFOR_residuals_reg =  y_test-p_rf2_reg\n",
    "GS_RANDFOR_MSE_reg = (GS_RANDFOR_residuals_reg**2).mean()\n",
    "GS_RANDFOR_RMSE_reg = math.sqrt(GS_RANDFOR_MSE_reg)\n",
    "\n",
    "print \"RMSE for GS Random Forest is:\", round(GS_RANDFOR_RMSE_reg,4)"
   ]
  },
  {
   "cell_type": "code",
   "execution_count": 53,
   "metadata": {
    "collapsed": false
   },
   "outputs": [
    {
     "name": "stdout",
     "output_type": "stream",
     "text": [
      "RMSE for GS Random Forest USING LOG is: 28403.9379\n"
     ]
    }
   ],
   "source": [
    "# Make predictions on Grid search optimized RF model\n",
    "p_rf2_log = model_rf2_GS_log.predict(X_test)\n",
    "p_rf2_log = np.exp(p_rf2_log)+MiscVal_test\n",
    "\n",
    "# Calculate RMSE of the model\n",
    "GS_RANDFOR_residuals_log = y_test - p_rf2_log\n",
    "GS_RANDFOR_MSE_log = (GS_RANDFOR_residuals_log**2).mean()\n",
    "GS_RANDFOR_RMSE_log = math.sqrt(GS_RANDFOR_MSE_log)\n",
    "\n",
    "print \"RMSE for GS Random Forest USING LOG is:\", round(GS_RANDFOR_RMSE_log,4)"
   ]
  },
  {
   "cell_type": "code",
   "execution_count": 54,
   "metadata": {
    "collapsed": false
   },
   "outputs": [
    {
     "name": "stdout",
     "output_type": "stream",
     "text": [
      "RMSE using scaling for GS Random Forest is: 28064.8796\n"
     ]
    }
   ],
   "source": [
    "# Make predictions on Grid search optimized RF model\n",
    "p_rf2_scale = model_rf2_GS_scale.predict(X_test_scaled)\n",
    "p_rf2_scale = p_rf2_scale+MiscVal_test\n",
    "\n",
    "# Calculate RMSE of the model\n",
    "GS_RANDFOR_residuals_scale = y_test-p_rf2_scale\n",
    "GS_RANDFOR_MSE_scale = (GS_RANDFOR_residuals_scale**2).mean()\n",
    "GS_RANDFOR_RMSE_scale = math.sqrt(GS_RANDFOR_MSE_scale)\n",
    "\n",
    "print \"RMSE using scaling for GS Random Forest is:\", round(GS_RANDFOR_RMSE_scale,4)"
   ]
  },
  {
   "cell_type": "code",
   "execution_count": 55,
   "metadata": {
    "collapsed": false
   },
   "outputs": [
    {
     "name": "stdout",
     "output_type": "stream",
     "text": [
      "RMSE using scaling for GS Random Forest USING LOG is: 29342.3059\n"
     ]
    }
   ],
   "source": [
    "# Make predictions on Grid search optimized RF model\n",
    "p_rf2_scalelog = model_rf2_GS_scalelog.predict(X_test_scaled)\n",
    "p_rf2_scalelog = np.exp(p_rf2_scalelog)+MiscVal_test\n",
    "\n",
    "# Calculate RMSE of the model\n",
    "GS_RANDFOR_residuals_scalelog = y_test - p_rf2_scalelog\n",
    "GS_RANDFOR_MSE_scalelog = (GS_RANDFOR_residuals_scalelog**2).mean()\n",
    "GS_RANDFOR_RMSE_scalelog = math.sqrt(GS_RANDFOR_MSE_scalelog)\n",
    "\n",
    "print \"RMSE using scaling for GS Random Forest USING LOG is:\", round(GS_RANDFOR_RMSE_scalelog,4)"
   ]
  },
  {
   "cell_type": "code",
   "execution_count": 56,
   "metadata": {
    "collapsed": false
   },
   "outputs": [
    {
     "name": "stdout",
     "output_type": "stream",
     "text": [
      "RMSE for GS Random Forest is: 28787.5195\n",
      "RMSE for GS Random Forest USING LOG is: 28403.9379\n",
      "RMSE using scaling for GS Random Forest is: 28064.8796\n",
      "RMSE using scaling for GS Random Forest USING LOG is: 29342.3059\n"
     ]
    }
   ],
   "source": [
    "# SUMMARY - GridsearchCV on Random Forests\n",
    "print \"RMSE for GS Random Forest is:\", round(GS_RANDFOR_RMSE_reg,4)\n",
    "print \"RMSE for GS Random Forest USING LOG is:\", round(GS_RANDFOR_RMSE_log,4)\n",
    "print \"RMSE using scaling for GS Random Forest is:\", round(GS_RANDFOR_RMSE_scale,4)\n",
    "print \"RMSE using scaling for GS Random Forest USING LOG is:\", round(GS_RANDFOR_RMSE_scalelog,4)"
   ]
  },
  {
   "cell_type": "markdown",
   "metadata": {},
   "source": [
    "### Gradient Boosting (GridSearchCV)"
   ]
  },
  {
   "cell_type": "code",
   "execution_count": 76,
   "metadata": {
    "collapsed": true
   },
   "outputs": [],
   "source": [
    "# Create Gradient Boosting Model\n",
    "model_gb1 = GradientBoostingRegressor()\n",
    "\n",
    "# Create parameter dictionary for GridSearchCV\n",
    "params = {'n_estimators':(5,10,50,100,500,1000),'learning_rate':(0.01, 0.05, 0.1, 0.2)}\n",
    "\n",
    "#Create Grid Search Model\n",
    "model_gb1_GS = GridSearchCV(model_gb1,params)\n",
    "model_gb1_GS_reg = GridSearchCV(model_gb1, params)\n",
    "model_gb1_GS_log = GridSearchCV(model_gb1, params)\n",
    "model_gb1_GS_scale = GridSearchCV(model_gb1, params)\n",
    "model_gb1_GS_scalelog = GridSearchCV(model_gb1, params)"
   ]
  },
  {
   "cell_type": "code",
   "execution_count": 58,
   "metadata": {
    "collapsed": false
   },
   "outputs": [
    {
     "data": {
      "text/plain": [
       "GridSearchCV(cv=None, error_score='raise',\n",
       "       estimator=GradientBoostingRegressor(alpha=0.9, criterion='friedman_mse', init=None,\n",
       "             learning_rate=0.1, loss='ls', max_depth=3, max_features=None,\n",
       "             max_leaf_nodes=None, min_impurity_split=1e-07,\n",
       "             min_samples_leaf=1, min_samples_split=2,\n",
       "             min_weight_fraction_leaf=0.0, n_estimators=100,\n",
       "             presort='auto', random_state=None, subsample=1.0, verbose=0,\n",
       "             warm_start=False),\n",
       "       fit_params={}, iid=True, n_jobs=1,\n",
       "       param_grid={'n_estimators': (5, 10, 50, 100, 500, 1000), 'learning_rate': (0.01, 0.05, 0.1, 0.2)},\n",
       "       pre_dispatch='2*n_jobs', refit=True, scoring=None, verbose=0)"
      ]
     },
     "execution_count": 58,
     "metadata": {},
     "output_type": "execute_result"
    }
   ],
   "source": [
    "# Avoid running, build a RF model below\n",
    "model_gb1_GS_reg.fit(X_train, y_train_LessMiscVal)"
   ]
  },
  {
   "cell_type": "code",
   "execution_count": 59,
   "metadata": {
    "collapsed": false
   },
   "outputs": [
    {
     "data": {
      "text/plain": [
       "GridSearchCV(cv=None, error_score='raise',\n",
       "       estimator=GradientBoostingRegressor(alpha=0.9, criterion='friedman_mse', init=None,\n",
       "             learning_rate=0.1, loss='ls', max_depth=3, max_features=None,\n",
       "             max_leaf_nodes=None, min_impurity_split=1e-07,\n",
       "             min_samples_leaf=1, min_samples_split=2,\n",
       "             min_weight_fraction_leaf=0.0, n_estimators=100,\n",
       "             presort='auto', random_state=None, subsample=1.0, verbose=0,\n",
       "             warm_start=False),\n",
       "       fit_params={}, iid=True, n_jobs=1,\n",
       "       param_grid={'n_estimators': (5, 10, 50, 100, 500, 1000), 'learning_rate': (0.01, 0.05, 0.1, 0.2)},\n",
       "       pre_dispatch='2*n_jobs', refit=True, scoring=None, verbose=0)"
      ]
     },
     "execution_count": 59,
     "metadata": {},
     "output_type": "execute_result"
    }
   ],
   "source": [
    "# Avoid running, build a RF model below\n",
    "model_gb1_GS_log.fit(X_train, log_y_train_LessMiscVal)"
   ]
  },
  {
   "cell_type": "code",
   "execution_count": 60,
   "metadata": {
    "collapsed": false
   },
   "outputs": [
    {
     "data": {
      "text/plain": [
       "GridSearchCV(cv=None, error_score='raise',\n",
       "       estimator=GradientBoostingRegressor(alpha=0.9, criterion='friedman_mse', init=None,\n",
       "             learning_rate=0.1, loss='ls', max_depth=3, max_features=None,\n",
       "             max_leaf_nodes=None, min_impurity_split=1e-07,\n",
       "             min_samples_leaf=1, min_samples_split=2,\n",
       "             min_weight_fraction_leaf=0.0, n_estimators=100,\n",
       "             presort='auto', random_state=None, subsample=1.0, verbose=0,\n",
       "             warm_start=False),\n",
       "       fit_params={}, iid=True, n_jobs=1,\n",
       "       param_grid={'n_estimators': (5, 10, 50, 100, 500, 1000), 'learning_rate': (0.01, 0.05, 0.1, 0.2)},\n",
       "       pre_dispatch='2*n_jobs', refit=True, scoring=None, verbose=0)"
      ]
     },
     "execution_count": 60,
     "metadata": {},
     "output_type": "execute_result"
    }
   ],
   "source": [
    "# Avoid running, build a RF model below\n",
    "model_gb1_GS_scale.fit(X_train_scaled, y_train_LessMiscVal)"
   ]
  },
  {
   "cell_type": "code",
   "execution_count": 77,
   "metadata": {
    "collapsed": false
   },
   "outputs": [
    {
     "data": {
      "text/plain": [
       "GridSearchCV(cv=None, error_score='raise',\n",
       "       estimator=GradientBoostingRegressor(alpha=0.9, criterion='friedman_mse', init=None,\n",
       "             learning_rate=0.1, loss='ls', max_depth=3, max_features=None,\n",
       "             max_leaf_nodes=None, min_impurity_split=1e-07,\n",
       "             min_samples_leaf=1, min_samples_split=2,\n",
       "             min_weight_fraction_leaf=0.0, n_estimators=100,\n",
       "             presort='auto', random_state=None, subsample=1.0, verbose=0,\n",
       "             warm_start=False),\n",
       "       fit_params={}, iid=True, n_jobs=1,\n",
       "       param_grid={'n_estimators': (5, 10, 50, 100, 500, 1000), 'learning_rate': (0.01, 0.05, 0.1, 0.2)},\n",
       "       pre_dispatch='2*n_jobs', refit=True, scoring=None, verbose=0)"
      ]
     },
     "execution_count": 77,
     "metadata": {},
     "output_type": "execute_result"
    }
   ],
   "source": [
    "# Avoid running, build a RF model below\n",
    "model_gb1_GS_scalelog.fit(X_train_scaled, log_y_train_LessMiscVal)"
   ]
  },
  {
   "cell_type": "code",
   "execution_count": 62,
   "metadata": {
    "collapsed": true
   },
   "outputs": [],
   "source": [
    "# Save best estimates to avoid re-running grid search\n",
    "model_gb1_GS_reg_best=model_gb1_GS_reg.best_estimator_\n",
    "model_gb1_GS_log_best=model_gb1_GS_log.best_estimator_\n",
    "model_gb1_GS_scale_best=model_gb1_GS_scale.best_estimator_\n",
    "model_gb1_GS_scalelog_best=model_gb1_GS_scalelog.best_estimator_"
   ]
  },
  {
   "cell_type": "code",
   "execution_count": 63,
   "metadata": {
    "collapsed": false
   },
   "outputs": [
    {
     "name": "stdout",
     "output_type": "stream",
     "text": [
      "RMSE for GS Gradient Boosting is: 26363.6162\n"
     ]
    }
   ],
   "source": [
    "# Make predictions on Grid search optimized Gradient Boosting model\n",
    "p_gb1_reg = model_gb1_GS_reg.predict(X_test)\n",
    "p_gb1_reg = p_gb1_reg+MiscVal_test\n",
    "\n",
    "# Calculate RMSE of the model\n",
    "GS_GRADBOOST_residuals_reg = y_test - p_gb1_reg\n",
    "GS_GRADBOOST_MSE_reg = (GS_GRADBOOST_residuals_reg**2).mean()\n",
    "GS_GRADBOOST_RMSE_reg = math.sqrt(GS_GRADBOOST_MSE_reg)\n",
    "\n",
    "print \"RMSE for GS Gradient Boosting is:\", round(GS_GRADBOOST_RMSE_reg,4)"
   ]
  },
  {
   "cell_type": "code",
   "execution_count": 64,
   "metadata": {
    "collapsed": false
   },
   "outputs": [
    {
     "name": "stdout",
     "output_type": "stream",
     "text": [
      "RMSE for GS Gradient Boosting USING LOG is: 27148.1884\n"
     ]
    }
   ],
   "source": [
    "# Make predictions on Grid search optimized Gradient Boosting model\n",
    "p_gb1_log = model_gb1_GS_log.predict(X_test)\n",
    "p_gb1_log = np.exp(p_gb1_log)+MiscVal_test\n",
    "\n",
    "# Calculate RMSE of the model\n",
    "GS_GRADBOOST_residuals_log = y_test-p_gb1_log\n",
    "GS_GRADBOOST_MSE_log = (GS_GRADBOOST_residuals_log**2).mean()\n",
    "GS_GRADBOOST_RMSE_log = math.sqrt(GS_GRADBOOST_MSE_log)\n",
    "\n",
    "print \"RMSE for GS Gradient Boosting USING LOG is:\", round(GS_GRADBOOST_RMSE_log,4)"
   ]
  },
  {
   "cell_type": "code",
   "execution_count": 65,
   "metadata": {
    "collapsed": false
   },
   "outputs": [
    {
     "name": "stdout",
     "output_type": "stream",
     "text": [
      "RMSE with scaling for GS Gradient Boosting is: 26563.7179\n"
     ]
    }
   ],
   "source": [
    "# Make predictions on Grid search optimized Gradient Boosting model\n",
    "p_gb1_scale = model_gb1_GS_scale.predict(X_test_scaled)\n",
    "p_gb1_scale = p_gb1_scale+MiscVal_test\n",
    "\n",
    "# Calculate RMSE of the model\n",
    "GS_GRADBOOST_residuals_scale = y_test - p_gb1_scale\n",
    "GS_GRADBOOST_MSE_scale = (GS_GRADBOOST_residuals_scale**2).mean()\n",
    "GS_GRADBOOST_RMSE_scale = math.sqrt(GS_GRADBOOST_MSE_scale)\n",
    "\n",
    "print \"RMSE with scaling for GS Gradient Boosting is:\", round(GS_GRADBOOST_RMSE_scale,4)"
   ]
  },
  {
   "cell_type": "code",
   "execution_count": 78,
   "metadata": {
    "collapsed": false
   },
   "outputs": [
    {
     "name": "stdout",
     "output_type": "stream",
     "text": [
      "RMSE with scaling for GS Gradient Boosting USING LOG is: 25732.6053\n"
     ]
    }
   ],
   "source": [
    "# Make predictions on Grid search optimized Gradient Boosting model\n",
    "p_gb1_scalelog = model_gb1_GS_scalelog.predict(X_test_scaled)\n",
    "p_gb1_scalelog = np.exp(p_gb1_scalelog)+MiscVal_test\n",
    "\n",
    "# Calculate RMSE of the model\n",
    "GS_GRADBOOST_residuals_scalelog = y_test - p_gb1_scalelog\n",
    "GS_GRADBOOST_MSE_scalelog = (GS_GRADBOOST_residuals_scalelog**2).mean()\n",
    "GS_GRADBOOST_RMSE_scalelog = math.sqrt(GS_GRADBOOST_MSE_scalelog)\n",
    "\n",
    "print \"RMSE with scaling for GS Gradient Boosting USING LOG is:\", round(GS_GRADBOOST_RMSE_scalelog,4)"
   ]
  },
  {
   "cell_type": "code",
   "execution_count": 67,
   "metadata": {
    "collapsed": false
   },
   "outputs": [
    {
     "name": "stdout",
     "output_type": "stream",
     "text": [
      "RMSE for GS Gradient Boosting is: 26363.6162\n",
      "RMSE for GS Gradient Boosting USING LOG is: 27148.1884\n",
      "RMSE with scaling for GS Gradient Boosting is: 26563.7179\n",
      "RMSE with scaling for GS Gradient Boosting USING LOG is: 26078.3505\n"
     ]
    }
   ],
   "source": [
    "# SUMMARY - GridsearchCV on Gradient Boosting\n",
    "print \"RMSE for GS Gradient Boosting is:\", round(GS_GRADBOOST_RMSE_reg,4)\n",
    "print \"RMSE for GS Gradient Boosting USING LOG is:\", round(GS_GRADBOOST_RMSE_log,4)\n",
    "print \"RMSE with scaling for GS Gradient Boosting is:\", round(GS_GRADBOOST_RMSE_scale,4)\n",
    "print \"RMSE with scaling for GS Gradient Boosting USING LOG is:\", round(GS_GRADBOOST_RMSE_scalelog,4)"
   ]
  },
  {
   "cell_type": "markdown",
   "metadata": {},
   "source": [
    "### AdaBoost"
   ]
  },
  {
   "cell_type": "code",
   "execution_count": 84,
   "metadata": {
    "collapsed": false
   },
   "outputs": [
    {
     "data": {
      "text/plain": [
       "GridSearchCV(cv=5, error_score='raise',\n",
       "       estimator=AdaBoostRegressor(base_estimator=None, learning_rate=1.0, loss='linear',\n",
       "         n_estimators=50, random_state=0),\n",
       "       fit_params={}, iid=True, n_jobs=1,\n",
       "       param_grid={'loss': ['linear', 'square'], 'learning_rate': [0.01, 0.001, 0.0001]},\n",
       "       pre_dispatch='2*n_jobs', refit=True,\n",
       "       scoring=make_scorer(mean_squared_error, greater_is_better=False),\n",
       "       verbose=0)"
      ]
     },
     "execution_count": 84,
     "metadata": {},
     "output_type": "execute_result"
    }
   ],
   "source": [
    "#predictions are on average 1.17 times as large as the actual value\n",
    "parameters={'learning_rate': [0.01, 0.001, 0.0001], 'loss': ['linear', 'square']}\n",
    "accuracy=make_scorer(mean_squared_error, greater_is_better=False)\n",
    "GS_ADABOOST = GridSearchCV(AdaBoostRegressor(random_state=0), parameters, cv=5,scoring=accuracy)\n",
    "GS_ADABOOST.fit(X_train, y_train_LessMiscVal)"
   ]
  },
  {
   "cell_type": "code",
   "execution_count": 69,
   "metadata": {
    "collapsed": false
   },
   "outputs": [
    {
     "data": {
      "text/plain": [
       "{'learning_rate': 0.01, 'loss': 'linear'}"
      ]
     },
     "execution_count": 69,
     "metadata": {},
     "output_type": "execute_result"
    }
   ],
   "source": [
    "GS_ADABOOST.best_params_"
   ]
  },
  {
   "cell_type": "code",
   "execution_count": 70,
   "metadata": {
    "collapsed": false
   },
   "outputs": [
    {
     "data": {
      "text/plain": [
       "41334.178809789672"
      ]
     },
     "execution_count": 70,
     "metadata": {},
     "output_type": "execute_result"
    }
   ],
   "source": [
    "GS_ADABOOST_reg=AdaBoostRegressor(random_state=1, loss='linear', learning_rate=0.01)\n",
    "GS_ADABOOST_reg.fit(X_train, y_train_LessMiscVal)\n",
    "GS_ADABOOST_predict_reg=GS_ADABOOST_reg.predict(X_test)\n",
    "GS_ADABOOST_predict_reg=GS_ADABOOST_predict_reg+MiscVal_test\n",
    "GS_ADABOOST_RMSE_reg=np.sqrt(np.mean((y_test-GS_ADABOOST_predict_reg)**2))\n",
    "GS_ADABOOST_RMSE_reg"
   ]
  },
  {
   "cell_type": "code",
   "execution_count": 71,
   "metadata": {
    "collapsed": false
   },
   "outputs": [
    {
     "data": {
      "text/plain": [
       "41093.379179312258"
      ]
     },
     "execution_count": 71,
     "metadata": {},
     "output_type": "execute_result"
    }
   ],
   "source": [
    "GS_ADABOOST_scale=AdaBoostRegressor(random_state=1, loss='linear', learning_rate=0.01)\n",
    "GS_ADABOOST_scale.fit(X_train_scaled, y_train_LessMiscVal)\n",
    "GS_ADABOOST_predict_scale = GS_ADABOOST_scale.predict(X_test_scaled)\n",
    "GS_ADABOOST_predict_scale=GS_ADABOOST_predict_scale+MiscVal_test\n",
    "GS_ADABOOST_RMSE_scale=np.sqrt(np.mean((y_test-GS_ADABOOST_predict_scale)**2))\n",
    "GS_ADABOOST_RMSE_scale"
   ]
  },
  {
   "cell_type": "code",
   "execution_count": 72,
   "metadata": {
    "collapsed": false
   },
   "outputs": [
    {
     "data": {
      "text/plain": [
       "44149.652508502106"
      ]
     },
     "execution_count": 72,
     "metadata": {},
     "output_type": "execute_result"
    }
   ],
   "source": [
    "GS_ADABOOST_log=AdaBoostRegressor(random_state=1, loss='linear', learning_rate=0.01)\n",
    "GS_ADABOOST_log.fit(X_train, log_y_train_LessMiscVal)\n",
    "GS_ADABOOST_predict_log = GS_ADABOOST_log.predict(X_test)\n",
    "GS_ADABOOST_predict_log=np.exp(GS_ADABOOST_predict_log)+MiscVal_test\n",
    "GS_ADABOOST_RMSE_log=np.sqrt(np.mean((y_test-GS_ADABOOST_predict_log)**2))\n",
    "GS_ADABOOST_RMSE_log"
   ]
  },
  {
   "cell_type": "code",
   "execution_count": 85,
   "metadata": {
    "collapsed": false
   },
   "outputs": [
    {
     "data": {
      "text/plain": [
       "44149.905981014126"
      ]
     },
     "execution_count": 85,
     "metadata": {},
     "output_type": "execute_result"
    }
   ],
   "source": [
    "GS_ADABOOST_scalelog=AdaBoostRegressor(random_state=1, loss='linear', learning_rate=0.01)\n",
    "GS_ADABOOST_scalelog.fit(X_train_scaled, log_y_train_LessMiscVal)\n",
    "GS_ADABOOST_predict_scalelog = GS_ADABOOST_scalelog.predict(X_test_scaled)\n",
    "GS_ADABOOST_predict_scalelog=np.exp(GS_ADABOOST_predict_scalelog)+MiscVal_test\n",
    "GS_ADABOOST_RMSE_scalelog=np.sqrt(np.mean((y_test-GS_ADABOOST_predict_scalelog)**2))\n",
    "GS_ADABOOST_RMSE_scalelog"
   ]
  },
  {
   "cell_type": "markdown",
   "metadata": {},
   "source": [
    "### MARS"
   ]
  },
  {
   "cell_type": "code",
   "execution_count": 72,
   "metadata": {
    "collapsed": false
   },
   "outputs": [],
   "source": [
    "# Best Model\n",
    "MARS_scalelog = Earth(max_degree= 3,penalty=2.0,feature_importance_type = \"rss\",\n",
    "                      smooth=True,enable_pruning=True)\n",
    "\n",
    "MARS_scalelog_fit = MARS_scalelog.fit(X_train_scaled,log_y_train_LessMiscVal)"
   ]
  },
  {
   "cell_type": "code",
   "execution_count": 73,
   "metadata": {
    "collapsed": false
   },
   "outputs": [
    {
     "name": "stdout",
     "output_type": "stream",
     "text": [
      "Earth Model\n",
      "---------------------------------------------------------------------------------------------------\n",
      "Basis Function                                                                Pruned  Coefficient  \n",
      "---------------------------------------------------------------------------------------------------\n",
      "(Intercept)                                                                   No      12.5109      \n",
      "C(x8|s=+1,-1.1407,2.06079,3.06549)                                            Yes     None         \n",
      "C(x8|s=-1,-1.1407,2.06079,3.06549)                                            No      -0.134452    \n",
      "x13                                                                           No      -0.0774712   \n",
      "C(x81|s=+1,-1.36808,1.96777,3.18081)                                          No      0.128767     \n",
      "C(x81|s=-1,-1.36808,1.96777,3.18081)                                          No      -0.0862461   \n",
      "C(x7|s=+1,-0.827562,2.0682,3.27567)                                           Yes     None         \n",
      "C(x7|s=-1,-0.827562,2.0682,3.27567)                                           No      -0.0441483   \n",
      "x1                                                                            No      0.0333795    \n",
      "C(x79|s=+1,-0.440299,1.4622,1.7047)*x13                                       No      -0.206134    \n",
      "C(x79|s=-1,-0.440299,1.4622,1.7047)*x13                                       Yes     None         \n",
      "x66*C(x8|s=+1,-1.1407,2.06079,3.06549)                                        No      -0.138411    \n",
      "x85                                                                           No      0.022584     \n",
      "x91                                                                           No      0.0172272    \n",
      "x75                                                                           No      -0.0247656   \n",
      "x90                                                                           No      0.0147067    \n",
      "x86*C(x7|s=-1,-0.827562,2.0682,3.27567)                                       No      0.00319653   \n",
      "x78                                                                           No      0.0643878    \n",
      "x107                                                                          No      0.0345568    \n",
      "C(x8|s=+1,-1.4297,1.48278,2.77649)*x107                                       No      -0.143576    \n",
      "C(x8|s=-1,-1.4297,1.48278,2.77649)*x107                                       No      0.000465579  \n",
      "x108*C(x7|s=-1,-0.827562,2.0682,3.27567)                                      No      -0.0114581   \n",
      "x9*C(x79|s=+1,-0.440299,1.4622,1.7047)*x13                                    No      0.148864     \n",
      "C(x1|s=+1,-1.5387,0.590021,3.28112)*x86*C(x7|s=-1,-0.827562,2.0682,3.27567)   No      0.0208726    \n",
      "C(x1|s=-1,-1.5387,0.590021,3.28112)*x86*C(x7|s=-1,-0.827562,2.0682,3.27567)   Yes     None         \n",
      "x13*x13                                                                       Yes     None         \n",
      "C(x13|s=+1,0.545546,2.29769,2.79358)*x13*x13                                  No      0.00863866   \n",
      "C(x13|s=-1,0.545546,2.29769,2.79358)*x13*x13                                  No      0.0247365    \n",
      "x105                                                                          No      -0.0177284   \n",
      "x76*C(x8|s=-1,-1.1407,2.06079,3.06549)                                        No      -0.0196675   \n",
      "C(x1|s=+1,-0.570557,2.52631,4.24926)*C(x8|s=-1,-1.4297,1.48278,2.77649)*x107  No      -0.614802    \n",
      "C(x1|s=-1,-0.570557,2.52631,4.24926)*C(x8|s=-1,-1.4297,1.48278,2.77649)*x107  No      0.000972393  \n",
      "x89*x76*C(x8|s=-1,-1.1407,2.06079,3.06549)                                    No      -0.00549124  \n",
      "C(x7|s=+1,-0.827562,2.0682,3.27567)*x13                                       No      -0.207348    \n",
      "C(x7|s=-1,-0.827562,2.0682,3.27567)*x13                                       Yes     None         \n",
      "C(x14|s=+1,0.325218,1.78915,1.81354)*C(x81|s=-1,-1.36808,1.96777,3.18081)     No      -0.0204221   \n",
      "C(x14|s=-1,0.325218,1.78915,1.81354)*C(x81|s=-1,-1.36808,1.96777,3.18081)     Yes     None         \n",
      "x92*C(x7|s=-1,-0.827562,2.0682,3.27567)*x13                                   No      0.0097734    \n",
      "C(x7|s=+1,-1.76613,0.191068,2.3371)*x107                                      Yes     None         \n",
      "C(x7|s=-1,-1.76613,0.191068,2.3371)*x107                                      No      -0.0673607   \n",
      "x10                                                                           No      -0.0164601   \n",
      "x3*x10                                                                        No      0.0202314    \n",
      "x103*C(x81|s=-1,-1.36808,1.96777,3.18081)                                     No      -0.00992514  \n",
      "x103*x90                                                                      No      -0.0257383   \n",
      "x35*C(x81|s=-1,-1.36808,1.96777,3.18081)                                      No      0.0107911    \n",
      "C(x14|s=+1,0.325218,1.78915,1.81354)*C(x7|s=-1,-0.827562,2.0682,3.27567)*x13  No      -0.00730041  \n",
      "C(x14|s=-1,0.325218,1.78915,1.81354)*C(x7|s=-1,-0.827562,2.0682,3.27567)*x13  No      0.00642574   \n",
      "C(x1|s=+1,-1.48273,0.701966,3.33709)*x13                                      Yes     None         \n",
      "C(x1|s=-1,-1.48273,0.701966,3.33709)*x13                                      No      -0.0298965   \n",
      "---------------------------------------------------------------------------------------------------\n",
      "MSE: 0.0103, GCV: 0.0122, RSQ: 0.9297, GRSQ: 0.9169\n",
      "         rss\n",
      "x8       0.56   \n",
      "x13      0.19   \n",
      "x81      0.09   \n",
      "x1       0.04   \n",
      "x79      0.02   \n",
      "x7       0.02   \n",
      "x107     0.02   \n",
      "x66      0.01   \n",
      "x86      0.01   \n",
      "x91      0.00   \n",
      "x78      0.00   \n",
      "x10      0.00   \n",
      "x85      0.00   \n",
      "x75      0.00   \n",
      "x76      0.00   \n",
      "x14      0.00   \n",
      "x103     0.00   \n",
      "x108     0.00   \n",
      "x3       0.00   \n",
      "x90      0.00   \n",
      "x105     0.00   \n",
      "x89      0.00   \n",
      "x92      0.00   \n",
      "x35      0.00   \n",
      "x9       0.00   \n",
      "x32      0.00   \n",
      "x33      0.00   \n",
      "x34      0.00   \n",
      "x31      0.00   \n",
      "x116     0.00   \n",
      "x39      0.00   \n",
      "x36      0.00   \n",
      "x37      0.00   \n",
      "x38      0.00   \n",
      "x29      0.00   \n",
      "x40      0.00   \n",
      "x41      0.00   \n",
      "x42      0.00   \n",
      "x43      0.00   \n",
      "x44      0.00   \n",
      "x45      0.00   \n",
      "x46      0.00   \n",
      "x47      0.00   \n",
      "x30      0.00   \n",
      "x22      0.00   \n",
      "x28      0.00   \n",
      "x17      0.00   \n",
      "x2       0.00   \n",
      "x4       0.00   \n",
      "x5       0.00   \n",
      "x6       0.00   \n",
      "x11      0.00   \n",
      "x12      0.00   \n",
      "x15      0.00   \n",
      "x16      0.00   \n",
      "x18      0.00   \n",
      "x27      0.00   \n",
      "x19      0.00   \n",
      "x20      0.00   \n",
      "x21      0.00   \n",
      "x49      0.00   \n",
      "x23      0.00   \n",
      "x24      0.00   \n",
      "x25      0.00   \n",
      "x26      0.00   \n",
      "x48      0.00   \n",
      "x58      0.00   \n",
      "x50      0.00   \n",
      "x99      0.00   \n",
      "x83      0.00   \n",
      "x84      0.00   \n",
      "x87      0.00   \n",
      "x88      0.00   \n",
      "x93      0.00   \n",
      "x94      0.00   \n",
      "x95      0.00   \n",
      "x96      0.00   \n",
      "x97      0.00   \n",
      "x98      0.00   \n",
      "x100     0.00   \n",
      "x51      0.00   \n",
      "x101     0.00   \n",
      "x102     0.00   \n",
      "x104     0.00   \n",
      "x106     0.00   \n",
      "x109     0.00   \n",
      "x110     0.00   \n",
      "x111     0.00   \n",
      "x112     0.00   \n",
      "x113     0.00   \n",
      "x114     0.00   \n",
      "x82      0.00   \n",
      "x80      0.00   \n",
      "x77      0.00   \n",
      "x74      0.00   \n",
      "x52      0.00   \n",
      "x53      0.00   \n",
      "x54      0.00   \n",
      "x55      0.00   \n",
      "x56      0.00   \n",
      "x57      0.00   \n",
      "x115     0.00   \n",
      "x59      0.00   \n",
      "x60      0.00   \n",
      "x61      0.00   \n",
      "x62      0.00   \n",
      "x63      0.00   \n",
      "x64      0.00   \n",
      "x65      0.00   \n",
      "x67      0.00   \n",
      "x68      0.00   \n",
      "x69      0.00   \n",
      "x70      0.00   \n",
      "x71      0.00   \n",
      "x72      0.00   \n",
      "x73      0.00   \n",
      "x0       0.00   \n",
      "\n"
     ]
    }
   ],
   "source": [
    "# Model Summary\n",
    "print MARS_scalelog_fit.summary()\n",
    "print MARS_scalelog_fit.summary_feature_importances(sort_by = 'rss')"
   ]
  },
  {
   "cell_type": "code",
   "execution_count": 74,
   "metadata": {
    "collapsed": false
   },
   "outputs": [
    {
     "name": "stdout",
     "output_type": "stream",
     "text": [
      "The rmse for MARS is 26406.7087515\n"
     ]
    }
   ],
   "source": [
    "MARS_predict_scalelog = MARS_scalelog_fit.predict(X_test_scaled)\n",
    "MARS_predict_scalelog = np.exp(MARS_predict_scalelog)+MiscVal_test\n",
    "MARS_RMSE_scalelog = np.sqrt(mean_squared_error(y_test,MARS_predict_scalelog))\n",
    "print \"The rmse for MARS is\", MARS_RMSE_scalelog"
   ]
  },
  {
   "cell_type": "markdown",
   "metadata": {},
   "source": [
    "## MODEL COMPARISONS"
   ]
  },
  {
   "cell_type": "code",
   "execution_count": 77,
   "metadata": {
    "collapsed": false
   },
   "outputs": [
    {
     "data": {
      "text/html": [
       "<div>\n",
       "<table border=\"1\" class=\"dataframe\">\n",
       "  <thead>\n",
       "    <tr style=\"text-align: right;\">\n",
       "      <th></th>\n",
       "      <th>All Predictors</th>\n",
       "      <th>Log Price</th>\n",
       "      <th>Scaled Predictors</th>\n",
       "      <th>Scaled Predictors+LogPrice</th>\n",
       "    </tr>\n",
       "  </thead>\n",
       "  <tbody>\n",
       "    <tr>\n",
       "      <th>MLR</th>\n",
       "      <td>33660.3</td>\n",
       "      <td>27131.7</td>\n",
       "      <td>184581</td>\n",
       "      <td>--</td>\n",
       "    </tr>\n",
       "    <tr>\n",
       "      <th>Lasso</th>\n",
       "      <td>34128.8</td>\n",
       "      <td>31410.9</td>\n",
       "      <td>32075</td>\n",
       "      <td>26493.3</td>\n",
       "    </tr>\n",
       "    <tr>\n",
       "      <th>Ridge</th>\n",
       "      <td>31649.1</td>\n",
       "      <td>26892.1</td>\n",
       "      <td>33648.8</td>\n",
       "      <td>27280.3</td>\n",
       "    </tr>\n",
       "    <tr>\n",
       "      <th>MLP</th>\n",
       "      <td>--</td>\n",
       "      <td>--</td>\n",
       "      <td>36454.6</td>\n",
       "      <td>--</td>\n",
       "    </tr>\n",
       "    <tr>\n",
       "      <th>SVR</th>\n",
       "      <td>55947</td>\n",
       "      <td>--</td>\n",
       "      <td>52939.5</td>\n",
       "      <td>24791.4</td>\n",
       "    </tr>\n",
       "    <tr>\n",
       "      <th>SGD Regression</th>\n",
       "      <td>197802</td>\n",
       "      <td>--</td>\n",
       "      <td>199211</td>\n",
       "      <td>--</td>\n",
       "    </tr>\n",
       "    <tr>\n",
       "      <th>MARS</th>\n",
       "      <td>--</td>\n",
       "      <td>--</td>\n",
       "      <td>--</td>\n",
       "      <td>26406.7</td>\n",
       "    </tr>\n",
       "    <tr>\n",
       "      <th>Regression Tree</th>\n",
       "      <td>47122.7</td>\n",
       "      <td>47125</td>\n",
       "      <td>47106.5</td>\n",
       "      <td>47096.1</td>\n",
       "    </tr>\n",
       "    <tr>\n",
       "      <th>Ada Boosting</th>\n",
       "      <td>41334.2</td>\n",
       "      <td>44149.7</td>\n",
       "      <td>41093.4</td>\n",
       "      <td>44149.9</td>\n",
       "    </tr>\n",
       "    <tr>\n",
       "      <th>Gradient Boost</th>\n",
       "      <td>26363.6</td>\n",
       "      <td>27148.2</td>\n",
       "      <td>26563.7</td>\n",
       "      <td>26078.4</td>\n",
       "    </tr>\n",
       "    <tr>\n",
       "      <th>Random Forest</th>\n",
       "      <td>28787.5</td>\n",
       "      <td>28403.9</td>\n",
       "      <td>28064.9</td>\n",
       "      <td>29342.3</td>\n",
       "    </tr>\n",
       "  </tbody>\n",
       "</table>\n",
       "</div>"
      ],
      "text/plain": [
       "                All Predictors Log Price Scaled Predictors  \\\n",
       "MLR                    33660.3   27131.7            184581   \n",
       "Lasso                  34128.8   31410.9             32075   \n",
       "Ridge                  31649.1   26892.1           33648.8   \n",
       "MLP                         --        --           36454.6   \n",
       "SVR                      55947        --           52939.5   \n",
       "SGD Regression          197802        --            199211   \n",
       "MARS                        --        --                --   \n",
       "Regression Tree        47122.7     47125           47106.5   \n",
       "Ada Boosting           41334.2   44149.7           41093.4   \n",
       "Gradient Boost         26363.6   27148.2           26563.7   \n",
       "Random Forest          28787.5   28403.9           28064.9   \n",
       "\n",
       "                Scaled Predictors+LogPrice  \n",
       "MLR                                     --  \n",
       "Lasso                              26493.3  \n",
       "Ridge                              27280.3  \n",
       "MLP                                     --  \n",
       "SVR                                24791.4  \n",
       "SGD Regression                          --  \n",
       "MARS                               26406.7  \n",
       "Regression Tree                    47096.1  \n",
       "Ada Boosting                       44149.9  \n",
       "Gradient Boost                     26078.4  \n",
       "Random Forest                      29342.3  "
      ]
     },
     "execution_count": 77,
     "metadata": {},
     "output_type": "execute_result"
    }
   ],
   "source": [
    "models=['MLR','lasso','ridge','MLP','SVR','GSCV_SGDclf','MARS','REGTREE',\n",
    "        'GS_ADABOOST','GS_GRADBOOST','GS_RANDFOR']\n",
    "modelnames=['MLR','Lasso','Ridge','MLP','SVR','SGD Regression','MARS','Regression Tree',\n",
    "            'Ada Boosting','Gradient Boost','Random Forest']\n",
    "versions=['reg','log','scale','scalelog']\n",
    "versionnames=['All Predictors','Log Price','Scaled Predictors','Scaled Predictors+LogPrice']\n",
    "RMSEsummary_dict={}\n",
    "\n",
    "for model in models:\n",
    "    for version in versions:\n",
    "        try:\n",
    "            RMSE=eval(model+'_RMSE_'+version)\n",
    "        except:\n",
    "            RMSE='--'\n",
    "        if version in RMSEsummary_dict.keys():\n",
    "            RMSEsummary_dict[version].append(RMSE)\n",
    "        else:\n",
    "            RMSEsummary_dict[version]=[RMSE]\n",
    "\n",
    "\n",
    "RMSEsummary=pd.DataFrame(RMSEsummary_dict,index=modelnames)\n",
    "RMSEsummary=RMSEsummary.rename(columns=dict(zip(versions,versionnames)))\n",
    "RMSEsummary=RMSEsummary[versionnames]\n",
    "RMSEsummary"
   ]
  },
  {
   "cell_type": "code",
   "execution_count": 78,
   "metadata": {
    "collapsed": true
   },
   "outputs": [],
   "source": [
    "# Best Residuals\n",
    "BMresiduals_GRADBOOST_scale=GS_GRADBOOST_residuals_scale\n",
    "BMresiduals_MARS_scalelog=y_test-MARS_predict_scalelog\n",
    "BMresiduals_LASSO_scalelog=lassoResiduals_scalelog\n",
    "\n",
    "# Worst Residuals\n",
    "WMresiduals_SVR_scale=y_test-SVR_predict_scale\n",
    "WMresiduals_ADABOOST_log=y_test-GS_ADABOOST_predict_log\n",
    "WMresiduals_SGD_reg=y_test-GSCV_SGDclf_predict_reg"
   ]
  },
  {
   "cell_type": "code",
   "execution_count": 79,
   "metadata": {
    "collapsed": false
   },
   "outputs": [
    {
     "data": {
      "text/plain": [
       "<matplotlib.text.Text at 0xcde9390>"
      ]
     },
     "execution_count": 79,
     "metadata": {},
     "output_type": "execute_result"
    },
    {
     "data": {
      "image/png": "[encoded data removed]",
      "text/plain": [
       "<matplotlib.figure.Figure at 0xe8ce630>"
      ]
     },
     "metadata": {},
     "output_type": "display_data"
    }
   ],
   "source": [
    "# Plot Residuals - Best Models\n",
    "fig = plt.figure(figsize=(15, 7))\n",
    "ax1 = fig.add_subplot(121)\n",
    "ax1.plot(y_test,BMresiduals_LASSO_scalelog,\"o\",label='Lasso',color='palegreen')\n",
    "ax1.plot(y_test,BMresiduals_MARS_scalelog,\"o\",label='MARS',color='mediumspringgreen')\n",
    "ax1.plot(y_test,BMresiduals_GRADBOOST_scale,\"o\",label='GradientBoost', color='darkgreen')\n",
    "ax1.legend(numpoints=1,loc='upper right')\n",
    "ax1.set_ylabel('Residuals ($)')\n",
    "ax1.yaxis.set_major_formatter(mtick.FuncFormatter('{:,.0f}'.format))\n",
    "ax1.set_ylim([-200000,500000])\n",
    "ax1.set_xlabel('Actual Price ($)')\n",
    "ax1.xaxis.set_major_formatter(mtick.FuncFormatter('{:,.0f}'.format))\n",
    "ax1.set_title('Residuals', fontsize=12, fontweight='bold')"
   ]
  },
  {
   "cell_type": "code",
   "execution_count": 80,
   "metadata": {
    "collapsed": false
   },
   "outputs": [
    {
     "data": {
      "text/plain": [
       "<matplotlib.text.Text at 0xdce3080>"
      ]
     },
     "execution_count": 80,
     "metadata": {},
     "output_type": "execute_result"
    },
    {
     "data": {
      "image/png": "[encoded data removed]",
      "text/plain": [
       "<matplotlib.figure.Figure at 0xe726860>"
      ]
     },
     "metadata": {},
     "output_type": "display_data"
    }
   ],
   "source": [
    "# Plot Residuals - Worst Models\n",
    "fig = plt.figure(figsize=(15, 7))\n",
    "ax2 = fig.add_subplot(121)\n",
    "ax2.plot(y_test,WMresiduals_SVR_scale,\"o\",label='SVR',color='palevioletred')\n",
    "ax2.plot(y_test,WMresiduals_SGD_reg,\"o\",label='SGD Regression',color='red')\n",
    "ax2.plot(y_test,WMresiduals_ADABOOST_log,\"o\",label='AdaBoost', color='darkred')\n",
    "ax2.legend(numpoints=1,loc='upper left')\n",
    "ax2.set_ylabel('Residuals ($)')\n",
    "ax2.yaxis.set_major_formatter(mtick.FuncFormatter('{:,.0f}'.format))\n",
    "ax2.set_xlabel('Actual Price ($)')\n",
    "ax2.xaxis.set_major_formatter(mtick.FuncFormatter('{:,.0f}'.format))\n",
    "ax2.set_title('Residuals', fontsize=12, fontweight='bold')"
   ]
  },
  {
   "cell_type": "markdown",
   "metadata": {
    "collapsed": true
   },
   "source": [
    "# Cross-validating Best Models and Creating Kaggle Submissions"
   ]
  },
  {
   "cell_type": "code",
   "execution_count": 36,
   "metadata": {
    "collapsed": true
   },
   "outputs": [],
   "source": [
    "X_comp['BsmtBath'] = X_comp['BsmtBath'].fillna(0.0)\n",
    "X_comp['TotBath'] = X_comp['TotBath'].fillna(0.0)"
   ]
  },
  {
   "cell_type": "code",
   "execution_count": 34,
   "metadata": {
    "collapsed": false
   },
   "outputs": [],
   "source": [
    "# Pull out MiscVal\n",
    "MiscVal_train = X['MiscVal']\n",
    "X = X.drop('MiscVal',1)\n",
    "y_LessMiscVal = y - MiscVal_train\n",
    "\n",
    "\n",
    "MiscVal_comp = X_comp['MiscVal']\n",
    "X_comp = X_comp.drop('MiscVal',1)"
   ]
  },
  {
   "cell_type": "code",
   "execution_count": 37,
   "metadata": {
    "collapsed": false
   },
   "outputs": [],
   "source": [
    "# Transforming entire train set\n",
    "log_y = y_LessMiscVal.map(float).map(log)\n",
    "\n",
    "scaler = StandardScaler()\n",
    "X_scaled = scaler.fit_transform(X)\n",
    "X_comp_scaled = scaler.transform(X_comp)"
   ]
  },
  {
   "cell_type": "code",
   "execution_count": 38,
   "metadata": {
    "collapsed": false
   },
   "outputs": [
    {
     "data": {
      "text/plain": [
       "0.0044339391611238838"
      ]
     },
     "execution_count": 38,
     "metadata": {},
     "output_type": "execute_result"
    }
   ],
   "source": [
    "lasso_cv_scalelog = LassoCV(alphas=None, cv=15, max_iter=10000).fit(X_scaled,ravel(log_y))\n",
    "lasso_cv_scalelog.alpha_"
   ]
  },
  {
   "cell_type": "code",
   "execution_count": 41,
   "metadata": {
    "collapsed": false
   },
   "outputs": [
    {
     "name": "stdout",
     "output_type": "stream",
     "text": [
      "[22952.626181927495, 36583.971713055776, 32044.243004796564, 23657.262056024727, 42206.575897727518]\n",
      "31488.9357707\n"
     ]
    }
   ],
   "source": [
    "#K-Fold validation for Lasso (scale_log)\n",
    "\n",
    "kf = KFold(n_splits=5)\n",
    "\n",
    "scores=[]\n",
    "for train_index, test_index in kf.split(X_scaled):\n",
    "    X_tr, X_ts = X_scaled[train_index], X_scaled[test_index]\n",
    "    misc_tr, misc_ts = MiscVal_train[train_index], MiscVal_train[test_index]\n",
    "    y_tr, y_ts = log_y[train_index], log_y[test_index]\n",
    "    lasso = Lasso(alpha=lasso_cv_scalelog.alpha_)\n",
    "    model=lasso.fit(X_tr,ravel(y_tr))\n",
    "    predict=model.predict(X_ts)\n",
    "    rmse = sqrt(mean_squared_error((np.exp(y_ts)+misc_ts), (np.exp(predict)+misc_ts)))\n",
    "    scores.append(rmse)\n",
    "    \n",
    "print scores\n",
    "print mean(scores)"
   ]
  },
  {
   "cell_type": "code",
   "execution_count": 44,
   "metadata": {
    "collapsed": false
   },
   "outputs": [],
   "source": [
    "lassoKagglePred_ften = list(np.exp(lasso_cv_scalelog.predict(X_comp_scaled))+MiscVal_comp)\n",
    "\n",
    "# Save predictions to file\n",
    "outfile = open('lassoKagglePred_ften1.csv', 'w')\n",
    "for item in lassoKagglePred_ften:\n",
    "    outfile.write(\"%s\\n\" % item)\n",
    "outfile.close()"
   ]
  },
  {
   "cell_type": "code",
   "execution_count": 47,
   "metadata": {
    "collapsed": false
   },
   "outputs": [],
   "source": [
    "# Create parameter dictionary for GridSearchCV\n",
    "params = {'kernel':('linear', 'poly', 'rbf', 'sigmoid'),'C':(.01,.1,1,10)}\n",
    "SVR_scalelog = GridSearchCV(SVR(), params).fit(X_scaled,ravel(log_y))\n",
    "SVRmodel = SVR_scalelog.best_estimator_"
   ]
  },
  {
   "cell_type": "code",
   "execution_count": 48,
   "metadata": {
    "collapsed": false
   },
   "outputs": [
    {
     "name": "stdout",
     "output_type": "stream",
     "text": [
      "[22581.921853052496, 37818.113417913002, 31374.474035209681, 22118.690762039318, 48552.940570397528]\n",
      "32489.2281277\n"
     ]
    }
   ],
   "source": [
    "#K-Fold validation for SVR (scale_log)\n",
    "\n",
    "kf = KFold(n_splits=5)\n",
    "\n",
    "scores=[]\n",
    "for train_index, test_index in kf.split(X_scaled):\n",
    "    X_tr, X_ts = X_scaled[train_index], X_scaled[test_index]\n",
    "    misc_tr, misc_ts = MiscVal_train[train_index], MiscVal_train[test_index]\n",
    "    y_tr, y_ts = log_y[train_index], log_y[test_index]\n",
    "    model=SVRmodel.fit(X_tr,ravel(y_tr))\n",
    "    predict=model.predict(X_ts)\n",
    "    rmse = sqrt(mean_squared_error((np.exp(y_ts)+misc_ts), (np.exp(predict)+misc_ts)))\n",
    "    scores.append(rmse)\n",
    "    \n",
    "print scores\n",
    "print mean(scores)"
   ]
  },
  {
   "cell_type": "code",
   "execution_count": 49,
   "metadata": {
    "collapsed": true
   },
   "outputs": [],
   "source": [
    "# Create parameter dictionary for GridSearchCV\n",
    "params = {'n_estimators':(5,10,50,100,500,1000),'learning_rate':(0.01, 0.05, 0.1, 0.2),'min_samples_leaf':(1,5,10,20)}\n",
    "gradientBoost_scalelog = GridSearchCV(GradientBoostingRegressor(), params).fit(X_scaled,ravel(y))\n",
    "GBmodel2 = gradientBoost_scalelog.best_estimator_"
   ]
  },
  {
   "cell_type": "code",
   "execution_count": 50,
   "metadata": {
    "collapsed": false
   },
   "outputs": [
    {
     "name": "stdout",
     "output_type": "stream",
     "text": [
      "[23558.279153368818, 38709.298378926404, 32159.812017694563, 20506.11544312086, 29379.105737102469]\n",
      "28862.522146\n"
     ]
    }
   ],
   "source": [
    "#K-Fold validation for Gradient Boosting (scale)\n",
    "\n",
    "kf = KFold(n_splits=5)\n",
    "\n",
    "scores=[]\n",
    "for train_index, test_index in kf.split(X_scaled):\n",
    "    X_tr, X_ts = X_scaled[train_index], X_scaled[test_index]\n",
    "    misc_tr, misc_ts = MiscVal_train[train_index], MiscVal_train[test_index]\n",
    "    y_tr, y_ts = y[train_index], y[test_index]\n",
    "    model=GBmodel2.fit(X_tr,ravel(y_tr))\n",
    "    predict=model.predict(X_ts)\n",
    "    rmse = sqrt(mean_squared_error(y_ts, predict+misc_ts))\n",
    "    scores.append(rmse)\n",
    "    \n",
    "print scores\n",
    "print mean(scores)"
   ]
  },
  {
   "cell_type": "code",
   "execution_count": 53,
   "metadata": {
    "collapsed": false
   },
   "outputs": [
    {
     "data": {
      "image/png": "[encoded data removed]",
      "text/plain": [
       "<matplotlib.figure.Figure at 0xd9008d0>"
      ]
     },
     "metadata": {},
     "output_type": "display_data"
    }
   ],
   "source": [
    "feature_importance = GBmodel2.feature_importances_\n",
    "# make importances relative to max importance\n",
    "feature_importance = 100.0 * (feature_importance / feature_importance.max())\n",
    "feature_importance = feature_importance[:20]\n",
    "#print feature_importance\n",
    "sorted_idx = np.argsort(feature_importance)\n",
    "#sorted_idx = sorted_idx\n",
    "#print sorted_idx\n",
    "list_columns=list(X.columns.values)\n",
    "\n",
    "pos = np.arange(sorted_idx.shape[0]) + .5\n",
    "\n",
    "feature_names=[]\n",
    "for i in range(len(sorted_idx)):\n",
    "    feature_names.append(list_columns[sorted_idx[i]])\n",
    "#print feature_names\n",
    "#print feature_importance[sorted_idx]\n",
    "#plt.subplot(1, 2, 2)\n",
    "plt.figure(figsize=(12, 6))\n",
    "plt.barh(pos, feature_importance[sorted_idx], align='center')\n",
    "plt.yticks(pos, feature_names)\n",
    "\n",
    "plt.xlabel('Relative Importance')\n",
    "plt.title('Gradient Boosting Variable Importance- Data w/Feature Engineering')\n",
    "plt.show()"
   ]
  },
  {
   "cell_type": "code",
   "execution_count": 86,
   "metadata": {
    "collapsed": false
   },
   "outputs": [
    {
     "data": {
      "text/plain": [
       "<matplotlib.text.Text at 0xe3380f0>"
      ]
     },
     "execution_count": 86,
     "metadata": {},
     "output_type": "execute_result"
    },
    {
     "data": {
      "image/png": "[encoded data removed]",
      "text/plain": [
       "<matplotlib.figure.Figure at 0xdd14c18>"
      ]
     },
     "metadata": {},
     "output_type": "display_data"
    },
    {
     "data": {
      "image/png": "[encoded data removed]",
      "text/plain": [
       "<matplotlib.figure.Figure at 0xcb9e2e8>"
      ]
     },
     "metadata": {},
     "output_type": "display_data"
    }
   ],
   "source": [
    "## Best\n",
    "BMresiduals_MARS_scalelog=y_test-MARS_predict_scalelog\n",
    "BMresiduals_GRADBOOST_scalelog=y_test-p_gb1_scalelog\n",
    "BMresiduals_SVR_scalelog=y_test-SVR_predict_scalelog\n",
    "\n",
    "# Plot Residuals - Best Models\n",
    "fig = plt.figure(figsize=(15, 7))\n",
    "ax1 = fig.add_subplot(121)\n",
    "ax1.plot(y_test,BMresiduals_MARS_scalelog,\"o\",label='MARS',color='palegreen')\n",
    "ax1.plot(y_test,BMresiduals_GRADBOOST_scalelog,\"o\",label='Gradient Boost',color='mediumspringgreen')\n",
    "ax1.plot(y_test,BMresiduals_SVR_scalelog,\"o\",label='SVR', color='darkgreen')\n",
    "ax1.legend(numpoints=1,loc='upper right')\n",
    "ax1.set_ylabel('Residuals ($)')\n",
    "ax1.yaxis.set_major_formatter(mtick.FuncFormatter('{:,.0f}'.format))\n",
    "ax1.set_xlabel('Actual Price ($)')\n",
    "ax1.xaxis.set_major_formatter(mtick.FuncFormatter('{:,.0f}'.format))\n",
    "ax1.set_title('Residuals', fontsize=12, fontweight='bold')\n",
    "\n",
    "## Worst\n",
    "WMresiduals_SVR_reg=y_test-SVR_predict_reg\n",
    "WMresiduals_REGTREE_log=y_test-p_tree2_log\n",
    "WMresiduals_ADABOOST_scalelog=y_test-GS_ADABOOST_predict_scalelog\n",
    "\n",
    "# Plot Residuals - Worst Models\n",
    "fig = plt.figure(figsize=(15, 7))\n",
    "ax2 = fig.add_subplot(121)\n",
    "ax2.plot(y_test,WMresiduals_ADABOOST_scalelog,\"o\",label='Ada Boosting',color='palevioletred')\n",
    "ax2.plot(y_test,WMresiduals_REGTREE_log,\"o\",label='Regression Tree',color='red')\n",
    "ax2.plot(y_test,WMresiduals_SVR_reg,\"o\",label='SVR', color='darkred')\n",
    "ax2.legend(numpoints=1,loc='upper left')\n",
    "ax2.set_ylabel('Residuals ($)')\n",
    "ax2.yaxis.set_major_formatter(mtick.FuncFormatter('{:,.0f}'.format))\n",
    "ax2.set_xlabel('Actual Price ($)')\n",
    "ax2.xaxis.set_major_formatter(mtick.FuncFormatter('{:,.0f}'.format))\n",
    "ax2.set_title('Residuals', fontsize=12, fontweight='bold')"
   ]
  },
  {
   "cell_type": "code",
   "execution_count": null,
   "metadata": {
    "collapsed": true
   },
   "outputs": [],
   "source": []
  }
 ],
 "metadata": {
  "anaconda-cloud": {},
  "kernelspec": {
   "display_name": "Python [Root]",
   "language": "python",
   "name": "Python [Root]"
  },
  "language_info": {
   "codemirror_mode": {
    "name": "ipython",
    "version": 2
   },
   "file_extension": ".py",
   "mimetype": "text/x-python",
   "name": "python",
   "nbconvert_exporter": "python",
   "pygments_lexer": "ipython2",
   "version": "2.7.11"
  }
 },
 "nbformat": 4,
 "nbformat_minor": 0
}
