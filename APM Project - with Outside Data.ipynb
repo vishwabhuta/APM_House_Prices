{
 "cells": [
  {
   "cell_type": "markdown",
   "metadata": {},
   "source": [
    "# APM Project"
   ]
  },
  {
   "cell_type": "code",
   "execution_count": 91,
   "metadata": {
    "collapsed": false
   },
   "outputs": [
    {
     "name": "stdout",
     "output_type": "stream",
     "text": [
      "Populating the interactive namespace from numpy and matplotlib\n"
     ]
    },
    {
     "name": "stderr",
     "output_type": "stream",
     "text": [
      "WARNING: pylab import has clobbered these variables: ['log', 'exp']\n",
      "`%matplotlib` prevents importing * from pylab and numpy\n"
     ]
    }
   ],
   "source": [
    "#Import Statements\n",
    "\n",
    "#basic\n",
    "import pandas as pd\n",
    "import numpy as np\n",
    "from math import log,exp\n",
    "import math\n",
    "\n",
    "#visualization\n",
    "import matplotlib.pyplot as plt\n",
    "import matplotlib.ticker as mtick\n",
    "import seaborn\n",
    "\n",
    "% pylab inline\n",
    "\n",
    "#sklearn\n",
    "from sklearn import model_selection\n",
    "from sklearn.cluster import KMeans\n",
    "from sklearn.ensemble import (RandomForestRegressor, GradientBoostingRegressor, AdaBoostRegressor)\n",
    "from sklearn.grid_search import GridSearchCV\n",
    "from sklearn.linear_model import LinearRegression\n",
    "from sklearn.linear_model import LogisticRegression\n",
    "from sklearn.linear_model import Lasso\n",
    "from sklearn.linear_model import LassoCV\n",
    "from sklearn.linear_model import Ridge\n",
    "from sklearn.linear_model import RidgeCV\n",
    "from sklearn.linear_model import SGDRegressor\n",
    "from sklearn.metrics import (mean_squared_error, confusion_matrix,accuracy_score, make_scorer)\n",
    "from sklearn.model_selection import train_test_split\n",
    "from sklearn.neural_network import MLPRegressor\n",
    "from sklearn.preprocessing import StandardScaler\n",
    "from sklearn.svm import SVR\n",
    "from sklearn.tree import DecisionTreeClassifier, DecisionTreeRegressor\n",
    "from sklearn.model_selection import KFold\n",
    "\n",
    "#MARS\n",
    "import pyearth\n",
    "from pyearth import Earth\n",
    "\n",
    "#other stats & clustering\n",
    "from scipy import stats\n",
    "from patsy import dmatrices\n",
    "from collections import Counter\n",
    "from scipy.spatial.distance import cdist,pdist\n"
   ]
  },
  {
   "cell_type": "markdown",
   "metadata": {},
   "source": [
    "## DATA PRE-PROCESSING"
   ]
  },
  {
   "cell_type": "code",
   "execution_count": 79,
   "metadata": {
    "collapsed": true
   },
   "outputs": [],
   "source": [
    "def preprocess(df):\n",
    "    \n",
    "    # Feature engineering for categorical variables captured as numbers\n",
    "    # Turn MSSubClass into factors\n",
    "    code = ['20', '30', '40', '45', '50', '60', '70', '75', '80', '85', '90', '120', '150', '160', '180', '190']\n",
    "    strings = ['1-STORY 1946 & NEWER ALL STYLES', '1-STORY 1945 & OLDER', '1-STORY W/FINISHED ATTIC ALL AGES', '1-1/2 STORY - UNFINISHED ALL AGES',\\\n",
    "     '1-1/2 STORY FINISHED ALL AGES', '2-STORY 1946 & NEWER', '2-STORY 1945 & OLDER', '2-1/2 STORY ALL AGES', \\\n",
    "     'SPLIT OR MULTI-LEVEL', 'SPLIT FOYER', 'DUPLEX - ALL STYLES AND AGES', '1-STORY PUD (Planned Unit Development) - 1946 & NEWER',\\\n",
    "     '1-1/2 STORY PUD - ALL AGES', '2-STORY PUD - 1946 & NEWER', 'PUD - MULTILEVEL - INCL SPLIT LEV/FOYER', \\\n",
    "     '2 FAMILY CONVERSION - ALL STYLES AND AGES']\n",
    "\n",
    "    MSSubClass=dict(zip(code,strings))\n",
    "    df['MSSubClass']=[MSSubClass[str(val)] for val in df['MSSubClass']]\n",
    "\n",
    "    # Turn month sold into factors\n",
    "    months = ['Jan','Feb','Mar','Apr','May','Jun','Jul','Aug','Sept','Oct','Nov','Dec']\n",
    "    df['MoSold'] = df['MoSold'].replace(to_replace = df['MoSold'].value_counts().index.sort_values(),value=months)\n",
    "    \n",
    "    # Feature engineering for age-related variables\n",
    "    # Convert yearsold vs yearbuilt into age of house\n",
    "    df['Age'] =  df['YrSold'] - df['YearBuilt']\n",
    "    df = df.drop('YearBuilt', 1)\n",
    "    # Convert yearsold vs. yearreomdadd into age of remodel. Adding 2 to eliminate any negative or 0 values\n",
    "    df['AgeRem'] = (df['YrSold'] - df['YearRemodAdd'])+2\n",
    "    df = df.drop('YearRemodAdd', 1)\n",
    "    # Remove age of garage - many missing values (if no garage)\n",
    "    #  no additional valuable information (garage captured in other variables); age of house more important for age\n",
    "    df = df.drop('GarageYrBlt', 1)\n",
    "    df = df.drop('Id',1)\n",
    "    \n",
    "    # Fill select variables with most common / mode where logical\n",
    "    # Most masonry veneer type is None and area is 0\n",
    "    df['MasVnrType'] = df['MasVnrType'].fillna('None')\n",
    "    df['MasVnrArea'] = df['MasVnrArea'].fillna(0.0)\n",
    "    # Most electrical is 'SBrkr'\n",
    "    df['Electrical'] = df['Electrical'].fillna('SBrkr')\n",
    "    df['LotFrontage'] = df['LotFrontage'].fillna(mean(df['LotFrontage']))\n",
    "    \n",
    "    return df"
   ]
  },
  {
   "cell_type": "code",
   "execution_count": 80,
   "metadata": {
    "collapsed": true
   },
   "outputs": [],
   "source": [
    "def preprocess_withOutsideData(df):\n",
    "    \n",
    "    # Feature engineering for categorical variables captured as numbers\n",
    "    # Turn MSSubClass into factors\n",
    "    code = ['20', '30', '40', '45', '50', '60', '70', '75', '80', '85', '90', '120', '150', '160', '180', '190']\n",
    "    strings = ['1-STORY 1946 & NEWER ALL STYLES', '1-STORY 1945 & OLDER', '1-STORY W/FINISHED ATTIC ALL AGES', '1-1/2 STORY - UNFINISHED ALL AGES',\\\n",
    "     '1-1/2 STORY FINISHED ALL AGES', '2-STORY 1946 & NEWER', '2-STORY 1945 & OLDER', '2-1/2 STORY ALL AGES', \\\n",
    "     'SPLIT OR MULTI-LEVEL', 'SPLIT FOYER', 'DUPLEX - ALL STYLES AND AGES', '1-STORY PUD (Planned Unit Development) - 1946 & NEWER',\\\n",
    "     '1-1/2 STORY PUD - ALL AGES', '2-STORY PUD - 1946 & NEWER', 'PUD - MULTILEVEL - INCL SPLIT LEV/FOYER', \\\n",
    "     '2 FAMILY CONVERSION - ALL STYLES AND AGES']\n",
    "\n",
    "    MSSubClass=dict(zip(code,strings))\n",
    "    df['MSSubClass']=[MSSubClass[str(val)] for val in df['MSSubClass']]\n",
    "\n",
    "    # Turn month sold into factors\n",
    "    months = ['Jan','Feb','Mar','Apr','May','Jun','Jul','Aug','Sept','Oct','Nov','Dec']\n",
    "    df['MoSold'] = df['MoSold'].replace(to_replace = df['MoSold'].value_counts().index.sort_values(),value=months)\n",
    "    \n",
    "    # Feature engineering for age-related variables\n",
    "    # Convert yearsold vs yearbuilt into age of house\n",
    "    df['Age'] =  df['YrSold'] - df['YearBuilt']\n",
    "    df = df.drop('YearBuilt', 1)\n",
    "    # Convert yearsold vs. yearreomdadd into age of remodel. Adding 2 to eliminate any negative or 0 values\n",
    "    df['AgeRem'] = (df['YrSold'] - df['YearRemodAdd'])+2\n",
    "    df = df.drop('YearRemodAdd', 1)\n",
    "    # Remove age of garage - many missing values (if no garage)\n",
    "    #  no additional valuable information (garage captured in other variables); age of house more important for age\n",
    "    df = df.drop('GarageYrBlt', 1)\n",
    "    df = df.drop('Id',1)\n",
    "    \n",
    "    # Fill select variables with most common / mode where logical\n",
    "    # Most masonry veneer type is None and area is 0\n",
    "    df['MasVnrType'] = df['MasVnrType'].fillna('None')\n",
    "    df['MasVnrArea'] = df['MasVnrArea'].fillna(0.0)\n",
    "    # Most electrical is 'SBrkr'\n",
    "    df['Electrical'] = df['Electrical'].fillna('SBrkr')\n",
    "    df['LotFrontage'] = df['LotFrontage'].fillna(mean(df['LotFrontage']))\n",
    "    \n",
    "    ## Outside Data - Neighborhood Income Data\n",
    "    neighb_incomedata=pd.read_csv('data/Neighborhood_Income.csv')\n",
    "    neighb_incomedata['Rating']=neighb_incomedata['Rating'].map(lambda x: 'NeighbIncomeTier'+str(x))\n",
    "    incomerating_dict=dict(zip(neighb_incomedata['Neighborhood'],neighb_incomedata['Rating']))\n",
    "    df['NeighbIncomeRating']=df['Neighborhood'].map(lambda x:incomerating_dict[x])\n",
    "    \n",
    "    ## Outside Data - Census Data\n",
    "    #ImportData\n",
    "    census_AgeAndSex=pd.read_csv('data/AgeAndSex.csv')\n",
    "    census_EmploymentStatus=pd.read_csv('data/EmploymentStatus.csv')\n",
    "    census_FinancialCharacteristics=pd.read_csv('data/FinancialCharacteristics.csv')\n",
    "    census_HouseholdsAndFamilies=pd.read_csv('data/HouseholdsAndFamilies.csv')\n",
    "    census_Income=pd.read_csv('data/Income.csv')\n",
    "    #GetMeasures\n",
    "    MaleToFemaleRatio=census_AgeAndSex.ix[2,1:].astype(float)/census_AgeAndSex.ix[4,1:].astype(float)\n",
    "    AgeDependencyRatio=census_AgeAndSex.ix[186,1:].astype(float)\n",
    "    OldAgeDependencyRatio=census_AgeAndSex.ix[192,1:].astype(float)\n",
    "    UnemploymentRate=census_EmploymentStatus.ix[7,1:].astype(float)\n",
    "    PrimeWorkingAgeEmployed=census_EmploymentStatus.ix[28,1:].astype(float)\n",
    "    OwnerToRenterRatio=census_FinancialCharacteristics.ix[2,1:].astype(float)/census_FinancialCharacteristics.ix[4,1:].astype(int)\n",
    "    OwnerMonthlyHousingCostsIn00s=census_FinancialCharacteristics.ix[164,1:].astype(float)/100\n",
    "    AvgHouseholdSize=census_HouseholdsAndFamilies.ix[10,1:].astype(float)\n",
    "    PctFamilyHouseholds=census_HouseholdsAndFamilies.ix[2,1:].astype(float)/census_HouseholdsAndFamilies.ix[0,1:].astype(float)\n",
    "    SingleMaleToFemaleHouseholdsRatio=census_HouseholdsAndFamilies.ix[4,1:].astype(float)/census_HouseholdsAndFamilies.ix[6,1:].astype(float)\n",
    "    PctLivingAlone=census_HouseholdsAndFamilies.ix[110,1:].astype(float)/100\n",
    "    TenureOwnerToRenterRatio=census_HouseholdsAndFamilies.ix[180,1:].astype(float)/census_HouseholdsAndFamilies.ix[190,1:].astype(float)\n",
    "    PctLessThan15k=(census_Income.ix[8,1:].astype(float)+census_Income.ix[16,1:].astype(float))/100\n",
    "    Pct15kto25k=(census_Income.ix[24,1:].astype(float))/100\n",
    "    Pct25kto35k=(census_Income.ix[32,1:].astype(float))/100\n",
    "    Pct35kto50k=(census_Income.ix[40,1:].astype(float))/100\n",
    "    Pct50kto75k=(census_Income.ix[48,1:].astype(float))/100\n",
    "    Pct75kto100k=(census_Income.ix[56,1:].astype(float))/100\n",
    "    Pct100kto200k=(census_Income.ix[64,1:].astype(float)+census_Income.ix[72,1:].astype(float))/100\n",
    "    PctOver200k=(census_Income.ix[80,1:].astype(float))/100\n",
    "    MedIncomeIn000s=(census_Income.ix[88,1:].astype(float))/1000\n",
    "    MeanToMedIncomeRatio=(census_Income.ix[96,1:].astype(float))/(census_Income.ix[88,1:].astype(float))\n",
    "    #GetYears\n",
    "    Yr2006=(df['YrSold']==2006)*1\n",
    "    Yr2007=(df['YrSold']==2007)*1\n",
    "    Yr2008=(df['YrSold']==2008)*1\n",
    "    Yr2009=(df['YrSold']==2009)*1\n",
    "    Yr2010=(df['YrSold']==2010)*1\n",
    "    #AddToDataframe\n",
    "    AnnualMeasures=[MaleToFemaleRatio,AgeDependencyRatio,OldAgeDependencyRatio,UnemploymentRate,PrimeWorkingAgeEmployed,\n",
    "                    OwnerToRenterRatio,OwnerMonthlyHousingCostsIn00s,AvgHouseholdSize,PctFamilyHouseholds,\n",
    "                    SingleMaleToFemaleHouseholdsRatio,PctLivingAlone,TenureOwnerToRenterRatio,PctLessThan15k,\n",
    "                    Pct15kto25k,Pct25kto35k,Pct35kto50k,Pct50kto75k,Pct75kto100k,Pct100kto200k,PctOver200k,\n",
    "                    MedIncomeIn000s,MeanToMedIncomeRatio]\n",
    "    MeasuresNames=['MaleToFemaleRatio','AgeDependencyRatio','OldAgeDependencyRatio','UnemploymentRate','PrimeWorkingAgeEmployed',\n",
    "                   'OwnerToRenterRatio','OwnerMonthlyHousingCostsIn00s','AvgHouseholdSize','PctFamilyHouseholds',\n",
    "                   'SingleMaleToFemaleHouseholdsRatio','PctLivingAlone','TenureOwnerToRenterRatio','PctLessThan15k',\n",
    "                   'Pct15kto25k','Pct25kto35k','Pct35kto50k','Pct50kto75k','Pct75kto100k','Pct100kto200k','PctOver200k',\n",
    "                   'MedIncomeIn000s','MeanToMedIncomeRatio']\n",
    "    for i in range(len(AnnualMeasures)):\n",
    "        M_2006=AnnualMeasures[i][0]*Yr2006\n",
    "        M_2007=AnnualMeasures[i][1]*Yr2007\n",
    "        M_2008=AnnualMeasures[i][2]*Yr2008\n",
    "        M_2009=AnnualMeasures[i][3]*Yr2009\n",
    "        M_2010=AnnualMeasures[i][4]*Yr2010\n",
    "        M_Total=M_2006+M_2007+M_2008+M_2009+M_2010\n",
    "        colname=MeasuresNames[i]\n",
    "        df[colname]=M_Total\n",
    "    \n",
    "    \n",
    "    return df"
   ]
  },
  {
   "cell_type": "code",
   "execution_count": 81,
   "metadata": {
    "collapsed": true
   },
   "outputs": [],
   "source": [
    "def get_dummies(X_df):\n",
    "    # Dummify X data\n",
    "    X_dummy = pd.get_dummies(X_df,dummy_na=True)\n",
    "    return X_dummy"
   ]
  },
  {
   "cell_type": "code",
   "execution_count": 82,
   "metadata": {
    "collapsed": true
   },
   "outputs": [],
   "source": [
    "def level_cat(df_train,df_comp):\n",
    "    traincols = list(df_train.columns.values)\n",
    "    testcols = list(df_comp.columns.values)\n",
    "    \n",
    "    # Align train data columns to competition data columns\n",
    "    missingcols1 = list(set(testcols)-set(traincols))\n",
    "    for col in missingcols1:\n",
    "        df_train[col] = 0.0\n",
    "\n",
    "    # Align test data columns to competition data columns\n",
    "    missingcols = list(set(traincols)-set(testcols))\n",
    "    for col in missingcols:\n",
    "        df_comp[col] = 0.0\n",
    "    df_comp = df_comp[traincols+missingcols1]\n",
    "    \n",
    "    return df_train,df_comp"
   ]
  },
  {
   "cell_type": "code",
   "execution_count": 83,
   "metadata": {
    "collapsed": false
   },
   "outputs": [],
   "source": [
    "housedata = preprocess_withOutsideData(pd.read_csv('train.csv'))\n",
    "# Split into X and y\n",
    "y = housedata['SalePrice']\n",
    "X = housedata.drop('SalePrice', 1)\n",
    "\n",
    "#preprocess and dummify competition\n",
    "X = get_dummies(X)\n",
    "competition = preprocess_withOutsideData(pd.read_csv('test.csv'))\n",
    "X_comp = get_dummies(competition)\n",
    "\n",
    "X,X_comp = level_cat(X,X_comp)"
   ]
  },
  {
   "cell_type": "code",
   "execution_count": 8,
   "metadata": {
    "collapsed": false
   },
   "outputs": [],
   "source": [
    "X_train, X_test, y_train, y_test = train_test_split(X,y,test_size = 0.33, random_state=1)"
   ]
  },
  {
   "cell_type": "markdown",
   "metadata": {},
   "source": [
    "## MODELING"
   ]
  },
  {
   "cell_type": "markdown",
   "metadata": {},
   "source": [
    "### Initital Model Exploration (MLR, Lasso, Ridge, MLP)"
   ]
  },
  {
   "cell_type": "code",
   "execution_count": 9,
   "metadata": {
    "collapsed": false
   },
   "outputs": [
    {
     "name": "stdout",
     "output_type": "stream",
     "text": [
      "MLR RMSE: 35116.6951144\n",
      "Lasso CV best λ: 224475.036998\n",
      "Lasso RMSE: 39996.0347001\n",
      "Ridge CV best λ: 10.0\n",
      "Ridge RMSE: 29828.1159436\n"
     ]
    }
   ],
   "source": [
    "# Run models\n",
    "#Linear Regression\n",
    "MLR =LinearRegression()\n",
    "model_MLR = MLR.fit(X_train,y_train)\n",
    "MLR_predict_reg = model_MLR.predict(X_test)\n",
    "MLR_RMSE_reg= sqrt(mean_squared_error(y_test, MLR_predict_reg))\n",
    "print \"MLR RMSE:\",MLR_RMSE_reg\n",
    "\n",
    "#get best λ with LassoCV\n",
    "lasso_cv = LassoCV(alphas=None, cv=10, max_iter=10000)\n",
    "model_cv = lasso_cv.fit(X_train,ravel(y_train))\n",
    "print \"Lasso CV best λ:\",model_cv.alpha_\n",
    "lasso_predict_reg= model_cv.predict(X_test)\n",
    "lasso_RMSE_reg= sqrt(mean_squared_error(y_test, lasso_predict_reg))\n",
    "print \"Lasso RMSE:\",lasso_RMSE_reg\n",
    "\n",
    "#get best λ with RidgeCV\n",
    "ridge_cv = RidgeCV(cv=10)\n",
    "ridge_model_cv = ridge_cv.fit(X_train,ravel(y_train))\n",
    "print \"Ridge CV best λ:\",ridge_model_cv.alpha_\n",
    "ridge_predict_reg= ridge_model_cv.predict(X_test)\n",
    "ridge_RMSE_reg= sqrt(mean_squared_error(y_test, ridge_predict_reg))\n",
    "print \"Ridge RMSE:\",ridge_RMSE_reg"
   ]
  },
  {
   "cell_type": "code",
   "execution_count": 10,
   "metadata": {
    "collapsed": false
   },
   "outputs": [
    {
     "data": {
      "image/png": "[encoded data removed]",
      "text/plain": [
       "<matplotlib.figure.Figure at 0xe2fcf98>"
      ]
     },
     "metadata": {},
     "output_type": "display_data"
    }
   ],
   "source": [
    "#Model residuals\n",
    "\n",
    "MLRresiduals_reg = y_test - MLR_predict_reg\n",
    "lassoResiduals_reg = y_test - lasso_predict_reg\n",
    "ridgeResiduals_reg = y_test - ridge_predict_reg\n",
    "\n",
    "# Plot residuals\n",
    "fig = plt.figure(figsize=(15, 7))\n",
    "\n",
    "# Predicted vs. Actual\n",
    "ax1 = fig.add_subplot(121)\n",
    "ax1.plot(y_test,MLR_predict_reg,\"o\",label='MLR', color='darkblue')\n",
    "ax1.plot(y_test,lasso_predict_reg,\"o\",label='Lasso',color='blue')\n",
    "ax1.plot(y_test,ridge_predict_reg,\"o\",label='Ridge',color='aqua')\n",
    "ax1.legend(numpoints=1,loc='upper left')\n",
    "ax1.set_ylabel('Predicted Price ($)')\n",
    "ax1.yaxis.set_major_formatter(mtick.FuncFormatter('{:,.0f}'.format))\n",
    "ax1.set_xlabel('Actual Price ($)')\n",
    "ax1.xaxis.set_major_formatter(mtick.FuncFormatter('{:,.0f}'.format))\n",
    "ax1.set_title('Predicted vs. Actual Price', fontsize=12, fontweight='bold')\n",
    "\n",
    "# Residuals\n",
    "ax2 = fig.add_subplot(122)\n",
    "ax2.plot(y_test,MLRresiduals_reg,\"o\",label='MLR',color='darkblue')\n",
    "ax2.plot(y_test,lassoResiduals_reg,\"o\",label='Lasso',color='blue')\n",
    "ax2.plot(y_test,ridgeResiduals_reg,\"o\",label='Ridge',color='aqua')\n",
    "ax2.legend(numpoints=1,loc='upper left')\n",
    "ax2.set_ylabel('Residuals ($)')\n",
    "ax2.yaxis.set_major_formatter(mtick.FuncFormatter('{:,.0f}'.format))\n",
    "ax2.set_xlabel('Actual Price ($)')\n",
    "ax2.xaxis.set_major_formatter(mtick.FuncFormatter('{:,.0f}'.format))\n",
    "ax2.set_title('Residuals', fontsize=12, fontweight='bold')\n",
    "\n",
    "fig.subplots_adjust(wspace=.3)\n",
    "plt.show()"
   ]
  },
  {
   "cell_type": "code",
   "execution_count": 11,
   "metadata": {
    "collapsed": true
   },
   "outputs": [],
   "source": [
    "# Try predicting using log SalePrice\n",
    "log_y_train = y_train.map(float).map(log)\n",
    "log_y_test = y_test.map(float).map(log)"
   ]
  },
  {
   "cell_type": "code",
   "execution_count": 12,
   "metadata": {
    "collapsed": false
   },
   "outputs": [
    {
     "name": "stdout",
     "output_type": "stream",
     "text": [
      "MLR RMSE: 26496.3728966\n",
      "Lasso CV best λ: 1.09577311917\n",
      "Lasso RMSE: 35654.450704\n",
      "Ridge CV best λ: 10.0\n",
      "Ridge RMSE: 27192.1780365\n"
     ]
    }
   ],
   "source": [
    "#Linear Regression\n",
    "MLR =LinearRegression()\n",
    "model_MLR_log = MLR.fit(X_train,log_y_train)\n",
    "MLR_predict_log = model_MLR_log.predict(X_test)\n",
    "MLR_RMSE_log = sqrt(mean_squared_error(y_test, np.exp(MLR_predict_log)))\n",
    "print \"MLR RMSE:\",MLR_RMSE_log\n",
    "\n",
    "#get best λ with LassoCV\n",
    "lasso_cv_log = LassoCV(alphas=None, cv=10, max_iter=10000)\n",
    "model_cv_log = lasso_cv_log.fit(X_train,ravel(log_y_train))\n",
    "print \"Lasso CV best λ:\",model_cv_log.alpha_\n",
    "lasso_predict_log= model_cv_log.predict(X_test)\n",
    "lasso_RMSE_log = sqrt(mean_squared_error(y_test, np.exp(lasso_predict_log)))\n",
    "print \"Lasso RMSE:\",lasso_RMSE_log\n",
    "\n",
    "#get best λ with RidgeCV\n",
    "ridge_cv_log = RidgeCV(cv=10)\n",
    "ridge_model_cv_log = ridge_cv_log.fit(X_train,ravel(log_y_train))\n",
    "print \"Ridge CV best λ:\",ridge_model_cv_log.alpha_\n",
    "ridge_predict_log = ridge_model_cv_log.predict(X_test)\n",
    "ridge_RMSE_log = sqrt(mean_squared_error(y_test, np.exp(ridge_predict_log)))\n",
    "print \"Ridge RMSE:\",ridge_RMSE_log"
   ]
  },
  {
   "cell_type": "code",
   "execution_count": 13,
   "metadata": {
    "collapsed": false
   },
   "outputs": [
    {
     "data": {
      "image/png": "[encoded data removed]",
      "text/plain": [
       "<matplotlib.figure.Figure at 0xe30c470>"
      ]
     },
     "metadata": {},
     "output_type": "display_data"
    }
   ],
   "source": [
    "#residuals with log price models (in original scale)\n",
    "MLRresiduals_log = y_test - np.exp(MLR_predict_log)\n",
    "lassoResiduals_log = y_test - np.exp(lasso_predict_log)\n",
    "ridgeResiduals_log = y_test - np.exp(ridge_predict_log)\n",
    "\n",
    "# Plot residuals\n",
    "fig = plt.figure(figsize=(15, 7))\n",
    "\n",
    "# Predicted vs. Actual\n",
    "ax1 = fig.add_subplot(121)\n",
    "ax1.plot(y_test,np.exp(MLR_predict_log),\"o\",label='MLR',color='darkblue')\n",
    "ax1.plot(y_test,np.exp(lasso_predict_log),\"o\",label='Lasso',color='blue')\n",
    "ax1.plot(y_test,np.exp(ridge_predict_log),\"o\",label='Ridge',color='aqua')\n",
    "ax1.legend(numpoints=1,loc='upper left')\n",
    "ax1.set_ylabel('Predicted Price ($)')\n",
    "ax1.yaxis.set_major_formatter(mtick.FuncFormatter('{:,.0f}'.format))\n",
    "ax1.set_xlabel('Actual Price ($)')\n",
    "ax1.xaxis.set_major_formatter(mtick.FuncFormatter('{:,.0f}'.format))\n",
    "ax1.set_title('Predicted vs. Actual Price', fontsize=12, fontweight='bold')\n",
    "\n",
    "# Residuals\n",
    "ax2 = fig.add_subplot(122)\n",
    "ax2.plot(y_test,MLRresiduals_log,\"o\",label='MLR',color='darkblue')\n",
    "ax2.plot(y_test,lassoResiduals_log,\"o\",label='Lasso',color='blue')\n",
    "ax2.plot(y_test,ridgeResiduals_log,\"o\",label='Ridge',color='aqua')\n",
    "ax2.legend(numpoints=1,loc='upper left')\n",
    "ax2.set_ylabel('Residuals ($)')\n",
    "ax2.yaxis.set_major_formatter(mtick.FuncFormatter('{:,.0f}'.format))\n",
    "ax2.set_xlabel('Actual Price ($)')\n",
    "ax2.xaxis.set_major_formatter(mtick.FuncFormatter('{:,.0f}'.format))\n",
    "ax2.set_title('Residuals', fontsize=12, fontweight='bold')\n",
    "\n",
    "fig.subplots_adjust(wspace=.3)\n",
    "plt.show()"
   ]
  },
  {
   "cell_type": "code",
   "execution_count": 14,
   "metadata": {
    "collapsed": false
   },
   "outputs": [
    {
     "name": "stderr",
     "output_type": "stream",
     "text": [
      "C:\\Users\\Vishwa\\Anaconda2\\lib\\site-packages\\sklearn\\utils\\validation.py:429: DataConversionWarning: Data with input dtype int64 was converted to float64 by StandardScaler.\n",
      "  warnings.warn(msg, _DataConversionWarning)\n"
     ]
    }
   ],
   "source": [
    "# Scale data\n",
    "scaler = StandardScaler()\n",
    "X_train_scaled = scaler.fit_transform(X_train)\n",
    "X_test_scaled = scaler.transform(X_test)\n",
    "y_scaler = StandardScaler()\n",
    "Y_train_scaled = ravel(y_scaler.fit_transform(y_train.reshape(-1, 1)))\n",
    "Y_test_scaled = ravel(y_scaler.transform(y_test.reshape(-1, 1)))"
   ]
  },
  {
   "cell_type": "code",
   "execution_count": 15,
   "metadata": {
    "collapsed": false
   },
   "outputs": [],
   "source": [
    "# Run MLP using different hidden layer sizes\n",
    "sizes = [(20,),(50,),(100,),(150,),(200,),(250,),(300,)]\n",
    "RMSEs = []\n",
    "for size in sizes:\n",
    "    MLP = MLPRegressor(hidden_layer_sizes = size,activation='tanh',solver='sgd',learning_rate='constant',random_state=42,\\\n",
    "                       batch_size=40,learning_rate_init=0.001)\n",
    "    model_MLP = MLP.fit(X_train_scaled,Y_train_scaled)\n",
    "    MLP_predict = model_MLP.predict(X_test_scaled)\n",
    "    MLP_RMSE= sqrt(mean_squared_error(y_test, y_scaler.inverse_transform(MLP_predict)))\n",
    "    RMSEs.append(MLP_RMSE)"
   ]
  },
  {
   "cell_type": "code",
   "execution_count": 16,
   "metadata": {
    "collapsed": false
   },
   "outputs": [
    {
     "name": "stdout",
     "output_type": "stream",
     "text": [
      "MLP RMSE: 36772.0968904\n"
     ]
    }
   ],
   "source": [
    "# Choosing hidden layer size with best RMSE\n",
    "MLP = MLPRegressor(hidden_layer_sizes = sizes[np.argmin(RMSEs)],activation='tanh',solver='sgd',learning_rate='constant',random_state=42,\\\n",
    "                   batch_size=40,learning_rate_init=0.001)\n",
    "model_MLP = MLP.fit(X_train_scaled,Y_train_scaled)\n",
    "MLP_predict_scale = model_MLP.predict(X_test_scaled)\n",
    "MLP_RMSE_scale = sqrt(mean_squared_error(y_test, y_scaler.inverse_transform(MLP_predict_scale)))\n",
    "print \"MLP RMSE:\",MLP_RMSE_scale\n",
    "\n",
    "MLPresiduals_scale = y_test - y_scaler.inverse_transform(MLP_predict_scale)"
   ]
  },
  {
   "cell_type": "code",
   "execution_count": 17,
   "metadata": {
    "collapsed": false
   },
   "outputs": [
    {
     "data": {
      "image/png": "[encoded data removed]",
      "text/plain": [
       "<matplotlib.figure.Figure at 0xe3ad6d8>"
      ]
     },
     "metadata": {},
     "output_type": "display_data"
    }
   ],
   "source": [
    "# Plot residuals\n",
    "fig = plt.figure(figsize=(15, 7))\n",
    "\n",
    "# Predicted vs. Actual\n",
    "ax1 = fig.add_subplot(121)\n",
    "ax1.plot(y_test,y_scaler.inverse_transform(MLP_predict_scale),\"o\",label='MLP',color='aliceblue')\n",
    "ax1.legend(numpoints=1,loc='upper left')\n",
    "ax1.set_ylabel('Predicted Price ($)')\n",
    "ax1.yaxis.set_major_formatter(mtick.FuncFormatter('{:,.0f}'.format))\n",
    "ax1.set_xlabel('Actual Price ($)')\n",
    "ax1.xaxis.set_major_formatter(mtick.FuncFormatter('{:,.0f}'.format))\n",
    "ax1.set_title('Predicted vs. Actual Price', fontsize=12, fontweight='bold')\n",
    "\n",
    "# Residuals\n",
    "ax2 = fig.add_subplot(122)\n",
    "ax2.plot(y_test,MLPresiduals_scale, \"o\",label='MLP',color='aliceblue')\n",
    "ax2.legend(numpoints=1,loc='upper left')\n",
    "ax2.set_ylabel('Residuals ($)')\n",
    "ax2.yaxis.set_major_formatter(mtick.FuncFormatter('{:,.0f}'.format))\n",
    "ax2.set_xlabel('Actual Price ($)')\n",
    "ax2.xaxis.set_major_formatter(mtick.FuncFormatter('{:,.0f}'.format))\n",
    "ax2.set_title('Residuals', fontsize=12, fontweight='bold')\n",
    "\n",
    "fig.subplots_adjust(wspace=.3)\n",
    "plt.show()"
   ]
  },
  {
   "cell_type": "code",
   "execution_count": 18,
   "metadata": {
    "collapsed": false
   },
   "outputs": [
    {
     "name": "stdout",
     "output_type": "stream",
     "text": [
      "MLR RMSE: 1.69957930837e+17\n",
      "Lasso CV best λ: 1695.52642749\n",
      "Lasso RMSE: 29882.5642463\n",
      "Ridge CV best λ: 10.0\n",
      "Ridge RMSE: 34040.3447551\n"
     ]
    }
   ],
   "source": [
    "# Try Linear Regression, Lasso, and Ridge with scaled X data\n",
    "\n",
    "#Linear Regression\n",
    "MLR =LinearRegression(fit_intercept=False)\n",
    "model_MLR_scale = MLR.fit(X_train_scaled,y_train)\n",
    "MLR_predict_scale = model_MLR_scale.predict(X_test_scaled)\n",
    "MLR_RMSE_scale= sqrt(mean_squared_error(y_test, MLR_predict_scale))\n",
    "print \"MLR RMSE:\",MLR_RMSE_scale\n",
    "\n",
    "#get best λ with LassoCV\n",
    "lasso_cv_scale = LassoCV(alphas=None, cv=10, max_iter=10000)\n",
    "model_cv_scale = lasso_cv_scale.fit(X_train_scaled,ravel(y_train))\n",
    "print \"Lasso CV best λ:\",model_cv_scale.alpha_\n",
    "lasso_predict_scale = model_cv_scale.predict(X_test_scaled)\n",
    "lasso_RMSE_scale= sqrt(mean_squared_error(y_test, lasso_predict_scale))\n",
    "print \"Lasso RMSE:\",lasso_RMSE_scale\n",
    "\n",
    "#get best λ with RidgeCV\n",
    "ridge_cv_scale = RidgeCV(cv=10)\n",
    "ridge_model_cv_scale = ridge_cv_scale.fit(X_train_scaled,ravel(y_train))\n",
    "print \"Ridge CV best λ:\",ridge_model_cv_scale.alpha_\n",
    "ridge_predict_scale= ridge_model_cv_scale.predict(X_test_scaled)\n",
    "ridge_RMSE_scale= sqrt(mean_squared_error(y_test, ridge_predict_scale))\n",
    "print \"Ridge RMSE:\",ridge_RMSE_scale"
   ]
  },
  {
   "cell_type": "code",
   "execution_count": 19,
   "metadata": {
    "collapsed": false
   },
   "outputs": [
    {
     "data": {
      "image/png": "[encoded data removed]",
      "text/plain": [
       "<matplotlib.figure.Figure at 0xe6b7ac8>"
      ]
     },
     "metadata": {},
     "output_type": "display_data"
    }
   ],
   "source": [
    "# Based on RMSE, it appears as though MLR may have challenges predicting this data\n",
    "# For example, the linear regression problem could be under-determined \n",
    "#  (where the number of linearly independent rows of the training matrix \n",
    "#    is less than its number of linearly independent columns),\n",
    "#  resulting in erroneous predictions\n",
    "\n",
    "# Graph to see\n",
    "MLRresiduals_scale = y_test - MLR_predict_scale\n",
    "fig = plt.figure(figsize=(15, 7))\n",
    "\n",
    "# Predicted vs. Actual\n",
    "ax1 = fig.add_subplot(121)\n",
    "ax1.plot(y_test,MLR_predict_scale,\"o\",label='MLR',color='darkblue')\n",
    "ax1.legend(numpoints=1,loc='upper left')\n",
    "ax1.set_ylabel('Predicted Price ($)')\n",
    "ax1.set_xlabel('Actual Price ($)')\n",
    "ax1.xaxis.set_major_formatter(mtick.FuncFormatter('{:,.0f}'.format))\n",
    "ax1.set_title('Predicted vs. Actual Price', fontsize=12, fontweight='bold')\n",
    "\n",
    "# Residuals\n",
    "ax2 = fig.add_subplot(122)\n",
    "ax2.plot(y_test,MLRresiduals_scale, \"o\",label='MLR',color='darkblue')\n",
    "ax2.legend(numpoints=1,loc='upper left')\n",
    "ax2.set_ylabel('Residuals ($)')\n",
    "ax2.set_xlabel('Actual Price ($)')\n",
    "ax2.xaxis.set_major_formatter(mtick.FuncFormatter('{:,.0f}'.format))\n",
    "ax2.set_title('Residuals', fontsize=12, fontweight='bold')\n",
    "\n",
    "fig.subplots_adjust(wspace=.3)\n",
    "plt.show()"
   ]
  },
  {
   "cell_type": "code",
   "execution_count": 20,
   "metadata": {
    "collapsed": false
   },
   "outputs": [
    {
     "data": {
      "image/png": "[encoded data removed]",
      "text/plain": [
       "<matplotlib.figure.Figure at 0xe9f1978>"
      ]
     },
     "metadata": {},
     "output_type": "display_data"
    }
   ],
   "source": [
    "# Plot Lasso and Ridge\n",
    "lassoResiduals_scale = y_test - lasso_predict_scale\n",
    "ridgeResiduals_scale = y_test - ridge_predict_scale\n",
    "\n",
    "fig = plt.figure(figsize=(15, 7))\n",
    "\n",
    "# Predicted vs. Actual\n",
    "ax1 = fig.add_subplot(121)\n",
    "ax1.plot(y_test,lasso_predict_scale,\"o\",label='Lasso',color='blue')\n",
    "ax1.plot(y_test,ridge_predict_scale,\"o\",label='Ridge',color='aqua')\n",
    "ax1.legend(numpoints=1,loc='upper left')\n",
    "ax1.set_ylabel('Predicted Price ($)')\n",
    "ax1.yaxis.set_major_formatter(mtick.FuncFormatter('{:,.0f}'.format))\n",
    "ax1.set_xlabel('Actual Price ($)')\n",
    "ax1.xaxis.set_major_formatter(mtick.FuncFormatter('{:,.0f}'.format))\n",
    "ax1.set_title('Predicted vs. Actual Price', fontsize=12, fontweight='bold')\n",
    "\n",
    "# Residuals\n",
    "ax2 = fig.add_subplot(122)\n",
    "ax2.plot(y_test,lassoResiduals_scale,\"o\",label='Lasso',color='blue')\n",
    "ax2.plot(y_test,ridgeResiduals_scale,\"o\",label='Ridge',color='aqua')\n",
    "ax2.legend(numpoints=1,loc='upper left')\n",
    "ax2.set_ylabel('Residuals ($)')\n",
    "ax2.yaxis.set_major_formatter(mtick.FuncFormatter('{:,.0f}'.format))\n",
    "ax2.set_xlabel('Actual Price ($)')\n",
    "ax2.xaxis.set_major_formatter(mtick.FuncFormatter('{:,.0f}'.format))\n",
    "ax2.set_title('Residuals', fontsize=12, fontweight='bold')\n",
    "\n",
    "fig.subplots_adjust(wspace=.3)\n",
    "plt.show()"
   ]
  },
  {
   "cell_type": "code",
   "execution_count": 21,
   "metadata": {
    "collapsed": false
   },
   "outputs": [
    {
     "name": "stdout",
     "output_type": "stream",
     "text": [
      "Lasso CV best λ: 0.00617476647261\n",
      "Lasso RMSE: 23728.2472125\n",
      "Ridge CV best λ: 10.0\n",
      "Ridge RMSE: 26598.7289092\n"
     ]
    }
   ],
   "source": [
    "# Try fitting on scaled data and log SalePrice for Lasso and Ridge\n",
    "#get best λ with LassoCV\n",
    "lasso_cv_scalelog = LassoCV(alphas=None, cv=10, max_iter=10000)\n",
    "model_cv_scalelog = lasso_cv_scalelog.fit(X_train_scaled,ravel(log_y_train))\n",
    "print \"Lasso CV best λ:\",model_cv_scalelog.alpha_\n",
    "lasso_predict_scalelog= model_cv_scalelog.predict(X_test_scaled)\n",
    "lasso_RMSE_scalelog = sqrt(mean_squared_error(y_test, np.exp(lasso_predict_scalelog)))\n",
    "print \"Lasso RMSE:\",lasso_RMSE_scalelog\n",
    "\n",
    "#get best λ with RidgeCV\n",
    "ridge_cv_scalelog = RidgeCV(cv=10)\n",
    "ridge_model_cv_scalelog = ridge_cv_scalelog.fit(X_train_scaled,ravel(log_y_train))\n",
    "print \"Ridge CV best λ:\",ridge_model_cv_scalelog.alpha_\n",
    "ridge_predict_scalelog= ridge_model_cv_scalelog.predict(X_test_scaled)\n",
    "ridge_RMSE_scalelog = sqrt(mean_squared_error(y_test, np.exp(ridge_predict_scalelog)))\n",
    "print \"Ridge RMSE:\",ridge_RMSE_scalelog"
   ]
  },
  {
   "cell_type": "code",
   "execution_count": 22,
   "metadata": {
    "collapsed": false
   },
   "outputs": [
    {
     "data": {
      "image/png": "[encoded data removed]",
      "text/plain": [
       "<matplotlib.figure.Figure at 0xe9d0748>"
      ]
     },
     "metadata": {},
     "output_type": "display_data"
    }
   ],
   "source": [
    "# Plot Lasso and Ridge results for scaled X data / log SalePrice\n",
    "lassoResiduals_scalelog = y_test - np.exp(lasso_predict_scalelog)\n",
    "ridgeResiduals_scalelog = y_test - np.exp(ridge_predict_scalelog)\n",
    "\n",
    "fig = plt.figure(figsize=(15, 7))\n",
    "\n",
    "# Predicted vs. Actual\n",
    "ax1 = fig.add_subplot(121)\n",
    "ax1.plot(y_test,np.exp(lasso_predict_scalelog),\"o\",label='Lasso',color='blue')\n",
    "ax1.plot(y_test,np.exp(ridge_predict_scalelog),\"o\",label='Ridge',color='aqua')\n",
    "ax1.legend(numpoints=1,loc='upper left')\n",
    "ax1.set_ylabel('Predicted Price ($)')\n",
    "ax1.yaxis.set_major_formatter(mtick.FuncFormatter('{:,.0f}'.format))\n",
    "ax1.set_xlabel('Actual Price ($)')\n",
    "ax1.xaxis.set_major_formatter(mtick.FuncFormatter('{:,.0f}'.format))\n",
    "ax1.set_title('Predicted vs. Actual Price', fontsize=12, fontweight='bold')\n",
    "\n",
    "# Residuals\n",
    "ax2 = fig.add_subplot(122)\n",
    "ax2.plot(y_test,lassoResiduals_scalelog,\"o\",label='Lasso',color='blue')\n",
    "ax2.plot(y_test,ridgeResiduals_scalelog,\"o\",label='Ridge',color='aqua')\n",
    "ax2.legend(numpoints=1,loc='upper left')\n",
    "ax2.set_ylabel('Residuals ($)')\n",
    "ax2.yaxis.set_major_formatter(mtick.FuncFormatter('{:,.0f}'.format))\n",
    "ax2.set_xlabel('Actual Price ($)')\n",
    "ax2.xaxis.set_major_formatter(mtick.FuncFormatter('{:,.0f}'.format))\n",
    "ax2.set_title('Residuals', fontsize=12, fontweight='bold')\n",
    "\n",
    "fig.subplots_adjust(wspace=.3)\n",
    "plt.show()"
   ]
  },
  {
   "cell_type": "markdown",
   "metadata": {
    "collapsed": false
   },
   "source": [
    "### SVR"
   ]
  },
  {
   "cell_type": "code",
   "execution_count": 23,
   "metadata": {
    "collapsed": false
   },
   "outputs": [
    {
     "data": {
      "text/plain": [
       "34771.304296554568"
      ]
     },
     "execution_count": 23,
     "metadata": {},
     "output_type": "execute_result"
    }
   ],
   "source": [
    "SVR_reg = SVR(kernel='linear', C=10)\n",
    "SVR_reg.fit(X_train,y_train)\n",
    "SVR_predict_reg=SVR_reg.predict(X_test)\n",
    "SVR_RMSE_reg=np.sqrt(mean_squared_error(y_test,SVR_predict_reg))\n",
    "SVR_RMSE_reg"
   ]
  },
  {
   "cell_type": "code",
   "execution_count": 24,
   "metadata": {
    "collapsed": false
   },
   "outputs": [
    {
     "data": {
      "text/plain": [
       "42936.024596161988"
      ]
     },
     "execution_count": 24,
     "metadata": {},
     "output_type": "execute_result"
    }
   ],
   "source": [
    "SVR_scale = SVR(kernel='linear', C=10)\n",
    "SVR_scale.fit(X_train_scaled,y_train)\n",
    "SVR_predict_scale=SVR_scale.predict(X_test_scaled)\n",
    "SVR_RMSE_scale=np.sqrt(mean_squared_error(y_test,SVR_predict_scale))\n",
    "SVR_RMSE_scale"
   ]
  },
  {
   "cell_type": "code",
   "execution_count": null,
   "metadata": {
    "collapsed": true
   },
   "outputs": [],
   "source": [
    "SVR_log = SVR(kernel='linear', C=10)\n",
    "SVR_log.fit(X_train,ravel(log_y_train))\n",
    "SVR_predict_log=SVR_log.predict(X_test)\n",
    "SVR_RMSE_log=np.sqrt(mean_squared_error(y_test,np.exp(SVR_predict_log)))\n",
    "SVR_RMSE_log"
   ]
  },
  {
   "cell_type": "code",
   "execution_count": 25,
   "metadata": {
    "collapsed": false
   },
   "outputs": [
    {
     "data": {
      "text/plain": [
       "27537.162125152379"
      ]
     },
     "execution_count": 25,
     "metadata": {},
     "output_type": "execute_result"
    }
   ],
   "source": [
    "SVR_scalelog = SVR(kernel='linear', C=10)\n",
    "SVR_scalelog.fit(X_train_scaled,ravel(log_y_train))\n",
    "SVR_predict_scalelog=SVR_scalelog.predict(X_test_scaled)\n",
    "SVR_RMSE_scalelog=np.sqrt(mean_squared_error(y_test,np.exp(SVR_predict_scalelog)))\n",
    "SVR_RMSE_scalelog"
   ]
  },
  {
   "cell_type": "markdown",
   "metadata": {},
   "source": [
    "### SGD Regressor"
   ]
  },
  {
   "cell_type": "code",
   "execution_count": 26,
   "metadata": {
    "collapsed": false
   },
   "outputs": [
    {
     "data": {
      "text/plain": [
       "GridSearchCV(cv=5, error_score='raise',\n",
       "       estimator=SGDRegressor(alpha=0.0001, average=False, epsilon=0.1, eta0=0.01,\n",
       "       fit_intercept=True, l1_ratio=0.15, learning_rate='invscaling',\n",
       "       loss='squared_loss', n_iter=5, penalty='l2', power_t=0.25,\n",
       "       random_state=42, shuffle=True, verbose=0, warm_start=False),\n",
       "       fit_params={}, iid=True, n_jobs=1,\n",
       "       param_grid={'penalty': ['l1', 'l2'], 'loss': ['squared_loss', 'huber'], 'learning_rate': ['optimal', 'invscaling', 'constant']},\n",
       "       pre_dispatch='2*n_jobs', refit=True,\n",
       "       scoring=make_scorer(mean_squared_error, greater_is_better=False),\n",
       "       verbose=0)"
      ]
     },
     "execution_count": 26,
     "metadata": {},
     "output_type": "execute_result"
    }
   ],
   "source": [
    "parameters = {'loss': ['squared_loss', 'huber'],\n",
    "             'penalty': ['l1','l2'],\n",
    "              'learning_rate': ['optimal','invscaling','constant']}\n",
    "accuracy=make_scorer(mean_squared_error, greater_is_better=False)\n",
    "SGDclf_reg = GridSearchCV(SGDRegressor(random_state=42), parameters, cv=5,scoring=accuracy)\n",
    "SGDclf_reg.fit(X_train, y_train) "
   ]
  },
  {
   "cell_type": "code",
   "execution_count": 27,
   "metadata": {
    "collapsed": false
   },
   "outputs": [
    {
     "name": "stdout",
     "output_type": "stream",
     "text": [
      "{'penalty': 'l1', 'loss': 'huber', 'learning_rate': 'invscaling'}\n",
      "-2781382792.37\n"
     ]
    }
   ],
   "source": [
    "print SGDclf_reg.best_params_\n",
    "print SGDclf_reg.best_score_"
   ]
  },
  {
   "cell_type": "code",
   "execution_count": 28,
   "metadata": {
    "collapsed": false
   },
   "outputs": [
    {
     "data": {
      "text/plain": [
       "43019.412174944628"
      ]
     },
     "execution_count": 28,
     "metadata": {},
     "output_type": "execute_result"
    }
   ],
   "source": [
    "GSCV_SGDclf_reg = SGDRegressor(loss='huber', penalty='l2', alpha=0.001, random_state=42)\n",
    "GSCV_SGDclf_reg.fit(X_train, y_train)\n",
    "GSCV_SGDclf_predict_reg = GSCV_SGDclf_reg.predict(X_test)\n",
    "GSCV_SGDclf_RMSE_reg=np.sqrt(mean_squared_error(y_test, GSCV_SGDclf_predict_reg))\n",
    "GSCV_SGDclf_RMSE_reg"
   ]
  },
  {
   "cell_type": "code",
   "execution_count": 29,
   "metadata": {
    "collapsed": false
   },
   "outputs": [
    {
     "data": {
      "text/plain": [
       "GridSearchCV(cv=5, error_score='raise',\n",
       "       estimator=SGDRegressor(alpha=0.0001, average=False, epsilon=0.1, eta0=0.01,\n",
       "       fit_intercept=True, l1_ratio=0.15, learning_rate='invscaling',\n",
       "       loss='squared_loss', n_iter=5, penalty='l2', power_t=0.25,\n",
       "       random_state=42, shuffle=True, verbose=0, warm_start=False),\n",
       "       fit_params={}, iid=True, n_jobs=1,\n",
       "       param_grid={'penalty': ['l1', 'l2'], 'loss': ['squared_loss', 'huber'], 'alpha': [0.01, 0.001, 0.0001]},\n",
       "       pre_dispatch='2*n_jobs', refit=True,\n",
       "       scoring=make_scorer(mean_squared_error, greater_is_better=False),\n",
       "       verbose=0)"
      ]
     },
     "execution_count": 29,
     "metadata": {},
     "output_type": "execute_result"
    }
   ],
   "source": [
    "parameters = {'loss': ['squared_loss', 'huber'],\n",
    "             'penalty': ['l1','l2'],\n",
    "              'alpha': [0.01, 0.001, 0.0001]\n",
    "             }\n",
    "accuracy=make_scorer(mean_squared_error, greater_is_better=False)\n",
    "SGDclf_scale = GridSearchCV(SGDRegressor(random_state=42), parameters, cv=5,scoring=accuracy)\n",
    "SGDclf_scale.fit(X_train_scaled, y_train)"
   ]
  },
  {
   "cell_type": "code",
   "execution_count": 30,
   "metadata": {
    "collapsed": false
   },
   "outputs": [
    {
     "name": "stdout",
     "output_type": "stream",
     "text": [
      "{'penalty': 'l1', 'alpha': 0.01, 'loss': 'huber'}\n",
      "-38717053033.4\n"
     ]
    }
   ],
   "source": [
    "print SGDclf_scale.best_params_\n",
    "print SGDclf_scale.best_score_"
   ]
  },
  {
   "cell_type": "code",
   "execution_count": 31,
   "metadata": {
    "collapsed": false
   },
   "outputs": [
    {
     "data": {
      "text/plain": [
       "199229.24122874188"
      ]
     },
     "execution_count": 31,
     "metadata": {},
     "output_type": "execute_result"
    }
   ],
   "source": [
    "GSCV_SGDclf_scale = SGDRegressor(penalty='l1', alpha=0.01, loss='huber', random_state=42)\n",
    "GSCV_SGDclf_scale.fit(X_train_scaled, y_train)\n",
    "GSCV_SGDclf_predict_scale = GSCV_SGDclf_scale.predict(X_test_scaled)\n",
    "GSCV_SGDclf_RMSE_scale=np.sqrt(mean_squared_error(y_test, GSCV_SGDclf_predict_scale))\n",
    "GSCV_SGDclf_RMSE_scale"
   ]
  },
  {
   "cell_type": "code",
   "execution_count": 32,
   "metadata": {
    "collapsed": false
   },
   "outputs": [
    {
     "data": {
      "text/plain": [
       "GridSearchCV(cv=5, error_score='raise',\n",
       "       estimator=SGDRegressor(alpha=0.0001, average=False, epsilon=0.1, eta0=0.01,\n",
       "       fit_intercept=True, l1_ratio=0.15, learning_rate='invscaling',\n",
       "       loss='squared_loss', n_iter=5, penalty='l2', power_t=0.25,\n",
       "       random_state=42, shuffle=True, verbose=0, warm_start=False),\n",
       "       fit_params={}, iid=True, n_jobs=1,\n",
       "       param_grid={'penalty': ['l1', 'l2'], 'loss': ['squared_loss', 'huber'], 'alpha': [0.01, 0.001, 0.0001]},\n",
       "       pre_dispatch='2*n_jobs', refit=True,\n",
       "       scoring=make_scorer(mean_squared_error, greater_is_better=False),\n",
       "       verbose=0)"
      ]
     },
     "execution_count": 32,
     "metadata": {},
     "output_type": "execute_result"
    }
   ],
   "source": [
    "parameters = {'loss': ['squared_loss', 'huber'],\n",
    "             'penalty': ['l1','l2'],\n",
    "              'alpha': [0.01, 0.001, 0.0001]\n",
    "             }\n",
    "accuracy=make_scorer(mean_squared_error, greater_is_better=False)\n",
    "SGDclf_log = GridSearchCV(SGDRegressor(random_state=42), parameters, cv=5,scoring=accuracy)\n",
    "SGDclf_log.fit(X_train, log_y_train)"
   ]
  },
  {
   "cell_type": "code",
   "execution_count": 33,
   "metadata": {
    "collapsed": false
   },
   "outputs": [
    {
     "name": "stdout",
     "output_type": "stream",
     "text": [
      "{'penalty': 'l1', 'alpha': 0.0001, 'loss': 'huber'}\n",
      "-79845792.4558\n"
     ]
    }
   ],
   "source": [
    "print SGDclf_log.best_params_\n",
    "print SGDclf_log.best_score_"
   ]
  },
  {
   "cell_type": "code",
   "execution_count": null,
   "metadata": {
    "collapsed": true
   },
   "outputs": [],
   "source": [
    "### NOT SURE OF BEST PARAMS -- LOG WOULDN'T RUN\n",
    "# GSCV_SGDclf_log = SGDRegressor(penalty='l1', alpha=0.01, loss='huber', random_state=42)\n",
    "# GSCV_SGDclf_log.fit(X_train, log_y_train)\n",
    "# GSCV_SGDclf_predict_log = GSCV_SGDclf_log.predict(X_test)\n",
    "# GSCV_SGDclf_RMSE_log=np.sqrt(mean_squared_error(y_test, np.exp(GSCV_SGDclf_predict_log)))\n",
    "# GSCV_SGDclf_RMSE_log"
   ]
  },
  {
   "cell_type": "code",
   "execution_count": 34,
   "metadata": {
    "collapsed": false
   },
   "outputs": [
    {
     "data": {
      "text/plain": [
       "GridSearchCV(cv=5, error_score='raise',\n",
       "       estimator=SGDRegressor(alpha=0.0001, average=False, epsilon=0.1, eta0=0.01,\n",
       "       fit_intercept=True, l1_ratio=0.15, learning_rate='invscaling',\n",
       "       loss='squared_loss', n_iter=5, penalty='l2', power_t=0.25,\n",
       "       random_state=42, shuffle=True, verbose=0, warm_start=False),\n",
       "       fit_params={}, iid=True, n_jobs=1,\n",
       "       param_grid={'penalty': ['l1', 'l2'], 'loss': ['squared_loss', 'huber'], 'alpha': [0.01, 0.001, 0.0001]},\n",
       "       pre_dispatch='2*n_jobs', refit=True,\n",
       "       scoring=make_scorer(mean_squared_error, greater_is_better=False),\n",
       "       verbose=0)"
      ]
     },
     "execution_count": 34,
     "metadata": {},
     "output_type": "execute_result"
    }
   ],
   "source": [
    "parameters = {'loss': ['squared_loss', 'huber'],\n",
    "             'penalty': ['l1','l2'],\n",
    "              'alpha': [0.01, 0.001, 0.0001]\n",
    "             }\n",
    "accuracy=make_scorer(mean_squared_error, greater_is_better=False)\n",
    "SGDclf_scalelog = GridSearchCV(SGDRegressor(random_state=42), parameters, cv=5,scoring=accuracy)\n",
    "SGDclf_scalelog.fit(X_train_scaled, log_y_train)"
   ]
  },
  {
   "cell_type": "code",
   "execution_count": 35,
   "metadata": {
    "collapsed": false
   },
   "outputs": [
    {
     "name": "stdout",
     "output_type": "stream",
     "text": [
      "{'penalty': 'l1', 'alpha': 0.01, 'loss': 'huber'}\n",
      "-129.479191791\n"
     ]
    }
   ],
   "source": [
    "print SGDclf_scalelog.best_params_\n",
    "print SGDclf_scalelog.best_score_"
   ]
  },
  {
   "cell_type": "code",
   "execution_count": null,
   "metadata": {
    "collapsed": true
   },
   "outputs": [],
   "source": [
    "### NOT SURE OF BEST PARAMS -- LOG WOULDN'T RUN\n",
    "# GSCV_SGDclf_scalelog = SGDRegressor(penalty='l1', alpha=0.01, loss='huber', random_state=42)\n",
    "# GSCV_SGDclf_scalelog.fit(X_train_scaled, log_y_train)\n",
    "# GSCV_SGDclf_predict_scalelog = GSCV_SGDclf_scalelog.predict(X_test_scaled)\n",
    "# GSCV_SGDclf_RMSE_scalelog=np.sqrt(mean_squared_error(y_test, np.exp(GSCV_SGDclf_predict_scalelog)))\n",
    "# GSCV_SGDclf_RMSE_scalelog"
   ]
  },
  {
   "cell_type": "markdown",
   "metadata": {},
   "source": [
    "### Regression Trees"
   ]
  },
  {
   "cell_type": "code",
   "execution_count": 36,
   "metadata": {
    "collapsed": false
   },
   "outputs": [
    {
     "name": "stdout",
     "output_type": "stream",
     "text": [
      "RMSE for Regression Tree is: 36761.5502\n"
     ]
    }
   ],
   "source": [
    "# Create and fit the model\n",
    "model_tree2_reg = DecisionTreeRegressor(random_state = 1)\n",
    "model_tree2_reg.fit(X_train, y_train)\n",
    "\n",
    "# Predict on the test set\n",
    "p_tree2_reg = model_tree2_reg.predict(X_test)\n",
    "\n",
    "# Calculate RMSE of the model\n",
    "REGTREE_residuals_reg = p_tree2_reg - y_test\n",
    "REGTREE_MSE_reg = (REGTREE_residuals_reg**2).mean()\n",
    "REGTREE_RMSE_reg = math.sqrt(REGTREE_MSE_reg)\n",
    "\n",
    "print \"RMSE for Regression Tree is:\", round(REGTREE_RMSE_reg,4)"
   ]
  },
  {
   "cell_type": "code",
   "execution_count": 37,
   "metadata": {
    "collapsed": false
   },
   "outputs": [
    {
     "name": "stdout",
     "output_type": "stream",
     "text": [
      "RMSE for Regression Tree USING LOG is: 47427.6437\n"
     ]
    }
   ],
   "source": [
    "# Create and fit the model\n",
    "model_tree2_log = DecisionTreeRegressor(random_state = 1)\n",
    "model_tree2_log.fit(X_train, log_y_train)\n",
    "\n",
    "# Predict on the test set\n",
    "p_tree2_log = model_tree2_log.predict(X_test)\n",
    "\n",
    "# Calculate RMSE of the model\n",
    "REGTREE_residuals_log = np.exp(p_tree2_log) - y_test\n",
    "REGTREE_MSE_log = (REGTREE_residuals_log**2).mean()\n",
    "REGTREE_RMSE_log = math.sqrt(REGTREE_MSE_log)\n",
    "\n",
    "print \"RMSE for Regression Tree USING LOG is:\", round(REGTREE_RMSE_log,4)"
   ]
  },
  {
   "cell_type": "code",
   "execution_count": 38,
   "metadata": {
    "collapsed": false
   },
   "outputs": [
    {
     "name": "stdout",
     "output_type": "stream",
     "text": [
      "RMSE with scaling Regression Tree is: 36761.5502\n"
     ]
    }
   ],
   "source": [
    "# Create and fit the model\n",
    "model_tree2_scale = DecisionTreeRegressor(random_state = 1)\n",
    "model_tree2_scale.fit(X_train_scaled, y_train)\n",
    "\n",
    "# Predict on the test set\n",
    "p_tree2_scale = model_tree2_scale.predict(X_test_scaled)\n",
    "\n",
    "# Calculate RMSE of the model\n",
    "REGTREE_residuals_scale = p_tree2_scale - y_test\n",
    "REGTREE_MSE_scale = (REGTREE_residuals_scale**2).mean()\n",
    "REGTREE_RMSE_scale = math.sqrt(REGTREE_MSE_scale)\n",
    "\n",
    "print \"RMSE with scaling Regression Tree is:\", round(REGTREE_RMSE_scale,4)"
   ]
  },
  {
   "cell_type": "code",
   "execution_count": 39,
   "metadata": {
    "collapsed": false
   },
   "outputs": [
    {
     "name": "stdout",
     "output_type": "stream",
     "text": [
      "RMSE with scaling for Regression Tree USING LOG is: 47425.9335\n"
     ]
    }
   ],
   "source": [
    "# Create and fit the model\n",
    "model_tree2_scalelog = DecisionTreeRegressor(random_state = 1)\n",
    "model_tree2_scalelog.fit(X_train_scaled, log_y_train)\n",
    "\n",
    "# Predict on the test set\n",
    "p_tree2_scalelog = model_tree2_scalelog.predict(X_test_scaled)\n",
    "\n",
    "# Calculate RMSE of the model\n",
    "REGTREE_residuals_scalelog = np.exp(p_tree2_scalelog) - y_test\n",
    "REGTREE_MSE_scalelog = (REGTREE_residuals_scalelog**2).mean()\n",
    "REGTREE_RMSE_scalelog = math.sqrt(REGTREE_MSE_scalelog)\n",
    "\n",
    "print \"RMSE with scaling for Regression Tree USING LOG is:\", round(REGTREE_RMSE_scalelog,4)"
   ]
  },
  {
   "cell_type": "code",
   "execution_count": 40,
   "metadata": {
    "collapsed": false
   },
   "outputs": [
    {
     "name": "stdout",
     "output_type": "stream",
     "text": [
      "OverallQual        0.614600\n",
      "GrLivArea          0.086107\n",
      "BsmtFinSF1         0.046798\n",
      "2ndFlrSF           0.030195\n",
      "TotalBsmtSF        0.029737\n",
      "GarageArea         0.018786\n",
      "LotArea            0.018527\n",
      "BsmtExposure_Gd    0.017897\n",
      "LotFrontage        0.017661\n",
      "WoodDeckSF         0.014118\n",
      "dtype: float64\n"
     ]
    }
   ],
   "source": [
    "# # Feature importances from Model 1\n",
    "# imp_tree1 = pd.Series(model_tree1.feature_importances_,X_train.columns.values)\n",
    "# print imp_tree1.sort_values(ascending = False)[:10]\n",
    "\n",
    "# Feature importances from Model 2\n",
    "imp_tree2 = pd.Series(model_tree2_reg.feature_importances_,X_train.columns.values)\n",
    "print imp_tree2.sort_values(ascending = False)[:10]"
   ]
  },
  {
   "cell_type": "code",
   "execution_count": 41,
   "metadata": {
    "collapsed": false
   },
   "outputs": [
    {
     "name": "stdout",
     "output_type": "stream",
     "text": [
      "RMSE for Regression Tree is: 36761.5502\n",
      "RMSE for Regression Tree USING LOG is: 47427.6437\n",
      "RMSE with scaling Regression Tree is: 36761.5502\n",
      "RMSE with scaling for Regression Tree USING LOG is: 47425.9335\n"
     ]
    }
   ],
   "source": [
    "# SUMMARY - Regression Trees\n",
    "print \"RMSE for Regression Tree is:\", round(REGTREE_RMSE_reg,4)\n",
    "print \"RMSE for Regression Tree USING LOG is:\", round(REGTREE_RMSE_log,4)\n",
    "print \"RMSE with scaling Regression Tree is:\", round(REGTREE_RMSE_scale,4)\n",
    "print \"RMSE with scaling for Regression Tree USING LOG is:\", round(REGTREE_RMSE_scalelog,4)"
   ]
  },
  {
   "cell_type": "markdown",
   "metadata": {},
   "source": [
    "###  Random Forest (GridSearchCV)"
   ]
  },
  {
   "cell_type": "code",
   "execution_count": 42,
   "metadata": {
    "collapsed": true
   },
   "outputs": [],
   "source": [
    "# Cross validate RF model\n",
    "# Set parameter dictionary to search through\n",
    "params = {'n_estimators':[10,100,500, 1000], 'max_depth':[5,10,20]}\n",
    "\n",
    "# Create model and fit best parameters\n",
    "model_rf2 = RandomForestRegressor()\n",
    "model_rf2_GS_reg = GridSearchCV(model_rf2, params)\n",
    "model_rf2_GS_log = GridSearchCV(model_rf2, params)\n",
    "model_rf2_GS_scale = GridSearchCV(model_rf2, params)\n",
    "model_rf2_GS_scalelog = GridSearchCV(model_rf2, params)"
   ]
  },
  {
   "cell_type": "code",
   "execution_count": 43,
   "metadata": {
    "collapsed": false
   },
   "outputs": [
    {
     "data": {
      "text/plain": [
       "GridSearchCV(cv=None, error_score='raise',\n",
       "       estimator=RandomForestRegressor(bootstrap=True, criterion='mse', max_depth=None,\n",
       "           max_features='auto', max_leaf_nodes=None,\n",
       "           min_impurity_split=1e-07, min_samples_leaf=1,\n",
       "           min_samples_split=2, min_weight_fraction_leaf=0.0,\n",
       "           n_estimators=10, n_jobs=1, oob_score=False, random_state=None,\n",
       "           verbose=0, warm_start=False),\n",
       "       fit_params={}, iid=True, n_jobs=1,\n",
       "       param_grid={'n_estimators': [10, 100, 500, 1000], 'max_depth': [5, 10, 20]},\n",
       "       pre_dispatch='2*n_jobs', refit=True, scoring=None, verbose=0)"
      ]
     },
     "execution_count": 43,
     "metadata": {},
     "output_type": "execute_result"
    }
   ],
   "source": [
    "# Avoid running, build a RF model below\n",
    "model_rf2_GS_reg.fit(X_train, y_train)"
   ]
  },
  {
   "cell_type": "code",
   "execution_count": 44,
   "metadata": {
    "collapsed": false
   },
   "outputs": [
    {
     "data": {
      "text/plain": [
       "GridSearchCV(cv=None, error_score='raise',\n",
       "       estimator=RandomForestRegressor(bootstrap=True, criterion='mse', max_depth=None,\n",
       "           max_features='auto', max_leaf_nodes=None,\n",
       "           min_impurity_split=1e-07, min_samples_leaf=1,\n",
       "           min_samples_split=2, min_weight_fraction_leaf=0.0,\n",
       "           n_estimators=10, n_jobs=1, oob_score=False, random_state=None,\n",
       "           verbose=0, warm_start=False),\n",
       "       fit_params={}, iid=True, n_jobs=1,\n",
       "       param_grid={'n_estimators': [10, 100, 500, 1000], 'max_depth': [5, 10, 20]},\n",
       "       pre_dispatch='2*n_jobs', refit=True, scoring=None, verbose=0)"
      ]
     },
     "execution_count": 44,
     "metadata": {},
     "output_type": "execute_result"
    }
   ],
   "source": [
    "# Avoid running, build a RF model below\n",
    "model_rf2_GS_log.fit(X_train, log_y_train)"
   ]
  },
  {
   "cell_type": "code",
   "execution_count": 45,
   "metadata": {
    "collapsed": false
   },
   "outputs": [
    {
     "data": {
      "text/plain": [
       "GridSearchCV(cv=None, error_score='raise',\n",
       "       estimator=RandomForestRegressor(bootstrap=True, criterion='mse', max_depth=None,\n",
       "           max_features='auto', max_leaf_nodes=None,\n",
       "           min_impurity_split=1e-07, min_samples_leaf=1,\n",
       "           min_samples_split=2, min_weight_fraction_leaf=0.0,\n",
       "           n_estimators=10, n_jobs=1, oob_score=False, random_state=None,\n",
       "           verbose=0, warm_start=False),\n",
       "       fit_params={}, iid=True, n_jobs=1,\n",
       "       param_grid={'n_estimators': [10, 100, 500, 1000], 'max_depth': [5, 10, 20]},\n",
       "       pre_dispatch='2*n_jobs', refit=True, scoring=None, verbose=0)"
      ]
     },
     "execution_count": 45,
     "metadata": {},
     "output_type": "execute_result"
    }
   ],
   "source": [
    "# Avoid running, build a RF model below\n",
    "model_rf2_GS_scale.fit(X_train_scaled, y_train)"
   ]
  },
  {
   "cell_type": "code",
   "execution_count": 46,
   "metadata": {
    "collapsed": false
   },
   "outputs": [
    {
     "data": {
      "text/plain": [
       "GridSearchCV(cv=None, error_score='raise',\n",
       "       estimator=RandomForestRegressor(bootstrap=True, criterion='mse', max_depth=None,\n",
       "           max_features='auto', max_leaf_nodes=None,\n",
       "           min_impurity_split=1e-07, min_samples_leaf=1,\n",
       "           min_samples_split=2, min_weight_fraction_leaf=0.0,\n",
       "           n_estimators=10, n_jobs=1, oob_score=False, random_state=None,\n",
       "           verbose=0, warm_start=False),\n",
       "       fit_params={}, iid=True, n_jobs=1,\n",
       "       param_grid={'n_estimators': [10, 100, 500, 1000], 'max_depth': [5, 10, 20]},\n",
       "       pre_dispatch='2*n_jobs', refit=True, scoring=None, verbose=0)"
      ]
     },
     "execution_count": 46,
     "metadata": {},
     "output_type": "execute_result"
    }
   ],
   "source": [
    "# Avoid running, build a RF model below\n",
    "model_rf2_GS_scalelog.fit(X_train_scaled, log_y_train)"
   ]
  },
  {
   "cell_type": "code",
   "execution_count": 47,
   "metadata": {
    "collapsed": true
   },
   "outputs": [],
   "source": [
    "# Save best estimates to avoid re-running grid search\n",
    "model_rf2_GS_reg_best=model_rf2_GS_reg.best_estimator_\n",
    "model_rf2_GS_log_best=model_rf2_GS_log.best_estimator_\n",
    "model_rf2_GS_scale_best=model_rf2_GS_scale.best_estimator_\n",
    "model_rf2_GS_scalelog_best=model_rf2_GS_scalelog.best_estimator_"
   ]
  },
  {
   "cell_type": "code",
   "execution_count": 48,
   "metadata": {
    "collapsed": false
   },
   "outputs": [
    {
     "name": "stdout",
     "output_type": "stream",
     "text": [
      "RMSE for GS Random Forest is: 25990.9402\n"
     ]
    }
   ],
   "source": [
    "# Make predictions on Grid search optimized RF model\n",
    "p_rf2_reg = model_rf2_GS_reg.predict(X_test)\n",
    "\n",
    "# Calculate RMSE of the model\n",
    "GS_RANDFOR_residuals_reg = p_rf2_reg - y_test\n",
    "GS_RANDFOR_MSE_reg = (GS_RANDFOR_residuals_reg**2).mean()\n",
    "GS_RANDFOR_RMSE_reg = math.sqrt(GS_RANDFOR_MSE_reg)\n",
    "\n",
    "print \"RMSE for GS Random Forest is:\", round(GS_RANDFOR_RMSE_reg,4)"
   ]
  },
  {
   "cell_type": "code",
   "execution_count": 49,
   "metadata": {
    "collapsed": false
   },
   "outputs": [
    {
     "name": "stdout",
     "output_type": "stream",
     "text": [
      "RMSE for GS Random Forest USING LOG is: 28373.1619\n"
     ]
    }
   ],
   "source": [
    "# Make predictions on Grid search optimized RF model\n",
    "p_rf2_log = model_rf2_GS_log.predict(X_test)\n",
    "\n",
    "# Calculate RMSE of the model\n",
    "GS_RANDFOR_residuals_log = np.exp(p_rf2_log) - y_test\n",
    "GS_RANDFOR_MSE_log = (GS_RANDFOR_residuals_log**2).mean()\n",
    "GS_RANDFOR_RMSE_log = math.sqrt(GS_RANDFOR_MSE_log)\n",
    "\n",
    "print \"RMSE for GS Random Forest USING LOG is:\", round(GS_RANDFOR_RMSE_log,4)"
   ]
  },
  {
   "cell_type": "code",
   "execution_count": 50,
   "metadata": {
    "collapsed": false
   },
   "outputs": [
    {
     "name": "stdout",
     "output_type": "stream",
     "text": [
      "RMSE using scaling for GS Random Forest is: 25461.5528\n"
     ]
    }
   ],
   "source": [
    "# Make predictions on Grid search optimized RF model\n",
    "p_rf2_scale = model_rf2_GS_scale.predict(X_test_scaled)\n",
    "\n",
    "# Calculate RMSE of the model\n",
    "GS_RANDFOR_residuals_scale = p_rf2_scale - y_test\n",
    "GS_RANDFOR_MSE_scale = (GS_RANDFOR_residuals_scale**2).mean()\n",
    "GS_RANDFOR_RMSE_scale = math.sqrt(GS_RANDFOR_MSE_scale)\n",
    "\n",
    "print \"RMSE using scaling for GS Random Forest is:\", round(GS_RANDFOR_RMSE_scale,4)"
   ]
  },
  {
   "cell_type": "code",
   "execution_count": 51,
   "metadata": {
    "collapsed": false
   },
   "outputs": [
    {
     "name": "stdout",
     "output_type": "stream",
     "text": [
      "RMSE using scaling for GS Random Forest USING LOG is: 28693.662\n"
     ]
    }
   ],
   "source": [
    "# Make predictions on Grid search optimized RF model\n",
    "p_rf2_scalelog = model_rf2_GS_scalelog.predict(X_test_scaled)\n",
    "\n",
    "# Calculate RMSE of the model\n",
    "GS_RANDFOR_residuals_scalelog = np.exp(p_rf2_scalelog) - y_test\n",
    "GS_RANDFOR_MSE_scalelog = (GS_RANDFOR_residuals_scalelog**2).mean()\n",
    "GS_RANDFOR_RMSE_scalelog = math.sqrt(GS_RANDFOR_MSE_scalelog)\n",
    "\n",
    "print \"RMSE using scaling for GS Random Forest USING LOG is:\", round(GS_RANDFOR_RMSE_scalelog,4)"
   ]
  },
  {
   "cell_type": "code",
   "execution_count": 52,
   "metadata": {
    "collapsed": false
   },
   "outputs": [
    {
     "name": "stdout",
     "output_type": "stream",
     "text": [
      "RMSE for GS Random Forest is: 25990.9402\n",
      "RMSE for GS Random Forest USING LOG is: 28373.1619\n",
      "RMSE using scaling for GS Random Forest is: 25461.5528\n",
      "RMSE using scaling for GS Random Forest USING LOG is: 28693.662\n"
     ]
    }
   ],
   "source": [
    "# SUMMARY - GridsearchCV on Random Forests\n",
    "print \"RMSE for GS Random Forest is:\", round(GS_RANDFOR_RMSE_reg,4)\n",
    "print \"RMSE for GS Random Forest USING LOG is:\", round(GS_RANDFOR_RMSE_log,4)\n",
    "print \"RMSE using scaling for GS Random Forest is:\", round(GS_RANDFOR_RMSE_scale,4)\n",
    "print \"RMSE using scaling for GS Random Forest USING LOG is:\", round(GS_RANDFOR_RMSE_scalelog,4)"
   ]
  },
  {
   "cell_type": "markdown",
   "metadata": {},
   "source": [
    "### Gradient Boosting (GridSearchCV)"
   ]
  },
  {
   "cell_type": "code",
   "execution_count": 53,
   "metadata": {
    "collapsed": true
   },
   "outputs": [],
   "source": [
    "# Create Gradient Boosting Model\n",
    "model_gb1 = GradientBoostingRegressor()\n",
    "\n",
    "# Create parameter dictionary for GridSearchCV\n",
    "params = {'n_estimators':(5,10,50,100,500,1000),'learning_rate':(0.01, 0.05, 0.1, 0.2)}\n",
    "\n",
    "#Create Grid Search Model\n",
    "model_gb1_GS = GridSearchCV(model_gb1,params)\n",
    "model_gb1_GS_reg = GridSearchCV(model_gb1, params)\n",
    "model_gb1_GS_log = GridSearchCV(model_gb1, params)\n",
    "model_gb1_GS_scale = GridSearchCV(model_gb1, params)\n",
    "model_gb1_GS_scalelog = GridSearchCV(model_gb1, params)"
   ]
  },
  {
   "cell_type": "code",
   "execution_count": 54,
   "metadata": {
    "collapsed": false
   },
   "outputs": [
    {
     "data": {
      "text/plain": [
       "GridSearchCV(cv=None, error_score='raise',\n",
       "       estimator=GradientBoostingRegressor(alpha=0.9, criterion='friedman_mse', init=None,\n",
       "             learning_rate=0.1, loss='ls', max_depth=3, max_features=None,\n",
       "             max_leaf_nodes=None, min_impurity_split=1e-07,\n",
       "             min_samples_leaf=1, min_samples_split=2,\n",
       "             min_weight_fraction_leaf=0.0, n_estimators=100,\n",
       "             presort='auto', random_state=None, subsample=1.0, verbose=0,\n",
       "             warm_start=False),\n",
       "       fit_params={}, iid=True, n_jobs=1,\n",
       "       param_grid={'n_estimators': (5, 10, 50, 100, 500, 1000), 'learning_rate': (0.01, 0.05, 0.1, 0.2)},\n",
       "       pre_dispatch='2*n_jobs', refit=True, scoring=None, verbose=0)"
      ]
     },
     "execution_count": 54,
     "metadata": {},
     "output_type": "execute_result"
    }
   ],
   "source": [
    "# Avoid running, build a RF model below\n",
    "model_gb1_GS_reg.fit(X_train, y_train)"
   ]
  },
  {
   "cell_type": "code",
   "execution_count": 55,
   "metadata": {
    "collapsed": false
   },
   "outputs": [
    {
     "data": {
      "text/plain": [
       "GridSearchCV(cv=None, error_score='raise',\n",
       "       estimator=GradientBoostingRegressor(alpha=0.9, criterion='friedman_mse', init=None,\n",
       "             learning_rate=0.1, loss='ls', max_depth=3, max_features=None,\n",
       "             max_leaf_nodes=None, min_impurity_split=1e-07,\n",
       "             min_samples_leaf=1, min_samples_split=2,\n",
       "             min_weight_fraction_leaf=0.0, n_estimators=100,\n",
       "             presort='auto', random_state=None, subsample=1.0, verbose=0,\n",
       "             warm_start=False),\n",
       "       fit_params={}, iid=True, n_jobs=1,\n",
       "       param_grid={'n_estimators': (5, 10, 50, 100, 500, 1000), 'learning_rate': (0.01, 0.05, 0.1, 0.2)},\n",
       "       pre_dispatch='2*n_jobs', refit=True, scoring=None, verbose=0)"
      ]
     },
     "execution_count": 55,
     "metadata": {},
     "output_type": "execute_result"
    }
   ],
   "source": [
    "# Avoid running, build a RF model below\n",
    "model_gb1_GS_log.fit(X_train, log_y_train)"
   ]
  },
  {
   "cell_type": "code",
   "execution_count": 56,
   "metadata": {
    "collapsed": false
   },
   "outputs": [
    {
     "data": {
      "text/plain": [
       "GridSearchCV(cv=None, error_score='raise',\n",
       "       estimator=GradientBoostingRegressor(alpha=0.9, criterion='friedman_mse', init=None,\n",
       "             learning_rate=0.1, loss='ls', max_depth=3, max_features=None,\n",
       "             max_leaf_nodes=None, min_impurity_split=1e-07,\n",
       "             min_samples_leaf=1, min_samples_split=2,\n",
       "             min_weight_fraction_leaf=0.0, n_estimators=100,\n",
       "             presort='auto', random_state=None, subsample=1.0, verbose=0,\n",
       "             warm_start=False),\n",
       "       fit_params={}, iid=True, n_jobs=1,\n",
       "       param_grid={'n_estimators': (5, 10, 50, 100, 500, 1000), 'learning_rate': (0.01, 0.05, 0.1, 0.2)},\n",
       "       pre_dispatch='2*n_jobs', refit=True, scoring=None, verbose=0)"
      ]
     },
     "execution_count": 56,
     "metadata": {},
     "output_type": "execute_result"
    }
   ],
   "source": [
    "# Avoid running, build a RF model below\n",
    "model_gb1_GS_scale.fit(X_train_scaled, y_train)"
   ]
  },
  {
   "cell_type": "code",
   "execution_count": 57,
   "metadata": {
    "collapsed": false
   },
   "outputs": [
    {
     "data": {
      "text/plain": [
       "GridSearchCV(cv=None, error_score='raise',\n",
       "       estimator=GradientBoostingRegressor(alpha=0.9, criterion='friedman_mse', init=None,\n",
       "             learning_rate=0.1, loss='ls', max_depth=3, max_features=None,\n",
       "             max_leaf_nodes=None, min_impurity_split=1e-07,\n",
       "             min_samples_leaf=1, min_samples_split=2,\n",
       "             min_weight_fraction_leaf=0.0, n_estimators=100,\n",
       "             presort='auto', random_state=None, subsample=1.0, verbose=0,\n",
       "             warm_start=False),\n",
       "       fit_params={}, iid=True, n_jobs=1,\n",
       "       param_grid={'n_estimators': (5, 10, 50, 100, 500, 1000), 'learning_rate': (0.01, 0.05, 0.1, 0.2)},\n",
       "       pre_dispatch='2*n_jobs', refit=True, scoring=None, verbose=0)"
      ]
     },
     "execution_count": 57,
     "metadata": {},
     "output_type": "execute_result"
    }
   ],
   "source": [
    "# Avoid running, build a RF model below\n",
    "model_gb1_GS_scalelog.fit(X_train_scaled, log_y_train)"
   ]
  },
  {
   "cell_type": "code",
   "execution_count": 58,
   "metadata": {
    "collapsed": true
   },
   "outputs": [],
   "source": [
    "# Save best estimates to avoid re-running grid search\n",
    "model_gb1_GS_reg_best=model_gb1_GS_reg.best_estimator_\n",
    "model_gb1_GS_log_best=model_gb1_GS_log.best_estimator_\n",
    "model_gb1_GS_scale_best=model_gb1_GS_scale.best_estimator_\n",
    "model_gb1_GS_scalelog_best=model_gb1_GS_scalelog.best_estimator_"
   ]
  },
  {
   "cell_type": "code",
   "execution_count": 59,
   "metadata": {
    "collapsed": false
   },
   "outputs": [
    {
     "name": "stdout",
     "output_type": "stream",
     "text": [
      "RMSE for GS Gradient Boosting is: 22124.5529\n"
     ]
    }
   ],
   "source": [
    "# Make predictions on Grid search optimized Gradient Boosting model\n",
    "p_gb1_reg = model_gb1_GS_reg.predict(X_test)\n",
    "\n",
    "# Calculate RMSE of the model\n",
    "GS_GRADBOOST_residuals_reg = p_gb1_reg - y_test\n",
    "GS_GRADBOOST_MSE_reg = (GS_GRADBOOST_residuals_reg**2).mean()\n",
    "GS_GRADBOOST_RMSE_reg = math.sqrt(GS_GRADBOOST_MSE_reg)\n",
    "\n",
    "print \"RMSE for GS Gradient Boosting is:\", round(GS_GRADBOOST_RMSE_reg,4)"
   ]
  },
  {
   "cell_type": "code",
   "execution_count": 60,
   "metadata": {
    "collapsed": false
   },
   "outputs": [
    {
     "name": "stdout",
     "output_type": "stream",
     "text": [
      "RMSE for GS Gradient Boosting USING LOG is: 23276.1445\n"
     ]
    }
   ],
   "source": [
    "# Make predictions on Grid search optimized Gradient Boosting model\n",
    "p_gb1_log = model_gb1_GS_log.predict(X_test)\n",
    "\n",
    "# Calculate RMSE of the model\n",
    "GS_GRADBOOST_residuals_log = np.exp(p_gb1_log) - y_test\n",
    "GS_GRADBOOST_MSE_log = (GS_GRADBOOST_residuals_log**2).mean()\n",
    "GS_GRADBOOST_RMSE_log = math.sqrt(GS_GRADBOOST_MSE_log)\n",
    "\n",
    "print \"RMSE for GS Gradient Boosting USING LOG is:\", round(GS_GRADBOOST_RMSE_log,4)"
   ]
  },
  {
   "cell_type": "code",
   "execution_count": 61,
   "metadata": {
    "collapsed": false
   },
   "outputs": [
    {
     "name": "stdout",
     "output_type": "stream",
     "text": [
      "RMSE with scaling for GS Gradient Boosting is: 23001.7049\n"
     ]
    }
   ],
   "source": [
    "# Make predictions on Grid search optimized Gradient Boosting model\n",
    "p_gb1_scale = model_gb1_GS_scale.predict(X_test_scaled)\n",
    "\n",
    "# Calculate RMSE of the model\n",
    "GS_GRADBOOST_residuals_scale = p_gb1_scale - y_test\n",
    "GS_GRADBOOST_MSE_scale = (GS_GRADBOOST_residuals_scale**2).mean()\n",
    "GS_GRADBOOST_RMSE_scale = math.sqrt(GS_GRADBOOST_MSE_scale)\n",
    "\n",
    "print \"RMSE with scaling for GS Gradient Boosting is:\", round(GS_GRADBOOST_RMSE_scale,4)"
   ]
  },
  {
   "cell_type": "code",
   "execution_count": 62,
   "metadata": {
    "collapsed": false
   },
   "outputs": [
    {
     "name": "stdout",
     "output_type": "stream",
     "text": [
      "RMSE with scaling for GS Gradient Boosting USING LOG is: 22866.3013\n"
     ]
    }
   ],
   "source": [
    "# Make predictions on Grid search optimized Gradient Boosting model\n",
    "p_gb1_scalelog = model_gb1_GS_scalelog.predict(X_test_scaled)\n",
    "\n",
    "# Calculate RMSE of the model\n",
    "GS_GRADBOOST_residuals_scalelog = np.exp(p_gb1_scalelog) - y_test\n",
    "GS_GRADBOOST_MSE_scalelog = (GS_GRADBOOST_residuals_scalelog**2).mean()\n",
    "GS_GRADBOOST_RMSE_scalelog = math.sqrt(GS_GRADBOOST_MSE_scalelog)\n",
    "\n",
    "print \"RMSE with scaling for GS Gradient Boosting USING LOG is:\", round(GS_GRADBOOST_RMSE_scalelog,4)"
   ]
  },
  {
   "cell_type": "code",
   "execution_count": 63,
   "metadata": {
    "collapsed": false
   },
   "outputs": [
    {
     "name": "stdout",
     "output_type": "stream",
     "text": [
      "RMSE for GS Gradient Boosting is: 22124.5529\n",
      "RMSE for GS Gradient Boosting USING LOG is: 23276.1445\n",
      "RMSE with scaling for GS Gradient Boosting is: 23001.7049\n",
      "RMSE with scaling for GS Gradient Boosting USING LOG is: 22866.3013\n"
     ]
    }
   ],
   "source": [
    "# SUMMARY - GridsearchCV on Gradient Boosting\n",
    "print \"RMSE for GS Gradient Boosting is:\", round(GS_GRADBOOST_RMSE_reg,4)\n",
    "print \"RMSE for GS Gradient Boosting USING LOG is:\", round(GS_GRADBOOST_RMSE_log,4)\n",
    "print \"RMSE with scaling for GS Gradient Boosting is:\", round(GS_GRADBOOST_RMSE_scale,4)\n",
    "print \"RMSE with scaling for GS Gradient Boosting USING LOG is:\", round(GS_GRADBOOST_RMSE_scalelog,4)"
   ]
  },
  {
   "cell_type": "markdown",
   "metadata": {},
   "source": [
    "### AdaBoost"
   ]
  },
  {
   "cell_type": "code",
   "execution_count": 64,
   "metadata": {
    "collapsed": false
   },
   "outputs": [
    {
     "data": {
      "text/plain": [
       "GridSearchCV(cv=5, error_score='raise',\n",
       "       estimator=AdaBoostRegressor(base_estimator=None, learning_rate=1.0, loss='linear',\n",
       "         n_estimators=50, random_state=0),\n",
       "       fit_params={}, iid=True, n_jobs=1,\n",
       "       param_grid={'loss': ['linear', 'square'], 'learning_rate': [0.01, 0.001, 0.0001]},\n",
       "       pre_dispatch='2*n_jobs', refit=True,\n",
       "       scoring=make_scorer(mean_squared_error, greater_is_better=False),\n",
       "       verbose=0)"
      ]
     },
     "execution_count": 64,
     "metadata": {},
     "output_type": "execute_result"
    }
   ],
   "source": [
    "#predictions are on average 1.17 times as large as the actual value\n",
    "parameters={'learning_rate': [0.01, 0.001, 0.0001], 'loss': ['linear', 'square']}\n",
    "accuracy=make_scorer(mean_squared_error, greater_is_better=False)\n",
    "GS_ADABOOST = GridSearchCV(AdaBoostRegressor(random_state=0), parameters, cv=5,scoring=accuracy)\n",
    "GS_ADABOOST.fit(X_train, y_train)"
   ]
  },
  {
   "cell_type": "code",
   "execution_count": 65,
   "metadata": {
    "collapsed": false
   },
   "outputs": [
    {
     "data": {
      "text/plain": [
       "{'learning_rate': 0.01, 'loss': 'square'}"
      ]
     },
     "execution_count": 65,
     "metadata": {},
     "output_type": "execute_result"
    }
   ],
   "source": [
    "GS_ADABOOST.best_params_"
   ]
  },
  {
   "cell_type": "code",
   "execution_count": 66,
   "metadata": {
    "collapsed": false
   },
   "outputs": [
    {
     "data": {
      "text/plain": [
       "39686.078018620377"
      ]
     },
     "execution_count": 66,
     "metadata": {},
     "output_type": "execute_result"
    }
   ],
   "source": [
    "GS_ADABOOST_reg=AdaBoostRegressor(random_state=1, loss='linear', learning_rate=0.01)\n",
    "GS_ADABOOST_reg.fit(X_train, y_train)\n",
    "GS_ADABOOST_predict_reg=GS_ADABOOST_reg.predict(X_test)\n",
    "GS_ADABOOST_RMSE_reg=np.sqrt(np.mean((y_test-GS_ADABOOST_predict_reg)**2))\n",
    "GS_ADABOOST_RMSE_reg"
   ]
  },
  {
   "cell_type": "code",
   "execution_count": 67,
   "metadata": {
    "collapsed": false
   },
   "outputs": [
    {
     "data": {
      "text/plain": [
       "39148.283036708475"
      ]
     },
     "execution_count": 67,
     "metadata": {},
     "output_type": "execute_result"
    }
   ],
   "source": [
    "GS_ADABOOST_scale=AdaBoostRegressor(random_state=1, loss='linear', learning_rate=0.01)\n",
    "GS_ADABOOST_scale.fit(X_train_scaled, y_train)\n",
    "GS_ADABOOST_predict_scale = GS_ADABOOST_scale.predict(X_test_scaled)\n",
    "GS_ADABOOST_RMSE_scale=np.sqrt(np.mean((y_test-GS_ADABOOST_predict_scale)**2))\n",
    "GS_ADABOOST_RMSE_scale"
   ]
  },
  {
   "cell_type": "code",
   "execution_count": 68,
   "metadata": {
    "collapsed": false
   },
   "outputs": [
    {
     "data": {
      "text/plain": [
       "42190.295730148951"
      ]
     },
     "execution_count": 68,
     "metadata": {},
     "output_type": "execute_result"
    }
   ],
   "source": [
    "GS_ADABOOST_log=AdaBoostRegressor(random_state=1, loss='linear', learning_rate=0.01)\n",
    "GS_ADABOOST_log.fit(X_train, log_y_train)\n",
    "GS_ADABOOST_predict_log = GS_ADABOOST_log.predict(X_test)\n",
    "GS_ADABOOST_RMSE_log=np.sqrt(np.mean((y_test-np.exp(GS_ADABOOST_predict_log))**2))\n",
    "GS_ADABOOST_RMSE_log"
   ]
  },
  {
   "cell_type": "code",
   "execution_count": 69,
   "metadata": {
    "collapsed": false
   },
   "outputs": [
    {
     "data": {
      "text/plain": [
       "41969.687380833719"
      ]
     },
     "execution_count": 69,
     "metadata": {},
     "output_type": "execute_result"
    }
   ],
   "source": [
    "GS_ADABOOST_scalelog=AdaBoostRegressor(random_state=1, loss='linear', learning_rate=0.01)\n",
    "GS_ADABOOST_scalelog.fit(X_train_scaled, log_y_train)\n",
    "GS_ADABOOST_predict_scalelog = GS_ADABOOST_scalelog.predict(X_test_scaled)\n",
    "GS_ADABOOST_RMSE_scalelog=np.sqrt(np.mean((y_test-np.exp(GS_ADABOOST_predict_scalelog))**2))\n",
    "GS_ADABOOST_RMSE_scalelog"
   ]
  },
  {
   "cell_type": "markdown",
   "metadata": {},
   "source": [
    "### MARS"
   ]
  },
  {
   "cell_type": "code",
   "execution_count": 70,
   "metadata": {
    "collapsed": true
   },
   "outputs": [],
   "source": [
    "# Best Model\n",
    "MARS_scalelog = Earth(max_degree= 3,penalty=2.0,feature_importance_type = \"rss\",\n",
    "                      smooth=True,enable_pruning=True)\n",
    "\n",
    "MARS_scalelog_fit = MARS_scalelog.fit(X_train_scaled,log_y_train)"
   ]
  },
  {
   "cell_type": "code",
   "execution_count": 71,
   "metadata": {
    "collapsed": false
   },
   "outputs": [
    {
     "name": "stdout",
     "output_type": "stream",
     "text": [
      "Earth Model\n",
      "---------------------------------------------------------------------------------------------------\n",
      "Basis Function                                                                Pruned  Coefficient  \n",
      "---------------------------------------------------------------------------------------------------\n",
      "(Intercept)                                                                   No      12.6109      \n",
      "x2                                                                            No      0.082382     \n",
      "C(x12|s=+1,0.114121,2.46204,5.11121)                                          No      0.0862657    \n",
      "C(x12|s=-1,0.114121,2.46204,5.11121)                                          No      -0.130453    \n",
      "C(x5|s=+1,0.616204,2.19736,6.72856)                                           No      0.0774731    \n",
      "C(x5|s=-1,0.616204,2.19736,6.72856)                                           Yes     None         \n",
      "x21*C(x5|s=-1,0.616204,2.19736,6.72856)                                       No      0.017973     \n",
      "x75*C(x5|s=-1,0.616204,2.19736,6.72856)                                       No      -0.00814861  \n",
      "x32                                                                           No      -0.0323435   \n",
      "C(x8|s=+1,-0.0909479,2.17412,6.71651)                                         Yes     None         \n",
      "C(x8|s=-1,-0.0909479,2.17412,6.71651)                                         No      -0.0959818   \n",
      "x376*C(x12|s=+1,0.114121,2.46204,5.11121)                                     No      0.0747965    \n",
      "C(x1|s=+1,-0.254857,0.370658,9.80875)                                         Yes     None         \n",
      "C(x1|s=-1,-0.254857,0.370658,9.80875)                                         No      0.0194585    \n",
      "x3*x32                                                                        No      0.0167536    \n",
      "x112                                                                          No      0.0227008    \n",
      "x300*C(x1|s=-1,-0.254857,0.370658,9.80875)                                    No      0.0324492    \n",
      "x370*x2                                                                       No      -0.0646348   \n",
      "x280*C(x1|s=-1,-0.254857,0.370658,9.80875)                                    No      -0.0330179   \n",
      "x185*C(x5|s=-1,0.616204,2.19736,6.72856)                                      No      0.00707966   \n",
      "x5*x280*C(x1|s=-1,-0.254857,0.370658,9.80875)                                 No      -0.0194992   \n",
      "x66                                                                           No      -0.0459224   \n",
      "x352*x370*x2                                                                  No      0.0301872    \n",
      "x132*C(x8|s=-1,-0.0909479,2.17412,6.71651)                                    No      -0.0065719   \n",
      "C(x8|s=+1,-1.04577,0.264466,5.76168)*x32                                      No      -0.0601853   \n",
      "C(x8|s=-1,-1.04577,0.264466,5.76168)*x32                                      Yes     None         \n",
      "x299                                                                          No      -0.0676336   \n",
      "C(x7|s=+1,-1.27018,-1.2543,1.37796)*x299                                      No      1.02494      \n",
      "C(x7|s=-1,-1.27018,-1.2543,1.37796)*x299                                      No      0.0469763    \n",
      "x3*C(x7|s=+1,-1.27018,-1.2543,1.37796)*x299                                   No      -0.763653    \n",
      "x31                                                                           No      -0.0442072   \n",
      "C(x1|s=+1,-0.609902,-0.339432,9.45371)*C(x8|s=-1,-0.0909479,2.17412,6.71651)  No      -0.043968    \n",
      "C(x1|s=-1,-0.609902,-0.339432,9.45371)*C(x8|s=-1,-0.0909479,2.17412,6.71651)  No      -0.0620791   \n",
      "C(x21|s=+1,-0.373356,1.70132,2.39288)*x66                                     No      0.0437886    \n",
      "C(x21|s=-1,-0.373356,1.70132,2.39288)*x66                                     No      0.0146637    \n",
      "x314*C(x1|s=+1,-0.254857,0.370658,9.80875)                                    No      -0.468021    \n",
      "x54*C(x1|s=+1,-0.254857,0.370658,9.80875)                                     No      0.0361785    \n",
      "C(x9|s=+1,0.15401,2.42914,5.70243)*x370*x2                                    No      0.0607851    \n",
      "C(x9|s=-1,0.15401,2.42914,5.70243)*x370*x2                                    No      0.0207517    \n",
      "x352*x2                                                                       No      -0.0142711   \n",
      "x200*x370*x2                                                                  No      -0.012221    \n",
      "x223*x2                                                                       No      -0.0205002   \n",
      "x20*C(x8|s=-1,-0.0909479,2.17412,6.71651)                                     No      0.00704729   \n",
      "x374*x75*C(x5|s=-1,0.616204,2.19736,6.72856)                                  No      -0.00515316  \n",
      "C(x24|s=+1,1.18522,3.06687,5.2696)*C(x12|s=-1,0.114121,2.46204,5.11121)       Yes     None         \n",
      "C(x24|s=-1,1.18522,3.06687,5.2696)*C(x12|s=-1,0.114121,2.46204,5.11121)       No      -0.00579646  \n",
      "---------------------------------------------------------------------------------------------------\n",
      "MSE: 0.0089, GCV: 0.0105, RSQ: 0.9392, GRSQ: 0.9279\n",
      "         rss\n",
      "x2       0.60   \n",
      "x12      0.10   \n",
      "x8       0.06   \n",
      "x299     0.03   \n",
      "x7       0.03   \n",
      "x31      0.03   \n",
      "x3       0.03   \n",
      "x1       0.03   \n",
      "x376     0.02   \n",
      "x5       0.01   \n",
      "x32      0.01   \n",
      "x21      0.01   \n",
      "x66      0.01   \n",
      "x112     0.01   \n",
      "x370     0.01   \n",
      "x314     0.00   \n",
      "x352     0.00   \n",
      "x300     0.00   \n",
      "x280     0.00   \n",
      "x75      0.00   \n",
      "x185     0.00   \n",
      "x54      0.00   \n",
      "x132     0.00   \n",
      "x9       0.00   \n",
      "x223     0.00   \n",
      "x20      0.00   \n",
      "x200     0.00   \n",
      "x374     0.00   \n",
      "x24      0.00   \n",
      "x133     0.00   \n",
      "x127     0.00   \n",
      "x128     0.00   \n",
      "x129     0.00   \n",
      "x130     0.00   \n",
      "x131     0.00   \n",
      "x111     0.00   \n",
      "x134     0.00   \n",
      "x126     0.00   \n",
      "x105     0.00   \n",
      "x136     0.00   \n",
      "x104     0.00   \n",
      "x137     0.00   \n",
      "x138     0.00   \n",
      "x139     0.00   \n",
      "x135     0.00   \n",
      "x106     0.00   \n",
      "x110     0.00   \n",
      "x118     0.00   \n",
      "x113     0.00   \n",
      "x109     0.00   \n",
      "x114     0.00   \n",
      "x115     0.00   \n",
      "x116     0.00   \n",
      "x117     0.00   \n",
      "x141     0.00   \n",
      "x119     0.00   \n",
      "x125     0.00   \n",
      "x120     0.00   \n",
      "x108     0.00   \n",
      "x107     0.00   \n",
      "x121     0.00   \n",
      "x122     0.00   \n",
      "x123     0.00   \n",
      "x124     0.00   \n",
      "x140     0.00   \n",
      "x150     0.00   \n",
      "x142     0.00   \n",
      "x143     0.00   \n",
      "x166     0.00   \n",
      "x167     0.00   \n",
      "x168     0.00   \n",
      "x169     0.00   \n",
      "x170     0.00   \n",
      "x171     0.00   \n",
      "x172     0.00   \n",
      "x173     0.00   \n",
      "x174     0.00   \n",
      "x175     0.00   \n",
      "x176     0.00   \n",
      "x177     0.00   \n",
      "x178     0.00   \n",
      "x179     0.00   \n",
      "x180     0.00   \n",
      "x181     0.00   \n",
      "x182     0.00   \n",
      "x183     0.00   \n",
      "x184     0.00   \n",
      "x165     0.00   \n",
      "x164     0.00   \n",
      "x163     0.00   \n",
      "x152     0.00   \n",
      "x144     0.00   \n",
      "x145     0.00   \n",
      "x146     0.00   \n",
      "x147     0.00   \n",
      "x148     0.00   \n",
      "x149     0.00   \n",
      "x102     0.00   \n",
      "x151     0.00   \n",
      "x153     0.00   \n",
      "x162     0.00   \n",
      "x154     0.00   \n",
      "x155     0.00   \n",
      "x156     0.00   \n",
      "x157     0.00   \n",
      "x158     0.00   \n",
      "x159     0.00   \n",
      "x160     0.00   \n",
      "x161     0.00   \n",
      "x103     0.00   \n",
      "x384     0.00   \n",
      "x101     0.00   \n",
      "x44      0.00   \n",
      "x36      0.00   \n",
      "x37      0.00   \n",
      "x38      0.00   \n",
      "x39      0.00   \n",
      "x40      0.00   \n",
      "x41      0.00   \n",
      "x42      0.00   \n",
      "x43      0.00   \n",
      "x45      0.00   \n",
      "x34      0.00   \n",
      "x46      0.00   \n",
      "x47      0.00   \n",
      "x48      0.00   \n",
      "x49      0.00   \n",
      "x50      0.00   \n",
      "x51      0.00   \n",
      "x52      0.00   \n",
      "x53      0.00   \n",
      "x35      0.00   \n",
      "x33      0.00   \n",
      "x100     0.00   \n",
      "x17      0.00   \n",
      "x4       0.00   \n",
      "x6       0.00   \n",
      "x10      0.00   \n",
      "x11      0.00   \n",
      "x13      0.00   \n",
      "x14      0.00   \n",
      "x15      0.00   \n",
      "x16      0.00   \n",
      "x18      0.00   \n",
      "x30      0.00   \n",
      "x19      0.00   \n",
      "x22      0.00   \n",
      "x23      0.00   \n",
      "x25      0.00   \n",
      "x26      0.00   \n",
      "x27      0.00   \n",
      "x28      0.00   \n",
      "x29      0.00   \n",
      "x55      0.00   \n",
      "x56      0.00   \n",
      "x57      0.00   \n",
      "x186     0.00   \n",
      "x82      0.00   \n",
      "x83      0.00   \n",
      "x84      0.00   \n",
      "x85      0.00   \n",
      "x86      0.00   \n",
      "x87      0.00   \n",
      "x88      0.00   \n",
      "x89      0.00   \n",
      "x91      0.00   \n",
      "x58      0.00   \n",
      "x92      0.00   \n",
      "x93      0.00   \n",
      "x94      0.00   \n",
      "x95      0.00   \n",
      "x96      0.00   \n",
      "x97      0.00   \n",
      "x98      0.00   \n",
      "x99      0.00   \n",
      "x81      0.00   \n",
      "x80      0.00   \n",
      "x79      0.00   \n",
      "x78      0.00   \n",
      "x59      0.00   \n",
      "x60      0.00   \n",
      "x61      0.00   \n",
      "x62      0.00   \n",
      "x63      0.00   \n",
      "x64      0.00   \n",
      "x65      0.00   \n",
      "x67      0.00   \n",
      "x68      0.00   \n",
      "x69      0.00   \n",
      "x70      0.00   \n",
      "x71      0.00   \n",
      "x72      0.00   \n",
      "x73      0.00   \n",
      "x74      0.00   \n",
      "x76      0.00   \n",
      "x77      0.00   \n",
      "x90      0.00   \n",
      "x192     0.00   \n",
      "x187     0.00   \n",
      "x321     0.00   \n",
      "x311     0.00   \n",
      "x312     0.00   \n",
      "x313     0.00   \n",
      "x315     0.00   \n",
      "x316     0.00   \n",
      "x317     0.00   \n",
      "x318     0.00   \n",
      "x319     0.00   \n",
      "x320     0.00   \n",
      "x322     0.00   \n",
      "x333     0.00   \n",
      "x323     0.00   \n",
      "x324     0.00   \n",
      "x325     0.00   \n",
      "x326     0.00   \n",
      "x327     0.00   \n",
      "x328     0.00   \n",
      "x329     0.00   \n",
      "x330     0.00   \n",
      "x331     0.00   \n",
      "x310     0.00   \n",
      "x309     0.00   \n",
      "x308     0.00   \n",
      "x307     0.00   \n",
      "x286     0.00   \n",
      "x287     0.00   \n",
      "x288     0.00   \n",
      "x289     0.00   \n",
      "x290     0.00   \n",
      "x291     0.00   \n",
      "x292     0.00   \n",
      "x293     0.00   \n",
      "x294     0.00   \n",
      "x295     0.00   \n",
      "x296     0.00   \n",
      "x297     0.00   \n",
      "x298     0.00   \n",
      "x301     0.00   \n",
      "x302     0.00   \n",
      "x303     0.00   \n",
      "x304     0.00   \n",
      "x305     0.00   \n",
      "x306     0.00   \n",
      "x332     0.00   \n",
      "x334     0.00   \n",
      "x284     0.00   \n",
      "x369     0.00   \n",
      "x360     0.00   \n",
      "x361     0.00   \n",
      "x362     0.00   \n",
      "x363     0.00   \n",
      "x364     0.00   \n",
      "x365     0.00   \n",
      "x366     0.00   \n",
      "x367     0.00   \n",
      "x368     0.00   \n",
      "x371     0.00   \n",
      "x335     0.00   \n",
      "x372     0.00   \n",
      "x373     0.00   \n",
      "x375     0.00   \n",
      "x377     0.00   \n",
      "x378     0.00   \n",
      "x379     0.00   \n",
      "x380     0.00   \n",
      "x381     0.00   \n",
      "x382     0.00   \n",
      "x359     0.00   \n",
      "x358     0.00   \n",
      "x357     0.00   \n",
      "x356     0.00   \n",
      "x336     0.00   \n",
      "x337     0.00   \n",
      "x338     0.00   \n",
      "x339     0.00   \n",
      "x340     0.00   \n",
      "x341     0.00   \n",
      "x342     0.00   \n",
      "x343     0.00   \n",
      "x344     0.00   \n",
      "x345     0.00   \n",
      "x346     0.00   \n",
      "x347     0.00   \n",
      "x348     0.00   \n",
      "x349     0.00   \n",
      "x350     0.00   \n",
      "x351     0.00   \n",
      "x353     0.00   \n",
      "x354     0.00   \n",
      "x355     0.00   \n",
      "x285     0.00   \n",
      "x283     0.00   \n",
      "x188     0.00   \n",
      "x222     0.00   \n",
      "x213     0.00   \n",
      "x214     0.00   \n",
      "x215     0.00   \n",
      "x216     0.00   \n",
      "x217     0.00   \n",
      "x218     0.00   \n",
      "x219     0.00   \n",
      "x220     0.00   \n",
      "x221     0.00   \n",
      "x224     0.00   \n",
      "x235     0.00   \n",
      "x225     0.00   \n",
      "x226     0.00   \n",
      "x227     0.00   \n",
      "x228     0.00   \n",
      "x229     0.00   \n",
      "x230     0.00   \n",
      "x231     0.00   \n",
      "x232     0.00   \n",
      "x233     0.00   \n",
      "x212     0.00   \n",
      "x211     0.00   \n",
      "x210     0.00   \n",
      "x209     0.00   \n",
      "x189     0.00   \n",
      "x190     0.00   \n",
      "x191     0.00   \n",
      "x383     0.00   \n",
      "x193     0.00   \n",
      "x194     0.00   \n",
      "x195     0.00   \n",
      "x196     0.00   \n",
      "x197     0.00   \n",
      "x198     0.00   \n",
      "x199     0.00   \n",
      "x201     0.00   \n",
      "x202     0.00   \n",
      "x203     0.00   \n",
      "x204     0.00   \n",
      "x205     0.00   \n",
      "x206     0.00   \n",
      "x207     0.00   \n",
      "x208     0.00   \n",
      "x234     0.00   \n",
      "x236     0.00   \n",
      "x282     0.00   \n",
      "x270     0.00   \n",
      "x261     0.00   \n",
      "x262     0.00   \n",
      "x263     0.00   \n",
      "x264     0.00   \n",
      "x265     0.00   \n",
      "x266     0.00   \n",
      "x267     0.00   \n",
      "x268     0.00   \n",
      "x269     0.00   \n",
      "x271     0.00   \n",
      "x237     0.00   \n",
      "x272     0.00   \n",
      "x273     0.00   \n",
      "x274     0.00   \n",
      "x275     0.00   \n",
      "x276     0.00   \n",
      "x277     0.00   \n",
      "x278     0.00   \n",
      "x279     0.00   \n",
      "x281     0.00   \n",
      "x260     0.00   \n",
      "x259     0.00   \n",
      "x258     0.00   \n",
      "x257     0.00   \n",
      "x238     0.00   \n",
      "x239     0.00   \n",
      "x240     0.00   \n",
      "x241     0.00   \n",
      "x242     0.00   \n",
      "x243     0.00   \n",
      "x244     0.00   \n",
      "x245     0.00   \n",
      "x246     0.00   \n",
      "x247     0.00   \n",
      "x248     0.00   \n",
      "x249     0.00   \n",
      "x250     0.00   \n",
      "x251     0.00   \n",
      "x252     0.00   \n",
      "x253     0.00   \n",
      "x254     0.00   \n",
      "x255     0.00   \n",
      "x256     0.00   \n",
      "x0       0.00   \n",
      "\n"
     ]
    }
   ],
   "source": [
    "# Model Summary\n",
    "print MARS_scalelog_fit.summary()\n",
    "print MARS_scalelog_fit.summary_feature_importances(sort_by = 'rss')"
   ]
  },
  {
   "cell_type": "code",
   "execution_count": 72,
   "metadata": {
    "collapsed": false
   },
   "outputs": [
    {
     "name": "stdout",
     "output_type": "stream",
     "text": [
      "The rmse for MARS is 27954.1886399\n"
     ]
    }
   ],
   "source": [
    "MARS_predict_scalelog = MARS_scalelog_fit.predict(X_test_scaled)\n",
    "\n",
    "MARS_RMSE_scalelog = np.sqrt(mean_squared_error(y_test,np.exp(MARS_predict_scalelog)))\n",
    "print \"The rmse for MARS is\", MARS_RMSE_scalelog"
   ]
  },
  {
   "cell_type": "markdown",
   "metadata": {},
   "source": [
    "## MODEL COMPARISONS"
   ]
  },
  {
   "cell_type": "code",
   "execution_count": 73,
   "metadata": {
    "collapsed": false
   },
   "outputs": [
    {
     "data": {
      "text/html": [
       "<div>\n",
       "<table border=\"1\" class=\"dataframe\">\n",
       "  <thead>\n",
       "    <tr style=\"text-align: right;\">\n",
       "      <th></th>\n",
       "      <th>All Predictors</th>\n",
       "      <th>Log Price</th>\n",
       "      <th>Scaled Predictors</th>\n",
       "      <th>Scaled Predictors+LogPrice</th>\n",
       "    </tr>\n",
       "  </thead>\n",
       "  <tbody>\n",
       "    <tr>\n",
       "      <th>MLR</th>\n",
       "      <td>35116.7</td>\n",
       "      <td>26496.4</td>\n",
       "      <td>1.69958e+17</td>\n",
       "      <td>--</td>\n",
       "    </tr>\n",
       "    <tr>\n",
       "      <th>Lasso</th>\n",
       "      <td>39996</td>\n",
       "      <td>35654.5</td>\n",
       "      <td>29882.6</td>\n",
       "      <td>23728.2</td>\n",
       "    </tr>\n",
       "    <tr>\n",
       "      <th>Ridge</th>\n",
       "      <td>29828.1</td>\n",
       "      <td>27192.2</td>\n",
       "      <td>34040.3</td>\n",
       "      <td>26598.7</td>\n",
       "    </tr>\n",
       "    <tr>\n",
       "      <th>MLP</th>\n",
       "      <td>--</td>\n",
       "      <td>--</td>\n",
       "      <td>36772.1</td>\n",
       "      <td>--</td>\n",
       "    </tr>\n",
       "    <tr>\n",
       "      <th>SVR</th>\n",
       "      <td>34771.3</td>\n",
       "      <td>--</td>\n",
       "      <td>42936</td>\n",
       "      <td>27537.2</td>\n",
       "    </tr>\n",
       "    <tr>\n",
       "      <th>SGD Regression</th>\n",
       "      <td>43019.4</td>\n",
       "      <td>--</td>\n",
       "      <td>199229</td>\n",
       "      <td>--</td>\n",
       "    </tr>\n",
       "    <tr>\n",
       "      <th>MARS</th>\n",
       "      <td>--</td>\n",
       "      <td>--</td>\n",
       "      <td>--</td>\n",
       "      <td>27954.2</td>\n",
       "    </tr>\n",
       "    <tr>\n",
       "      <th>Regression Tree</th>\n",
       "      <td>36761.6</td>\n",
       "      <td>47427.6</td>\n",
       "      <td>36761.6</td>\n",
       "      <td>47425.9</td>\n",
       "    </tr>\n",
       "    <tr>\n",
       "      <th>Ada Boosting</th>\n",
       "      <td>39686.1</td>\n",
       "      <td>42190.3</td>\n",
       "      <td>39148.3</td>\n",
       "      <td>41969.7</td>\n",
       "    </tr>\n",
       "    <tr>\n",
       "      <th>Gradient Boost</th>\n",
       "      <td>22124.6</td>\n",
       "      <td>23276.1</td>\n",
       "      <td>23001.7</td>\n",
       "      <td>22866.3</td>\n",
       "    </tr>\n",
       "    <tr>\n",
       "      <th>Random Forest</th>\n",
       "      <td>25990.9</td>\n",
       "      <td>28373.2</td>\n",
       "      <td>25461.6</td>\n",
       "      <td>28693.7</td>\n",
       "    </tr>\n",
       "  </tbody>\n",
       "</table>\n",
       "</div>"
      ],
      "text/plain": [
       "                All Predictors Log Price Scaled Predictors  \\\n",
       "MLR                    35116.7   26496.4       1.69958e+17   \n",
       "Lasso                    39996   35654.5           29882.6   \n",
       "Ridge                  29828.1   27192.2           34040.3   \n",
       "MLP                         --        --           36772.1   \n",
       "SVR                    34771.3        --             42936   \n",
       "SGD Regression         43019.4        --            199229   \n",
       "MARS                        --        --                --   \n",
       "Regression Tree        36761.6   47427.6           36761.6   \n",
       "Ada Boosting           39686.1   42190.3           39148.3   \n",
       "Gradient Boost         22124.6   23276.1           23001.7   \n",
       "Random Forest          25990.9   28373.2           25461.6   \n",
       "\n",
       "                Scaled Predictors+LogPrice  \n",
       "MLR                                     --  \n",
       "Lasso                              23728.2  \n",
       "Ridge                              26598.7  \n",
       "MLP                                     --  \n",
       "SVR                                27537.2  \n",
       "SGD Regression                          --  \n",
       "MARS                               27954.2  \n",
       "Regression Tree                    47425.9  \n",
       "Ada Boosting                       41969.7  \n",
       "Gradient Boost                     22866.3  \n",
       "Random Forest                      28693.7  "
      ]
     },
     "execution_count": 73,
     "metadata": {},
     "output_type": "execute_result"
    }
   ],
   "source": [
    "models=['MLR','lasso','ridge','MLP','SVR','GSCV_SGDclf','MARS','REGTREE',\n",
    "        'GS_ADABOOST','GS_GRADBOOST','GS_RANDFOR']\n",
    "modelnames=['MLR','Lasso','Ridge','MLP','SVR','SGD Regression','MARS','Regression Tree',\n",
    "            'Ada Boosting','Gradient Boost','Random Forest']\n",
    "versions=['reg','log','scale','scalelog']\n",
    "versionnames=['All Predictors','Log Price','Scaled Predictors','Scaled Predictors+LogPrice']\n",
    "RMSEsummary_dict={}\n",
    "\n",
    "for model in models:\n",
    "    for version in versions:\n",
    "        try:\n",
    "            RMSE=eval(model+'_RMSE_'+version)\n",
    "        except:\n",
    "            RMSE='--'\n",
    "        if version in RMSEsummary_dict.keys():\n",
    "            RMSEsummary_dict[version].append(RMSE)\n",
    "        else:\n",
    "            RMSEsummary_dict[version]=[RMSE]\n",
    "\n",
    "\n",
    "RMSEsummary=pd.DataFrame(RMSEsummary_dict,index=modelnames)\n",
    "RMSEsummary=RMSEsummary.rename(columns=dict(zip(versions,versionnames)))\n",
    "RMSEsummary=RMSEsummary[versionnames]\n",
    "RMSEsummary"
   ]
  },
  {
   "cell_type": "code",
   "execution_count": 74,
   "metadata": {
    "collapsed": true
   },
   "outputs": [],
   "source": [
    "# Best Residuals\n",
    "BMresiduals_GRADBOOST_scale=GS_GRADBOOST_residuals_scale\n",
    "BMresiduals_MARS_scalelog=y_test-np.exp(MARS_predict_scalelog)\n",
    "BMresiduals_LASSO_scalelog=lassoResiduals_scalelog\n",
    "\n",
    "# Worst Residuals\n",
    "WMresiduals_SVR_scale=y_test-SVR_predict_scale\n",
    "WMresiduals_ADABOOST_log=y_test-np.exp(GS_ADABOOST_predict_log)\n",
    "WMresiduals_SGD_reg=y_test-GSCV_SGDclf_predict_reg"
   ]
  },
  {
   "cell_type": "code",
   "execution_count": 75,
   "metadata": {
    "collapsed": false
   },
   "outputs": [
    {
     "data": {
      "text/plain": [
       "<matplotlib.text.Text at 0xe9a6e10>"
      ]
     },
     "execution_count": 75,
     "metadata": {},
     "output_type": "execute_result"
    },
    {
     "data": {
      "image/png": "[encoded data removed]",
      "text/plain": [
       "<matplotlib.figure.Figure at 0x14a45390>"
      ]
     },
     "metadata": {},
     "output_type": "display_data"
    }
   ],
   "source": [
    "# Plot Residuals - Best Models\n",
    "fig = plt.figure(figsize=(15, 7))\n",
    "ax1 = fig.add_subplot(121)\n",
    "ax1.plot(y_test,BMresiduals_LASSO_scalelog,\"o\",label='Lasso',color='palegreen')\n",
    "ax1.plot(y_test,BMresiduals_MARS_scalelog,\"o\",label='MARS',color='mediumspringgreen')\n",
    "ax1.plot(y_test,BMresiduals_GRADBOOST_scale,\"o\",label='GradientBoost', color='darkgreen')\n",
    "ax1.legend(numpoints=1,loc='upper right')\n",
    "ax1.set_ylabel('Residuals ($)')\n",
    "ax1.yaxis.set_major_formatter(mtick.FuncFormatter('{:,.0f}'.format))\n",
    "ax1.set_ylim([-200000,500000])\n",
    "ax1.set_xlabel('Actual Price ($)')\n",
    "ax1.xaxis.set_major_formatter(mtick.FuncFormatter('{:,.0f}'.format))\n",
    "ax1.set_title('Residuals', fontsize=12, fontweight='bold')"
   ]
  },
  {
   "cell_type": "code",
   "execution_count": 76,
   "metadata": {
    "collapsed": false
   },
   "outputs": [
    {
     "data": {
      "text/plain": [
       "<matplotlib.text.Text at 0x146c7588>"
      ]
     },
     "execution_count": 76,
     "metadata": {},
     "output_type": "execute_result"
    },
    {
     "data": {
      "image/png": "[encoded data removed]",
      "text/plain": [
       "<matplotlib.figure.Figure at 0x14a359b0>"
      ]
     },
     "metadata": {},
     "output_type": "display_data"
    }
   ],
   "source": [
    "# Plot Residuals - Worst Models\n",
    "fig = plt.figure(figsize=(15, 7))\n",
    "ax2 = fig.add_subplot(121)\n",
    "ax2.plot(y_test,WMresiduals_SVR_scale,\"o\",label='SVR',color='palevioletred')\n",
    "ax2.plot(y_test,WMresiduals_SGD_reg,\"o\",label='SGD Regression',color='red')\n",
    "ax2.plot(y_test,WMresiduals_ADABOOST_log,\"o\",label='AdaBoost', color='darkred')\n",
    "ax2.legend(numpoints=1,loc='upper left')\n",
    "ax2.set_ylabel('Residuals ($)')\n",
    "ax2.yaxis.set_major_formatter(mtick.FuncFormatter('{:,.0f}'.format))\n",
    "ax2.set_xlabel('Actual Price ($)')\n",
    "ax2.xaxis.set_major_formatter(mtick.FuncFormatter('{:,.0f}'.format))\n",
    "ax2.set_title('Residuals', fontsize=12, fontweight='bold')"
   ]
  },
  {
   "cell_type": "markdown",
   "metadata": {},
   "source": [
    "# Cross-validating Best Models and Creating Kaggle Submissions"
   ]
  },
  {
   "cell_type": "code",
   "execution_count": 87,
   "metadata": {
    "collapsed": false
   },
   "outputs": [],
   "source": [
    "X_comp['BsmtFinSF1'] = X_comp['BsmtFinSF1'].fillna(0.0)\n",
    "X_comp['BsmtFinSF2'] = X_comp['BsmtFinSF2'].fillna(0.0)\n",
    "X_comp['BsmtUnfSF'] = X_comp['BsmtUnfSF'].fillna(0.0)\n",
    "X_comp['TotalBsmtSF'] = X_comp['TotalBsmtSF'].fillna(0.0)\n",
    "X_comp['BsmtFullBath'] = X_comp['BsmtFullBath'].fillna(0.0)\n",
    "X_comp['BsmtHalfBath'] = X_comp['BsmtHalfBath'].fillna(0.0)\n",
    "X_comp['GarageCars'] = X_comp['GarageCars'].fillna(2.0)\n",
    "X_comp['GarageArea'] = X_comp['GarageArea'].fillna(mean(X_test['GarageArea']))"
   ]
  },
  {
   "cell_type": "code",
   "execution_count": 88,
   "metadata": {
    "collapsed": false
   },
   "outputs": [],
   "source": [
    "# Transforming entire train set\n",
    "log_y = y.map(float).map(log)\n",
    "\n",
    "scaler = StandardScaler()\n",
    "X_scaled = scaler.fit_transform(X)\n",
    "X_comp_scaled = scaler.transform(X_comp)"
   ]
  },
  {
   "cell_type": "code",
   "execution_count": 89,
   "metadata": {
    "collapsed": false
   },
   "outputs": [
    {
     "data": {
      "text/plain": [
       "0.0075382774064728809"
      ]
     },
     "execution_count": 89,
     "metadata": {},
     "output_type": "execute_result"
    }
   ],
   "source": [
    "lasso_cv_scalelog = LassoCV(alphas=None, cv=15, max_iter=10000).fit(X_scaled,ravel(log_y))\n",
    "lasso_cv_scalelog.alpha_"
   ]
  },
  {
   "cell_type": "code",
   "execution_count": 92,
   "metadata": {
    "collapsed": false
   },
   "outputs": [
    {
     "name": "stdout",
     "output_type": "stream",
     "text": [
      "[19571.111196428177, 48314.678153804169, 28729.989499060157, 20278.236422664657, 126165.06722511743]\n",
      "48611.8164994\n"
     ]
    }
   ],
   "source": [
    "#K-Fold validation for Lasso (scale_log)\n",
    "\n",
    "kf = KFold(n_splits=5)\n",
    "\n",
    "scores=[]\n",
    "for train_index, test_index in kf.split(X_scaled):\n",
    "    X_tr, X_ts = X_scaled[train_index], X_scaled[test_index]\n",
    "    y_tr, y_ts = log_y[train_index], log_y[test_index]\n",
    "    lasso = Lasso(alpha=lasso_cv_scalelog.alpha_)\n",
    "    model=lasso.fit(X_tr,ravel(y_tr))\n",
    "    predict=model.predict(X_ts)\n",
    "    rmse = sqrt(mean_squared_error(np.exp(y_ts), np.exp(predict)))\n",
    "    scores.append(rmse)\n",
    "    \n",
    "print scores\n",
    "print mean(scores)"
   ]
  },
  {
   "cell_type": "code",
   "execution_count": 93,
   "metadata": {
    "collapsed": false
   },
   "outputs": [
    {
     "data": {
      "text/plain": [
       "10.0"
      ]
     },
     "execution_count": 93,
     "metadata": {},
     "output_type": "execute_result"
    }
   ],
   "source": [
    "ridge_cv_scalelog = RidgeCV(cv=15).fit(X_scaled,ravel(log_y))\n",
    "ridge_model_cv_scalelog.alpha_\n"
   ]
  },
  {
   "cell_type": "code",
   "execution_count": 94,
   "metadata": {
    "collapsed": false
   },
   "outputs": [
    {
     "name": "stdout",
     "output_type": "stream",
     "text": [
      "[22416.255990609567, 46010.213053161024, 29828.79892032775, 18968.611386976438, 112675.85021089589]\n",
      "45979.9459124\n"
     ]
    }
   ],
   "source": [
    "#K-Fold validation for Ridge (scale_log)\n",
    "\n",
    "kf = KFold(n_splits=5)\n",
    "\n",
    "scores=[]\n",
    "for train_index, test_index in kf.split(X_scaled):\n",
    "    X_tr, X_ts = X_scaled[train_index], X_scaled[test_index]\n",
    "    y_tr, y_ts = log_y[train_index], log_y[test_index]\n",
    "    Ridge = Ridge(alpha=ridge_model_cv_scalelog.alpha_)\n",
    "    model=Ridge.fit(X_tr,ravel(y_tr))\n",
    "    predict=model.predict(X_ts)\n",
    "    rmse = sqrt(mean_squared_error(np.exp(y_ts), np.exp(predict)))\n",
    "    scores.append(rmse)\n",
    "    \n",
    "print scores\n",
    "print mean(scores)"
   ]
  },
  {
   "cell_type": "code",
   "execution_count": 108,
   "metadata": {
    "collapsed": true
   },
   "outputs": [],
   "source": [
    "RidgeKagglePred = list(np.exp(ridge_cv_scalelog.predict(X_comp_scaled)))\n",
    "\n",
    "# Save predictions to file\n",
    "outfile = open('RidgeKagglePred.csv', 'w')\n",
    "for item in RidgeKagglePred:\n",
    "    outfile.write(\"%s\\n\" % item)\n",
    "outfile.close()"
   ]
  },
  {
   "cell_type": "code",
   "execution_count": 95,
   "metadata": {
    "collapsed": true
   },
   "outputs": [],
   "source": [
    "# Create parameter dictionary for GridSearchCV\n",
    "params = {'n_estimators':(5,10,50,100,500,1000),'learning_rate':(0.01, 0.05, 0.1, 0.2),'min_samples_leaf':(1,5,10,20)}\n",
    "gradientBoost_scalelog = GridSearchCV(GradientBoostingRegressor(), params).fit(X_scaled,ravel(log_y))"
   ]
  },
  {
   "cell_type": "code",
   "execution_count": 104,
   "metadata": {
    "collapsed": false
   },
   "outputs": [],
   "source": [
    "GBmodel = gradientBoost_scalelog.best_estimator_"
   ]
  },
  {
   "cell_type": "code",
   "execution_count": 97,
   "metadata": {
    "collapsed": false
   },
   "outputs": [
    {
     "name": "stdout",
     "output_type": "stream",
     "text": [
      "[20824.965701658395, 30707.096921006691, 29220.917663259555, 20807.158260090935, 26703.485728763455]\n",
      "25652.724855\n"
     ]
    }
   ],
   "source": [
    "#K-Fold validation for Gradient Boosting (scale_log)\n",
    "\n",
    "kf = KFold(n_splits=5)\n",
    "\n",
    "scores=[]\n",
    "for train_index, test_index in kf.split(X_scaled):\n",
    "    X_tr, X_ts = X_scaled[train_index], X_scaled[test_index]\n",
    "    y_tr, y_ts = log_y[train_index], log_y[test_index]\n",
    "    model=GBmodel.fit(X_tr,ravel(y_tr))\n",
    "    predict=model.predict(X_ts)\n",
    "    rmse = sqrt(mean_squared_error(np.exp(y_ts), np.exp(predict)))\n",
    "    scores.append(rmse)\n",
    "    \n",
    "print scores\n",
    "print mean(scores)"
   ]
  },
  {
   "cell_type": "code",
   "execution_count": 105,
   "metadata": {
    "collapsed": false
   },
   "outputs": [],
   "source": [
    "gradientBoost_scalelog = GBmodel.fit(X_scaled,ravel(log_y))\n",
    "GBKagglePred = list(np.exp(GBmodel.predict(X_comp_scaled)))\n",
    "\n",
    "# Save predictions to file\n",
    "outfile = open('GBKagglePred2.csv', 'w')\n",
    "for item in GBKagglePred:\n",
    "    outfile.write(\"%s\\n\" % item)\n",
    "outfile.close()"
   ]
  },
  {
   "cell_type": "code",
   "execution_count": 98,
   "metadata": {
    "collapsed": true
   },
   "outputs": [],
   "source": [
    "params = {'n_estimators':[10,100,500, 1000], 'max_depth':[5,10,20]}\n",
    "randomForest_scalelog = GridSearchCV(RandomForestRegressor(), params).fit(X_scaled,ravel(y))\n",
    "randomForest = randomForest_scalelog.best_estimator_"
   ]
  },
  {
   "cell_type": "code",
   "execution_count": 100,
   "metadata": {
    "collapsed": false
   },
   "outputs": [
    {
     "name": "stdout",
     "output_type": "stream",
     "text": [
      "[27187.410930726583, 32788.619597577002, 30608.936803493074, 24266.62739322973, 34654.687188274176]\n",
      "29901.2563827\n"
     ]
    }
   ],
   "source": [
    "#K-Fold validation for Random Forest (scale)\n",
    "\n",
    "kf = KFold(n_splits=5)\n",
    "\n",
    "scores=[]\n",
    "for train_index, test_index in kf.split(X_scaled):\n",
    "    X_tr, X_ts = X_scaled[train_index], X_scaled[test_index]\n",
    "    y_tr, y_ts = y[train_index], y[test_index]\n",
    "    model=randomForest.fit(X_tr,ravel(y_tr))\n",
    "    predict=model.predict(X_ts)\n",
    "    rmse = sqrt(mean_squared_error(y_ts, predict))\n",
    "    scores.append(rmse)\n",
    "    \n",
    "print scores\n",
    "print mean(scores)"
   ]
  },
  {
   "cell_type": "code",
   "execution_count": 106,
   "metadata": {
    "collapsed": true
   },
   "outputs": [],
   "source": [
    "randomForest_train = randomForest.fit(X_scaled,ravel(y))\n",
    "RFKagglePred = list(randomForest_train.predict(X_comp_scaled))\n",
    "\n",
    "# Save predictions to file\n",
    "outfile = open('RFKagglePred.csv', 'w')\n",
    "for item in RFKagglePred:\n",
    "    outfile.write(\"%s\\n\" % item)\n",
    "outfile.close()"
   ]
  },
  {
   "cell_type": "code",
   "execution_count": 111,
   "metadata": {
    "collapsed": false
   },
   "outputs": [
    {
     "data": {
      "image/png": "[encoded data removed]",
      "text/plain": [
       "<matplotlib.figure.Figure at 0x1472a048>"
      ]
     },
     "metadata": {},
     "output_type": "display_data"
    }
   ],
   "source": [
    "feature_importance = GBmodel.feature_importances_\n",
    "# make importances relative to max importance\n",
    "feature_importance = 100.0 * (feature_importance / feature_importance.max())\n",
    "feature_importance = feature_importance[:20]\n",
    "#print feature_importance\n",
    "sorted_idx = np.argsort(feature_importance)\n",
    "#sorted_idx = sorted_idx\n",
    "#print sorted_idx\n",
    "list_columns=list(X.columns.values)\n",
    "\n",
    "pos = np.arange(sorted_idx.shape[0]) + .5\n",
    "\n",
    "feature_names=[]\n",
    "for i in range(len(sorted_idx)):\n",
    "    feature_names.append(list_columns[sorted_idx[i]])\n",
    "#print feature_names\n",
    "#print feature_importance[sorted_idx]\n",
    "#plt.subplot(1, 2, 2)\n",
    "plt.figure(figsize=(12, 6))\n",
    "plt.barh(pos, feature_importance[sorted_idx], align='center')\n",
    "plt.yticks(pos, feature_names)\n",
    "\n",
    "plt.xlabel('Relative Importance')\n",
    "plt.title('Gradient Boosting Variable Importance- Data w/Outside Data')\n",
    "plt.show()"
   ]
  },
  {
   "cell_type": "code",
   "execution_count": 112,
   "metadata": {
    "collapsed": false
   },
   "outputs": [
    {
     "data": {
      "text/plain": [
       "<matplotlib.text.Text at 0x228a04a8>"
      ]
     },
     "execution_count": 112,
     "metadata": {},
     "output_type": "execute_result"
    },
    {
     "data": {
      "image/png": "[encoded data removed]",
      "text/plain": [
       "<matplotlib.figure.Figure at 0xcf08128>"
      ]
     },
     "metadata": {},
     "output_type": "display_data"
    },
    {
     "data": {
      "image/png": "[encoded data removed]",
      "text/plain": [
       "<matplotlib.figure.Figure at 0x223fb160>"
      ]
     },
     "metadata": {},
     "output_type": "display_data"
    }
   ],
   "source": [
    "## Best\n",
    "BMresiduals_RANDFOR_reg=y_test-p_rf2_reg\n",
    "BMresiduals_LASSO_scalelog=y_test-np.exp(lasso_predict_scalelog)\n",
    "BMresiduals_GRADBOOST_reg=y_test-p_gb1_reg\n",
    "\n",
    "# Plot Residuals - Best Models\n",
    "fig = plt.figure(figsize=(15, 7))\n",
    "ax1 = fig.add_subplot(121)\n",
    "ax1.plot(y_test,BMresiduals_RANDFOR_reg,\"o\",label='Random Forest',color='palegreen')\n",
    "ax1.plot(y_test,BMresiduals_LASSO_scalelog,\"o\",label='Lasso',color='mediumspringgreen')\n",
    "ax1.plot(y_test,BMresiduals_GRADBOOST_reg,\"o\",label='Gradient Boost', color='darkgreen')\n",
    "ax1.legend(numpoints=1,loc='upper right')\n",
    "ax1.set_ylabel('Residuals ($)')\n",
    "ax1.yaxis.set_major_formatter(mtick.FuncFormatter('{:,.0f}'.format))\n",
    "ax1.set_xlabel('Actual Price ($)')\n",
    "ax1.xaxis.set_major_formatter(mtick.FuncFormatter('{:,.0f}'.format))\n",
    "ax1.set_title('Residuals', fontsize=12, fontweight='bold')\n",
    "\n",
    "## Worst\n",
    "WMresiduals_ADABOOST_scalelog=y_test-np.exp(GS_ADABOOST_predict_scalelog)\n",
    "WMresiduals_SGD_reg=y_test-GSCV_SGDclf_predict_reg\n",
    "WMresiduals_REGTREE_log=y_test=np.exp(p_tree2_scalelog)\n",
    "\n",
    "# Plot Residuals - Worst Models\n",
    "fig = plt.figure(figsize=(15, 7))\n",
    "ax2 = fig.add_subplot(121)\n",
    "ax2.plot(y_test,WMresiduals_ADABOOST_scalelog,\"o\",label='Ada Boosting',color='palevioletred')\n",
    "ax2.plot(y_test,WMresiduals_SGD_reg,\"o\",label='SGD Regression',color='red')\n",
    "ax2.plot(y_test,WMresiduals_REGTREE_log,\"o\",label='Regression Tree', color='darkred')\n",
    "ax2.legend(numpoints=1,loc='upper left')\n",
    "ax2.set_ylabel('Residuals ($)')\n",
    "ax2.yaxis.set_major_formatter(mtick.FuncFormatter('{:,.0f}'.format))\n",
    "ax2.set_xlabel('Actual Price ($)')\n",
    "ax2.xaxis.set_major_formatter(mtick.FuncFormatter('{:,.0f}'.format))\n",
    "ax2.set_title('Residuals', fontsize=12, fontweight='bold')"
   ]
  },
  {
   "cell_type": "code",
   "execution_count": null,
   "metadata": {
    "collapsed": true
   },
   "outputs": [],
   "source": []
  }
 ],
 "metadata": {
  "anaconda-cloud": {},
  "kernelspec": {
   "display_name": "Python [Root]",
   "language": "python",
   "name": "Python [Root]"
  },
  "language_info": {
   "codemirror_mode": {
    "name": "ipython",
    "version": 2
   },
   "file_extension": ".py",
   "mimetype": "text/x-python",
   "name": "python",
   "nbconvert_exporter": "python",
   "pygments_lexer": "ipython2",
   "version": "2.7.11"
  }
 },
 "nbformat": 4,
 "nbformat_minor": 0
}
